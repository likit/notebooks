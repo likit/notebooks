{
 "metadata": {
  "name": "Gal3RSEM"
 },
 "nbformat": 3,
 "nbformat_minor": 0,
 "worksheets": [
  {
   "cells": [
    {
     "cell_type": "markdown",
     "metadata": {},
     "source": [
      "#Gal3 model RSEM analysis"
     ]
    },
    {
     "cell_type": "markdown",
     "metadata": {},
     "source": [
      "##Prepare reference sequences from Assembly + Cufflinks gene models."
     ]
    },
    {
     "cell_type": "raw",
     "metadata": {},
     "source": [
      "rsem-prepare-reference --gtf line67.asm.cufflinks.nr99.gff --transcript-to-gene-map knownIsoforms.txt --bowtie-path /opt/software/bowtie/0.12.8--GCC-4.4.5/bin ~/chick.fa gal3_asm_cuff_models"
     ]
    },
    {
     "cell_type": "markdown",
     "metadata": {},
     "source": [
      "##Align paired-end reads to transcriptome."
     ]
    },
    {
     "cell_type": "raw",
     "metadata": {},
     "source": [
      "rsem-calculate-expression --bowtie-chunkmbs 1024 -p 4 --output-genome-bam --bowtie-path /opt/software/bowtie/0.12.8--GCC-4.4.5/bin/ --estimate-rspd --time --paired-end /mnt/ls12/preeyanon/paired_reads/line6u.pe.1 /mnt/ls12/    preeyanon/paired_reads/line6u.pe.2 gal3_asm_cuff_models line6u_paired_notrim"
     ]
    },
    {
     "cell_type": "code",
     "collapsed": false,
     "input": [],
     "language": "python",
     "metadata": {},
     "outputs": []
    }
   ],
   "metadata": {}
  }
 ]
}