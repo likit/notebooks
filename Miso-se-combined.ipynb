{
 "metadata": {
  "name": ""
 },
 "nbformat": 3,
 "nbformat_minor": 0,
 "worksheets": [
  {
   "cells": [
    {
     "cell_type": "code",
     "collapsed": false,
     "input": [
      "cd ~/projects/miso_se"
     ],
     "language": "python",
     "metadata": {},
     "outputs": [
      {
       "output_type": "stream",
       "stream": "stdout",
       "text": [
        "/Users/Likit/projects/miso_se\n"
       ]
      }
     ],
     "prompt_number": 181
    },
    {
     "cell_type": "code",
     "collapsed": false,
     "input": [
      "import os\n",
      "os.environ['PATH'] += ':/Users/Likit/gimme/src/utils/'"
     ],
     "language": "python",
     "metadata": {},
     "outputs": [],
     "prompt_number": 127
    },
    {
     "cell_type": "code",
     "collapsed": false,
     "input": [
      "%%bash\n",
      "cd results/SE/comparisons/line6u_vs_line6i/bayes-factors/\n",
      "miso-filter.py line6u_vs_line6i.miso_bf SE 0.25 0.10 10 1 > line6u_vs_line6i.miso_bf.filtered\n",
      "cd ~/projects/miso_se\n",
      "\n",
      "cd results/SE/comparisons/line6u_vs_line7u/bayes-factors/\n",
      "miso-filter.py line6u_vs_line7u.miso_bf SE 0.25 0.10 10 1 > line6u_vs_line7u.miso_bf.filtered\n",
      "cd ~/projects/miso_se\n",
      "\n",
      "cd results/SE/comparisons/line7u_vs_line7i/bayes-factors/\n",
      "miso-filter.py line7u_vs_line7i.miso_bf SE 0.25 0.10 10 1 > line7u_vs_line7i.miso_bf.filtered\n",
      "cd ~/projects/miso_se\n",
      "\n",
      "cd results/SE/comparisons/line6i_vs_line7i/bayes-factors/\n",
      "miso-filter.py line6i_vs_line7i.miso_bf SE 0.25 0.10 10 1 > line6i_vs_line7i.miso_bf.filtered\n",
      "cd ~/projects/miso_se"
     ],
     "language": "python",
     "metadata": {},
     "outputs": [
      {
       "output_type": "stream",
       "stream": "stderr",
       "text": [
        "Total 3912 events, passed 70 events\n",
        "Total 3836 events, passed 124 events\n",
        "Total 3800 events, passed 50 events\n",
        "Total 3839 events, passed 138 events\n"
       ]
      }
     ],
     "prompt_number": 183
    },
    {
     "cell_type": "code",
     "collapsed": false,
     "input": [
      "%%bash\n",
      "# Find unique SNPs located in exons\n",
      "\n",
      "intersectBed -a snps/line7u_diff_line6u.var.flt.vcf -b line67_split_cuff_models.nr99.SE.exons.gff -wb > results/SE/line7u_diff_line6u.SE.snps.txt\n",
      "intersectBed -a snps/line6u_diff_line7u.var.flt.vcf -b line67_split_cuff_models.nr99.SE.exons.gff -wb > results/SE/line6u_diff_line7u.SE.snps.txt\n",
      "intersectBed -a snps/line7i_diff_line6i.var.flt.vcf -b line67_split_cuff_models.nr99.SE.exons.gff -wb > results/SE/line7i_diff_line6i.SE.snps.txt\n",
      "intersectBed -a snps/line6i_diff_line7i.var.flt.vcf -b line67_split_cuff_models.nr99.SE.exons.gff -wb > results/SE/line6i_diff_line7i.SE.snps.txt"
     ],
     "language": "python",
     "metadata": {},
     "outputs": [],
     "prompt_number": 184
    },
    {
     "cell_type": "code",
     "collapsed": false,
     "input": [
      "%%bash\n",
      "# Add SNPs information to the results\n",
      "\n",
      "miso-snps.py results/SE/comparisons/line6u_vs_line7u/bayes-factors/line6u_vs_line7u.miso_bf.filtered results/SE/line6u_diff_line7u.SE.snps.txt > results/SE/line6u_vs_line7u.line6u.miso_bf.filtered.snps.txt\n",
      "miso-snps.py results/SE/comparisons/line6i_vs_line7i/bayes-factors/line6i_vs_line7i.miso_bf.filtered results/SE/line6i_diff_line7i.SE.snps.txt > results/SE/line6i_vs_line7i.line6i.miso_bf.filtered.snps.txt\n",
      "miso-snps.py results/SE/comparisons/line6u_vs_line7u/bayes-factors/line6u_vs_line7u.miso_bf.filtered results/SE/line7u_diff_line6u.SE.snps.txt > results/SE/line7u_vs_line6u.line7u.miso_bf.filtered.snps.txt\n",
      "miso-snps.py results/SE/comparisons/line6i_vs_line7i/bayes-factors/line6i_vs_line7i.miso_bf.filtered results/SE/line7i_diff_line6i.SE.snps.txt > results/SE/line7i_vs_line6i.line7i.miso_bf.filtered.snps.txt"
     ],
     "language": "python",
     "metadata": {},
     "outputs": [],
     "prompt_number": 185
    },
    {
     "cell_type": "code",
     "collapsed": false,
     "input": [
      "%%bash\n",
      "select_events.py line67_split_cuff_models.nr99.SE.gff results/SE/line6u_vs_line7u.line6u.miso_bf.filtered.snps.txt SE > results/SE/line6u_vs_line7u.line6u.miso_bf.filtered.snps.selected.txt\n",
      "select_events.py line67_split_cuff_models.nr99.SE.gff results/SE/line6i_vs_line7i.line6i.miso_bf.filtered.snps.txt SE > results/SE/line6i_vs_line7i.line6i.miso_bf.filtered.snps.selected.txt\n",
      "select_events.py line67_split_cuff_models.nr99.SE.gff results/SE/line7u_vs_line6u.line7u.miso_bf.filtered.snps.txt SE > results/SE/line7u_vs_line6u.line7u.miso_bf.filtered.snps.selected.txt\n",
      "select_events.py line67_split_cuff_models.nr99.SE.gff results/SE/line7i_vs_line6i.line7i.miso_bf.filtered.snps.txt SE > results/SE/line7i_vs_line6i.line7i.miso_bf.filtered.snps.selected.txt"
     ],
     "language": "python",
     "metadata": {},
     "outputs": [],
     "prompt_number": 186
    },
    {
     "cell_type": "code",
     "collapsed": false,
     "input": [
      "%%bash\n",
      "# Get a sequence of a skipped exon\n",
      "\n",
      "miso-snps-to-fa.py results/SE/line6u_vs_line7u.line6u.miso_bf.filtered.snps.selected.txt gal4selected.fa > results/SE/line6u_vs_line7u.line6u.miso_bf.filtered.snps.selected.fa\n",
      "miso-snps-to-fa.py results/SE/line6i_vs_line7i.line6i.miso_bf.filtered.snps.selected.txt gal4selected.fa > results/SE/line6i_vs_line7i.line6i.miso_bf.filtered.snps.selected.fa\n",
      "miso-snps-to-fa.py results/SE/line7u_vs_line6u.line7u.miso_bf.filtered.snps.selected.txt gal4selected.fa > results/SE/line7u_vs_line6u.line7u.miso_bf.filtered.snps.selected.fa\n",
      "miso-snps-to-fa.py results/SE/line7i_vs_line6i.line7i.miso_bf.filtered.snps.selected.txt gal4selected.fa > results/SE/line7i_vs_line6i.line7i.miso_bf.filtered.snps.selected.fa"
     ],
     "language": "python",
     "metadata": {},
     "outputs": [],
     "prompt_number": 187
    },
    {
     "cell_type": "code",
     "collapsed": false,
     "input": [
      "import pickle"
     ],
     "language": "python",
     "metadata": {},
     "outputs": [],
     "prompt_number": 137
    },
    {
     "cell_type": "code",
     "collapsed": false,
     "input": [
      "line67u_se = !cut -f 1 results/SE/comparisons/line6u_vs_line7u/bayes-factors/line6u_vs_line7u.miso_bf.filtered\n",
      "line67u_se = set([event.split('.')[0].replace('-', ':') for event in line67u_se])"
     ],
     "language": "python",
     "metadata": {},
     "outputs": [],
     "prompt_number": 188
    },
    {
     "cell_type": "code",
     "collapsed": false,
     "input": [
      "line67i_se = !cut -f 1 results/SE/comparisons/line6i_vs_line7i/bayes-factors/line6i_vs_line7i.miso_bf.filtered\n",
      "line67i_se = set([event.split('.')[0].replace('-', ':') for event in line67i_se])"
     ],
     "language": "python",
     "metadata": {},
     "outputs": [],
     "prompt_number": 189
    },
    {
     "cell_type": "code",
     "collapsed": false,
     "input": [
      "common_genes = line67i.intersection(line67u)"
     ],
     "language": "python",
     "metadata": {},
     "outputs": [],
     "prompt_number": 190
    },
    {
     "cell_type": "code",
     "collapsed": false,
     "input": [
      "len(common_genes), len(line67u_se), len(line67i)"
     ],
     "language": "python",
     "metadata": {},
     "outputs": [
      {
       "metadata": {},
       "output_type": "pyout",
       "prompt_number": 199,
       "text": [
        "(29, 109, 69)"
       ]
      }
     ],
     "prompt_number": 199
    },
    {
     "cell_type": "code",
     "collapsed": false,
     "input": [
      "line6ui_se = !cut -f 1 results/SE/comparisons/line6u_vs_line6i/bayes-factors/line6u_vs_line6i.miso_bf.filtered\n",
      "line6ui_se = set([event.split('.')[0].replace('-', ':') for event in line6ui_se])"
     ],
     "language": "python",
     "metadata": {},
     "outputs": [],
     "prompt_number": 201
    },
    {
     "cell_type": "code",
     "collapsed": false,
     "input": [
      "line7ui_se = !cut -f 1 results/SE/comparisons/line7u_vs_line7i/bayes-factors/line7u_vs_line7i.miso_bf.filtered\n",
      "line7ui_se = set([event.split('.')[0].replace('-', ':') for event in line7ui_se])"
     ],
     "language": "python",
     "metadata": {},
     "outputs": [],
     "prompt_number": 202
    },
    {
     "cell_type": "code",
     "collapsed": false,
     "input": [
      "models_sym_dict = pickle.load(open('models2symbol.pickle'))"
     ],
     "language": "python",
     "metadata": {},
     "outputs": [],
     "prompt_number": 147
    },
    {
     "cell_type": "code",
     "collapsed": false,
     "input": [
      "def print_symbols(models_sym_dict, genes):\n",
      "    for gene in genes:\n",
      "        try:\n",
      "            print gene, models_sym_dict.get('%s.1' % gene, ('NA', 'NA'))\n",
      "        except KeyError:\n",
      "            pass"
     ],
     "language": "python",
     "metadata": {},
     "outputs": [],
     "prompt_number": 148
    },
    {
     "cell_type": "code",
     "collapsed": false,
     "input": [
      "def write_entrez_id_to_file(genes, models_sym_dict, outfile):\n",
      "    op = open(outfile, 'w')\n",
      "    for gene in genes:\n",
      "        try:\n",
      "            gene = '%s.1' % gene\n",
      "            print >> op, models_sym_dict[gene][0]\n",
      "        except KeyError:\n",
      "            pass\n",
      "    op.close()"
     ],
     "language": "python",
     "metadata": {},
     "outputs": [],
     "prompt_number": 149
    },
    {
     "cell_type": "code",
     "collapsed": false,
     "input": [
      "def write_genes_to_file(genes, models_sym_dict, outfile):\n",
      "    op = open(outfile, 'w')\n",
      "    for gene in genes:\n",
      "        try:\n",
      "            symbol = models_sym_dict[gene + '.1']\n",
      "            print >> op, '%s\\t%s\\t%s' % (gene, symbol[0], symbol[1])\n",
      "        except KeyError:\n",
      "            print >> op, '%s\\t%s\\t%s' % (gene, 'None', 'None')\n",
      "    op.close()"
     ],
     "language": "python",
     "metadata": {},
     "outputs": [],
     "prompt_number": 150
    },
    {
     "cell_type": "code",
     "collapsed": false,
     "input": [
      "def add_symbols_to_snps_file(models_sym_dict, genes, snpsfile, outfile_name):\n",
      "    genes_with_snps = set()\n",
      "    outfile = open(outfile_name, 'w')\n",
      "    for line in open(snpsfile):\n",
      "        geneid = line.split()[-1].split(';')[0].split('=')[1].split('.')[0].replace('-', ':')\n",
      "        try:\n",
      "            symbol = models_sym_dict[geneid + '.1'][1]\n",
      "        except:\n",
      "            symbol = 'None'\n",
      "        else:\n",
      "            genes_with_snps.add(geneid)\n",
      "        finally:\n",
      "            print >> outfile, line.strip() + ';symbol=' + symbol\n",
      "    outfile.close()\n",
      "    return genes_with_snps"
     ],
     "language": "python",
     "metadata": {},
     "outputs": [],
     "prompt_number": 152
    },
    {
     "cell_type": "code",
     "collapsed": false,
     "input": [
      "line6u_se_genes_with_line6_snps = add_symbols_to_snps_file(models_sym_dict, line67u_se,\n",
      "                                             'results/SE/line6u_vs_line7u.line6u.miso_bf.filtered.snps.selected.txt',\n",
      "                                             'results/SE/line6u_vs_line7u.line6u.miso_bf.filtered.snps.selected.symbols.txt')"
     ],
     "language": "python",
     "metadata": {},
     "outputs": [],
     "prompt_number": 192
    },
    {
     "cell_type": "code",
     "collapsed": false,
     "input": [
      "writeGenesToFile(line6uSEGenesWithSnps, modelsSymbolDict, 'line6u_vs_7u_se.gi.txt')"
     ],
     "language": "python",
     "metadata": {},
     "outputs": [],
     "prompt_number": 80
    },
    {
     "cell_type": "code",
     "collapsed": false,
     "input": [
      "line6u_se_genes_with_line7_snps = add_symbols_to_snps_file(models_sym_dict, line67u_se,\n",
      "                                               'results/SE/line7u_vs_line6u.line7u.miso_bf.filtered.snps.selected.txt',\n",
      "                                               'results/SE/line7u_vs_line6u.line7u.miso_bf.filtered.snps.selected.symbols.txt')"
     ],
     "language": "python",
     "metadata": {},
     "outputs": [],
     "prompt_number": 193
    },
    {
     "cell_type": "code",
     "collapsed": false,
     "input": [
      "line6i_se_genes_with_line6_snps = add_symbols_to_snps_file(models_sym_dict, line67i_se,\n",
      "                                             'results/SE/line6i_vs_line7i.line6i.miso_bf.filtered.snps.selected.txt',\n",
      "                                             'results/SE/line6i_vs_line7i.line6i.miso_bf.filtered.snps.selected.symbols.txt')"
     ],
     "language": "python",
     "metadata": {},
     "outputs": [],
     "prompt_number": 194
    },
    {
     "cell_type": "code",
     "collapsed": false,
     "input": [
      "line6i_se_genes_with_line7_snps = add_symbols_to_snps_file(models_sym_dict,\n",
      "                                               line67i_se, \n",
      "                                               'results/SE/line7i_vs_line6i.line7i.miso_bf.filtered.snps.selected.txt',\n",
      "                                               'results/SE/line7i_vs_line6i.line7i.miso_bf.filtered.snps.selected.symbols.txt')"
     ],
     "language": "python",
     "metadata": {},
     "outputs": [],
     "prompt_number": 195
    },
    {
     "cell_type": "code",
     "collapsed": false,
     "input": [
      "# common genes with SNPs\n",
      "print_symbols(models_sym_dict, line6u_se_genes_with_line6_snps.union(line6u_se_genes_with_line7_snps) \\\n",
      "             .intersection(line6i_se_genes_with_line6_snps.union(line6i_se_genes_with_line7_snps)))\n",
      "\n",
      "write_genes_to_file(line6u_se_genes_with_line6_snps.union(line6u_se_genes_with_line7_snps) \\\n",
      "             .intersection(line6i_se_genes_with_line6_snps.union(line6i_se_genes_with_line7_snps)),\n",
      "             models_sym_dict, 'line67u_common_se_genes.txt')"
     ],
     "language": "python",
     "metadata": {},
     "outputs": [
      {
       "output_type": "stream",
       "stream": "stdout",
       "text": [
        "chr3:12331 ('100546240', 'NA')\n",
        "chr7:20899 ('396181', 'ITGB2')\n",
        "chr3:8491 ('421897', 'TMEM14A')\n",
        "chr20:8848 ('396215', 'MYL9')\n",
        "chr13:8291 ('100545953', 'NA')\n",
        "chr4:20754 ('422572', 'ASB5')\n",
        "chr8:18691 ('424600', 'NASP')\n",
        "chr2:18256 ('420956', 'INO80C')\n",
        "chr5:18011 ('395666', 'CD44')\n",
        "chr3:13887 ('428641', 'PHF3')\n",
        "chr18:20015 ('417347', 'SEPT9')\n",
        "chr3:12363 ('421462', 'TTC27')\n"
       ]
      }
     ],
     "prompt_number": 219
    },
    {
     "cell_type": "code",
     "collapsed": false,
     "input": [
      "# genes with SNPs regulated post infection\n",
      "print_symbols(models_sym_dict, line6i_se_genes_with_line6_snps.union(line6i_se_genes_with_line7_snps) \\\n",
      "             .difference(line6u_se_genes_with_line6_snps.union(line6u_se_genes_with_line7_snps)))\n",
      "\n",
      "write_genes_to_file(line6i_se_genes_with_line6_snps.union(line6i_se_genes_with_line7_snps) \\\n",
      "             .difference(line6u_se_genes_with_line6_snps.union(line6u_se_genes_with_line7_snps)),\n",
      "             models_sym_dict, 'line67i_uniq_se_genes.txt')"
     ],
     "language": "python",
     "metadata": {},
     "outputs": [
      {
       "output_type": "stream",
       "stream": "stdout",
       "text": [
        "chr24:20185 ('419730', 'NFRKB')\n",
        "chr2:21755 ('420628', 'SNX10')\n",
        "chr2:14173 ('420659', 'CMC1')\n",
        "chr14:16672 ('768445', 'NTAN1')\n",
        "chr1:2837 ('395313', 'MX1')\n",
        "chr1:26001 ('418371', 'BLZF1')\n",
        "chr6:14969 ('423955', 'METTL10')\n",
        "chr1:17377 ('418760', 'ANKRD10')\n",
        "chr1:21515 ('771527', 'LOC771527')\n",
        "chr5:10128 ('423500', 'CDCA4')\n",
        "chr7:16981 ('424042', 'FAM207A')\n",
        "chr14:8499 ('416749', 'CCNF')\n",
        "chr7:6105 ('424029', 'TRAF3IP1')\n",
        "chr20:17279 ('419280', 'HCK')\n"
       ]
      }
     ],
     "prompt_number": 217
    },
    {
     "cell_type": "code",
     "collapsed": false,
     "input": [
      "# genes with SNPs regulated pre infection\n",
      "print_symbols(models_sym_dict, line6u_se_genes_with_line6_snps.union(line6u_se_genes_with_line7_snps) \\\n",
      "             .difference(line6i_se_genes_with_line6_snps.union(line6i_se_genes_with_line7_snps)))\n",
      "\n",
      "write_genes_to_file(line6u_se_genes_with_line6_snps.union(line6u_se_genes_with_line7_snps) \\\n",
      "             .difference(line6i_se_genes_with_line6_snps.union(line6i_se_genes_with_line7_snps)),\n",
      "             models_sym_dict, 'line67u_uniq_se_genes.txt')"
     ],
     "language": "python",
     "metadata": {},
     "outputs": [
      {
       "output_type": "stream",
       "stream": "stdout",
       "text": [
        "chr8:19139 ('424401', 'PHPT1')\n",
        "chr28:19176 ('100859639', 'LOC100859639')\n",
        "chr15:18541 ('416955', 'YWHAH')\n",
        "chr18:20387 ('417361', 'EXOC7')\n",
        "chr20:17599 ('419158', 'ACSS2')\n",
        "chr5:20324 ('423464', 'WDR20')\n",
        "chr20:18711 ('419253', 'TCEA2')\n",
        "chr11:15935 ('770023', 'CMC2')\n"
       ]
      }
     ],
     "prompt_number": 218
    },
    {
     "cell_type": "code",
     "collapsed": false,
     "input": [
      "writeGenesToFile(line6uSEGenesWithSnps.union(line6uSEGenesWithSnps7u) \\\n",
      "                 .intersection(line6iSEGenesWithSnps.union(line6iSEGenesWithSnps7i)),\n",
      "                 modelsSymbolDict,\n",
      "                 'line6-pre-and-post-snps-symbols.txt')"
     ],
     "language": "python",
     "metadata": {},
     "outputs": [],
     "prompt_number": 111
    },
    {
     "cell_type": "code",
     "collapsed": false,
     "input": [
      "writeGenesToFile(line6iSEGenesWithSnps.union(line6iSEGenesWithSnps7i) \\\n",
      "                 .difference(line6uSEGenesWithSnps.union(line6uSEGenesWithSnps7u)),\n",
      "                 modelsSymbolDict,\n",
      "                 'line6-post-only-snps-symbols.txt')"
     ],
     "language": "python",
     "metadata": {},
     "outputs": [],
     "prompt_number": 112
    },
    {
     "cell_type": "code",
     "collapsed": false,
     "input": [
      "write_genes_to_file(line67i, models_sym_dict, 'line67_post_se.txt')"
     ],
     "language": "python",
     "metadata": {},
     "outputs": [],
     "prompt_number": 200
    },
    {
     "cell_type": "code",
     "collapsed": false,
     "input": [
      "write_genes_to_file(line6ui_se, models_sym_dict, 'line6_pre_post_se.txt')"
     ],
     "language": "python",
     "metadata": {},
     "outputs": [],
     "prompt_number": 204
    },
    {
     "cell_type": "code",
     "collapsed": false,
     "input": [
      "write_genes_to_file(line7ui_se, models_sym_dict, 'line7_pre_post_se.txt')"
     ],
     "language": "python",
     "metadata": {},
     "outputs": [],
     "prompt_number": 205
    },
    {
     "cell_type": "code",
     "collapsed": false,
     "input": [
      "write_genes_to_file(line6ui_se.intersection(line7ui_se), models_sym_dict, 'line6ui_line7ui_common_se_genes.txt')"
     ],
     "language": "python",
     "metadata": {},
     "outputs": [],
     "prompt_number": 210
    },
    {
     "cell_type": "code",
     "collapsed": false,
     "input": [
      "write_genes_to_file(line6ui_se.difference(line7ui_se), models_sym_dict, 'line6ui_uniq_se_genes.txt')"
     ],
     "language": "python",
     "metadata": {},
     "outputs": [],
     "prompt_number": 211
    },
    {
     "cell_type": "code",
     "collapsed": false,
     "input": [
      "write_genes_to_file(line7ui_se.difference(line6ui_se), models_sym_dict, 'line7ui_uniq_se_genes.txt')"
     ],
     "language": "python",
     "metadata": {},
     "outputs": [],
     "prompt_number": 212
    },
    {
     "cell_type": "markdown",
     "metadata": {},
     "source": [
      "###A3SS"
     ]
    },
    {
     "cell_type": "code",
     "collapsed": false,
     "input": [
      "cd ~/projects/miso_se"
     ],
     "language": "python",
     "metadata": {},
     "outputs": [
      {
       "output_type": "stream",
       "stream": "stdout",
       "text": [
        "/Users/Likit/projects/miso_se\n"
       ]
      }
     ],
     "prompt_number": 251
    },
    {
     "cell_type": "code",
     "collapsed": false,
     "input": [
      "%%bash\n",
      "# Find unique SNPs located in exons\n",
      "\n",
      "intersectBed -a snps/line7u_diff_line6u.var.flt.vcf -b line67_split_cuff_models.nr99.A3SS.exons.gff -wb > results/A3SS/line7u_diff_line6u.A3SS.snps.txt\n",
      "intersectBed -a snps/line6u_diff_line7u.var.flt.vcf -b line67_split_cuff_models.nr99.A3SS.exons.gff -wb > results/A3SS/line6u_diff_line7u.A3SS.snps.txt\n",
      "intersectBed -a snps/line7i_diff_line6i.var.flt.vcf -b line67_split_cuff_models.nr99.A3SS.exons.gff -wb > results/A3SS/line7i_diff_line6i.A3SS.snps.txt\n",
      "intersectBed -a snps/line6i_diff_line7i.var.flt.vcf -b line67_split_cuff_models.nr99.A3SS.exons.gff -wb > results/A3SS/line6i_diff_line7i.A3SS.snps.txt"
     ],
     "language": "python",
     "metadata": {},
     "outputs": [],
     "prompt_number": 252
    },
    {
     "cell_type": "code",
     "collapsed": false,
     "input": [
      "%%bash\n",
      "# Add SNPs information to the results\n",
      "\n",
      "miso-snps.py results/A3SS/comparisons/line6u_vs_line7u/bayes-factors/line6u_vs_line7u.miso_bf.filtered results/A3SS/line6u_diff_line7u.A3SS.snps.txt > results/A3SS/line6u_vs_line7u.line6u.miso_bf.filtered.snps.txt\n",
      "miso-snps.py results/A3SS/comparisons/line6i_vs_line7i/bayes-factors/line6i_vs_line7i.miso_bf.filtered results/A3SS/line6i_diff_line7i.A3SS.snps.txt > results/A3SS/line6i_vs_line7i.line6i.miso_bf.filtered.snps.txt\n",
      "miso-snps.py results/A3SS/comparisons/line6u_vs_line7u/bayes-factors/line6u_vs_line7u.miso_bf.filtered results/A3SS/line7u_diff_line6u.A3SS.snps.txt > results/A3SS/line7u_vs_line6u.line7u.miso_bf.filtered.snps.txt\n",
      "miso-snps.py results/A3SS/comparisons/line6i_vs_line7i/bayes-factors/line6i_vs_line7i.miso_bf.filtered results/A3SS/line7i_diff_line6i.A3SS.snps.txt > results/A3SS/line7i_vs_line6i.line7i.miso_bf.filtered.snps.txt"
     ],
     "language": "python",
     "metadata": {},
     "outputs": [],
     "prompt_number": 253
    },
    {
     "cell_type": "code",
     "collapsed": false,
     "input": [
      "%%bash\n",
      "cd results/A3SS/comparisons/line6u_vs_line6i/bayes-factors/\n",
      "miso-filter.py line6u_vs_line6i.miso_bf ASS 0.25 0.10 10 > line6u_vs_line6i.miso_bf.filtered\n",
      "cd ~/projects/miso_se\n",
      "\n",
      "cd results/A3SS/comparisons/line6u_vs_line7u/bayes-factors/\n",
      "miso-filter.py line6u_vs_line7u.miso_bf ASS 0.25 0.10 10 > line6u_vs_line7u.miso_bf.filtered\n",
      "cd ~/projects/miso_se\n",
      "\n",
      "cd results/A3SS/comparisons/line7u_vs_line7i/bayes-factors/\n",
      "miso-filter.py line7u_vs_line7i.miso_bf ASS 0.25 0.10 10 > line7u_vs_line7i.miso_bf.filtered\n",
      "cd ~/projects/miso_se\n",
      "\n",
      "cd results/A3SS/comparisons/line6i_vs_line7i/bayes-factors/\n",
      "miso-filter.py line6i_vs_line7i.miso_bf ASS 0.25 0.10 10 > line6i_vs_line7i.miso_bf.filtered\n",
      "cd ~/projects/miso_se"
     ],
     "language": "python",
     "metadata": {},
     "outputs": [
      {
       "output_type": "stream",
       "stream": "stderr",
       "text": [
        "Total 1455 events, passed 25 events\n",
        "Total 1401 events, passed 38 events\n",
        "Total 1388 events, passed 13 events\n",
        "Total 1412 events, passed 62 events\n"
       ]
      }
     ],
     "prompt_number": 254
    },
    {
     "cell_type": "code",
     "collapsed": false,
     "input": [
      "line6ui_a3SS = !cut -f 1 results/A3SS/comparisons/line6u_vs_line6i/bayes-factors/line6u_vs_line6i.miso_bf.filtered\n",
      "line6ui_a3SS = set([event.split('.')[0].replace('-', ':') for event in line6ui_a3SS])"
     ],
     "language": "python",
     "metadata": {},
     "outputs": [],
     "prompt_number": 255
    },
    {
     "cell_type": "code",
     "collapsed": false,
     "input": [
      "line7ui_a3SS = !cut -f 1 results/A3SS/comparisons/line7u_vs_line7i/bayes-factors/line7u_vs_line7i.miso_bf.filtered\n",
      "line7ui_a3SS = set([event.split('.')[0].replace('-', ':') for event in line7ui_a5SS])"
     ],
     "language": "python",
     "metadata": {},
     "outputs": [],
     "prompt_number": 256
    },
    {
     "cell_type": "code",
     "collapsed": false,
     "input": [
      "write_genes_to_file(line6ui_a3SS, models_sym_dict, 'line6_pre_post_a3ss.txt')"
     ],
     "language": "python",
     "metadata": {},
     "outputs": [],
     "prompt_number": 257
    },
    {
     "cell_type": "code",
     "collapsed": false,
     "input": [
      "write_genes_to_file(line7ui_a3SS, models_sym_dict, 'line7_pre_post_a3ss.txt')"
     ],
     "language": "python",
     "metadata": {},
     "outputs": [],
     "prompt_number": 258
    },
    {
     "cell_type": "markdown",
     "metadata": {},
     "source": [
      "###A5SS"
     ]
    },
    {
     "cell_type": "code",
     "collapsed": false,
     "input": [
      "cd ~/projects/miso_se"
     ],
     "language": "python",
     "metadata": {},
     "outputs": [
      {
       "output_type": "stream",
       "stream": "stdout",
       "text": [
        "/Users/Likit/projects/miso_se\n"
       ]
      }
     ],
     "prompt_number": 241
    },
    {
     "cell_type": "code",
     "collapsed": false,
     "input": [
      "%%bash\n",
      "# Find unique SNPs located in exons\n",
      "\n",
      "intersectBed -a snps/line7u_diff_line6u.var.flt.vcf -b line67_split_cuff_models.nr99.A5SS.exons.gff -wb > results/A5SS/line7u_diff_line6u.A5SS.snps.txt\n",
      "intersectBed -a snps/line6u_diff_line7u.var.flt.vcf -b line67_split_cuff_models.nr99.A5SS.exons.gff -wb > results/A5SS/line6u_diff_line7u.A5SS.snps.txt\n",
      "intersectBed -a snps/line7i_diff_line6i.var.flt.vcf -b line67_split_cuff_models.nr99.A5SS.exons.gff -wb > results/A5SS/line7i_diff_line6i.A5SS.snps.txt\n",
      "intersectBed -a snps/line6i_diff_line7i.var.flt.vcf -b line67_split_cuff_models.nr99.A5SS.exons.gff -wb > results/A5SS/line6i_diff_line7i.A5SS.snps.txt"
     ],
     "language": "python",
     "metadata": {},
     "outputs": [],
     "prompt_number": 243
    },
    {
     "cell_type": "code",
     "collapsed": false,
     "input": [
      "%%bash\n",
      "# Add SNPs information to the results\n",
      "\n",
      "miso-snps.py results/A5SS/comparisons/line6u_vs_line7u/bayes-factors/line6u_vs_line7u.miso_bf.filtered results/A5SS/line6u_diff_line7u.A5SS.snps.txt > results/A5SS/line6u_vs_line7u.line6u.miso_bf.filtered.snps.txt\n",
      "miso-snps.py results/A5SS/comparisons/line6i_vs_line7i/bayes-factors/line6i_vs_line7i.miso_bf.filtered results/A5SS/line6i_diff_line7i.A5SS.snps.txt > results/A5SS/line6i_vs_line7i.line6i.miso_bf.filtered.snps.txt\n",
      "miso-snps.py results/A5SS/comparisons/line6u_vs_line7u/bayes-factors/line6u_vs_line7u.miso_bf.filtered results/A5SS/line7u_diff_line6u.A5SS.snps.txt > results/A5SS/line7u_vs_line6u.line7u.miso_bf.filtered.snps.txt\n",
      "miso-snps.py results/A5SS/comparisons/line6i_vs_line7i/bayes-factors/line6i_vs_line7i.miso_bf.filtered results/A5SS/line7i_diff_line6i.A5SS.snps.txt > results/A5SS/line7i_vs_line6i.line7i.miso_bf.filtered.snps.txt"
     ],
     "language": "python",
     "metadata": {},
     "outputs": [],
     "prompt_number": 244
    },
    {
     "cell_type": "code",
     "collapsed": false,
     "input": [
      "%%bash\n",
      "cd results/A5SS/comparisons/line6u_vs_line6i/bayes-factors/\n",
      "miso-filter.py line6u_vs_line6i.miso_bf ASS 0.25 0.10 10 > line6u_vs_line6i.miso_bf.filtered\n",
      "cd ~/projects/miso_se\n",
      "\n",
      "cd results/A5SS/comparisons/line6u_vs_line7u/bayes-factors/\n",
      "miso-filter.py line6u_vs_line7u.miso_bf ASS 0.25 0.10 10 > line6u_vs_line7u.miso_bf.filtered\n",
      "cd ~/projects/miso_se\n",
      "\n",
      "cd results/A5SS/comparisons/line7u_vs_line7i/bayes-factors/\n",
      "miso-filter.py line7u_vs_line7i.miso_bf ASS 0.25 0.10 10 > line7u_vs_line7i.miso_bf.filtered\n",
      "cd ~/projects/miso_se\n",
      "\n",
      "cd results/A5SS/comparisons/line6i_vs_line7i/bayes-factors/\n",
      "miso-filter.py line6i_vs_line7i.miso_bf ASS 0.25 0.10 10 > line6i_vs_line7i.miso_bf.filtered\n",
      "cd ~/projects/miso_se"
     ],
     "language": "python",
     "metadata": {},
     "outputs": [
      {
       "output_type": "stream",
       "stream": "stderr",
       "text": [
        "Total 839 events, passed 16 events\n",
        "Total 817 events, passed 26 events\n",
        "Total 805 events, passed 15 events\n",
        "Total 817 events, passed 30 events\n"
       ]
      }
     ],
     "prompt_number": 221
    },
    {
     "cell_type": "code",
     "collapsed": false,
     "input": [
      "line67u_a5SS = !cut -f 1 results/A5SS/comparisons/line6u_vs_line7u/bayes-factors/line6u_vs_line7u.miso_bf.filtered\n",
      "line67u_a5SS = set([event.split('.')[0].replace('-', ':') for event in line67u_a5SS])"
     ],
     "language": "python",
     "metadata": {},
     "outputs": [],
     "prompt_number": 234
    },
    {
     "cell_type": "code",
     "collapsed": false,
     "input": [
      "line67i_a5SS = !cut -f 1 results/A5SS/comparisons/line6i_vs_line7i/bayes-factors/line6i_vs_line7i.miso_bf.filtered\n",
      "line67i_a5SS = set([event.split('.')[0].replace('-', ':') for event in line67i_a5SS])"
     ],
     "language": "python",
     "metadata": {},
     "outputs": [],
     "prompt_number": 235
    },
    {
     "cell_type": "code",
     "collapsed": false,
     "input": [
      "line6ui_a5SS = !cut -f 1 results/A5SS/comparisons/line6u_vs_line6i/bayes-factors/line6u_vs_line6i.miso_bf.filtered\n",
      "line6ui_a5SS = set([event.split('.')[0].replace('-', ':') for event in line6ui_a5SS])"
     ],
     "language": "python",
     "metadata": {},
     "outputs": [],
     "prompt_number": 236
    },
    {
     "cell_type": "code",
     "collapsed": false,
     "input": [
      "line7ui_a5SS = !cut -f 1 results/A5SS/comparisons/line7u_vs_line7i/bayes-factors/line7u_vs_line7i.miso_bf.filtered\n",
      "line7ui_a5SS = set([event.split('.')[0].replace('-', ':') for event in line7ui_a5SS])"
     ],
     "language": "python",
     "metadata": {},
     "outputs": [],
     "prompt_number": 237
    },
    {
     "cell_type": "code",
     "collapsed": false,
     "input": [
      "print_symbols(models_sym_dict, line6ui_a5SS.intersection(line7ui_a5SS))"
     ],
     "language": "python",
     "metadata": {},
     "outputs": [
      {
       "output_type": "stream",
       "stream": "stdout",
       "text": [
        "chr5:14292 ('NA', 'NA')\n",
        "chr7:15516 ('424056', 'SF3B1')\n",
        "chr4:16844 ('769372', 'CDKN2AIP')\n",
        "chr3:13690 ('421263', 'PROKR2')\n"
       ]
      }
     ],
     "prompt_number": 250
    },
    {
     "cell_type": "code",
     "collapsed": false,
     "input": [
      "write_genes_to_file(line6ui_a5SS, models_sym_dict, 'line6_pre_post_a5ss.txt')"
     ],
     "language": "python",
     "metadata": {},
     "outputs": [],
     "prompt_number": 247
    },
    {
     "cell_type": "code",
     "collapsed": false,
     "input": [
      "write_genes_to_file(line7ui_a5SS, models_sym_dict, 'line7_pre_post_a5ss.txt')"
     ],
     "language": "python",
     "metadata": {},
     "outputs": [],
     "prompt_number": 248
    },
    {
     "cell_type": "code",
     "collapsed": false,
     "input": [
      "len(all_common_genes)"
     ],
     "language": "python",
     "metadata": {},
     "outputs": [
      {
       "metadata": {},
       "output_type": "pyout",
       "prompt_number": 104,
       "text": [
        "43"
       ]
      }
     ],
     "prompt_number": 104
    },
    {
     "cell_type": "code",
     "collapsed": false,
     "input": [
      "writeGenesToFile(all_common_genes, modelsSymbolDict, 'all_commons.gi.txt')"
     ],
     "language": "python",
     "metadata": {},
     "outputs": [],
     "prompt_number": 106
    },
    {
     "cell_type": "code",
     "collapsed": false,
     "input": [
      "printSymbols(modelsSymbolDict, common_a3SS)"
     ],
     "language": "python",
     "metadata": {},
     "outputs": [
      {
       "output_type": "stream",
       "stream": "stdout",
       "text": [
        "chr1:15949 ('418159', 'CECR5')\n",
        "chr28:21527 ('420049', 'MVP')\n",
        "chr1:6507 ('418015', 'SYNGR1')\n",
        "chr15:11275 ('416790', 'ANKLE2')\n",
        "chr12:4740 ('416060', 'WDR6')\n",
        "chr9:4217 ('424946', 'RNPEPL1')\n",
        "chr18:8677 ('NA', 'NA')\n",
        "chr1:8423 ('418353', 'ZDHHC23')\n",
        "chr20:10358 ('NA', 'NA')\n"
       ]
      }
     ],
     "prompt_number": 110
    },
    {
     "cell_type": "markdown",
     "metadata": {},
     "source": [
      "##DGE"
     ]
    },
    {
     "cell_type": "code",
     "collapsed": false,
     "input": [
      "line6_dge = !cat line6_pre_post_libtype_sig.txt"
     ],
     "language": "python",
     "metadata": {},
     "outputs": [],
     "prompt_number": 259
    },
    {
     "cell_type": "code",
     "collapsed": false,
     "input": [
      "write_entrez_id_to_file(line6_dge, models_sym_dict, 'line6_pre_post_libtype_sig.gi.txt')"
     ],
     "language": "python",
     "metadata": {},
     "outputs": [],
     "prompt_number": 260
    },
    {
     "cell_type": "code",
     "collapsed": false,
     "input": [
      "line7_dge = !cat line7_pre_post_libtype_sig.txt"
     ],
     "language": "python",
     "metadata": {},
     "outputs": [],
     "prompt_number": 261
    },
    {
     "cell_type": "code",
     "collapsed": false,
     "input": [
      "write_entrez_id_to_file(line7_dge, models_sym_dict, 'line7_pre_post_libtype_sig.gi.txt')"
     ],
     "language": "python",
     "metadata": {},
     "outputs": [],
     "prompt_number": 262
    },
    {
     "cell_type": "code",
     "collapsed": false,
     "input": [],
     "language": "python",
     "metadata": {},
     "outputs": []
    }
   ],
   "metadata": {}
  }
 ]
}