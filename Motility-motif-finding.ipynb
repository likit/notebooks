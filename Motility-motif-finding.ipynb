{
 "metadata": {
  "name": ""
 },
 "nbformat": 3,
 "nbformat_minor": 0,
 "worksheets": [
  {
   "cells": [
    {
     "cell_type": "code",
     "collapsed": false,
     "input": [
      "import motility\n",
      "from Bio import SeqIO"
     ],
     "language": "python",
     "metadata": {},
     "outputs": [],
     "prompt_number": 4
    },
    {
     "cell_type": "markdown",
     "metadata": {},
     "source": [
      "##Load sequences"
     ]
    },
    {
     "cell_type": "code",
     "collapsed": false,
     "input": [
      "# read a sequence from a file\n",
      "for rec in SeqIO.parse('samples/final_fa.txt', 'fasta'):\n",
      "    break"
     ],
     "language": "python",
     "metadata": {},
     "outputs": [],
     "prompt_number": 13
    },
    {
     "cell_type": "code",
     "collapsed": false,
     "input": [
      "# a sample sequence\n",
      "str(rec.seq)"
     ],
     "language": "python",
     "metadata": {},
     "outputs": [
      {
       "metadata": {},
       "output_type": "pyout",
       "prompt_number": 9,
       "text": [
        "'tgaggaagtcaggtgcaagtcatatgacttagctgcagtccctggcgcctttgggactgccgccacacccgctccccacagttaaaaaaaatgtttggcacttaaactgtagacaatgatctcgtgttccagagccctcagctgcaactagtaatctgaagtttctcagtacctctccctcacaaagaactaacatatttGACACCTGgaccataaaagaaagaatgtttttgttaagttctggaccactctggaaggaatacgaatatgttacatgtggtaatacacttgtaaatccccatgctgcattctcctgatcttgaatgtgaaatatgtacctgatccactgCCACTGAACCTTGATtggactccatcttcccagttagttgcaccatagatcaagggctaaggagatttccctggtttctgctggtaccaacttaaataactgctaatgtcctgactttcctggccattgagactggtcgtctctcccagagaggcagacatgggaGTCATCTGgatatcacagacaggagtgaagacataatgaatatccataaaggtaagcatggtaaaagaatacattccccaaatgccagtcaatactaatcatagcataacagtgaaattccaattttagttcattttacttggaaaccagagcaacaggaacccaagaaactgagcagaggccctcatgtccatgctgagttctgactgcnnnnnnnnnnnnnnnnnnnnnnnnnnnnnnnnnnnnnnnnnnnnnnnnnnnnnnnnnnnnnnnnnnnnnnnnnnnnnnnnnnnnnnnnnaacatgtgggactgaag-tacagctgaggctatcatgagccagagtcctcagcagcaacctctgccctgaggtctccaacagcctcctcttcccagacaagcagcacatgtGACAACTGggcaaccccaggagnnnngtttatgttcgggttggtaacactgtgggagggaaactgttagcctgttgacaatagtaagttgcaaaatcttcaggctgcaggctgctgatagtgagagtgaaatctgtcccagatccactgCCGCTGAACCTTGATgggaccccactttgcaaactggatgcagcatagatcaggagcttaggggctttccctggtttctgctgataccaggctaaccagctgctaataccctgactcgcccgacaagtgatggtgactctgtctcctacagatgcagacacagggGTCATCTGgatgtcgcatctgggattggaaacataacaaatgtccacacaattaatcatggtaagagaa---gttccctgaatgtaaagcagtactcagcacactgaccgagtataatcctagtgttctcctttcttacctgggaaccagagcagcaggagccccaggagctgagcggggaccctcatgtccatgctgtgtcctgactgg'"
       ]
      }
     ],
     "prompt_number": 9
    },
    {
     "cell_type": "markdown",
     "metadata": {},
     "source": [
      "##Search for a single motif"
     ]
    },
    {
     "cell_type": "code",
     "collapsed": false,
     "input": [
      "# a sample motif\n",
      "motif = 'TNTBNTNTTW'"
     ],
     "language": "python",
     "metadata": {},
     "outputs": [],
     "prompt_number": 57
    },
    {
     "cell_type": "code",
     "collapsed": false,
     "input": [
      "# search for a motif\n",
      "motility.find_iupac(str(rec.seq).replace('-', 'N'), motif)"
     ],
     "language": "python",
     "metadata": {},
     "outputs": [
      {
       "metadata": {},
       "output_type": "pyout",
       "prompt_number": 58,
       "text": [
        "((432, 442, 1, 'TTTGATATTA'),)"
       ]
      }
     ],
     "prompt_number": 58
    },
    {
     "cell_type": "markdown",
     "metadata": {},
     "source": [
      "##Search for multiple motifs on multiple sequences"
     ]
    },
    {
     "cell_type": "code",
     "collapsed": false,
     "input": [
      "# run motility search in batch mode\n",
      "motifs = ['TTWTDTTKTT', 'TTWTATTKTT', 'TNTBNTNTTW', 'TNTTNTNTTW']\n",
      "\n",
      "for rec in SeqIO.parse('samples/final_fa.txt', 'fasta'):\n",
      "    seq = str(rec.seq).replace('-', 'N')\n",
      "    foutput = open('samples/%s_new_motif_results.txt' % rec.id, 'w')\n",
      "    for motif in motifs:\n",
      "        for match in motility.find_iupac(str(rec.seq).replace('-', ''), motif):\n",
      "            print >> foutput, '%s' % motif,\n",
      "            print >> foutput, '\\t%d\\t%d\\t%d\\t%s' % match\n",
      "    foutput.close()"
     ],
     "language": "python",
     "metadata": {},
     "outputs": [],
     "prompt_number": 50
    },
    {
     "cell_type": "code",
     "collapsed": false,
     "input": [],
     "language": "python",
     "metadata": {},
     "outputs": []
    }
   ],
   "metadata": {}
  }
 ]
}