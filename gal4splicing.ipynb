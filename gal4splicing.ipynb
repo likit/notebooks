{
 "metadata": {
  "name": "gal4splicing"
 },
 "nbformat": 3,
 "nbformat_minor": 0,
 "worksheets": [
  {
   "cells": [
    {
     "cell_type": "markdown",
     "metadata": {},
     "source": [
      "#Alternative splicing in Gal4 genome"
     ]
    },
    {
     "cell_type": "code",
     "collapsed": false,
     "input": [
      "%cd ~/projects/mdv/gal4models/"
     ],
     "language": "python",
     "metadata": {},
     "outputs": [
      {
       "output_type": "stream",
       "stream": "stdout",
       "text": [
        "/Users/Likit/projects/mdv/gal4models\n"
       ]
      }
     ],
     "prompt_number": 1
    },
    {
     "cell_type": "markdown",
     "metadata": {},
     "source": [
      "##Reads quality filtering and trimming"
     ]
    },
    {
     "cell_type": "markdown",
     "metadata": {},
     "source": [
      "##Global Assembly"
     ]
    },
    {
     "cell_type": "markdown",
     "metadata": {},
     "source": [
      "Paired- and single-end reads are assembled by Velveth.\n",
      "\n",
      "__$ velveth line7i_se_pe_global 21,33,2 -fastq -shortPaired paired_reads/line7i.pe.trim_both -short single_reads/line7i.single_trim.fastq paired_reads/line7i.pe.unpaired__\n",
      "\n",
      "Transcripts are cleaned by Seqclean with default parameters.\n",
      "\n",
      "__$ seqclean transcripts.fa__\n",
      "\n",
      "Transcripts are renamed according to the dataset and k-mer (optional).\n",
      "\n",
      "__$ python gimme/src/utils/rename_fasta.py transcripts.fa.clean line6u_sepe_k21 > transcripts.clean.rename.fa__\n",
      "\n",
      "All transcripts from every k-mers and all datasets are combined and redundant transcripts are removed by CD-HITS.\n",
      "\n",
      "__$ cd-hit-est -T 1 -d 0 -c 1.0 -M 0 -i line67_sepe_global.fa -o line67_sepe_global.nr.fa__"
     ]
    },
    {
     "cell_type": "markdown",
     "metadata": {},
     "source": [
      "##Local Assembly of paired-end datasets"
     ]
    },
    {
     "cell_type": "markdown",
     "metadata": {},
     "source": [
      "Map reads to selected gal4 chromosomes using Tophat2.\n",
      "\n",
      "__$ tophat2 -r 25 -p 4 -o /mnt/scratch/preeyanon/tophat/line7i_paired_chick4_selected gal4selected paired_reads/line7i.pe.trim_1__ paired_reads/line7i.pe.trim_2\n",
      "\n",
      "Then convert BAM file from tophat output to SAM and sort it by read name.\n",
      "\n",
      "__$ samtools view accepted.hits.bam | sort > accepted.hits.sorted.sam__\n",
      "\n",
      "Then convert it to BAM again.\n",
      "\n",
      "__$ samtools view -S -b accepted.hits.sorted.sam -o accepted.hits.sorted.bam__\n",
      "\n",
      "Reads are obtained from a SAM file with this command.\n",
      "\n",
      "__$ cat ~/gal4genome/selected_chroms.txt | xargs -0 -I {} -d \"\\n\" samtools view -b accepted_hits.sorted.bam {} -o {}.sam__\n",
      "\n",
      "__$ samtools index chr1.bam__\n",
      "\n",
      "Separate paired-end and single-end reads. (Only paired-end with a proper pair are kept.)\n",
      "\n",
      "__$ python gimme/src/utils/split_sam.py chr1.bam__"
     ]
    },
    {
     "cell_type": "code",
     "collapsed": false,
     "input": [],
     "language": "python",
     "metadata": {},
     "outputs": []
    }
   ],
   "metadata": {}
  }
 ]
}