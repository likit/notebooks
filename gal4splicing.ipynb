{
 "metadata": {
  "name": "gal4splicing"
 },
 "nbformat": 3,
 "nbformat_minor": 0,
 "worksheets": [
  {
   "cells": [
    {
     "cell_type": "markdown",
     "metadata": {},
     "source": [
      "#Alternative splicing in Gal4 genome"
     ]
    },
    {
     "cell_type": "code",
     "collapsed": false,
     "input": [
      "%cd ~/projects/mdv/gal4models/"
     ],
     "language": "python",
     "metadata": {},
     "outputs": [
      {
       "output_type": "stream",
       "stream": "stdout",
       "text": [
        "/Users/Likit/projects/mdv/gal4models\n"
       ]
      }
     ],
     "prompt_number": 1
    },
    {
     "cell_type": "markdown",
     "metadata": {},
     "source": [
      "##Reads quality filtering and trimming"
     ]
    },
    {
     "cell_type": "markdown",
     "metadata": {},
     "source": [
      "    $ perl ~/condetri_v2.1.pl -fastq1=line6u.pe.1 -fastq2=line6u.pe.2 -cutfirst 10 -sc=33"
     ]
    },
    {
     "cell_type": "markdown",
     "metadata": {},
     "source": [
      "##Global Assembly"
     ]
    },
    {
     "cell_type": "markdown",
     "metadata": {},
     "source": [
      "Paired- and single-end reads are assembled by Velveth."
     ]
    },
    {
     "cell_type": "raw",
     "metadata": {},
     "source": [
      "velveth line7i_se_pe_global 21,33,2 -fastq -shortPaired paired_reads/line7i.pe.trim_both -short single_reads/line7i.single_trim.fastq paired_reads/line7i.pe.unpaired"
     ]
    },
    {
     "cell_type": "markdown",
     "metadata": {},
     "source": [
      "Transcripts are cleaned by Seqclean with default parameters."
     ]
    },
    {
     "cell_type": "raw",
     "metadata": {},
     "source": [
      "seqclean transcripts.fa"
     ]
    },
    {
     "cell_type": "markdown",
     "metadata": {},
     "source": [
      "Transcripts are renamed according to the dataset and k-mer (optional)."
     ]
    },
    {
     "cell_type": "raw",
     "metadata": {},
     "source": [
      "python gimme/src/utils/rename_fasta.py transcripts.fa.clean line6u_sepe_k21 > transcripts.clean.rename.fa"
     ]
    },
    {
     "cell_type": "markdown",
     "metadata": {},
     "source": [
      "All transcripts from every k-mers and all datasets are combined and redundant transcripts are removed by CD-HITS."
     ]
    },
    {
     "cell_type": "raw",
     "metadata": {},
     "source": [
      "cd-hit-est -T 1 -d 0 -c 1.0 -M 0 -i line67_sepe_global.fa -o line67_sepe_global.nr.fa"
     ]
    },
    {
     "cell_type": "markdown",
     "metadata": {},
     "source": [
      "##Local Assembly of paired-end datasets"
     ]
    },
    {
     "cell_type": "markdown",
     "metadata": {},
     "source": [
      "Map reads to selected gal4 chromosomes using Tophat2."
     ]
    },
    {
     "cell_type": "raw",
     "metadata": {},
     "source": [
      "tophat2 -r 25 -p 4 -o /mnt/scratch/preeyanon/tophat/line7i_paired_chick4_selected gal4selected paired_reads/line7i.pe.trim_1 paired_reads/line7i.pe.trim_2"
     ]
    },
    {
     "cell_type": "markdown",
     "metadata": {},
     "source": [
      "Then sort reads by name."
     ]
    },
    {
     "cell_type": "raw",
     "metadata": {},
     "source": [
      "samtools sort accepted.hits.bam accepted.hits.sorted"
     ]
    },
    {
     "cell_type": "markdown",
     "metadata": {},
     "source": [
      "Reads are obtained from a SAM file with this command."
     ]
    },
    {
     "cell_type": "raw",
     "metadata": {},
     "source": [
      "cat ~/gal4genome/selected_chroms.txt | xargs -0 -I {} -d \"\\n\" samtools view -b accepted_hits.sorted.bam {} -o {}.bam"
     ]
    },
    {
     "cell_type": "markdown",
     "metadata": {},
     "source": [
      "Index bam files."
     ]
    },
    {
     "cell_type": "raw",
     "metadata": {},
     "source": [
      "for f in chr*.bam; do samtools index \"$f\"; done"
     ]
    },
    {
     "cell_type": "markdown",
     "metadata": {},
     "source": [
      "Separate paired-end and single-end reads. (Only paired-end with a proper pair are kept.)"
     ]
    },
    {
     "cell_type": "raw",
     "metadata": {},
     "source": [
      "python gimme/src/utils/split_sam.py chr1.bam"
     ]
    },
    {
     "cell_type": "markdown",
     "metadata": {},
     "source": [
      "##Align transcripts to chicken genome"
     ]
    },
    {
     "cell_type": "markdown",
     "metadata": {},
     "source": [
      "Before aligning transcripts to chicken genome, transcripts are cleaned up by seqclean to remove short sequences, poly(A) and sequences with low complexity."
     ]
    },
    {
     "cell_type": "raw",
     "metadata": {},
     "source": [
      "seqclean transcripts.fa"
     ]
    },
    {
     "cell_type": "markdown",
     "metadata": {},
     "source": [
      "After cleaning, all transcripts from four datasets are pooled together and stored in line67_se_pe_global.clean.fa file.\n",
      "\n",
      "Then, redundant sequences are removed by CDHIT v.4.5.6."
     ]
    },
    {
     "cell_type": "raw",
     "metadata": {},
     "source": [
      "cd-hit-est -T 1 -d 0 -c 1.0 -M 0 -i line67_se_pe_global.clean.fa -o line67_se_pe_global.clean.nr.fa"
     ]
    },
    {
     "cell_type": "markdown",
     "metadata": {},
     "source": [
      "Then, use BLAT to align transcripts to chicken genome with this command."
     ]
    },
    {
     "cell_type": "raw",
     "metadata": {},
     "source": [
      "blat -t=dna -q=dna -noHead -out=psl -mask=lower -extendThroughN /mnt/home/preeyano/gal4genome/gal4selected.2bit line67_se_pe_global.clean.nr.fa line67_se_pe_global.clean.nr.gal4.psl"
     ]
    },
    {
     "cell_type": "markdown",
     "metadata": {},
     "source": [
      "This process is also applied to transcripts from local assembly."
     ]
    },
    {
     "cell_type": "markdown",
     "metadata": {},
     "source": [
      "##Translate cDNAs to protein sequences."
     ]
    },
    {
     "cell_type": "raw",
     "metadata": {},
     "source": [
      "estscan-3.0.3/estscan -M ~/chicken.smat -t line67_se_pe_gal4_models.nr99.prot.fa line67_se_pe_gal4_models.nr99.fa > line67_se_pe_gal4_models.nr99.nucl.fa"
     ]
    },
    {
     "cell_type": "markdown",
     "metadata": {},
     "source": [
      "Total cDNAs = 45,706\n",
      "\n",
      "Total proteins = 36,790 (80.5%)"
     ]
    },
    {
     "cell_type": "code",
     "collapsed": false,
     "input": [
      "36790/45706.0*100"
     ],
     "language": "python",
     "metadata": {},
     "outputs": [
      {
       "output_type": "pyout",
       "prompt_number": 3,
       "text": [
        "80.49271430446768"
       ]
      }
     ],
     "prompt_number": 3
    },
    {
     "cell_type": "markdown",
     "metadata": {},
     "source": [
      "##Percent similarity of transcripts in gene models"
     ]
    },
    {
     "cell_type": "code",
     "collapsed": false,
     "input": [
      "asm_prcnt_iden = !grep -o -e \"[0-9]*\\.[0-9]*\\%\" line67_se_pe_gal4_models.nr90.fa.clstr | sed 's/%//'"
     ],
     "language": "python",
     "metadata": {},
     "outputs": [],
     "prompt_number": 11
    },
    {
     "cell_type": "code",
     "collapsed": false,
     "input": [
      "asm_prcnt_iden = [float(p) for p in asm_prcnt_iden]"
     ],
     "language": "python",
     "metadata": {},
     "outputs": [],
     "prompt_number": 12
    },
    {
     "cell_type": "code",
     "collapsed": false,
     "input": [
      "hist(asm_prcnt_iden, bins=100)"
     ],
     "language": "python",
     "metadata": {},
     "outputs": [
      {
       "output_type": "pyout",
       "prompt_number": 22,
       "text": [
        "(array([ 165,  190,  206,  167,  185,  182,  190,  173,  169,  185,  194,\n",
        "        176,  165,  199,  183,  166,  193,  165,  184,  187,  181,  168,\n",
        "        179,  166,  156,  196,  188,  186,  196,  179,  197,  192,  193,\n",
        "        178,  195,  178,  193,  171,  193,  179,  188,  158,  169,  222,\n",
        "        209,  191,  206,  232,  172,  196,  192,  206,  180,  184,  204,\n",
        "        188,  213,  206,  188,  184,  194,  166,  199,  228,  205,  239,\n",
        "        211,  194,  187,  207,  223,  206,  236,  239,  245,  206,  244,\n",
        "        243,  226,  217,  212,  232,  219,  257,  244,  245,  266,  252,\n",
        "        249,  243,  293,  300,  333,  352,  332,  438,  513,  776, 1037,\n",
        "       6168]),\n",
        " array([  90. ,   90.1,   90.2,   90.3,   90.4,   90.5,   90.6,   90.7,\n",
        "         90.8,   90.9,   91. ,   91.1,   91.2,   91.3,   91.4,   91.5,\n",
        "         91.6,   91.7,   91.8,   91.9,   92. ,   92.1,   92.2,   92.3,\n",
        "         92.4,   92.5,   92.6,   92.7,   92.8,   92.9,   93. ,   93.1,\n",
        "         93.2,   93.3,   93.4,   93.5,   93.6,   93.7,   93.8,   93.9,\n",
        "         94. ,   94.1,   94.2,   94.3,   94.4,   94.5,   94.6,   94.7,\n",
        "         94.8,   94.9,   95. ,   95.1,   95.2,   95.3,   95.4,   95.5,\n",
        "         95.6,   95.7,   95.8,   95.9,   96. ,   96.1,   96.2,   96.3,\n",
        "         96.4,   96.5,   96.6,   96.7,   96.8,   96.9,   97. ,   97.1,\n",
        "         97.2,   97.3,   97.4,   97.5,   97.6,   97.7,   97.8,   97.9,\n",
        "         98. ,   98.1,   98.2,   98.3,   98.4,   98.5,   98.6,   98.7,\n",
        "         98.8,   98.9,   99. ,   99.1,   99.2,   99.3,   99.4,   99.5,\n",
        "         99.6,   99.7,   99.8,   99.9,  100. ]),\n",
        " <a list of 100 Patch objects>)"
       ]
      },
      {
       "output_type": "display_data",
       "png": "[encoded data removed]"
      }
     ],
     "prompt_number": 22
    },
    {
     "cell_type": "code",
     "collapsed": false,
     "input": [
      "cuff_prcnt_iden = !grep -o -e \"[0-9]*\\.[0-9]*\\%\" line67_se_pe_gal4_cufflinks.nr90.fa.clstr | sed 's/%//'"
     ],
     "language": "python",
     "metadata": {},
     "outputs": [],
     "prompt_number": 14
    },
    {
     "cell_type": "code",
     "collapsed": false,
     "input": [
      "cuff_prcnt_iden = [float(p) for p in cuff_prcnt_iden]"
     ],
     "language": "python",
     "metadata": {},
     "outputs": [],
     "prompt_number": 15
    },
    {
     "cell_type": "code",
     "collapsed": false,
     "input": [
      "hist(cuff_prcnt_iden, bins=100)"
     ],
     "language": "python",
     "metadata": {},
     "outputs": [
      {
       "output_type": "pyout",
       "prompt_number": 23,
       "text": [
        "(array([ 11,   9,  12,  13,   7,   9,  21,  18,  16,  10,  21,  11,  11,\n",
        "        18,  13,  16,  14,  14,  11,  11,   5,  15,  14,  14,  14,  14,\n",
        "        24,  22,   7,  14,  16,  15,  12,  11,  14,  11,  17,  19,  20,\n",
        "        17,  17,  20,  18,  21,  16,  17,  20,  21,  26,  19,  21,  14,\n",
        "        16,  18,  24,  15,  16,  23,  23,  21,  23,  24,  34,  25,  18,\n",
        "        22,  23,  31,  26,  25,  35,  24,  29,  37,  34,  42,  37,  35,\n",
        "        27,  33,  33,  41,  48,  42,  36,  42,  52,  45,  47,  45,  55,\n",
        "        47,  50,  63,  54,  64,  62,  51,  78, 686]),\n",
        " array([  90.02  ,   90.1198,   90.2196,   90.3194,   90.4192,   90.519 ,\n",
        "         90.6188,   90.7186,   90.8184,   90.9182,   91.018 ,   91.1178,\n",
        "         91.2176,   91.3174,   91.4172,   91.517 ,   91.6168,   91.7166,\n",
        "         91.8164,   91.9162,   92.016 ,   92.1158,   92.2156,   92.3154,\n",
        "         92.4152,   92.515 ,   92.6148,   92.7146,   92.8144,   92.9142,\n",
        "         93.014 ,   93.1138,   93.2136,   93.3134,   93.4132,   93.513 ,\n",
        "         93.6128,   93.7126,   93.8124,   93.9122,   94.012 ,   94.1118,\n",
        "         94.2116,   94.3114,   94.4112,   94.511 ,   94.6108,   94.7106,\n",
        "         94.8104,   94.9102,   95.01  ,   95.1098,   95.2096,   95.3094,\n",
        "         95.4092,   95.509 ,   95.6088,   95.7086,   95.8084,   95.9082,\n",
        "         96.008 ,   96.1078,   96.2076,   96.3074,   96.4072,   96.507 ,\n",
        "         96.6068,   96.7066,   96.8064,   96.9062,   97.006 ,   97.1058,\n",
        "         97.2056,   97.3054,   97.4052,   97.505 ,   97.6048,   97.7046,\n",
        "         97.8044,   97.9042,   98.004 ,   98.1038,   98.2036,   98.3034,\n",
        "         98.4032,   98.503 ,   98.6028,   98.7026,   98.8024,   98.9022,\n",
        "         99.002 ,   99.1018,   99.2016,   99.3014,   99.4012,   99.501 ,\n",
        "         99.6008,   99.7006,   99.8004,   99.9002,  100.    ]),\n",
        " <a list of 100 Patch objects>)"
       ]
      },
      {
       "output_type": "display_data",
       "png": "[encoded data removed]"
      }
     ],
     "prompt_number": 23
    },
    {
     "cell_type": "markdown",
     "metadata": {},
     "source": [
      "##New tophat version 2.0.5"
     ]
    },
    {
     "cell_type": "code",
     "collapsed": false,
     "input": [],
     "language": "python",
     "metadata": {},
     "outputs": []
    }
   ],
   "metadata": {}
  }
 ]
}