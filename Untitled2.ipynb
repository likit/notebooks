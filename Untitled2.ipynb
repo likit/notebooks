{
 "metadata": {
  "name": ""
 },
 "nbformat": 3,
 "nbformat_minor": 0,
 "worksheets": [
  {
   "cells": [
    {
     "cell_type": "code",
     "collapsed": false,
     "input": [
      "cd ~/projects/wilchell/"
     ],
     "language": "python",
     "metadata": {},
     "outputs": [
      {
       "output_type": "stream",
       "stream": "stdout",
       "text": [
        "/Users/Likit/projects/wilchell\n"
       ]
      }
     ],
     "prompt_number": 1
    },
    {
     "cell_type": "code",
     "collapsed": false,
     "input": [
      "from collections import defaultdict"
     ],
     "language": "python",
     "metadata": {},
     "outputs": [],
     "prompt_number": 2
    },
    {
     "cell_type": "code",
     "collapsed": false,
     "input": [
      "distances = {}"
     ],
     "language": "python",
     "metadata": {},
     "outputs": [],
     "prompt_number": 6
    },
    {
     "cell_type": "code",
     "collapsed": false,
     "input": [
      "for line in open('DF5-70_S66_L001_R1_001.fastq.gz.insert-size.txt'):\n",
      "    elem= line.split(',')\n",
      "    chrom = elem[0]\n",
      "    dist = [int(e) for e in elem]\n",
      "    distances[chrom] = dist"
     ],
     "language": "python",
     "metadata": {},
     "outputs": [],
     "prompt_number": 7
    },
    {
     "cell_type": "code",
     "collapsed": false,
     "input": [
      "hist([e for e in distances['12'] if e >1000], bins=20)"
     ],
     "language": "python",
     "metadata": {},
     "outputs": [
      {
       "metadata": {},
       "output_type": "pyout",
       "prompt_number": 27,
       "text": [
        "(array([ 15.,  11.,   9.,   7.,   4.,   9.,   2.,   6.,   3.,   0.,   4.,\n",
        "         0.,   0.,   2.,   1.,   0.,   0.,   0.,   1.,   1.]),\n",
        " array([  1.31488000e+05,   8.82938360e+06,   1.75272792e+07,\n",
        "         2.62251748e+07,   3.49230704e+07,   4.36209660e+07,\n",
        "         5.23188616e+07,   6.10167572e+07,   6.97146528e+07,\n",
        "         7.84125484e+07,   8.71104440e+07,   9.58083396e+07,\n",
        "         1.04506235e+08,   1.13204131e+08,   1.21902026e+08,\n",
        "         1.30599922e+08,   1.39297818e+08,   1.47995713e+08,\n",
        "         1.56693609e+08,   1.65391504e+08,   1.74089400e+08]),\n",
        " <a list of 20 Patch objects>)"
       ]
      },
      {
       "metadata": {},
       "output_type": "display_data",
       "png": "[encoded data removed]",
       "text": [
        "<matplotlib.figure.Figure at 0x1118f7e10>"
       ]
      }
     ],
     "prompt_number": 27
    },
    {
     "cell_type": "code",
     "collapsed": false,
     "input": [
      "mean(distances['13'])"
     ],
     "language": "python",
     "metadata": {},
     "outputs": [
      {
       "metadata": {},
       "output_type": "pyout",
       "prompt_number": 15,
       "text": [
        "2084268.5959367945"
       ]
      }
     ],
     "prompt_number": 15
    },
    {
     "cell_type": "code",
     "collapsed": false,
     "input": [
      "median(distances['13'])"
     ],
     "language": "python",
     "metadata": {},
     "outputs": [
      {
       "metadata": {},
       "output_type": "pyout",
       "prompt_number": 16,
       "text": [
        "66.0"
       ]
      }
     ],
     "prompt_number": 16
    },
    {
     "cell_type": "code",
     "collapsed": false,
     "input": [
      "len(distances['13'])"
     ],
     "language": "python",
     "metadata": {},
     "outputs": [
      {
       "metadata": {},
       "output_type": "pyout",
       "prompt_number": 18,
       "text": [
        "443"
       ]
      }
     ],
     "prompt_number": 18
    },
    {
     "cell_type": "code",
     "collapsed": false,
     "input": [
      "len(distances['1'])"
     ],
     "language": "python",
     "metadata": {},
     "outputs": [
      {
       "metadata": {},
       "output_type": "pyout",
       "prompt_number": 19,
       "text": [
        "1798"
       ]
      }
     ],
     "prompt_number": 19
    },
    {
     "cell_type": "code",
     "collapsed": false,
     "input": [
      "import pandas"
     ],
     "language": "python",
     "metadata": {},
     "outputs": [],
     "prompt_number": 28
    },
    {
     "cell_type": "code",
     "collapsed": false,
     "input": [
      "colnames = ['chromosome', 'start', 'end', 'name', 'coverage', 'pe_reads']\n",
      "dat = pandas.read_table('DF5-70_S66_L001_R1_001.indels.bed', names=colnames)"
     ],
     "language": "python",
     "metadata": {},
     "outputs": [],
     "prompt_number": 249
    },
    {
     "cell_type": "code",
     "collapsed": false,
     "input": [
      "dat.head()"
     ],
     "language": "python",
     "metadata": {},
     "outputs": [
      {
       "html": [
        "<div style=\"max-height:1000px;max-width:1500px;overflow:auto;\">\n",
        "<table border=\"1\" class=\"dataframe\">\n",
        "  <thead>\n",
        "    <tr style=\"text-align: right;\">\n",
        "      <th></th>\n",
        "      <th>chromosome</th>\n",
        "      <th>start</th>\n",
        "      <th>end</th>\n",
        "      <th>name</th>\n",
        "      <th>coverage</th>\n",
        "      <th>pe_reads</th>\n",
        "    </tr>\n",
        "  </thead>\n",
        "  <tbody>\n",
        "    <tr>\n",
        "      <th>0</th>\n",
        "      <td> 13</td>\n",
        "      <td> 20939343</td>\n",
        "      <td> 21070698</td>\n",
        "      <td> .</td>\n",
        "      <td> 2</td>\n",
        "      <td> 3</td>\n",
        "    </tr>\n",
        "  </tbody>\n",
        "</table>\n",
        "</div>"
       ],
       "metadata": {},
       "output_type": "pyout",
       "prompt_number": 250,
       "text": [
        "   chromosome     start       end name  coverage  pe_reads\n",
        "0          13  20939343  21070698    .         2         3"
       ]
      }
     ],
     "prompt_number": 250
    },
    {
     "cell_type": "code",
     "collapsed": false,
     "input": [
      "figsize(8, 6)"
     ],
     "language": "python",
     "metadata": {},
     "outputs": [],
     "prompt_number": 252
    },
    {
     "cell_type": "code",
     "collapsed": false,
     "input": [
      "def draw_insert_size(data, startpos=None, endpos=None, minlen=0, expand=1000):\n",
      "    start = 0\n",
      "    end = 0\n",
      "    levels = 0\n",
      "    xcoords = []\n",
      "    exp_xcoords = []\n",
      "    ycoords = []\n",
      "    coverages = []\n",
      "    pe_reads = []\n",
      "    for row in data.iterrows():\n",
      "        istart = row[1]['start']\n",
      "        iend = row[1]['end']\n",
      "        if start == 0:\n",
      "            start = istart\n",
      "        elif istart < start:\n",
      "            start = istart\n",
      "        if iend > end:\n",
      "            end = iend\n",
      "        if (iend - istart) < minlen:\n",
      "            continue\n",
      "        levels += 1\n",
      "        xcoords.append([istart, iend])\n",
      "        ycoords.append([levels, levels])\n",
      "        exp_xcoords.append([istart - expand, iend + expand])\n",
      "        coverages.append(row[1]['coverage'])\n",
      "        pe_reads.append(row[1]['pe_reads'])\n",
      "    if startpos == None:\n",
      "        startpos = start\n",
      "    if endpos == None:\n",
      "        endpos = end\n",
      "    if end > endpos:\n",
      "        endpos = end\n",
      "    if start < startpos:\n",
      "        startpos = start\n",
      "    plot([startpos, endpos], [0, 0], color=\"black\", lw=3,)\n",
      "    ylim(0, levels + 0.5)\n",
      "    xlim(startpos, endpos)\n",
      "    print start, end, startpos, endpos, levels\n",
      "    for i in range(0, levels):\n",
      "        plot(exp_xcoords[i], ycoords[i], lw=(1 * coverages[i]), alpha=0.5,linestyle=\"-\", dash_capstyle=\"round\")\n",
      "        plot(xcoords[i], ycoords[i], lw=(2 * coverages[i]), linestyle=\"-\", dash_capstyle=\"round\")\n",
      "        vlines(xcoords[i][0], i+0.9, i+1.1, alpha=0.5, linestyle='solid')\n",
      "        vlines(xcoords[i][-1], i+0.9, i+1.1, alpha=0.5, linestyle='solid')\n",
      "        text(round(mean(xcoords[i])), i + 1.1, pe_reads[i])\n",
      "        text(round(mean(xcoords[i])), i + 1, xcoords[i][1]-xcoords[i][0])\n",
      "        #print xcoords[i], ycoords[i], coverages[i]"
     ],
     "language": "python",
     "metadata": {},
     "outputs": [],
     "prompt_number": 277
    },
    {
     "cell_type": "code",
     "collapsed": false,
     "input": [
      "draw_insert_size(dat, startpos=2.09e7, endpos=2.11e7, minlen=1000, expand=10000)"
     ],
     "language": "python",
     "metadata": {},
     "outputs": [
      {
       "output_type": "stream",
       "stream": "stdout",
       "text": [
        "20939343 21070698 20900000.0 21100000.0 1\n"
       ]
      },
      {
       "metadata": {},
       "output_type": "display_data",
       "png": "[encoded data removed]",
       "text": [
        "<matplotlib.figure.Figure at 0x11528e950>"
       ]
      }
     ],
     "prompt_number": 278
    },
    {
     "cell_type": "code",
     "collapsed": false,
     "input": [],
     "language": "python",
     "metadata": {},
     "outputs": []
    },
    {
     "cell_type": "code",
     "collapsed": false,
     "input": [
      "hist(chr13[chr13.dist > 1000].dist, bins=20)"
     ],
     "language": "python",
     "metadata": {},
     "outputs": [
      {
       "metadata": {},
       "output_type": "pyout",
       "prompt_number": 232,
       "text": [
        "(array([ 15.,  11.,   9.,   7.,   4.,   9.,   2.,   6.,   3.,   0.,   4.,\n",
        "         0.,   0.,   2.,   1.,   0.,   0.,   0.,   1.,   1.]),\n",
        " array([  1.31488000e+05,   8.82938360e+06,   1.75272792e+07,\n",
        "         2.62251748e+07,   3.49230704e+07,   4.36209660e+07,\n",
        "         5.23188616e+07,   6.10167572e+07,   6.97146528e+07,\n",
        "         7.84125484e+07,   8.71104440e+07,   9.58083396e+07,\n",
        "         1.04506235e+08,   1.13204131e+08,   1.21902026e+08,\n",
        "         1.30599922e+08,   1.39297818e+08,   1.47995713e+08,\n",
        "         1.56693609e+08,   1.65391504e+08,   1.74089400e+08]),\n",
        " <a list of 20 Patch objects>)"
       ]
      },
      {
       "metadata": {},
       "output_type": "display_data",
       "png": "[encoded data removed]",
       "text": [
        "<matplotlib.figure.Figure at 0x115684090>"
       ]
      }
     ],
     "prompt_number": 232
    },
    {
     "cell_type": "code",
     "collapsed": false,
     "input": [],
     "language": "python",
     "metadata": {},
     "outputs": []
    }
   ],
   "metadata": {}
  }
 ]
}