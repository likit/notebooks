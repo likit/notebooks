{
 "metadata": {
  "name": ""
 },
 "nbformat": 3,
 "nbformat_minor": 0,
 "worksheets": [
  {
   "cells": [
    {
     "cell_type": "markdown",
     "metadata": {},
     "source": [
      "#Cattle Project"
     ]
    },
    {
     "cell_type": "markdown",
     "metadata": {},
     "source": [
      "##Getting reads count"
     ]
    },
    {
     "cell_type": "markdown",
     "metadata": {},
     "source": [
      "###Convert transcripts to genes"
     ]
    },
    {
     "cell_type": "code",
     "collapsed": false,
     "input": [
      "def transcripts2gene(bedfile):\n",
      "    '''return a dict of transcripts and their genes'''\n",
      "    \n",
      "    transcripts = {}\n",
      "    for line in open(bedfile):\n",
      "        geneid, transid = line.split()[3].split('.')\n",
      "        transcripts[transid] = geneid\n",
      "        \n",
      "    return transcripts"
     ],
     "language": "python",
     "metadata": {},
     "outputs": [],
     "prompt_number": 59
    },
    {
     "cell_type": "code",
     "collapsed": false,
     "input": [
      "%cd ~/projects/cattle_map/\n",
      "transcripts = transcripts2gene('Bos_taurus.UMD3.1.72.bed')\n",
      "len(transcripts)"
     ],
     "language": "python",
     "metadata": {},
     "outputs": [
      {
       "output_type": "stream",
       "stream": "stdout",
       "text": [
        "/Users/Likit/projects/cattle_map\n"
       ]
      },
      {
       "output_type": "pyout",
       "prompt_number": 60,
       "text": [
        "26740"
       ]
      }
     ],
     "prompt_number": 60
    },
    {
     "cell_type": "code",
     "collapsed": false,
     "input": [
      "os.path.splitext('4438MAP_ACACGA_L004_R1_001.count.txt')"
     ],
     "language": "python",
     "metadata": {},
     "outputs": [
      {
       "output_type": "pyout",
       "prompt_number": 71,
       "text": [
        "('4438MAP_ACACGA_L004_R1_001.count', '.txt')"
       ]
      }
     ],
     "prompt_number": 71
    },
    {
     "cell_type": "code",
     "collapsed": false,
     "input": [
      "def merge_counts(path, transcripts):\n",
      "    '''Merge counts from transcripts to a gene count.\n",
      "    \n",
      "    Results are written to a file.\n",
      "\n",
      "    '''\n",
      "    \n",
      "    gene_counts = {}\n",
      "    op = open(os.path.splitext(path)[0] + '.gene.txt', 'w')\n",
      "    for line in open(path):\n",
      "        transid, start, end, reads = line.split()\n",
      "        geneid = transcripts[transid]\n",
      "        if geneid in gene_counts:\n",
      "            gene_counts[geneid] += int(reads)\n",
      "        else:\n",
      "            gene_counts[geneid] = int(reads)\n",
      "    for geneid in sorted(gene_counts):\n",
      "        op.write('%s\\t%d\\n' % (geneid, gene_counts[geneid]))\n",
      "    op.close()"
     ],
     "language": "python",
     "metadata": {},
     "outputs": [],
     "prompt_number": 79
    },
    {
     "cell_type": "code",
     "collapsed": false,
     "input": [
      "%cd ~/projects/cattle_map/bowtie/counts/\n",
      "\n",
      "for filename in glob.glob('*.count.txt'):\n",
      "    merge_counts(filename, transcripts)"
     ],
     "language": "python",
     "metadata": {},
     "outputs": [
      {
       "output_type": "stream",
       "stream": "stdout",
       "text": [
        "/Users/Likit/projects/cattle_map\n"
       ]
      }
     ],
     "prompt_number": 80
    },
    {
     "cell_type": "markdown",
     "metadata": {},
     "source": [
      "###Merge counts from biological replicates"
     ]
    },
    {
     "cell_type": "code",
     "collapsed": false,
     "input": [
      "%cd ~/projects/cattle_map/bowtie/counts/\n",
      "\n",
      "import sys\n",
      "import os\n",
      "import glob\n",
      "import pandas as pd"
     ],
     "language": "python",
     "metadata": {},
     "outputs": [
      {
       "output_type": "stream",
       "stream": "stdout",
       "text": [
        "/Users/Likit/projects/cattle_map/bowtie/counts\n"
       ]
      }
     ],
     "prompt_number": 7
    },
    {
     "cell_type": "code",
     "collapsed": false,
     "input": [
      "def merge_biorep(path):\n",
      "    '''Return a dict of dataframes'''\n",
      "    unames = ['geneid', 'reads']\n",
      "    counts = {}\n",
      "    for filename in glob.glob(path):\n",
      "        sample = filename.split('_')[0]\n",
      "        print 'processing sample %s' % sample\n",
      "        dat = pd.read_table(filename, sep='\\t', header=None, names=unames)\n",
      "        if sample in counts:\n",
      "            counts[sample].reads = dat.reads + counts[sample].reads\n",
      "        else:\n",
      "            counts[sample] = dat\n",
      "    return counts"
     ],
     "language": "python",
     "metadata": {},
     "outputs": [],
     "prompt_number": 5
    },
    {
     "cell_type": "code",
     "collapsed": false,
     "input": [
      "counts = merge_biorep('*.count.gene.txt')"
     ],
     "language": "python",
     "metadata": {},
     "outputs": [
      {
       "output_type": "stream",
       "stream": "stdout",
       "text": [
        "processing sample 4438MAP\n",
        "processing sample 4438MAP\n",
        "processing sample 4438nil"
       ]
      },
      {
       "output_type": "stream",
       "stream": "stdout",
       "text": [
        "\n",
        "processing sample 4438nil\n",
        "processing sample 4517MAP"
       ]
      },
      {
       "output_type": "stream",
       "stream": "stdout",
       "text": [
        "\n",
        "processing sample 4517MAP\n",
        "processing sample 4517nil"
       ]
      },
      {
       "output_type": "stream",
       "stream": "stdout",
       "text": [
        "\n",
        "processing sample 4517nil\n",
        "processing sample 4532MAP"
       ]
      },
      {
       "output_type": "stream",
       "stream": "stdout",
       "text": [
        "\n",
        "processing sample 4532MAP\n",
        "processing sample 4532nil"
       ]
      },
      {
       "output_type": "stream",
       "stream": "stdout",
       "text": [
        "\n",
        "processing sample 4532nil\n",
        "processing sample 4536MAP"
       ]
      },
      {
       "output_type": "stream",
       "stream": "stdout",
       "text": [
        "\n",
        "processing sample 4536MAP\n",
        "processing sample 4536nil"
       ]
      },
      {
       "output_type": "stream",
       "stream": "stdout",
       "text": [
        "\n",
        "processing sample 4536nil\n",
        "processing sample 4551MAP"
       ]
      },
      {
       "output_type": "stream",
       "stream": "stdout",
       "text": [
        "\n",
        "processing sample 4551nil\n",
        "processing sample 4551nil"
       ]
      },
      {
       "output_type": "stream",
       "stream": "stdout",
       "text": [
        "\n",
        "processing sample 4685MAP\n",
        "processing sample 4685MAP"
       ]
      },
      {
       "output_type": "stream",
       "stream": "stdout",
       "text": [
        "\n",
        "processing sample 4685nil\n",
        "processing sample 4685nil"
       ]
      },
      {
       "output_type": "stream",
       "stream": "stdout",
       "text": [
        "\n",
        "processing sample 4698MAP\n",
        "processing sample 4698MAP"
       ]
      },
      {
       "output_type": "stream",
       "stream": "stdout",
       "text": [
        "\n",
        "processing sample 4698nil\n",
        "processing sample 4698nil"
       ]
      },
      {
       "output_type": "stream",
       "stream": "stdout",
       "text": [
        "\n",
        "processing sample 4699MAP\n",
        "processing sample 4699MAP"
       ]
      },
      {
       "output_type": "stream",
       "stream": "stdout",
       "text": [
        "\n",
        "processing sample 4699nil\n",
        "processing sample 4699nil\n"
       ]
      }
     ],
     "prompt_number": 83
    },
    {
     "cell_type": "code",
     "collapsed": false,
     "input": [
      "counts['4698nil'][:5]"
     ],
     "language": "python",
     "metadata": {},
     "outputs": [
      {
       "html": [
        "<div style=\"max-height:1000px;max-width:1500px;overflow:auto;\">\n",
        "<table border=\"1\" class=\"dataframe\">\n",
        "  <thead>\n",
        "    <tr style=\"text-align: right;\">\n",
        "      <th></th>\n",
        "      <th>geneid</th>\n",
        "      <th>reads</th>\n",
        "    </tr>\n",
        "  </thead>\n",
        "  <tbody>\n",
        "    <tr>\n",
        "      <td><strong>0</strong></td>\n",
        "      <td> ENSBTAG00000000005</td>\n",
        "      <td> 351</td>\n",
        "    </tr>\n",
        "    <tr>\n",
        "      <td><strong>1</strong></td>\n",
        "      <td> ENSBTAG00000000008</td>\n",
        "      <td>   6</td>\n",
        "    </tr>\n",
        "    <tr>\n",
        "      <td><strong>2</strong></td>\n",
        "      <td> ENSBTAG00000000009</td>\n",
        "      <td>  16</td>\n",
        "    </tr>\n",
        "    <tr>\n",
        "      <td><strong>3</strong></td>\n",
        "      <td> ENSBTAG00000000010</td>\n",
        "      <td> 170</td>\n",
        "    </tr>\n",
        "    <tr>\n",
        "      <td><strong>4</strong></td>\n",
        "      <td> ENSBTAG00000000011</td>\n",
        "      <td>   1</td>\n",
        "    </tr>\n",
        "  </tbody>\n",
        "</table>\n",
        "</div>"
       ],
       "output_type": "pyout",
       "prompt_number": 84,
       "text": [
        "               geneid  reads\n",
        "0  ENSBTAG00000000005    351\n",
        "1  ENSBTAG00000000008      6\n",
        "2  ENSBTAG00000000009     16\n",
        "3  ENSBTAG00000000010    170\n",
        "4  ENSBTAG00000000011      1"
       ]
      }
     ],
     "prompt_number": 84
    },
    {
     "cell_type": "code",
     "collapsed": false,
     "input": [
      "counts.pop('4551MAP') # remove a sample with no technological replicate"
     ],
     "language": "python",
     "metadata": {},
     "outputs": [
      {
       "output_type": "pyout",
       "prompt_number": 85,
       "text": [
        "<class 'pandas.core.frame.DataFrame'>\n",
        "Int64Index: 20791 entries, 0 to 20790\n",
        "Data columns:\n",
        "geneid    20791  non-null values\n",
        "reads     20791  non-null values\n",
        "dtypes: int64(1), object(1)"
       ]
      }
     ],
     "prompt_number": 85
    },
    {
     "cell_type": "code",
     "collapsed": false,
     "input": [
      "records = {'geneid': counts['4551nil'].geneid}"
     ],
     "language": "python",
     "metadata": {},
     "outputs": [],
     "prompt_number": 89
    },
    {
     "cell_type": "code",
     "collapsed": false,
     "input": [
      "count_data = pd.DataFrame(records)"
     ],
     "language": "python",
     "metadata": {},
     "outputs": [],
     "prompt_number": 90
    },
    {
     "cell_type": "code",
     "collapsed": false,
     "input": [
      "conditions = []\n",
      "for sample in counts:\n",
      "    if 'nil' in sample:\n",
      "        conditions.append('nil')\n",
      "    else:\n",
      "        conditions.append('MAP')\n",
      "    count_data[sample] = counts[sample].reads"
     ],
     "language": "python",
     "metadata": {},
     "outputs": [],
     "prompt_number": 91
    },
    {
     "cell_type": "code",
     "collapsed": false,
     "input": [
      "count_data[:5]"
     ],
     "language": "python",
     "metadata": {},
     "outputs": [
      {
       "html": [
        "<div style=\"max-height:1000px;max-width:1500px;overflow:auto;\">\n",
        "<table border=\"1\" class=\"dataframe\">\n",
        "  <thead>\n",
        "    <tr style=\"text-align: right;\">\n",
        "      <th></th>\n",
        "      <th>geneid</th>\n",
        "      <th>4532nil</th>\n",
        "      <th>4685nil</th>\n",
        "      <th>4536nil</th>\n",
        "      <th>4517nil</th>\n",
        "      <th>4698MAP</th>\n",
        "      <th>4536MAP</th>\n",
        "      <th>4685MAP</th>\n",
        "      <th>4438MAP</th>\n",
        "      <th>4699nil</th>\n",
        "      <th>4551nil</th>\n",
        "      <th>4438nil</th>\n",
        "      <th>4699MAP</th>\n",
        "      <th>4698nil</th>\n",
        "      <th>4517MAP</th>\n",
        "      <th>4532MAP</th>\n",
        "    </tr>\n",
        "  </thead>\n",
        "  <tbody>\n",
        "    <tr>\n",
        "      <td><strong>0</strong></td>\n",
        "      <td> ENSBTAG00000000005</td>\n",
        "      <td> 1160</td>\n",
        "      <td> 535</td>\n",
        "      <td> 1634</td>\n",
        "      <td> 295</td>\n",
        "      <td> 284</td>\n",
        "      <td> 759</td>\n",
        "      <td> 1098</td>\n",
        "      <td> 206</td>\n",
        "      <td> 114</td>\n",
        "      <td> 235</td>\n",
        "      <td> 60</td>\n",
        "      <td> 490</td>\n",
        "      <td> 351</td>\n",
        "      <td> 291</td>\n",
        "      <td> 1007</td>\n",
        "    </tr>\n",
        "    <tr>\n",
        "      <td><strong>1</strong></td>\n",
        "      <td> ENSBTAG00000000008</td>\n",
        "      <td>    2</td>\n",
        "      <td>   0</td>\n",
        "      <td>    0</td>\n",
        "      <td>   0</td>\n",
        "      <td>   0</td>\n",
        "      <td>   1</td>\n",
        "      <td>    0</td>\n",
        "      <td>   0</td>\n",
        "      <td>   1</td>\n",
        "      <td>   0</td>\n",
        "      <td>  2</td>\n",
        "      <td>   4</td>\n",
        "      <td>   6</td>\n",
        "      <td>   0</td>\n",
        "      <td>    0</td>\n",
        "    </tr>\n",
        "    <tr>\n",
        "      <td><strong>2</strong></td>\n",
        "      <td> ENSBTAG00000000009</td>\n",
        "      <td>  144</td>\n",
        "      <td>  53</td>\n",
        "      <td>  266</td>\n",
        "      <td>  41</td>\n",
        "      <td>  43</td>\n",
        "      <td> 116</td>\n",
        "      <td>  128</td>\n",
        "      <td>  13</td>\n",
        "      <td>  16</td>\n",
        "      <td>  22</td>\n",
        "      <td>  6</td>\n",
        "      <td>  69</td>\n",
        "      <td>  16</td>\n",
        "      <td>  17</td>\n",
        "      <td>  144</td>\n",
        "    </tr>\n",
        "    <tr>\n",
        "      <td><strong>3</strong></td>\n",
        "      <td> ENSBTAG00000000010</td>\n",
        "      <td>  323</td>\n",
        "      <td> 129</td>\n",
        "      <td>  409</td>\n",
        "      <td> 121</td>\n",
        "      <td> 116</td>\n",
        "      <td> 252</td>\n",
        "      <td>  237</td>\n",
        "      <td>  67</td>\n",
        "      <td> 137</td>\n",
        "      <td> 136</td>\n",
        "      <td> 60</td>\n",
        "      <td> 178</td>\n",
        "      <td> 170</td>\n",
        "      <td> 105</td>\n",
        "      <td>  457</td>\n",
        "    </tr>\n",
        "    <tr>\n",
        "      <td><strong>4</strong></td>\n",
        "      <td> ENSBTAG00000000011</td>\n",
        "      <td>    3</td>\n",
        "      <td>   0</td>\n",
        "      <td>    4</td>\n",
        "      <td>   3</td>\n",
        "      <td>   6</td>\n",
        "      <td>   0</td>\n",
        "      <td>    2</td>\n",
        "      <td>   0</td>\n",
        "      <td>   5</td>\n",
        "      <td>   5</td>\n",
        "      <td>  7</td>\n",
        "      <td>   1</td>\n",
        "      <td>   1</td>\n",
        "      <td>   0</td>\n",
        "      <td>    1</td>\n",
        "    </tr>\n",
        "  </tbody>\n",
        "</table>\n",
        "</div>"
       ],
       "output_type": "pyout",
       "prompt_number": 92,
       "text": [
        "               geneid  4532nil  4685nil  4536nil  4517nil  4698MAP  4536MAP  4685MAP  \\\n",
        "0  ENSBTAG00000000005     1160      535     1634      295      284      759     1098   \n",
        "1  ENSBTAG00000000008        2        0        0        0        0        1        0   \n",
        "2  ENSBTAG00000000009      144       53      266       41       43      116      128   \n",
        "3  ENSBTAG00000000010      323      129      409      121      116      252      237   \n",
        "4  ENSBTAG00000000011        3        0        4        3        6        0        2   \n",
        "\n",
        "   4438MAP  4699nil  4551nil  4438nil  4699MAP  4698nil  4517MAP  4532MAP  \n",
        "0      206      114      235       60      490      351      291     1007  \n",
        "1        0        1        0        2        4        6        0        0  \n",
        "2       13       16       22        6       69       16       17      144  \n",
        "3       67      137      136       60      178      170      105      457  \n",
        "4        0        5        5        7        1        1        0        1  "
       ]
      }
     ],
     "prompt_number": 92
    },
    {
     "cell_type": "markdown",
     "metadata": {},
     "source": [
      "###Write counts data to a file"
     ]
    },
    {
     "cell_type": "code",
     "collapsed": false,
     "input": [
      "count_data.to_csv('count_data.csv', index=False)"
     ],
     "language": "python",
     "metadata": {},
     "outputs": [],
     "prompt_number": 94
    },
    {
     "cell_type": "code",
     "collapsed": false,
     "input": [
      "!head count_data.csv"
     ],
     "language": "python",
     "metadata": {},
     "outputs": [
      {
       "output_type": "stream",
       "stream": "stdout",
       "text": [
        "geneid,4532nil,4685nil,4536nil,4517nil,4698MAP,4536MAP,4685MAP,4438MAP,4699nil,4551nil,4438nil,4699MAP,4698nil,4517MAP,4532MAP\r\n",
        "ENSBTAG00000000005,1160,535,1634,295,284,759,1098,206,114,235,60,490,351,291,1007\r\n",
        "ENSBTAG00000000008,2,0,0,0,0,1,0,0,1,0,2,4,6,0,0\r\n",
        "ENSBTAG00000000009,144,53,266,41,43,116,128,13,16,22,6,69,16,17,144\r\n",
        "ENSBTAG00000000010,323,129,409,121,116,252,237,67,137,136,60,178,170,105,457\r\n",
        "ENSBTAG00000000011,3,0,4,3,6,0,2,0,5,5,7,1,1,0,1\r\n",
        "ENSBTAG00000000012,34,31,60,8,20,48,50,14,3,9,17,18,22,9,39\r\n",
        "ENSBTAG00000000013,488,287,719,290,280,341,503,145,191,153,93,354,241,244,359\r\n",
        "ENSBTAG00000000014,1149,641,1205,608,356,730,566,312,525,408,245,609,590,341,1405\r\n",
        "ENSBTAG00000000015,143,46,164,43,58,127,175,21,9,20,12,61,42,16,101\r\n"
       ]
      }
     ],
     "prompt_number": 95
    },
    {
     "cell_type": "heading",
     "level": 3,
     "metadata": {},
     "source": [
      "Differential Gene Expression Analysis with Biological replicates"
     ]
    },
    {
     "cell_type": "code",
     "collapsed": false,
     "input": [
      "fc_pvalue_high = []\n",
      "fc_pvalue_low = []\n",
      "pvalue_high = []\n",
      "pvalue_low = []\n",
      "allpvalue = []\n",
      "\n",
      "for line in open('expData_pool/output_score.txt'):\n",
      "    cols = line.split()\n",
      "    if cols[0] == '\"GeneNames\"':\n",
      "        continue\n",
      "    if (cols[3] == 'NA') or (cols[6] == 'NA'):\n",
      "        continue\n",
      "    if (cols[6] == '0'):\n",
      "        continue\n",
      "    fc = float(cols[3])\n",
      "    allpvalue.append(float(cols[6]))\n",
      "    pvalue = log10(float(cols[6])) * -1\n",
      "    if pvalue < 3.0:\n",
      "        pvalue_low.append(pvalue)\n",
      "        fc_pvalue_low.append(fc)\n",
      "    else:\n",
      "        pvalue_high.append(pvalue)\n",
      "        fc_pvalue_high.append(fc)"
     ],
     "language": "python",
     "metadata": {},
     "outputs": [],
     "prompt_number": 160
    },
    {
     "cell_type": "code",
     "collapsed": false,
     "input": [
      "plot(fc_pvalue_low, pvalue_low, '.', color='red')\n",
      "plot(fc_pvalue_high, pvalue_high, '.', color='orange')\n",
      "xlim(-5, 5)\n",
      "ylim(0,15)\n",
      "ylabel('-Log10(corrected p-value)')\n",
      "xlabel('Log2 Fold Change')\n",
      "savefig('volcano.png')\n",
      "show()"
     ],
     "language": "python",
     "metadata": {},
     "outputs": [
      {
       "output_type": "display_data",
       "png": "[encoded data removed]"
      }
     ],
     "prompt_number": 162
    },
    {
     "cell_type": "code",
     "collapsed": false,
     "input": [
      "hist(allpvalue, bins=20)"
     ],
     "language": "python",
     "metadata": {},
     "outputs": [
      {
       "output_type": "pyout",
       "prompt_number": 131,
       "text": [
        "(array([10048,  1362,   953,   729,   674,   559,   541,   511,   433,\n",
        "         498,   300,   437,   490,   292,   332,   334,   435,   399,\n",
        "         423,   280]),\n",
        " array([  1.26580930e-307,   4.99928108e-002,   9.99856216e-002,\n",
        "         1.49978432e-001,   1.99971243e-001,   2.49964054e-001,\n",
        "         2.99956865e-001,   3.49949676e-001,   3.99942487e-001,\n",
        "         4.49935297e-001,   4.99928108e-001,   5.49920919e-001,\n",
        "         5.99913730e-001,   6.49906541e-001,   6.99899351e-001,\n",
        "         7.49892162e-001,   7.99884973e-001,   8.49877784e-001,\n",
        "         8.99870595e-001,   9.49863405e-001,   9.99856216e-001]),\n",
        " <a list of 20 Patch objects>)"
       ]
      },
      {
       "output_type": "display_data",
       "png": "[encoded data removed]"
      }
     ],
     "prompt_number": 131
    },
    {
     "cell_type": "code",
     "collapsed": false,
     "input": [
      "fc_pvalue_high = []\n",
      "fc_pvalue_low = []\n",
      "pvalue_high = []\n",
      "pvalue_low = []\n",
      "allpvalue = []\n",
      "fc_pvalue_high_2fold = []\n",
      "pvalue_high_2fold = []\n",
      "\n",
      "for line in open('expData3/output_score.txt'):\n",
      "    cols = line.split()\n",
      "    if cols[0] == '\"GeneNames\"':\n",
      "        continue\n",
      "    if (cols[4] == 'NA') or (cols[6] == 'NA'):\n",
      "        continue\n",
      "    if (cols[6] == '0'):\n",
      "        continue\n",
      "    fc = float(cols[4])\n",
      "    allpvalue.append(float(cols[6]))\n",
      "    pvalue = log10(float(cols[6])) * -1\n",
      "    if pvalue < 3.0:\n",
      "        pvalue_low.append(pvalue)\n",
      "        fc_pvalue_low.append(fc)\n",
      "    else:\n",
      "        pvalue_high.append(pvalue)\n",
      "        fc_pvalue_high.append(fc)\n",
      "        if abs(fc) >= 1.0:\n",
      "            fc_pvalue_high_2fold.append(fc)\n",
      "            pvalue_high_2fold.append(pvalue)"
     ],
     "language": "python",
     "metadata": {},
     "outputs": [],
     "prompt_number": 36
    },
    {
     "cell_type": "code",
     "collapsed": false,
     "input": [
      "figsize(8,8)\n",
      "plot(fc_pvalue_low, pvalue_low, '.', color='red')\n",
      "plot(fc_pvalue_high, pvalue_high, '.', color='orange')\n",
      "plot(fc_pvalue_high_2fold, pvalue_high_2fold, '.', color='green')\n",
      "xlim(-2, 2)\n",
      "ylim(0,10)\n",
      "ylabel('-Log10(corrected p-value)', size=16)\n",
      "xlabel('Normalized Log2 Fold Change', size=16)\n",
      "savefig('expData3_volcano2.png')\n",
      "show()"
     ],
     "language": "python",
     "metadata": {},
     "outputs": [
      {
       "output_type": "display_data",
       "png": "[encoded data removed]"
      }
     ],
     "prompt_number": 37
    },
    {
     "cell_type": "heading",
     "level": 3,
     "metadata": {},
     "source": [
      "Differential Gene Expression without biological replicates (pool)"
     ]
    },
    {
     "cell_type": "code",
     "collapsed": false,
     "input": [
      "count_MAP = merge_biorep('*MAP*count.gene.txt')"
     ],
     "language": "python",
     "metadata": {},
     "outputs": [
      {
       "output_type": "stream",
       "stream": "stdout",
       "text": [
        "processing sample 4438MAP"
       ]
      },
      {
       "output_type": "stream",
       "stream": "stdout",
       "text": [
        "\n",
        "processing sample 4438MAP"
       ]
      },
      {
       "output_type": "stream",
       "stream": "stdout",
       "text": [
        "\n",
        "processing sample 4517MAP"
       ]
      },
      {
       "output_type": "stream",
       "stream": "stdout",
       "text": [
        "\n",
        "processing sample 4517MAP\n",
        "processing sample 4532MAP"
       ]
      },
      {
       "output_type": "stream",
       "stream": "stdout",
       "text": [
        "\n",
        "processing sample 4532MAP\n",
        "processing sample 4536MAP"
       ]
      },
      {
       "output_type": "stream",
       "stream": "stdout",
       "text": [
        "\n",
        "processing sample 4536MAP\n",
        "processing sample 4551MAP"
       ]
      },
      {
       "output_type": "stream",
       "stream": "stdout",
       "text": [
        "\n",
        "processing sample 4685MAP\n",
        "processing sample 4685MAP"
       ]
      },
      {
       "output_type": "stream",
       "stream": "stdout",
       "text": [
        "\n",
        "processing sample 4698MAP\n",
        "processing sample 4698MAP"
       ]
      },
      {
       "output_type": "stream",
       "stream": "stdout",
       "text": [
        "\n",
        "processing sample 4699MAP\n",
        "processing sample 4699MAP"
       ]
      },
      {
       "output_type": "stream",
       "stream": "stdout",
       "text": [
        "\n"
       ]
      }
     ],
     "prompt_number": 138
    },
    {
     "cell_type": "code",
     "collapsed": false,
     "input": [
      "count_nil = merge_biorep('*nil*count.gene.txt')"
     ],
     "language": "python",
     "metadata": {},
     "outputs": [
      {
       "output_type": "stream",
       "stream": "stdout",
       "text": [
        "processing sample 4438nil\n",
        "processing sample 4438nil\n",
        "processing sample 4517nil"
       ]
      },
      {
       "output_type": "stream",
       "stream": "stdout",
       "text": [
        "\n",
        "processing sample 4517nil\n",
        "processing sample 4532nil"
       ]
      },
      {
       "output_type": "stream",
       "stream": "stdout",
       "text": [
        "\n",
        "processing sample 4532nil\n",
        "processing sample 4536nil"
       ]
      },
      {
       "output_type": "stream",
       "stream": "stdout",
       "text": [
        "\n",
        "processing sample 4536nil\n",
        "processing sample 4551nil"
       ]
      },
      {
       "output_type": "stream",
       "stream": "stdout",
       "text": [
        "\n",
        "processing sample 4551nil\n",
        "processing sample 4685nil"
       ]
      },
      {
       "output_type": "stream",
       "stream": "stdout",
       "text": [
        "\n",
        "processing sample 4685nil\n",
        "processing sample 4698nil"
       ]
      },
      {
       "output_type": "stream",
       "stream": "stdout",
       "text": [
        "\n",
        "processing sample 4698nil\n",
        "processing sample 4699nil"
       ]
      },
      {
       "output_type": "stream",
       "stream": "stdout",
       "text": [
        "\n",
        "processing sample 4699nil\n"
       ]
      }
     ],
     "prompt_number": 139
    },
    {
     "cell_type": "code",
     "collapsed": false,
     "input": [
      "records = {'geneid': counts['4551nil'].geneid}\n",
      "MAP = pd.DataFrame(records)\n",
      "NIL = pd.DataFrame(records)\n",
      "\n",
      "for sample in count_MAP:\n",
      "    MAP[sample] = count_MAP[sample].reads\n",
      "\n",
      "for sample in count_nil:\n",
      "    NIL[sample] = count_nil[sample].reads"
     ],
     "language": "python",
     "metadata": {},
     "outputs": [],
     "prompt_number": 155
    },
    {
     "cell_type": "code",
     "collapsed": false,
     "input": [
      "MAP['pool'] = MAP.sum(axis=1)\n",
      "NIL['pool'] = NIL.sum(axis=1)"
     ],
     "language": "python",
     "metadata": {},
     "outputs": [],
     "prompt_number": 156
    },
    {
     "cell_type": "code",
     "collapsed": false,
     "input": [
      "MAP[:5]"
     ],
     "language": "python",
     "metadata": {},
     "outputs": [
      {
       "html": [
        "<div style=\"max-height:1000px;max-width:1500px;overflow:auto;\">\n",
        "<table border=\"1\" class=\"dataframe\">\n",
        "  <thead>\n",
        "    <tr style=\"text-align: right;\">\n",
        "      <th></th>\n",
        "      <th>geneid</th>\n",
        "      <th>4551MAP</th>\n",
        "      <th>4698MAP</th>\n",
        "      <th>4536MAP</th>\n",
        "      <th>4685MAP</th>\n",
        "      <th>4438MAP</th>\n",
        "      <th>4699MAP</th>\n",
        "      <th>4517MAP</th>\n",
        "      <th>4532MAP</th>\n",
        "    </tr>\n",
        "  </thead>\n",
        "  <tbody>\n",
        "    <tr>\n",
        "      <td><strong>0</strong></td>\n",
        "      <td> ENSBTAG00000000005</td>\n",
        "      <td> 177</td>\n",
        "      <td> 284</td>\n",
        "      <td> 759</td>\n",
        "      <td> 1098</td>\n",
        "      <td> 206</td>\n",
        "      <td> 490</td>\n",
        "      <td> 291</td>\n",
        "      <td> 1007</td>\n",
        "    </tr>\n",
        "    <tr>\n",
        "      <td><strong>1</strong></td>\n",
        "      <td> ENSBTAG00000000008</td>\n",
        "      <td>   0</td>\n",
        "      <td>   0</td>\n",
        "      <td>   1</td>\n",
        "      <td>    0</td>\n",
        "      <td>   0</td>\n",
        "      <td>   4</td>\n",
        "      <td>   0</td>\n",
        "      <td>    0</td>\n",
        "    </tr>\n",
        "    <tr>\n",
        "      <td><strong>2</strong></td>\n",
        "      <td> ENSBTAG00000000009</td>\n",
        "      <td>   5</td>\n",
        "      <td>  43</td>\n",
        "      <td> 116</td>\n",
        "      <td>  128</td>\n",
        "      <td>  13</td>\n",
        "      <td>  69</td>\n",
        "      <td>  17</td>\n",
        "      <td>  144</td>\n",
        "    </tr>\n",
        "    <tr>\n",
        "      <td><strong>3</strong></td>\n",
        "      <td> ENSBTAG00000000010</td>\n",
        "      <td> 112</td>\n",
        "      <td> 116</td>\n",
        "      <td> 252</td>\n",
        "      <td>  237</td>\n",
        "      <td>  67</td>\n",
        "      <td> 178</td>\n",
        "      <td> 105</td>\n",
        "      <td>  457</td>\n",
        "    </tr>\n",
        "    <tr>\n",
        "      <td><strong>4</strong></td>\n",
        "      <td> ENSBTAG00000000011</td>\n",
        "      <td>   0</td>\n",
        "      <td>   6</td>\n",
        "      <td>   0</td>\n",
        "      <td>    2</td>\n",
        "      <td>   0</td>\n",
        "      <td>   1</td>\n",
        "      <td>   0</td>\n",
        "      <td>    1</td>\n",
        "    </tr>\n",
        "  </tbody>\n",
        "</table>\n",
        "</div>"
       ],
       "output_type": "pyout",
       "prompt_number": 148,
       "text": [
        "               geneid  4551MAP  4698MAP  4536MAP  4685MAP  4438MAP  4699MAP  4517MAP  \\\n",
        "0  ENSBTAG00000000005      177      284      759     1098      206      490      291   \n",
        "1  ENSBTAG00000000008        0        0        1        0        0        4        0   \n",
        "2  ENSBTAG00000000009        5       43      116      128       13       69       17   \n",
        "3  ENSBTAG00000000010      112      116      252      237       67      178      105   \n",
        "4  ENSBTAG00000000011        0        6        0        2        0        1        0   \n",
        "\n",
        "   4532MAP  \n",
        "0     1007  \n",
        "1        0  \n",
        "2      144  \n",
        "3      457  \n",
        "4        1  "
       ]
      }
     ],
     "prompt_number": 148
    },
    {
     "cell_type": "code",
     "collapsed": false,
     "input": [
      "NIL[:5]"
     ],
     "language": "python",
     "metadata": {},
     "outputs": [
      {
       "html": [
        "<div style=\"max-height:1000px;max-width:1500px;overflow:auto;\">\n",
        "<table border=\"1\" class=\"dataframe\">\n",
        "  <thead>\n",
        "    <tr style=\"text-align: right;\">\n",
        "      <th></th>\n",
        "      <th>geneid</th>\n",
        "      <th>4532nil</th>\n",
        "      <th>4685nil</th>\n",
        "      <th>4536nil</th>\n",
        "      <th>4517nil</th>\n",
        "      <th>4699nil</th>\n",
        "      <th>4551nil</th>\n",
        "      <th>4438nil</th>\n",
        "      <th>4698nil</th>\n",
        "      <th>pool</th>\n",
        "    </tr>\n",
        "  </thead>\n",
        "  <tbody>\n",
        "    <tr>\n",
        "      <td><strong>0</strong></td>\n",
        "      <td> ENSBTAG00000000005</td>\n",
        "      <td> 1160</td>\n",
        "      <td> 535</td>\n",
        "      <td> 1634</td>\n",
        "      <td> 295</td>\n",
        "      <td> 114</td>\n",
        "      <td> 235</td>\n",
        "      <td> 60</td>\n",
        "      <td> 351</td>\n",
        "      <td> 4384</td>\n",
        "    </tr>\n",
        "    <tr>\n",
        "      <td><strong>1</strong></td>\n",
        "      <td> ENSBTAG00000000008</td>\n",
        "      <td>    2</td>\n",
        "      <td>   0</td>\n",
        "      <td>    0</td>\n",
        "      <td>   0</td>\n",
        "      <td>   1</td>\n",
        "      <td>   0</td>\n",
        "      <td>  2</td>\n",
        "      <td>   6</td>\n",
        "      <td>   11</td>\n",
        "    </tr>\n",
        "    <tr>\n",
        "      <td><strong>2</strong></td>\n",
        "      <td> ENSBTAG00000000009</td>\n",
        "      <td>  144</td>\n",
        "      <td>  53</td>\n",
        "      <td>  266</td>\n",
        "      <td>  41</td>\n",
        "      <td>  16</td>\n",
        "      <td>  22</td>\n",
        "      <td>  6</td>\n",
        "      <td>  16</td>\n",
        "      <td>  564</td>\n",
        "    </tr>\n",
        "    <tr>\n",
        "      <td><strong>3</strong></td>\n",
        "      <td> ENSBTAG00000000010</td>\n",
        "      <td>  323</td>\n",
        "      <td> 129</td>\n",
        "      <td>  409</td>\n",
        "      <td> 121</td>\n",
        "      <td> 137</td>\n",
        "      <td> 136</td>\n",
        "      <td> 60</td>\n",
        "      <td> 170</td>\n",
        "      <td> 1485</td>\n",
        "    </tr>\n",
        "    <tr>\n",
        "      <td><strong>4</strong></td>\n",
        "      <td> ENSBTAG00000000011</td>\n",
        "      <td>    3</td>\n",
        "      <td>   0</td>\n",
        "      <td>    4</td>\n",
        "      <td>   3</td>\n",
        "      <td>   5</td>\n",
        "      <td>   5</td>\n",
        "      <td>  7</td>\n",
        "      <td>   1</td>\n",
        "      <td>   28</td>\n",
        "    </tr>\n",
        "  </tbody>\n",
        "</table>\n",
        "</div>"
       ],
       "output_type": "pyout",
       "prompt_number": 157,
       "text": [
        "               geneid  4532nil  4685nil  4536nil  4517nil  4699nil  4551nil  4438nil  \\\n",
        "0  ENSBTAG00000000005     1160      535     1634      295      114      235       60   \n",
        "1  ENSBTAG00000000008        2        0        0        0        1        0        2   \n",
        "2  ENSBTAG00000000009      144       53      266       41       16       22        6   \n",
        "3  ENSBTAG00000000010      323      129      409      121      137      136       60   \n",
        "4  ENSBTAG00000000011        3        0        4        3        5        5        7   \n",
        "\n",
        "   4698nil  pool  \n",
        "0      351  4384  \n",
        "1        6    11  \n",
        "2       16   564  \n",
        "3      170  1485  \n",
        "4        1    28  "
       ]
      }
     ],
     "prompt_number": 157
    },
    {
     "cell_type": "code",
     "collapsed": false,
     "input": [
      "MAP.to_csv('MAP_count.csv', index=False)"
     ],
     "language": "python",
     "metadata": {},
     "outputs": [],
     "prompt_number": 154
    },
    {
     "cell_type": "code",
     "collapsed": false,
     "input": [
      "NIL.to_csv('NIL_count.csv', index=False)"
     ],
     "language": "python",
     "metadata": {},
     "outputs": [],
     "prompt_number": 158
    },
    {
     "cell_type": "markdown",
     "metadata": {},
     "source": [
      "##EdgeR Analysis (non-unique reads)"
     ]
    },
    {
     "cell_type": "markdown",
     "metadata": {},
     "source": [
      "Creating a count data file"
     ]
    },
    {
     "cell_type": "code",
     "collapsed": false,
     "input": [
      "count_MAP = merge_biorep('*MAP*count.gene.txt')"
     ],
     "language": "python",
     "metadata": {},
     "outputs": [
      {
       "output_type": "stream",
       "stream": "stdout",
       "text": [
        "processing sample 4438MAP\n",
        "processing sample 4438MAP\n",
        "processing sample 4517MAP"
       ]
      },
      {
       "output_type": "stream",
       "stream": "stdout",
       "text": [
        "\n",
        "processing sample 4517MAP"
       ]
      },
      {
       "output_type": "stream",
       "stream": "stdout",
       "text": [
        "\n",
        "processing sample 4532MAP\n",
        "processing sample 4532MAP"
       ]
      },
      {
       "output_type": "stream",
       "stream": "stdout",
       "text": [
        "\n",
        "processing sample 4536MAP"
       ]
      },
      {
       "output_type": "stream",
       "stream": "stdout",
       "text": [
        "\n",
        "processing sample 4536MAP\n",
        "processing sample 4551MAP"
       ]
      },
      {
       "output_type": "stream",
       "stream": "stdout",
       "text": [
        "\n",
        "processing sample 4685MAP\n",
        "processing sample 4685MAP"
       ]
      },
      {
       "output_type": "stream",
       "stream": "stdout",
       "text": [
        "\n",
        "processing sample 4698MAP\n",
        "processing sample 4698MAP"
       ]
      },
      {
       "output_type": "stream",
       "stream": "stdout",
       "text": [
        "\n",
        "processing sample 4699MAP\n",
        "processing sample 4699MAP"
       ]
      },
      {
       "output_type": "stream",
       "stream": "stdout",
       "text": [
        "\n"
       ]
      }
     ],
     "prompt_number": 8
    },
    {
     "cell_type": "code",
     "collapsed": false,
     "input": [
      "count_nil = merge_biorep('*nil*count.gene.txt')"
     ],
     "language": "python",
     "metadata": {},
     "outputs": [
      {
       "output_type": "stream",
       "stream": "stdout",
       "text": [
        "processing sample 4438nil\n",
        "processing sample 4438nil"
       ]
      },
      {
       "output_type": "stream",
       "stream": "stdout",
       "text": [
        "\n",
        "processing sample 4517nil"
       ]
      },
      {
       "output_type": "stream",
       "stream": "stdout",
       "text": [
        "\n",
        "processing sample 4517nil"
       ]
      },
      {
       "output_type": "stream",
       "stream": "stdout",
       "text": [
        "\n",
        "processing sample 4532nil\n",
        "processing sample 4532nil"
       ]
      },
      {
       "output_type": "stream",
       "stream": "stdout",
       "text": [
        "\n",
        "processing sample 4536nil\n",
        "processing sample 4536nil"
       ]
      },
      {
       "output_type": "stream",
       "stream": "stdout",
       "text": [
        "\n",
        "processing sample 4551nil\n",
        "processing sample 4551nil"
       ]
      },
      {
       "output_type": "stream",
       "stream": "stdout",
       "text": [
        "\n",
        "processing sample 4685nil\n",
        "processing sample 4685nil"
       ]
      },
      {
       "output_type": "stream",
       "stream": "stdout",
       "text": [
        "\n",
        "processing sample 4698nil\n",
        "processing sample 4698nil"
       ]
      },
      {
       "output_type": "stream",
       "stream": "stdout",
       "text": [
        "\n",
        "processing sample 4699nil"
       ]
      },
      {
       "output_type": "stream",
       "stream": "stdout",
       "text": [
        "\n",
        "processing sample 4699nil"
       ]
      },
      {
       "output_type": "stream",
       "stream": "stdout",
       "text": [
        "\n"
       ]
      }
     ],
     "prompt_number": 9
    },
    {
     "cell_type": "code",
     "collapsed": false,
     "input": [
      "records = {'geneid': count_nil['4551nil'].geneid}\n",
      "counts = pd.DataFrame(records)\n",
      "\n",
      "for sample in count_MAP:\n",
      "    nil_sample = sample.replace('MAP', 'nil')\n",
      "    if nil_sample in count_nil:\n",
      "        counts[nil_sample] = count_nil[nil_sample].reads\n",
      "        counts[sample] = count_MAP[sample].reads"
     ],
     "language": "python",
     "metadata": {},
     "outputs": [],
     "prompt_number": 12
    },
    {
     "cell_type": "code",
     "collapsed": false,
     "input": [
      "counts[:5]"
     ],
     "language": "python",
     "metadata": {},
     "outputs": [
      {
       "html": [
        "<div style=\"max-height:1000px;max-width:1500px;overflow:auto;\">\n",
        "<table border=\"1\" class=\"dataframe\">\n",
        "  <thead>\n",
        "    <tr style=\"text-align: right;\">\n",
        "      <th></th>\n",
        "      <th>geneid</th>\n",
        "      <th>4551nil</th>\n",
        "      <th>4551MAP</th>\n",
        "      <th>4698nil</th>\n",
        "      <th>4698MAP</th>\n",
        "      <th>4536nil</th>\n",
        "      <th>4536MAP</th>\n",
        "      <th>4685nil</th>\n",
        "      <th>4685MAP</th>\n",
        "      <th>4438nil</th>\n",
        "      <th>4438MAP</th>\n",
        "      <th>4699nil</th>\n",
        "      <th>4699MAP</th>\n",
        "      <th>4517nil</th>\n",
        "      <th>4517MAP</th>\n",
        "      <th>4532nil</th>\n",
        "      <th>4532MAP</th>\n",
        "    </tr>\n",
        "  </thead>\n",
        "  <tbody>\n",
        "    <tr>\n",
        "      <td><strong>0</strong></td>\n",
        "      <td> ENSBTAG00000000005</td>\n",
        "      <td> 235</td>\n",
        "      <td> 177</td>\n",
        "      <td> 351</td>\n",
        "      <td> 284</td>\n",
        "      <td> 1634</td>\n",
        "      <td> 759</td>\n",
        "      <td> 535</td>\n",
        "      <td> 1098</td>\n",
        "      <td> 60</td>\n",
        "      <td> 206</td>\n",
        "      <td> 114</td>\n",
        "      <td> 490</td>\n",
        "      <td> 295</td>\n",
        "      <td> 291</td>\n",
        "      <td> 1160</td>\n",
        "      <td> 1007</td>\n",
        "    </tr>\n",
        "    <tr>\n",
        "      <td><strong>1</strong></td>\n",
        "      <td> ENSBTAG00000000008</td>\n",
        "      <td>   0</td>\n",
        "      <td>   0</td>\n",
        "      <td>   6</td>\n",
        "      <td>   0</td>\n",
        "      <td>    0</td>\n",
        "      <td>   1</td>\n",
        "      <td>   0</td>\n",
        "      <td>    0</td>\n",
        "      <td>  2</td>\n",
        "      <td>   0</td>\n",
        "      <td>   1</td>\n",
        "      <td>   4</td>\n",
        "      <td>   0</td>\n",
        "      <td>   0</td>\n",
        "      <td>    2</td>\n",
        "      <td>    0</td>\n",
        "    </tr>\n",
        "    <tr>\n",
        "      <td><strong>2</strong></td>\n",
        "      <td> ENSBTAG00000000009</td>\n",
        "      <td>  22</td>\n",
        "      <td>   5</td>\n",
        "      <td>  16</td>\n",
        "      <td>  43</td>\n",
        "      <td>  266</td>\n",
        "      <td> 116</td>\n",
        "      <td>  53</td>\n",
        "      <td>  128</td>\n",
        "      <td>  6</td>\n",
        "      <td>  13</td>\n",
        "      <td>  16</td>\n",
        "      <td>  69</td>\n",
        "      <td>  41</td>\n",
        "      <td>  17</td>\n",
        "      <td>  144</td>\n",
        "      <td>  144</td>\n",
        "    </tr>\n",
        "    <tr>\n",
        "      <td><strong>3</strong></td>\n",
        "      <td> ENSBTAG00000000010</td>\n",
        "      <td> 136</td>\n",
        "      <td> 112</td>\n",
        "      <td> 170</td>\n",
        "      <td> 116</td>\n",
        "      <td>  409</td>\n",
        "      <td> 252</td>\n",
        "      <td> 129</td>\n",
        "      <td>  237</td>\n",
        "      <td> 60</td>\n",
        "      <td>  67</td>\n",
        "      <td> 137</td>\n",
        "      <td> 178</td>\n",
        "      <td> 121</td>\n",
        "      <td> 105</td>\n",
        "      <td>  323</td>\n",
        "      <td>  457</td>\n",
        "    </tr>\n",
        "    <tr>\n",
        "      <td><strong>4</strong></td>\n",
        "      <td> ENSBTAG00000000011</td>\n",
        "      <td>   5</td>\n",
        "      <td>   0</td>\n",
        "      <td>   1</td>\n",
        "      <td>   6</td>\n",
        "      <td>    4</td>\n",
        "      <td>   0</td>\n",
        "      <td>   0</td>\n",
        "      <td>    2</td>\n",
        "      <td>  7</td>\n",
        "      <td>   0</td>\n",
        "      <td>   5</td>\n",
        "      <td>   1</td>\n",
        "      <td>   3</td>\n",
        "      <td>   0</td>\n",
        "      <td>    3</td>\n",
        "      <td>    1</td>\n",
        "    </tr>\n",
        "  </tbody>\n",
        "</table>\n",
        "</div>"
       ],
       "output_type": "pyout",
       "prompt_number": 13,
       "text": [
        "               geneid  4551nil  4551MAP  4698nil  4698MAP  4536nil  4536MAP  4685nil  \\\n",
        "0  ENSBTAG00000000005      235      177      351      284     1634      759      535   \n",
        "1  ENSBTAG00000000008        0        0        6        0        0        1        0   \n",
        "2  ENSBTAG00000000009       22        5       16       43      266      116       53   \n",
        "3  ENSBTAG00000000010      136      112      170      116      409      252      129   \n",
        "4  ENSBTAG00000000011        5        0        1        6        4        0        0   \n",
        "\n",
        "   4685MAP  4438nil  4438MAP  4699nil  4699MAP  4517nil  4517MAP  4532nil  4532MAP  \n",
        "0     1098       60      206      114      490      295      291     1160     1007  \n",
        "1        0        2        0        1        4        0        0        2        0  \n",
        "2      128        6       13       16       69       41       17      144      144  \n",
        "3      237       60       67      137      178      121      105      323      457  \n",
        "4        2        7        0        5        1        3        0        3        1  "
       ]
      }
     ],
     "prompt_number": 13
    },
    {
     "cell_type": "code",
     "collapsed": false,
     "input": [
      "counts.to_csv('gene_counts.txt', sep='\\t', index=False, header=True)"
     ],
     "language": "python",
     "metadata": {},
     "outputs": [],
     "prompt_number": 14
    },
    {
     "cell_type": "code",
     "collapsed": false,
     "input": [
      "!head gene_counts.txt"
     ],
     "language": "python",
     "metadata": {},
     "outputs": [
      {
       "output_type": "stream",
       "stream": "stdout",
       "text": [
        "geneid\t4551nil\t4551MAP\t4698nil\t4698MAP\t4536nil\t4536MAP\t4685nil\t4685MAP\t4438nil\t4438MAP\t4699nil\t4699MAP\t4517nil\t4517MAP\t4532nil\t4532MAP\r\n",
        "ENSBTAG00000000005\t235\t177\t351\t284\t1634\t759\t535\t1098\t60\t206\t114\t490\t295\t291\t1160\t1007\r\n",
        "ENSBTAG00000000008\t0\t0\t6\t0\t0\t1\t0\t0\t2\t0\t1\t4\t0\t0\t2\t0\r\n",
        "ENSBTAG00000000009\t22\t5\t16\t43\t266\t116\t53\t128\t6\t13\t16\t69\t41\t17\t144\t144\r\n",
        "ENSBTAG00000000010\t136\t112\t170\t116\t409\t252\t129\t237\t60\t67\t137\t178\t121\t105\t323\t457\r\n",
        "ENSBTAG00000000011\t5\t0\t1\t6\t4\t0\t0\t2\t7\t0\t5\t1\t3\t0\t3\t1\r\n",
        "ENSBTAG00000000012\t9\t12\t22\t20\t60\t48\t31\t50\t17\t14\t3\t18\t8\t9\t34\t39\r\n",
        "ENSBTAG00000000013\t153\t132\t241\t280\t719\t341\t287\t503\t93\t145\t191\t354\t290\t244\t488\t359\r\n",
        "ENSBTAG00000000014\t408\t434\t590\t356\t1205\t730\t641\t566\t245\t312\t525\t609\t608\t341\t1149\t1405\r\n",
        "ENSBTAG00000000015\t20\t23\t42\t58\t164\t127\t46\t175\t12\t21\t9\t61\t43\t16\t143\t101\r\n"
       ]
      }
     ],
     "prompt_number": 15
    },
    {
     "cell_type": "code",
     "collapsed": false,
     "input": [
      "fc_pvalue_high = []\n",
      "fc_pvalue_low = []\n",
      "pvalue_high = []\n",
      "pvalue_low = []\n",
      "allpvalue = []\n",
      "fc_pvalue_high_2fold = []\n",
      "pvalue_high_2fold = []\n",
      "\n",
      "for line in open('group3-DGE-results.txt'):\n",
      "    cols = line.split()\n",
      "    if (cols[1] == 'NA') or (cols[4] == 'NA'):\n",
      "        continue\n",
      "    if (cols[4] == '0'):\n",
      "        continue\n",
      "    fc = float(cols[1])\n",
      "    allpvalue.append(float(cols[4]))\n",
      "    pvalue = log10(float(cols[4])) * -1\n",
      "    if pvalue < 3.0:\n",
      "        pvalue_low.append(pvalue)\n",
      "        fc_pvalue_low.append(fc)\n",
      "    else:\n",
      "        pvalue_high.append(pvalue)\n",
      "        fc_pvalue_high.append(fc)\n",
      "        if abs(fc) >= 1.0:\n",
      "            fc_pvalue_high_2fold.append(fc)\n",
      "            pvalue_high_2fold.append(pvalue)"
     ],
     "language": "python",
     "metadata": {},
     "outputs": [],
     "prompt_number": 33
    },
    {
     "cell_type": "code",
     "collapsed": false,
     "input": [
      "figsize(8,8)\n",
      "plot(fc_pvalue_low, pvalue_low, '.', color='red')\n",
      "plot(fc_pvalue_high, pvalue_high, '.', color='orange')\n",
      "plot(fc_pvalue_high_2fold, pvalue_high_2fold, '.', color='green')\n",
      "xlim(-2, 2)\n",
      "ylim(0,10)\n",
      "ylabel('-Log10(corrected p-value)', size=16)\n",
      "xlabel('Normalized Log2 Fold Change', size=16)\n",
      "savefig('group3_edgeR_volcano1.png')\n",
      "show()"
     ],
     "language": "python",
     "metadata": {},
     "outputs": [
      {
       "output_type": "display_data",
       "png": "[encoded data removed]"
      }
     ],
     "prompt_number": 34
    },
    {
     "cell_type": "code",
     "collapsed": false,
     "input": [],
     "language": "python",
     "metadata": {},
     "outputs": []
    }
   ],
   "metadata": {}
  }
 ]
}