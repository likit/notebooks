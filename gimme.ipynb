{
 "metadata": {
  "name": "analysis"
 },
 "nbformat": 3,
 "nbformat_minor": 0,
 "worksheets": [
  {
   "cells": [
    {
     "cell_type": "markdown",
     "metadata": {},
     "source": [
      "RNA-Seq detects many novel splice variants :: Analysis\n",
      "====================================================="
     ]
    },
    {
     "cell_type": "markdown",
     "metadata": {},
     "source": [
      "##Prerequisite\n",
      "\n",
      "Before running the pipeline please make sure all required software are installed.\n",
      "\n",
      "+ Blat\n",
      "+ BLAST+ 2.2.25\n",
      "+ Bowtie2\n",
      "+ Tophat2\n",
      "+ Cufflinks2\n",
      "+ Seqclean\n",
      "+ ESTscan 3.0.3\n",
      "+ Gimme package 0.9 (including Networkx, Pysam, Pygr)\n",
      "+ Python 2.7\n",
      "+ Biopython\n",
      "+ Velvet 1.2.03\n",
      "+ Oases 0.2.06\n",
      "+ CDHIT 4.5.6\n",
      "+ Condetri 2.1\n",
      "+ Samtools 0.1.18"
     ]
    },
    {
     "cell_type": "code",
     "collapsed": false,
     "input": [
      "figure(figsize(6,6))"
     ],
     "language": "python",
     "metadata": {},
     "outputs": [
      {
       "output_type": "pyout",
       "prompt_number": 280,
       "text": [
        "<matplotlib.figure.Figure at 0x113900110>"
       ]
      }
     ],
     "prompt_number": 280
    },
    {
     "cell_type": "markdown",
     "metadata": {},
     "source": [
      "Reads Quality Filtering and trimming\n",
      "------------------------------------"
     ]
    },
    {
     "cell_type": "markdown",
     "metadata": {},
     "source": [
      "Reads are trimmed and filtered by condetri version 2.1 with this command and parameters.\n",
      "\n",
      "__$ perl condetri_v2.1.pl -fastq1=line6u.single.fastq -cutfirst 10 -sc=33__\n",
      "\n",
      "__...__"
     ]
    },
    {
     "cell_type": "markdown",
     "metadata": {},
     "source": [
      "Global Assembly\n",
      "---------------"
     ]
    },
    {
     "cell_type": "markdown",
     "metadata": {},
     "source": [
      "Reads are assembled by Velvet 1.2.03 and Oases 0.2.06 with k-mers = 21-31 with default parameters."
     ]
    },
    {
     "cell_type": "markdown",
     "metadata": {},
     "source": [
      "__$ velveth line6u_single_global_trimmed 21,33,2 -fastq -short line6u.single_trim.fastq__\n",
      "\n",
      "__$ velvetg line6u_single_global_trimmed_21 -read_trkg yes__\n",
      "\n",
      "__$ oases line6u_single_global_trimmed_21__\n",
      "\n",
      "__...__"
     ]
    },
    {
     "cell_type": "markdown",
     "metadata": {},
     "source": [
      "##Different isoforms from different hash lengths"
     ]
    },
    {
     "cell_type": "markdown",
     "metadata": {},
     "source": [
      "__$ python /Users/Likit/gimme/src/utils/compare_junction.py --all -p global_k21.best.psl__\n",
      "\n",
      "__$ python /Users/Likit/gimme/src/utils/compare_junction.py --all -p global_k31.best.psl__"
     ]
    },
    {
     "cell_type": "code",
     "collapsed": false,
     "input": [
      "k21_junc = !cat global_k21.best.psl_all_sp.txt\n",
      "k31_junc = !cat global_k31.best.psl_all_sp.txt\n",
      "k21_junc = set(k21_junc)\n",
      "k31_junc = set(k31_junc)"
     ],
     "language": "python",
     "metadata": {},
     "outputs": [],
     "prompt_number": 359
    },
    {
     "cell_type": "code",
     "collapsed": false,
     "input": [
      "diff_junc = list(k21_junc.difference(k31_junc).intersection(ensbljnc))"
     ],
     "language": "python",
     "metadata": {},
     "outputs": [],
     "prompt_number": 373
    },
    {
     "cell_type": "code",
     "collapsed": false,
     "input": [
      "diff_junc[50:80]"
     ],
     "language": "python",
     "metadata": {},
     "outputs": [
      {
       "output_type": "pyout",
       "prompt_number": 374,
       "text": [
        "['chr25:1549630-1550098',\n",
        " 'chr4:11301652-11308411',\n",
        " 'chr27:1596800-1596942',\n",
        " 'chr13:17399095-17411416',\n",
        " 'chr6:10788613-10789573',\n",
        " 'chr14:12557885-12558606',\n",
        " 'chr1:184439079-184451026',\n",
        " 'chr19:7794470-7807344',\n",
        " 'chr10:1379490-1380271',\n",
        " 'chr17:8646183-8646477',\n",
        " 'chr10:13130949-13131455',\n",
        " 'chr2:105559618-105560365',\n",
        " 'chr2:63853666-63856434',\n",
        " 'chr9:6683054-6684525',\n",
        " 'chr1:58307256-58313149',\n",
        " 'chr1:54152995-54155674',\n",
        " 'chr1:111044273-111047103',\n",
        " 'chr27:1589629-1590427',\n",
        " 'chr9:16242861-16243397',\n",
        " 'chr2:119766907-119769737',\n",
        " 'chr14:13008894-13009345',\n",
        " 'chr5:633924-635048',\n",
        " 'chr5:379385-379468',\n",
        " 'chrE22C19W28_E50C23:134309-134863',\n",
        " 'chr3:84309136-84309530',\n",
        " 'chr3:16962660-16962775',\n",
        " 'chr6:12517874-12519283',\n",
        " 'chrZ:64982690-64984478',\n",
        " 'chr3:32127308-32128000',\n",
        " 'chr2:68835903-68836349']"
       ]
      }
     ],
     "prompt_number": 374
    },
    {
     "cell_type": "markdown",
     "metadata": {},
     "source": [
      "Local Assembly\n",
      "--------------"
     ]
    },
    {
     "cell_type": "markdown",
     "metadata": {},
     "source": [
      "Reads are mapped to galGal3 genome by Tophat version 2.0.\n",
      "\n",
      "__$ tophat2 -p 8 -o tophat/line6u_single_trimmed_chick3 ~/chick3_bowtie2 line6u.single_trim.fastq__\n",
      "\n",
      "__...__"
     ]
    },
    {
     "cell_type": "markdown",
     "metadata": {},
     "source": [
      "Then reads mapped to each chromosome are extracted from accepted_hits.bam with the following command.\n",
      "\n",
      "Note, chick3.list.txt is a list of chromosome names without >."
     ]
    },
    {
     "cell_type": "code",
     "collapsed": false,
     "input": [
      "!head -5 chick3.list.txt"
     ],
     "language": "python",
     "metadata": {},
     "outputs": [
      {
       "output_type": "stream",
       "stream": "stdout",
       "text": [
        "chr10\r\n",
        "chr10_random\r\n",
        "chr11\r\n",
        "chr11_random\r\n",
        "chr12\r\n"
       ]
      }
     ],
     "prompt_number": 213
    },
    {
     "cell_type": "markdown",
     "metadata": {},
     "source": [
      "__$ cat chick3.list.txt | xargs -0 -I {} -d \"\\n\" samtools view accepted_hits.bam {} -o {}.sam__"
     ]
    },
    {
     "cell_type": "markdown",
     "metadata": {},
     "source": [
      "chr32.sam, chr11_random.sam and chr12_random.sam are removed from analysis because they have no alignments.\n",
      "\n",
      "Reads mapped to each chromosomes are assembled by Velvet and Oases respectively with __-short -sam__ options."
     ]
    },
    {
     "cell_type": "markdown",
     "metadata": {},
     "source": [
      "Unique sequences between Global and Local assembly\n",
      "------------------------------------------------\n",
      "\n",
      "Reconstructed transcripts from global and local assembly are cleaned and only non-redundant transcripts are compared within datasets."
     ]
    },
    {
     "cell_type": "markdown",
     "metadata": {},
     "source": [
      "__$ seqclean se_6u_local_chick3.fa -c 8__"
     ]
    },
    {
     "cell_type": "markdown",
     "metadata": {},
     "source": [
      "__$ cd-hit-est -T 0 -d 0 -c 1.0 -M 8000 -i se_6u_local_chick3.fa.clean -o se_6u_local_chick3.clean.nr.fa__"
     ]
    },
    {
     "cell_type": "markdown",
     "metadata": {},
     "source": [
      "Unique regions from global and local assembly are found by __assembly-diff-2.py__ from a khmer package."
     ]
    },
    {
     "cell_type": "heading",
     "level": 3,
     "metadata": {},
     "source": [
      "Number of sequences with unique regions"
     ]
    },
    {
     "cell_type": "code",
     "collapsed": false,
     "input": [
      "!grep \">\" se_6u_local_chick3.clean.nr.fa.uniq | sed 's/-/_/' | cut -f 1 -d \"-\" | sort | uniq | wc -l"
     ],
     "language": "python",
     "metadata": {},
     "outputs": [
      {
       "output_type": "stream",
       "stream": "stdout",
       "text": [
        "    1690\r\n"
       ]
      }
     ],
     "prompt_number": 120
    },
    {
     "cell_type": "code",
     "collapsed": false,
     "input": [
      "!grep \">\" se_6i_local_chick3.clean.nr.fa.uniq | sed 's/-/_/' | cut -f 1 -d \"-\" | sort | uniq | wc -l"
     ],
     "language": "python",
     "metadata": {},
     "outputs": [
      {
       "output_type": "stream",
       "stream": "stdout",
       "text": [
        "    2751\r\n"
       ]
      }
     ],
     "prompt_number": 20
    },
    {
     "cell_type": "code",
     "collapsed": false,
     "input": [
      "!grep \">\" se_7u_local_chick3.clean.nr.fa.uniq | sed 's/-/_/' | cut -f 1 -d \"-\" | sort | uniq | wc -l"
     ],
     "language": "python",
     "metadata": {},
     "outputs": [
      {
       "output_type": "stream",
       "stream": "stdout",
       "text": [
        "    2140\r\n"
       ]
      }
     ],
     "prompt_number": 21
    },
    {
     "cell_type": "code",
     "collapsed": false,
     "input": [
      "!grep \">\" se_7i_local_chick3.clean.nr.fa.uniq | sed 's/-/_/' | cut -f 1 -d \"-\" | sort | uniq | wc -l"
     ],
     "language": "python",
     "metadata": {},
     "outputs": [
      {
       "output_type": "stream",
       "stream": "stdout",
       "text": [
        "    1652\r\n"
       ]
      }
     ],
     "prompt_number": 22
    },
    {
     "cell_type": "code",
     "collapsed": false,
     "input": [
      "!grep \">\" se_6u_global.fa.clean.nr.uniq | sed 's/-/_/' | cut -f 1 -d \"-\" | sort | uniq | wc -l"
     ],
     "language": "python",
     "metadata": {},
     "outputs": [
      {
       "output_type": "stream",
       "stream": "stdout",
       "text": [
        "   11496\r\n"
       ]
      }
     ],
     "prompt_number": 25
    },
    {
     "cell_type": "code",
     "collapsed": false,
     "input": [
      "!grep \">\" se_6i_global.fa.clean.nr.uniq | sed 's/-/_/' | cut -f 1 -d \"-\" | sort | uniq | wc -l"
     ],
     "language": "python",
     "metadata": {},
     "outputs": [
      {
       "output_type": "stream",
       "stream": "stdout",
       "text": [
        "   12871\r\n"
       ]
      }
     ],
     "prompt_number": 26
    },
    {
     "cell_type": "code",
     "collapsed": false,
     "input": [
      "!grep \">\" se_7u_global.fa.clean.nr.uniq | sed 's/-/_/' | cut -f 1 -d \"-\" | sort | uniq | wc -l"
     ],
     "language": "python",
     "metadata": {},
     "outputs": [
      {
       "output_type": "stream",
       "stream": "stdout",
       "text": [
        "   11706\r\n"
       ]
      }
     ],
     "prompt_number": 27
    },
    {
     "cell_type": "code",
     "collapsed": false,
     "input": [
      "!grep \">\" se_7i_global.fa.clean.nr.uniq | sed 's/-/_/' | cut -f 1 -d \"-\" | sort | uniq | wc -l"
     ],
     "language": "python",
     "metadata": {},
     "outputs": [
      {
       "output_type": "stream",
       "stream": "stdout",
       "text": [
        "   12962\r\n"
       ]
      }
     ],
     "prompt_number": 28
    },
    {
     "cell_type": "markdown",
     "metadata": {},
     "source": [
      "##Homology search for unique sequences"
     ]
    },
    {
     "cell_type": "markdown",
     "metadata": {},
     "source": [
      "To find if a unique region from global or local assembly are part of a gene, we search for homologous sequences in mouse proteins using BLASTX. To obtain a significant search, we only select unique regions longer than 300bp.\n",
      "\n",
      "A list of matched sequences can be obtained from the following command."
     ]
    },
    {
     "cell_type": "code",
     "collapsed": false,
     "input": [
      "from Bio.Blast import NCBIXML"
     ],
     "language": "python",
     "metadata": {},
     "outputs": [],
     "prompt_number": 214
    },
    {
     "cell_type": "code",
     "collapsed": false,
     "input": [
      "def find_match(xml_file, output_file):\n",
      "    records = NCBIXML.parse(open(xml_file))\n",
      "    op = open(output_file, 'w')\n",
      "    for record in records:\n",
      "        if record.alignments: # if matched,\n",
      "            alm = record.alignments[0]\n",
      "            hsp = alm.hsps[0]\n",
      "            if hsp.expect < 1e-20:\n",
      "                print >> op, '%s\\t%s' % (record.query, alm.title)\n",
      "    op.close()"
     ],
     "language": "python",
     "metadata": {},
     "outputs": [],
     "prompt_number": 221
    },
    {
     "cell_type": "code",
     "collapsed": false,
     "input": [
      "find_match('se_6u_local_chick3.clean.nr.fa.uniq.long.blastx.xml', 'se_6u_local_chick3.longuniq.blastx.out')\n",
      "find_match('se_6i_local_chick3.clean.nr.fa.uniq.long.blastx.xml', 'se_6i_local_chick3.longuniq.blastx.out')\n",
      "find_match('se_7u_local_chick3.clean.nr.fa.uniq.long.blastx.xml', 'se_7u_local_chick3.longuniq.blastx.out')\n",
      "find_match('se_7i_local_chick3.clean.nr.fa.uniq.long.blastx.xml', 'se_7i_local_chick3.longuniq.blastx.out')"
     ],
     "language": "python",
     "metadata": {},
     "outputs": [],
     "prompt_number": 233
    },
    {
     "cell_type": "code",
     "collapsed": false,
     "input": [
      "!wc se_6u_local_chick3.longuniq.blastx.out"
     ],
     "language": "python",
     "metadata": {},
     "outputs": [
      {
       "output_type": "stream",
       "stream": "stdout",
       "text": [
        "      39     318    5031 se_6u_local_chick3.longuniq.blastx.out\r\n"
       ]
      }
     ],
     "prompt_number": 234
    },
    {
     "cell_type": "code",
     "collapsed": false,
     "input": [
      "!wc se_6i_local_chick3.longuniq.blastx.out"
     ],
     "language": "python",
     "metadata": {},
     "outputs": [
      {
       "output_type": "stream",
       "stream": "stdout",
       "text": [
        "      40     370    5460 se_6i_local_chick3.longuniq.blastx.out\r\n"
       ]
      }
     ],
     "prompt_number": 235
    },
    {
     "cell_type": "code",
     "collapsed": false,
     "input": [
      "!wc se_7u_local_chick3.longuniq.blastx.out"
     ],
     "language": "python",
     "metadata": {},
     "outputs": [
      {
       "output_type": "stream",
       "stream": "stdout",
       "text": [
        "      52     438    6768 se_7u_local_chick3.longuniq.blastx.out\r\n"
       ]
      }
     ],
     "prompt_number": 236
    },
    {
     "cell_type": "code",
     "collapsed": false,
     "input": [
      "!wc se_7i_local_chick3.longuniq.blastx.out"
     ],
     "language": "python",
     "metadata": {},
     "outputs": [
      {
       "output_type": "stream",
       "stream": "stdout",
       "text": [
        "      50     430    6523 se_7i_local_chick3.longuniq.blastx.out\r\n"
       ]
      }
     ],
     "prompt_number": 237
    },
    {
     "cell_type": "code",
     "collapsed": false,
     "input": [
      "!grep \">\" se_6u_local_chick3.clean.nr.fa.uniq.long | wc"
     ],
     "language": "python",
     "metadata": {},
     "outputs": [
      {
       "output_type": "stream",
       "stream": "stdout",
       "text": [
        "     104     104    5000\r\n"
       ]
      }
     ],
     "prompt_number": 257
    },
    {
     "cell_type": "code",
     "collapsed": false,
     "input": [
      "!grep \">\" se_6i_local_chick3.clean.nr.fa.uniq.long | wc"
     ],
     "language": "python",
     "metadata": {},
     "outputs": [
      {
       "output_type": "stream",
       "stream": "stdout",
       "text": [
        "     104     104    5015\r\n"
       ]
      }
     ],
     "prompt_number": 258
    },
    {
     "cell_type": "code",
     "collapsed": false,
     "input": [
      "!grep \">\" se_7u_local_chick3.clean.nr.fa.uniq.long | wc"
     ],
     "language": "python",
     "metadata": {},
     "outputs": [
      {
       "output_type": "stream",
       "stream": "stdout",
       "text": [
        "     136     136    6523\r\n"
       ]
      }
     ],
     "prompt_number": 259
    },
    {
     "cell_type": "code",
     "collapsed": false,
     "input": [
      "!grep \">\" se_7i_local_chick3.clean.nr.fa.uniq.long | wc"
     ],
     "language": "python",
     "metadata": {},
     "outputs": [
      {
       "output_type": "stream",
       "stream": "stdout",
       "text": [
        "     152     152    7322\r\n"
       ]
      }
     ],
     "prompt_number": 260
    },
    {
     "cell_type": "code",
     "collapsed": false,
     "input": [
      "print \"%.2f unique sequences from line6u local assembly match mouse proteins.\" % (39/104.0 * 100)"
     ],
     "language": "python",
     "metadata": {},
     "outputs": [
      {
       "output_type": "stream",
       "stream": "stdout",
       "text": [
        "37.50 unique sequences from line6u local assembly match mouse proteins."
       ]
      },
      {
       "output_type": "stream",
       "stream": "stdout",
       "text": [
        "\n"
       ]
      }
     ],
     "prompt_number": 261
    },
    {
     "cell_type": "code",
     "collapsed": false,
     "input": [
      "print \"%.2f unique sequences from line6i local assembly match mouse proteins.\" % (40/104.0 * 100)"
     ],
     "language": "python",
     "metadata": {},
     "outputs": [
      {
       "output_type": "stream",
       "stream": "stdout",
       "text": [
        "38.46 unique sequences from line6i local assembly match mouse proteins.\n"
       ]
      }
     ],
     "prompt_number": 262
    },
    {
     "cell_type": "code",
     "collapsed": false,
     "input": [
      "print \"%.2f unique sequences from line7u local assembly match mouse proteins.\" % (52/136.0 * 100)"
     ],
     "language": "python",
     "metadata": {},
     "outputs": [
      {
       "output_type": "stream",
       "stream": "stdout",
       "text": [
        "38.24 unique sequences from line7u local assembly match mouse proteins.\n"
       ]
      }
     ],
     "prompt_number": 263
    },
    {
     "cell_type": "code",
     "collapsed": false,
     "input": [
      "print \"%.2f unique sequences from line7i local assembly match mouse proteins.\" % (50/152.0 * 100)"
     ],
     "language": "python",
     "metadata": {},
     "outputs": [
      {
       "output_type": "stream",
       "stream": "stdout",
       "text": [
        "32.89 unique sequences from line7i local assembly match mouse proteins.\n"
       ]
      }
     ],
     "prompt_number": 264
    },
    {
     "cell_type": "code",
     "collapsed": false,
     "input": [
      "find_match('se_6u_global.fa.clean.nr.uniq.long.blastx.xml', 'se_6u_global.longuniq.blastx.out')"
     ],
     "language": "python",
     "metadata": {},
     "outputs": [],
     "prompt_number": 242
    },
    {
     "cell_type": "code",
     "collapsed": false,
     "input": [
      "find_match('se_6i_global.fa.clean.nr.uniq.long.blastx.xml', 'se_6i_global.longuniq.blastx.out')"
     ],
     "language": "python",
     "metadata": {},
     "outputs": [],
     "prompt_number": 239
    },
    {
     "cell_type": "code",
     "collapsed": false,
     "input": [
      "find_match('se_7u_global.fa.clean.nr.uniq.long.blastx.xml', 'se_7u_global.longuniq.blastx.out')"
     ],
     "language": "python",
     "metadata": {},
     "outputs": [],
     "prompt_number": 240
    },
    {
     "cell_type": "code",
     "collapsed": false,
     "input": [
      "find_match('se_7i_global.fa.clean.nr.uniq.long.blastx.xml', 'se_7i_global.longuniq.blastx.out')"
     ],
     "language": "python",
     "metadata": {},
     "outputs": [],
     "prompt_number": 241
    },
    {
     "cell_type": "code",
     "collapsed": false,
     "input": [
      "!wc se_6u_global.longuniq.blastx.out"
     ],
     "language": "python",
     "metadata": {},
     "outputs": [
      {
       "output_type": "stream",
       "stream": "stdout",
       "text": [
        "    1322   11331  163078 se_6u_global.longuniq.blastx.out\r\n"
       ]
      }
     ],
     "prompt_number": 243
    },
    {
     "cell_type": "code",
     "collapsed": false,
     "input": [
      "!wc se_6i_global.longuniq.blastx.out"
     ],
     "language": "python",
     "metadata": {},
     "outputs": [
      {
       "output_type": "stream",
       "stream": "stdout",
       "text": [
        "    1514   12837  185926 se_6i_global.longuniq.blastx.out\r\n"
       ]
      }
     ],
     "prompt_number": 246
    },
    {
     "cell_type": "code",
     "collapsed": false,
     "input": [
      "!wc se_7u_global.longuniq.blastx.out"
     ],
     "language": "python",
     "metadata": {},
     "outputs": [
      {
       "output_type": "stream",
       "stream": "stdout",
       "text": [
        "    1560   13293  192083 se_7u_global.longuniq.blastx.out\r\n"
       ]
      }
     ],
     "prompt_number": 247
    },
    {
     "cell_type": "code",
     "collapsed": false,
     "input": [
      "!wc se_7i_global.longuniq.blastx.out"
     ],
     "language": "python",
     "metadata": {},
     "outputs": [
      {
       "output_type": "stream",
       "stream": "stdout",
       "text": [
        "    1390   11810  170384 se_7i_global.longuniq.blastx.out\r\n"
       ]
      }
     ],
     "prompt_number": 248
    },
    {
     "cell_type": "code",
     "collapsed": false,
     "input": [
      "!grep \">\" se_6u_global.fa.clean.nr.uniq.long | wc"
     ],
     "language": "python",
     "metadata": {},
     "outputs": [
      {
       "output_type": "stream",
       "stream": "stdout",
       "text": [
        "    2132    2132   87021\r\n"
       ]
      }
     ],
     "prompt_number": 244
    },
    {
     "cell_type": "code",
     "collapsed": false,
     "input": [
      "!grep \">\" se_6i_global.fa.clean.nr.uniq.long | wc"
     ],
     "language": "python",
     "metadata": {},
     "outputs": [
      {
       "output_type": "stream",
       "stream": "stdout",
       "text": [
        "    2499    2499  101934\r\n"
       ]
      }
     ],
     "prompt_number": 249
    },
    {
     "cell_type": "code",
     "collapsed": false,
     "input": [
      "!grep \">\" se_7u_global.fa.clean.nr.uniq.long | wc"
     ],
     "language": "python",
     "metadata": {},
     "outputs": [
      {
       "output_type": "stream",
       "stream": "stdout",
       "text": [
        "    2633    2633  107417\r\n"
       ]
      }
     ],
     "prompt_number": 250
    },
    {
     "cell_type": "code",
     "collapsed": false,
     "input": [
      "!grep \">\" se_7i_global.fa.clean.nr.uniq.long | wc"
     ],
     "language": "python",
     "metadata": {},
     "outputs": [
      {
       "output_type": "stream",
       "stream": "stdout",
       "text": [
        "    2409    2409   98346\r\n"
       ]
      }
     ],
     "prompt_number": 251
    },
    {
     "cell_type": "code",
     "collapsed": false,
     "input": [
      "print \"%.2f unique sequences from line6u global assembly match mouse proteins.\" % (1322/2132.0 * 100)"
     ],
     "language": "python",
     "metadata": {},
     "outputs": [
      {
       "output_type": "stream",
       "stream": "stdout",
       "text": [
        "62.01 unique sequences from line6u global assembly match mouse proteins."
       ]
      },
      {
       "output_type": "stream",
       "stream": "stdout",
       "text": [
        "\n"
       ]
      }
     ],
     "prompt_number": 245
    },
    {
     "cell_type": "code",
     "collapsed": false,
     "input": [
      "print \"%.2f unique sequences from line6i global assembly match mouse proteins.\" % (1514/2499.0 * 100)"
     ],
     "language": "python",
     "metadata": {},
     "outputs": [
      {
       "output_type": "stream",
       "stream": "stdout",
       "text": [
        "60.58 unique sequences from line6i global assembly match mouse proteins.\n"
       ]
      }
     ],
     "prompt_number": 253
    },
    {
     "cell_type": "code",
     "collapsed": false,
     "input": [
      "print \"%.2f unique sequences from line7u global assembly match mouse proteins.\" % (1560/2633.0 * 100)"
     ],
     "language": "python",
     "metadata": {},
     "outputs": [
      {
       "output_type": "stream",
       "stream": "stdout",
       "text": [
        "59.25 unique sequences from line7u global assembly match mouse proteins.\n"
       ]
      }
     ],
     "prompt_number": 254
    },
    {
     "cell_type": "code",
     "collapsed": false,
     "input": [
      "print \"%.2f unique sequences from line7i global assembly match mouse proteins.\" % (1390/2409.0 * 100)"
     ],
     "language": "python",
     "metadata": {},
     "outputs": [
      {
       "output_type": "stream",
       "stream": "stdout",
       "text": [
        "57.70 unique sequences from line7i global assembly match mouse proteins.\n"
       ]
      }
     ],
     "prompt_number": 255
    },
    {
     "cell_type": "markdown",
     "metadata": {},
     "source": [
      "Gene models construction\n",
      "------------------------"
     ]
    },
    {
     "cell_type": "markdown",
     "metadata": {},
     "source": [
      "Transcripts from all chromosomes are trimmed by seqclean using default parameters as mentioned above.\n",
      "\n",
      "Transcripts from global and local assembly are combined and redundant transcripts are removed by cd-hit-est with following command."
     ]
    },
    {
     "cell_type": "markdown",
     "metadata": {},
     "source": [
      "__$ cd-hit-est -T 0 -d 0 -c 1.0 -M 8000 -i all_single_gl_gal3.clean.fa -o all_single_gl_gal3.clean.nr.fa__"
     ]
    },
    {
     "cell_type": "markdown",
     "metadata": {},
     "source": [
      "Non-redundant transcripts are aligned to chicken genome galGal3 by BLAT with following command."
     ]
    },
    {
     "cell_type": "markdown",
     "metadata": {},
     "source": [
      "__$ blat -t=dna -q=dna -noHead -out=psl -mask=lower -extendThroughN -dots=1000 ~/chick_3.2bit all_single_gl_gal3.clean.nr.fa all_single_gl_gal3.clean.nr.psl__"
     ]
    },
    {
     "cell_type": "markdown",
     "metadata": {},
     "source": [
      "Alignments from BLAT are sorted by name and the best alignment of each transcript is selected."
     ]
    },
    {
     "cell_type": "markdown",
     "metadata": {},
     "source": [
      "__$ sort -k 10 all_single_gl_gal3.clean.nr.psl > all_single_gl_gal3.clean.nr.psl.sorted__\n",
      "\n",
      "__$ pslReps -nohead -singleHit all_single_gl_gal3.clean.nr.psl.sorted all_single_gl_gal3.clean.nr.best.psl info__"
     ]
    },
    {
     "cell_type": "markdown",
     "metadata": {},
     "source": [
      "\"info\" is supposed to be a file that contains repeat info. It is required to run pslReps but just a name of non-existing file will suffice."
     ]
    },
    {
     "cell_type": "markdown",
     "metadata": {},
     "source": [
      "Transcripts are assembled to build gene models using \"Gimme\" with default parameters."
     ]
    },
    {
     "cell_type": "markdown",
     "metadata": {},
     "source": [
      "__$ python ~/gimme/src/gimme.py all_single_gl_gal3.clean.nr.best.psl > line67.gal3.models.bed__"
     ]
    },
    {
     "cell_type": "markdown",
     "metadata": {},
     "source": [
      "To filter out redundant transcripts, we need to first obtain transcripts from gene models.\n",
      "\n",
      "Note, chick.fa is galGal3 genome sequence."
     ]
    },
    {
     "cell_type": "markdown",
     "metadata": {},
     "source": [
      "__$ python ~/gimme/src/utils/get_transcript_seq.py line67.gal3.models.bed ~/chick.fa > line67.gal3.models.fa__"
     ]
    },
    {
     "cell_type": "markdown",
     "metadata": {},
     "source": [
      "Again, redundant transcripts are removed using cd-hit-est."
     ]
    },
    {
     "cell_type": "markdown",
     "metadata": {},
     "source": [
      "__$ cd-hit-est -T 0 -d 0 -c 0.99 -M 8000 -i line67.gal3.models.fa -o line67.gal3.models.nr99.fa__"
     ]
    },
    {
     "cell_type": "markdown",
     "metadata": {},
     "source": [
      "__$ python ~/gimme/src/utils/cdhit_transcript.py line67.gal3.models.bed line67.gal3.models.nr99.fa > line67.gal3.models.nr99.bed__"
     ]
    },
    {
     "cell_type": "markdown",
     "metadata": {},
     "source": [
      "##Sequences not mapped to chicken genome"
     ]
    },
    {
     "cell_type": "code",
     "collapsed": false,
     "input": [
      "_all_transcripts = !grep \">\" all_single_gl_gal3.clean.nr.fa"
     ],
     "language": "python",
     "metadata": {},
     "outputs": [],
     "prompt_number": 326
    },
    {
     "cell_type": "code",
     "collapsed": false,
     "input": [
      "all_transcripts = set()\n",
      "for s in _all_transcripts:\n",
      "    all_transcripts.add(s.lstrip(\">\"))"
     ],
     "language": "python",
     "metadata": {},
     "outputs": [],
     "prompt_number": 327
    },
    {
     "cell_type": "code",
     "collapsed": false,
     "input": [
      "len(all_transcripts)"
     ],
     "language": "python",
     "metadata": {},
     "outputs": [
      {
       "output_type": "pyout",
       "prompt_number": 328,
       "text": [
        "334475"
       ]
      }
     ],
     "prompt_number": 328
    },
    {
     "cell_type": "code",
     "collapsed": false,
     "input": [
      "mapped_transcripts = !cut -f 10 all_single_gl_gal3.clean.nr.best.psl"
     ],
     "language": "python",
     "metadata": {},
     "outputs": [],
     "prompt_number": 331
    },
    {
     "cell_type": "code",
     "collapsed": false,
     "input": [
      "mapped_transcripts = set(mapped_transcripts)\n",
      "unmapped_transcrpts = all_transcripts.difference(mapped_transcripts)\n",
      "print \"Total unmapped transcripts = %d (%.2f%%)\" % (len(unmapped_transcrpts), len(unmapped_transcrpts)/float(len(all_transcripts))*100)"
     ],
     "language": "python",
     "metadata": {},
     "outputs": [
      {
       "output_type": "stream",
       "stream": "stdout",
       "text": [
        "Total unmapped transcripts = 38887 (11.63%)"
       ]
      },
      {
       "output_type": "stream",
       "stream": "stdout",
       "text": [
        "\n"
       ]
      }
     ],
     "prompt_number": 334
    },
    {
     "cell_type": "markdown",
     "metadata": {},
     "source": [
      "Mapping reads to gene models\n",
      "----------------------------"
     ]
    },
    {
     "cell_type": "markdown",
     "metadata": {},
     "source": [
      "First build bowtie2 index using bowtie-build command. Then run bowtie2 to map reads to gene models."
     ]
    },
    {
     "cell_type": "markdown",
     "metadata": {},
     "source": [
      "Single-end reads."
     ]
    },
    {
     "cell_type": "markdown",
     "metadata": {},
     "source": [
      "__$ bowtie2 -k 20 -p 4 -t -x line67.gal3.models.nr99.bowtie2 -U line6u.single_trim.fastq -S line6u.se.nr99.multimaps.sam__\n",
      "\n",
      "__...__"
     ]
    },
    {
     "cell_type": "markdown",
     "metadata": {},
     "source": [
      "Paired-end reads."
     ]
    },
    {
     "cell_type": "markdown",
     "metadata": {},
     "source": [
      "__$ bowtie2 -k 20 -p 4 -t --no-mixed -x line67.gal3.models.nr99.bowtie2 -1 line7u.pe.trim_1 -2 line7u.pe.trim_2 -S line7u.pe.nr99.multimaps.sam__\n",
      "\n",
      "__...__"
     ]
    },
    {
     "cell_type": "markdown",
     "metadata": {},
     "source": [
      "Results do not include reads mapped discordantly or unpair reads (--no-mixed)."
     ]
    },
    {
     "cell_type": "markdown",
     "metadata": {},
     "source": [
      "###Results\n",
      "\n",
      "####Single-end\n",
      "\n",
      "line6u 18,398,569 mapped reads (78.03%) of 23,579,552 reads.\n",
      "\n",
      "line6i 17,194,894 mapped reads (73.33%) of 23,448,981 reads.\n",
      "\n",
      "line7u 18,148,112 mapped reads (75.85%) of 23,925,809 reads.\n",
      "\n",
      "line7i 19,914,624 mapped reads (78.52%) of 25,362,567 reads."
     ]
    },
    {
     "cell_type": "markdown",
     "metadata": {},
     "source": [
      "####Paired-end\n",
      "line6u 21,641,202 mapped (concordantly) reads (77.65%) of 33,663,877 reads.\n",
      "\n",
      "line6i 18,556,277 mapped (concordantly) reads (77.61%) of 23,908,493 reads.\n",
      "\n",
      "line7u 25,670,333 mapped (concordantly) reads (77.97%) of 32,921,332 reads.\n",
      "\n",
      "line7i 26,988,536 mapped (concordantly) reads (78.27%) of 34,477,835 reads.\n",
      "\n",
      "Note, only reads with a mate are mapped to gene models."
     ]
    },
    {
     "cell_type": "markdown",
     "metadata": {},
     "source": [
      "Splice junctions\n",
      "----------------"
     ]
    },
    {
     "cell_type": "markdown",
     "metadata": {},
     "source": [
      "We can obtain a list of all splice junctions from each dataset with the following Python script."
     ]
    },
    {
     "cell_type": "markdown",
     "metadata": {},
     "source": [
      "__$ python  /Users/Likit/gimme/src/utils/compare_junction.py --all -p est.gal3.clean.best.psl__"
     ]
    },
    {
     "cell_type": "markdown",
     "metadata": {},
     "source": [
      "__$ python  /Users/Likit/gimme/src/utils/compare_junction.py --all -p mrna.gal3.clean.best.psl__"
     ]
    },
    {
     "cell_type": "markdown",
     "metadata": {},
     "source": [
      "__$ python  /Users/Likit/gimme/src/utils/compare_junction.py --all -b cufflinks.models.bed__"
     ]
    },
    {
     "cell_type": "markdown",
     "metadata": {},
     "source": [
      "__$ python  /Users/Likit/gimme/src/utils/compare_junction.py --all -b line67.gal3.models.nr99.bed__"
     ]
    },
    {
     "cell_type": "markdown",
     "metadata": {},
     "source": [
      "__$ python  /Users/Likit/gimme/src/utils/compare_junction.py --all -b Gallus_gallus.WASHUC2.64.fixed.bed__"
     ]
    },
    {
     "cell_type": "code",
     "collapsed": false,
     "input": [
      "!head -5 est.gal3.clean.best.psl_all_sp.txt"
     ],
     "language": "python",
     "metadata": {},
     "outputs": [
      {
       "output_type": "stream",
       "stream": "stdout",
       "text": [
        "chr6:10425858-10426678\t-\r\n",
        "chr19:6498550-6504122\t+\r\n",
        "chr6:10425858-10426678\t+\r\n",
        "chr3:16926534-16930305\t+\r\n",
        "chr10:270795-282753\t-\r\n"
       ]
      }
     ],
     "prompt_number": 113
    },
    {
     "cell_type": "markdown",
     "metadata": {},
     "source": [
      "Read all splice junctions from files for comparison."
     ]
    },
    {
     "cell_type": "code",
     "collapsed": false,
     "input": [
      "mrnajnc = !cut -f 1 mrna.gal3.clean.best.psl_all_sp.txt\n",
      "estjnc = !cut -f 1 est.gal3.clean.best.psl_all_sp.txt\n",
      "cuffjnc = !cut -f 1 cufflinks.models.bed_all_sp.txt\n",
      "gimmejnc = !cut -f 1 line67.gal3.models.nr99.bed_all_sp.txt\n",
      "ensbljnc = !cut -f 1 Gallus_gallus.WASHUC2.64.fixed.bed_all_sp.txt"
     ],
     "language": "python",
     "metadata": {},
     "outputs": [],
     "prompt_number": 114
    },
    {
     "cell_type": "code",
     "collapsed": false,
     "input": [
      "mrnajnc[:10]"
     ],
     "language": "python",
     "metadata": {},
     "outputs": [
      {
       "output_type": "pyout",
       "prompt_number": 115,
       "text": [
        "['chr1:34793691-34794328',\n",
        " 'chrZ:34240915-34242549',\n",
        " 'chr6:10425858-10426678',\n",
        " 'chr4:45163525-45165414',\n",
        " 'chr1:141171767-141173331',\n",
        " 'chr4:59730607-59734747',\n",
        " 'chr1:16391949-16399784',\n",
        " 'chr1:21933335-21933445',\n",
        " 'chrZ:28500815-28526416',\n",
        " 'chr14:7732752-7733816']"
       ]
      }
     ],
     "prompt_number": 115
    },
    {
     "cell_type": "code",
     "collapsed": false,
     "input": [
      "mrnajnc = set(mrnajnc)\n",
      "estjnc = set(estjnc)\n",
      "cuffjnc = set(cuffjnc)\n",
      "gimmejnc = set(gimmejnc)\n",
      "ensbljnc = set(ensbljnc)"
     ],
     "language": "python",
     "metadata": {},
     "outputs": [],
     "prompt_number": 116
    },
    {
     "cell_type": "markdown",
     "metadata": {},
     "source": [
      "Total splice junctions"
     ]
    },
    {
     "cell_type": "code",
     "collapsed": false,
     "input": [
      "print \"Total splice junctions from Gimme models = %d\" % len(gimmejnc)\n",
      "print \"Total splice junctions from ESTs = %d\" % len(estjnc)\n",
      "print \"Total splice junctions from Cufflinks = %d\" % len(cuffjnc)\n",
      "print \"Total splice junctions from mRNA = %d\" % len(mrnajnc)\n",
      "print \"Total splice junctions from Ensemble models = %d\" % len(ensbljnc)"
     ],
     "language": "python",
     "metadata": {},
     "outputs": [
      {
       "output_type": "stream",
       "stream": "stdout",
       "text": [
        "Total splice junctions from Gimme models = 100411"
       ]
      },
      {
       "output_type": "stream",
       "stream": "stdout",
       "text": [
        "\n",
        "Total splice junctions from ESTs = 194461\n",
        "Total splice junctions from Cufflinks = 109641\n",
        "Total splice junctions from mRNA = 73495\n",
        "Total splice junctions from Ensemble models = 152788\n"
       ]
      }
     ],
     "prompt_number": 117
    },
    {
     "cell_type": "code",
     "collapsed": false,
     "input": [
      "len(mrnajnc.difference(ensbljnc)), len(estjnc.difference(ensbljnc))"
     ],
     "language": "python",
     "metadata": {},
     "outputs": [
      {
       "output_type": "pyout",
       "prompt_number": 295,
       "text": [
        "(13641, 96775)"
       ]
      }
     ],
     "prompt_number": 295
    },
    {
     "cell_type": "code",
     "collapsed": false,
     "input": [
      "len(ensbljnc.intersection(cuffjnc.intersection(gimmejnc)))"
     ],
     "language": "python",
     "metadata": {},
     "outputs": [
      {
       "output_type": "pyout",
       "prompt_number": 204,
       "text": [
        "78535"
       ]
      }
     ],
     "prompt_number": 204
    },
    {
     "cell_type": "code",
     "collapsed": false,
     "input": [
      "len(cuffjnc.intersection(gimmejnc)) - len(ensbljnc.intersection(cuffjnc.intersection(gimmejnc)))"
     ],
     "language": "python",
     "metadata": {},
     "outputs": [
      {
       "output_type": "pyout",
       "prompt_number": 211,
       "text": [
        "9754"
       ]
      }
     ],
     "prompt_number": 211
    },
    {
     "cell_type": "markdown",
     "metadata": {},
     "source": [
      "Splice junctions supported by either mRNAs or ESTs."
     ]
    },
    {
     "cell_type": "code",
     "collapsed": false,
     "input": [
      "mrnasup = mrnajnc.intersection(gimmejnc)\n",
      "estsup = estjnc.intersection(gimmejnc)\n",
      "mrna_est_sup = mrnasup.union(estsup)\n",
      "print \"Gimme junctions with mRNAs or ESTs support = %d (%.2f%%)\" % (len(mrna_est_sup), len(mrnasup.union(estsup))/float(len(gimmejnc)) * 100)"
     ],
     "language": "python",
     "metadata": {},
     "outputs": [
      {
       "output_type": "stream",
       "stream": "stdout",
       "text": [
        "Gimme junctions with mRNAs or ESTs support = 81838 (81.50%)\n"
       ]
      }
     ],
     "prompt_number": 118
    },
    {
     "cell_type": "code",
     "collapsed": false,
     "input": [
      "cuff_mrnasup = mrnajnc.intersection(cuffjnc)\n",
      "cuff_estsup = estjnc.intersection(cuffjnc)\n",
      "cuff_mrna_est_sup = cuff_mrnasup.union(cuff_estsup)\n",
      "print \"Cufflinks junctions with mRNAs or ESTs support = %d (%.2f%%)\" % (len(cuff_mrna_est_sup), len(cuff_mrna_est_sup)/float(len(cuffjnc)) * 100)"
     ],
     "language": "python",
     "metadata": {},
     "outputs": [
      {
       "output_type": "stream",
       "stream": "stdout",
       "text": [
        "Cufflinks junctions with mRNAs or ESTs support = 86919 (79.28%)\n"
       ]
      }
     ],
     "prompt_number": 150
    },
    {
     "cell_type": "markdown",
     "metadata": {},
     "source": [
      "Splice junctions supported by Cufflinks."
     ]
    },
    {
     "cell_type": "code",
     "collapsed": false,
     "input": [
      "cuffsup = cuffjnc.intersection(gimmejnc)\n",
      "print \"Gimme splice junctions found in Cufflinks models = %d (%.2f%%)\" % (len(cuffsup), len(cuffsup)/float(len(gimmejnc)) * 100)"
     ],
     "language": "python",
     "metadata": {},
     "outputs": [
      {
       "output_type": "stream",
       "stream": "stdout",
       "text": [
        "Gimme splice junctions found in Cufflinks models = 88289 (87.93%)\n"
       ]
      }
     ],
     "prompt_number": 151
    },
    {
     "cell_type": "markdown",
     "metadata": {},
     "source": [
      "Splice junctions not supported by Cufflinks but ESTs or mRNAs."
     ]
    },
    {
     "cell_type": "code",
     "collapsed": false,
     "input": [
      "print \"Gimme junctions not found in Cufflinks models but supported by ESTs or mRNAs = %d (%.2f%%)\" % (len(mrna_est_sup.difference(cuffsup)), len(mrna_est_sup.difference(cuffsup))/float(len(gimmejnc) - len(cuffsup)) * 100)"
     ],
     "language": "python",
     "metadata": {},
     "outputs": [
      {
       "output_type": "stream",
       "stream": "stdout",
       "text": [
        "Gimme junctions not found in Cufflinks models but supported by ESTs or mRNAs = 5143 (42.43%)\n"
       ]
      }
     ],
     "prompt_number": 152
    },
    {
     "cell_type": "markdown",
     "metadata": {},
     "source": [
      "Ensembl junctions detected by Cufflinks and Gimme."
     ]
    },
    {
     "cell_type": "code",
     "collapsed": false,
     "input": [
      "print \"Cufflinks found %d junctions Ensembl models\" % len(cuffjnc.intersection(ensbljnc))\n",
      "print \"Gimme found %d junctions in Ensembl models\" % len(gimmejnc.intersection(ensbljnc))\n",
      "gimme_not_in_ensbl = gimmejnc.difference(ensbljnc)\n",
      "cuff_not_in_ensbl = cuffjnc.difference(ensbljnc)\n",
      "print \"Gimme junctions not in Ensembl but supported by ESTs = %d\" % len(gimme_not_in_ensbl.intersection(estjnc))\n",
      "print \"Cufflinks junctions not in Ensembl but supported by ESTs = %d\" % len(cuff_not_in_ensbl.intersection(estjnc))"
     ],
     "language": "python",
     "metadata": {},
     "outputs": [
      {
       "output_type": "stream",
       "stream": "stdout",
       "text": [
        "Cufflinks found 89403 junctions Ensembl models\n",
        "Gimme found 80790 junctions in Ensembl models"
       ]
      },
      {
       "output_type": "stream",
       "stream": "stdout",
       "text": [
        "\n",
        "Gimme junctions not in Ensembl but supported by ESTs = 9321"
       ]
      },
      {
       "output_type": "stream",
       "stream": "stdout",
       "text": [
        "\n",
        "Cufflinks junctions not in Ensembl but supported by ESTs = 8930\n"
       ]
      }
     ],
     "prompt_number": 235
    },
    {
     "cell_type": "code",
     "collapsed": false,
     "input": [
      "f = figure()\n",
      "ax = f.gca(frameon=False)\n",
      "rad3 = 1.0\n",
      "c1 = Circle((-1,0), 1.4, alpha=.5, fc='red', ec='w')\n",
      "c2 = Circle((1,0), 1.4, alpha=.5, fc='blue', ec='w')\n",
      "c3 = Circle((-0.1,1.2), 1.4, alpha=.5, fc='grey', ec='w')\n",
      "ax.add_patch(c1)\n",
      "ax.add_patch(c2)\n",
      "ax.add_patch(c3)\n",
      "ax.set_xlim(-3,3)\n",
      "ax.set_ylim(-3,3)\n",
      "text(-0.3,0,'78,535')  # all common junctions\n",
      "text(-1,0.6,'10,868')  # cufflinks\n",
      "text(0.5,0.6,'2,255')  # gimme\n",
      "text(-0.3,1.5,'61,130') # Ensembl only\n",
      "text(-2,-0.4,'10,484')\n",
      "text(1,-0.4,'9,867')\n",
      "text(-0.2,-0.6,'9,754')\n",
      "text(-0.8,2.7, 'Chicken Ensembl', size=14)\n",
      "text(1.8,-1.6,'Assembly', size=14)\n",
      "text(-2,-1.8,'Cufflinks', size=14)\n",
      "ax.yaxis.set_visible(False)\n",
      "ax.xaxis.set_visible(False)\n",
      "savefig('chick_venn.pdf')\n",
      "show()"
     ],
     "language": "python",
     "metadata": {},
     "outputs": [
      {
       "output_type": "display_data",
       "png": "[encoded data removed]"
      }
     ],
     "prompt_number": 289
    },
    {
     "cell_type": "code",
     "collapsed": false,
     "input": [
      "len(estjnc.union(mrnajnc).difference(ensbljnc))"
     ],
     "language": "python",
     "metadata": {},
     "outputs": [
      {
       "output_type": "pyout",
       "prompt_number": 268,
       "text": [
        "100606"
       ]
      }
     ],
     "prompt_number": 268
    },
    {
     "cell_type": "code",
     "collapsed": false,
     "input": [
      "len(cuff_not_in_ensbl), len(gimme_not_in_ensbl)"
     ],
     "language": "python",
     "metadata": {},
     "outputs": [
      {
       "output_type": "pyout",
       "prompt_number": 224,
       "text": [
        "(20238, 19621)"
       ]
      }
     ],
     "prompt_number": 224
    },
    {
     "cell_type": "code",
     "collapsed": false,
     "input": [
      "est_and_mrna = estjnc.union(mrnajnc).difference(ensbljnc)\n",
      "len(est_and_mrna.intersection(cuff_not_in_ensbl.intersection(gimme_not_in_ensbl)))"
     ],
     "language": "python",
     "metadata": {},
     "outputs": [
      {
       "output_type": "pyout",
       "prompt_number": 269,
       "text": [
        "6364"
       ]
      }
     ],
     "prompt_number": 269
    },
    {
     "cell_type": "code",
     "collapsed": false,
     "input": [
      "len(cuff_not_in_ensbl.intersection(gimme_not_in_ensbl).difference(est_and_mrna))"
     ],
     "language": "python",
     "metadata": {},
     "outputs": [
      {
       "output_type": "pyout",
       "prompt_number": 270,
       "text": [
        "3390"
       ]
      }
     ],
     "prompt_number": 270
    },
    {
     "cell_type": "code",
     "collapsed": false,
     "input": [
      "len(cuff_not_in_ensbl.intersection(est_and_mrna)), len(gimme_not_in_ensbl.intersection(est_and_mrna))"
     ],
     "language": "python",
     "metadata": {},
     "outputs": [
      {
       "output_type": "pyout",
       "prompt_number": 271,
       "text": [
        "(9201, 9676)"
       ]
      }
     ],
     "prompt_number": 271
    },
    {
     "cell_type": "code",
     "collapsed": false,
     "input": [
      "f = figure()\n",
      "ax = f.gca(frameon=False)\n",
      "rad3 = 1.0\n",
      "c1 = Circle((-1,0), 1.4, alpha=.5, fc='red', ec='w')\n",
      "c2 = Circle((1,0), 1.4, alpha=.5, fc='blue', ec='w')\n",
      "c3 = Circle((-0.1,1.2), 1.4, alpha=.5, fc='orange', ec='w')\n",
      "ax.add_patch(c1)\n",
      "ax.add_patch(c2)\n",
      "ax.add_patch(c3)\n",
      "ax.set_xlim(-3,3)\n",
      "ax.set_ylim(-3,3)\n",
      "text(-0.3,0,'6,364')  # all common junctions\n",
      "text(-1,0.6,'2,837')  # cufflinks\n",
      "text(0.5,0.6,'3,312')  # gimme\n",
      "text(-0.3,1.5,'88,093') # ESTs and mRNAs only\n",
      "text(-2,-0.4,'7,647')\n",
      "text(1,-0.4,'6,555')\n",
      "text(-0.2,-0.5,'3,390')\n",
      "text(-1.5,2.7, 'Chicken ESTs and mRNAs\\n(not in Ensembl)', size=14)\n",
      "text(1.8,-1.6,'Assembly', size=14)\n",
      "text(-2,-1.8,'Cufflinks', size=14)\n",
      "ax.yaxis.set_visible(False)\n",
      "ax.xaxis.set_visible(False)\n",
      "savefig('chick_est_venn.pdf')\n",
      "show()"
     ],
     "language": "python",
     "metadata": {},
     "outputs": [
      {
       "output_type": "display_data",
       "png": "[encoded data removed]"
      }
     ],
     "prompt_number": 290
    },
    {
     "cell_type": "markdown",
     "metadata": {},
     "source": [
      "More splice junctions not in Ensembl from Assembly are supported by ESTs than those from Cufflinks."
     ]
    },
    {
     "cell_type": "markdown",
     "metadata": {},
     "source": [
      "###Reads mapped to splice junctions"
     ]
    },
    {
     "cell_type": "markdown",
     "metadata": {},
     "source": [
      "Number of reads mapped to a splice junction is found by the following script.\n",
      "\n",
      "__$ python ~/gimme/src/utils/count_spliced_reads.py line67.gal3.models.nr99.bed line6u.se.nr99.multimaps.sorted.bam > line6u.single.junctions.reads.count.txt__\n",
      "\n",
      "__...__\n",
      "\n",
      "Note, BAM file need to be sorted and indexed."
     ]
    },
    {
     "cell_type": "code",
     "collapsed": false,
     "input": [
      "line6u_cnts = !cat line6u.se.junctions.reads.count.txt\n",
      "line6i_cnts = !cat line6i.se.junctions.reads.count.txt\n",
      "line7u_cnts = !cat line7u.se.junctions.reads.count.txt\n",
      "line7i_cnts = !cat line7i.se.junctions.reads.count.txt"
     ],
     "language": "python",
     "metadata": {},
     "outputs": [],
     "prompt_number": 146
    },
    {
     "cell_type": "code",
     "collapsed": false,
     "input": [
      "junctions = {}\n",
      "for d in [line6u_cnts, line6i_cnts, line7u_cnts, line7i_cnts]:\n",
      "    for item in d:\n",
      "        jnct, cnt = item.split('\\t')\n",
      "        junctions[jnct] = junctions.get(jnct, 0) + int(cnt)"
     ],
     "language": "python",
     "metadata": {},
     "outputs": [],
     "prompt_number": 139
    },
    {
     "cell_type": "code",
     "collapsed": false,
     "input": [
      "noreads = [(j, c) for j,c in junctions.iteritems() if c == 0 and j in gimmejnc]\n",
      "withreads = [(j, c) for j, c in junctions.iteritems() if c > 0 and j in gimmejnc]\n",
      "threereads = [(j, c) for j, c in junctions.iteritems() if c > 0 and c <=3 and j in gimmejnc]\n",
      "print len(withreads), len(noreads), len(noreads)/float(len(withreads)) * 100.0, '%'\n",
      "print len(withreads), len(threereads), len(threereads)/float(len(withreads)) * 100.0, '%'"
     ],
     "language": "python",
     "metadata": {},
     "outputs": [
      {
       "output_type": "stream",
       "stream": "stdout",
       "text": [
        "100316 95 0.0947007456438 %\n",
        "100316 448 0.446588779457 %\n"
       ]
      }
     ],
     "prompt_number": 140
    },
    {
     "cell_type": "code",
     "collapsed": false,
     "input": [
      "from scipy.stats import cumfreq\n",
      "sorted_counts = sorted([v for v in junctions.itervalues()])\n",
      "cumfreqs, lowlim, binsize, extrapoints = cumfreq(sorted_counts, max(sorted_counts))\n",
      "norm_cumfreqs = cumfreqs[:1000] / max(cumfreqs)\n",
      "plot(norm_cumfreqs, '.', linewidth=1.5)\n",
      "xlabel('mapped reads')\n",
      "ylabel('splice junction')\n",
      "xscale('log')\n",
      "ylim(0,1.0)\n",
      "yticks(arange(0, 1.1, 0.1))\n",
      "xlim(0, 1000)\n",
      "grid()\n",
      "savefig('cdf_single_splice.pdf')"
     ],
     "language": "python",
     "metadata": {},
     "outputs": [
      {
       "output_type": "display_data",
       "png": "[encoded data removed]"
      }
     ],
     "prompt_number": 291
    },
    {
     "cell_type": "code",
     "collapsed": false,
     "input": [
      "fourreads = set([j for j, c in junctions.iteritems() if c > 3])"
     ],
     "language": "python",
     "metadata": {},
     "outputs": [],
     "prompt_number": 142
    },
    {
     "cell_type": "code",
     "collapsed": false,
     "input": [
      "print \"%d junctions supported by ESTs or RNAs.\" % len(mrna_est_sup)"
     ],
     "language": "python",
     "metadata": {},
     "outputs": [
      {
       "output_type": "stream",
       "stream": "stdout",
       "text": [
        "81838 junctions supported by ESTs or RNAs.\n"
       ]
      }
     ],
     "prompt_number": 143
    },
    {
     "cell_type": "code",
     "collapsed": false,
     "input": [
      "print \"%d junctions with ESTs or mRNAs support have four or more reads\" % (len(mrna_est_sup.intersection(fourreads)))"
     ],
     "language": "python",
     "metadata": {},
     "outputs": [
      {
       "output_type": "stream",
       "stream": "stdout",
       "text": [
        "81684 junctions with ESTs or mRNAs support have four or more reads\n"
       ]
      }
     ],
     "prompt_number": 144
    },
    {
     "cell_type": "code",
     "collapsed": false,
     "input": [
      "print \"%d novel junctions with four reads\" % len(gimmejnc.difference(mrna_est_sup).intersection(fourreads))"
     ],
     "language": "python",
     "metadata": {},
     "outputs": [
      {
       "output_type": "stream",
       "stream": "stdout",
       "text": [
        "18184 novel junctions with four reads\n"
       ]
      }
     ],
     "prompt_number": 145
    },
    {
     "cell_type": "markdown",
     "metadata": {},
     "source": [
      "Homology Analysis\n",
      "-----------------"
     ]
    },
    {
     "cell_type": "markdown",
     "metadata": {},
     "source": [
      "Tranlate DNA sequences to protein sequences using ESTscan version 3.0.3. chicken.smat is an HMM matrix built from chicken proteins and etc."
     ]
    },
    {
     "cell_type": "markdown",
     "metadata": {},
     "source": [
      "__$ estscan -M ~/chicken.smat -t line67.gal3.models.nr99.prot.fa line67.gal3.models.nr99.fa > line67.gal3.models.nucl.fa__"
     ]
    },
    {
     "cell_type": "code",
     "collapsed": false,
     "input": [
      "!grep \">\" line67.gal3.models.nr99.prot.fa | wc -l"
     ],
     "language": "python",
     "metadata": {},
     "outputs": [
      {
       "output_type": "stream",
       "stream": "stdout",
       "text": [
        "   22488\r\n"
       ]
      }
     ],
     "prompt_number": 24
    },
    {
     "cell_type": "code",
     "collapsed": false,
     "input": [
      "!grep \">\" line67.gal3.models.nr99.fa | wc -l"
     ],
     "language": "python",
     "metadata": {},
     "outputs": [
      {
       "output_type": "stream",
       "stream": "stdout",
       "text": [
        "   27732\r\n"
       ]
      }
     ],
     "prompt_number": 40
    },
    {
     "cell_type": "markdown",
     "metadata": {},
     "source": [
      "In total, 81.1% (22,488/27,732) of transcripts are translated to protein sequences by ESTScan."
     ]
    },
    {
     "cell_type": "markdown",
     "metadata": {},
     "source": [
      "Then search for homologous sequences in mouse proteins using BLASTP."
     ]
    },
    {
     "cell_type": "markdown",
     "metadata": {},
     "source": [
      "__$ blastp -evalue 1e-20 -outfmt 5 -query line67.gal3.models.nr99.prot.fa -db mouse.proteins -out line67.gal3.models.nr99.blastp.xml__"
     ]
    },
    {
     "cell_type": "markdown",
     "metadata": {},
     "source": [
      "Where __mouse.proteins__ are mouse proteins database."
     ]
    },
    {
     "cell_type": "markdown",
     "metadata": {},
     "source": [
      "Bitscore/length ratios are calculated from this command."
     ]
    },
    {
     "cell_type": "markdown",
     "metadata": {},
     "source": [
      "__$ python ~/gimme/src/utils/bitscore.py --input line67.gal3.models.nr99.blastp.xml --output isoform --evalue 1e-20 > line67.gal3.models.nr99.prot.bits.isoforms.txt__"
     ]
    },
    {
     "cell_type": "code",
     "collapsed": false,
     "input": [
      "isoform_bits = !cut -f 2 line67.gal3.models.nr99.prot.bits.isoforms.txt\n",
      "for i in range(len(isoform_bits)):\n",
      "    isoform_bits[i] = float(isoform_bits[i])"
     ],
     "language": "python",
     "metadata": {},
     "outputs": [],
     "prompt_number": 28
    },
    {
     "cell_type": "code",
     "collapsed": false,
     "input": [
      "gene_bitscores = {}\n",
      "for line in open('line67.gal3.models.nr99.prot.bits.isoforms.txt'):\n",
      "    cols = line.strip().split()\n",
      "    gene_name = cols[0].split('.')[0]\n",
      "    score = float(cols[1])\n",
      "    max_score = gene_bitscores.get(gene_name, 0)\n",
      "    if score > max_score: gene_bitscores[gene_name] = score"
     ],
     "language": "python",
     "metadata": {},
     "outputs": [],
     "prompt_number": 34
    },
    {
     "cell_type": "code",
     "collapsed": false,
     "input": [
      "len(gene_bitscores), gene_bitscores['chr9:22']"
     ],
     "language": "python",
     "metadata": {},
     "outputs": [
      {
       "output_type": "pyout",
       "prompt_number": 36,
       "text": [
        "(12399, 1.7995536893610637)"
       ]
      }
     ],
     "prompt_number": 36
    },
    {
     "cell_type": "code",
     "collapsed": false,
     "input": [
      "fig = figure()\n",
      "ax1 = fig.add_subplot(211)\n",
      "ax1.hist([sc for sc in gene_bitscores.itervalues()], bins=100)\n",
      "ax1.set_ylabel('gene')\n",
      "ax2 = fig.add_subplot(212)\n",
      "ax2.hist(isoform_bits, bins=100, color='g')\n",
      "ax2.set_xlabel('bitscore/length')\n",
      "ax2.set_ylabel('isoform')\n",
      "savefig('bitscore.pdf')"
     ],
     "language": "python",
     "metadata": {},
     "outputs": [
      {
       "output_type": "display_data",
       "png": "[encoded data removed]"
      }
     ],
     "prompt_number": 292
    },
    {
     "cell_type": "markdown",
     "metadata": {},
     "source": [
      "###Total transcripts matched mouse proteins"
     ]
    },
    {
     "cell_type": "code",
     "collapsed": false,
     "input": [
      "print \"%d or %.2f%%\" % (len(isoform_bits), len(isoform_bits)/22488.0 * 100)"
     ],
     "language": "python",
     "metadata": {},
     "outputs": [
      {
       "output_type": "stream",
       "stream": "stdout",
       "text": [
        "17620 or 78.35%\n"
       ]
      }
     ],
     "prompt_number": 32
    },
    {
     "cell_type": "code",
     "collapsed": false,
     "input": [
      "len(gene_bitscores)"
     ],
     "language": "python",
     "metadata": {},
     "outputs": [
      {
       "output_type": "pyout",
       "prompt_number": 39,
       "text": [
        "12399"
       ]
      }
     ],
     "prompt_number": 39
    },
    {
     "cell_type": "markdown",
     "metadata": {},
     "source": [
      "Building gene models using Cufflinks\n",
      "------------------------------------"
     ]
    },
    {
     "cell_type": "markdown",
     "metadata": {},
     "source": [
      "Run Cufflinks2 for all datasets."
     ]
    },
    {
     "cell_type": "markdown",
     "metadata": {},
     "source": [
      "__$ cufflinks -p 4 -o line6u_single_trimmed_chick3_cufflinks line6u_single_trimmed_chick3/accepted_hits.bam__\n",
      "\n",
      "__...__"
     ]
    },
    {
     "cell_type": "markdown",
     "metadata": {},
     "source": [
      "Merge all models using cuffmerge."
     ]
    },
    {
     "cell_type": "markdown",
     "metadata": {},
     "source": [
      "__$ cuffmerge -o merged_again -s ~/chick.fa -p 8 assembly_GTF_lists.txt__"
     ]
    },
    {
     "cell_type": "code",
     "collapsed": false,
     "input": [
      "!head assembly_GTF_lists.txt"
     ],
     "language": "python",
     "metadata": {},
     "outputs": [
      {
       "output_type": "stream",
       "stream": "stdout",
       "text": [
        "line6u_single_trimmed_chick3_cufflinks/transcripts.gtf\r\n",
        "line6i_single_trimmed_chick3_cufflinks/transcripts.gtf\r\n",
        "line7u_single_trimmed_chick3_cufflinks/transcripts.gtf\r\n",
        "line7i_single_trimmed_chick3_cufflinks/transcripts.gtf\r\n"
       ]
      }
     ],
     "prompt_number": 4
    },
    {
     "cell_type": "markdown",
     "metadata": {},
     "source": [
      "##Gene models summary"
     ]
    },
    {
     "cell_type": "markdown",
     "metadata": {},
     "source": [
      "###Number of genes and isoforms"
     ]
    },
    {
     "cell_type": "code",
     "collapsed": false,
     "input": [
      "!python /Users/Likit/gimme/src/utils/countGenes.py line67.gal3.models.nr99.bed"
     ],
     "language": "python",
     "metadata": {},
     "outputs": [
      {
       "output_type": "stream",
       "stream": "stdout",
       "text": [
        "Total genes = 20992\r\n",
        "Total isoforms = 27732\r\n"
       ]
      }
     ],
     "prompt_number": 87
    },
    {
     "cell_type": "code",
     "collapsed": false,
     "input": [
      "!python /Users/Likit/gimme/src/utils/countGenes.py line67.gal3.local.models.nr99.bed"
     ],
     "language": "python",
     "metadata": {},
     "outputs": [
      {
       "output_type": "stream",
       "stream": "stdout",
       "text": [
        "Total genes = 21963\r\n",
        "Total isoforms = 25859\r\n"
       ]
      }
     ],
     "prompt_number": 97
    },
    {
     "cell_type": "code",
     "collapsed": false,
     "input": [
      "!python /Users/Likit/gimme/src/utils/countGenes.py line67.gal3.global.models.nr99.bed"
     ],
     "language": "python",
     "metadata": {},
     "outputs": [
      {
       "output_type": "stream",
       "stream": "stdout",
       "text": [
        "Total genes = 20439\r\n",
        "Total isoforms = 26035\r\n"
       ]
      }
     ],
     "prompt_number": 98
    },
    {
     "cell_type": "code",
     "collapsed": false,
     "input": [
      "!python /Users/Likit/gimme/src/utils/countGenes.py cufflinks.models.bed"
     ],
     "language": "python",
     "metadata": {},
     "outputs": [
      {
       "output_type": "stream",
       "stream": "stdout",
       "text": [
        "Total genes = 25318\r\n",
        "Total isoforms = 34959\r\n"
       ]
      }
     ],
     "prompt_number": 140
    },
    {
     "cell_type": "code",
     "collapsed": false,
     "input": [
      "!python /Users/Likit/gimme/src/utils/countGenes.py Gallus_gallus.WASHUC2.64.fixed.bed"
     ],
     "language": "python",
     "metadata": {},
     "outputs": [
      {
       "output_type": "stream",
       "stream": "stdout",
       "text": [
        "Total genes = 17934\r\n",
        "Total isoforms = 23392\r\n"
       ]
      }
     ],
     "prompt_number": 141
    },
    {
     "cell_type": "code",
     "collapsed": false,
     "input": [
      "!python /Users/Likit/gimme/src/utils/countGenes.py line67.gimme.cuff.mrna.models.nr99.bed"
     ],
     "language": "python",
     "metadata": {},
     "outputs": [
      {
       "output_type": "stream",
       "stream": "stdout",
       "text": [
        "Total genes = 26726\r\n",
        "Total isoforms = 43074\r\n"
       ]
      }
     ],
     "prompt_number": 88
    },
    {
     "cell_type": "markdown",
     "metadata": {},
     "source": [
      "##Comparison of Cufflinks and Gimme to Ensembl\n",
      "\n",
      "Note, matched genes contain at least one isoform that match an Ensembl isoform with 90% identity and 80% coverage."
     ]
    },
    {
     "cell_type": "markdown",
     "metadata": {},
     "source": [
      "__$ blat -t=dna -q=dna -noHead -out=blast9 -mask=lower -extendThroughN ~/Gallus_gallus.WASHUC2.64.fixed.fa line67.gal3.models.nr99.fa line67.gal3.models.nr99.blast9.txt__"
     ]
    },
    {
     "cell_type": "code",
     "collapsed": false,
     "input": [
      "cuffgenes = !python /Users/Likit/gimme/src/utils/find_match.py Gallus_gallus.WASHUC2.64.fixed.bed cufflinks.ens64.blast9.txt"
     ],
     "language": "python",
     "metadata": {},
     "outputs": [],
     "prompt_number": 68
    },
    {
     "cell_type": "code",
     "collapsed": false,
     "input": [
      "gimmegenes = !python /Users/Likit/gimme/src/utils/find_match.py Gallus_gallus.WASHUC2.64.fixed.bed line67.gal3.models.nr99.ens64.blast9.txt"
     ],
     "language": "python",
     "metadata": {},
     "outputs": [],
     "prompt_number": 69
    },
    {
     "cell_type": "code",
     "collapsed": false,
     "input": [
      "print \"Gimme detects %d Ensembl genes. Cufflinks detects %d genes\" % (len(gimmegenes), len(cuffgenes))"
     ],
     "language": "python",
     "metadata": {},
     "outputs": [
      {
       "output_type": "stream",
       "stream": "stdout",
       "text": [
        "Gimme detects 7298 Ensembl genes. Cufflinks detects 8341 genes\n"
       ]
      }
     ],
     "prompt_number": 70
    },
    {
     "cell_type": "code",
     "collapsed": false,
     "input": [
      "gimmegenes = set(gimmegenes)\n",
      "cuffgenes = set(cuffgenes)\n",
      "gimme_cuff_genes = gimmegenes.intersection(cuffgenes)"
     ],
     "language": "python",
     "metadata": {},
     "outputs": [],
     "prompt_number": 71
    },
    {
     "cell_type": "code",
     "collapsed": false,
     "input": [
      "print \"Both Gimme and Cufflinks detect %d Ensembl genes\" % len(gimme_cuff_genes)"
     ],
     "language": "python",
     "metadata": {},
     "outputs": [
      {
       "output_type": "stream",
       "stream": "stdout",
       "text": [
        "Both Gimme and Cufflinks detect 6798 Ensembl genes\n"
       ]
      }
     ],
     "prompt_number": 72
    },
    {
     "cell_type": "code",
     "collapsed": false,
     "input": [
      "def get_matched_transcripts(gene_lists, blast9_file):\n",
      "    '''Reads gene models in Blast9 format and see if an isoform\n",
      "matches a gene in gene_lists, if so save it to a list.\n",
      "After that, it reads gene models in BED format and save only\n",
      "transcripts in a list to an output file.\n",
      "'''\n",
      "    trans_list = []\n",
      "    for line in open(blast9_file):\n",
      "        if line.startswith('#'):\n",
      "            continue\n",
      "        cols = line.strip().split('\\t')\n",
      "        query_id = cols[0]\n",
      "        gene_id = cols[1].split('.')[0]\n",
      "        if gene_id in gene_lists:\n",
      "            trans_list.append(query_id)\n",
      "    return set(trans_list)\n",
      "\n",
      "def extract_transcript_from_list(trans_list, bed_file, output):\n",
      "    for line in open(bed_file):\n",
      "        trans_id = line.strip().split('\\t')[3]\n",
      "        if trans_id in trans_list:\n",
      "            print >> output, line.strip()"
     ],
     "language": "python",
     "metadata": {},
     "outputs": [],
     "prompt_number": 73
    },
    {
     "cell_type": "code",
     "collapsed": false,
     "input": [
      "op = open('line67.gal3.models.nr99.ens64.matched.bed', 'w')\n",
      "trans_list = get_matched_transcripts(gimme_cuff_genes, 'line67.gal3.models.nr99.ens64.blast9.txt')\n",
      "extract_transcript_from_list(trans_list, 'line67.gal3.models.nr99.bed', op)\n",
      "op.close()"
     ],
     "language": "python",
     "metadata": {},
     "outputs": [],
     "prompt_number": 75
    },
    {
     "cell_type": "code",
     "collapsed": false,
     "input": [
      "op = open('cufflinks.ens64.matched.bed', 'w')\n",
      "trans_list = get_matched_transcripts(gimme_cuff_genes, 'cufflinks.ens64.blast9.txt')\n",
      "extract_transcript_from_list(trans_list, 'cufflinks.models.bed', op)\n",
      "op.close()"
     ],
     "language": "python",
     "metadata": {},
     "outputs": [],
     "prompt_number": 76
    },
    {
     "cell_type": "code",
     "collapsed": false,
     "input": [
      "!python /Users/Likit/gimme/src/utils/compare_junction.py --all -b cufflinks.ens64.matched.bed\n",
      "!python /Users/Likit/gimme/src/utils/compare_junction.py --all -b line67.gal3.models.nr99.ens64.matched.bed\n",
      "cuff_ens_jnct = !cat cufflinks.ens64.matched.bed_all_sp.txt\n",
      "gimme_ens_jnct = !cat line67.gal3.models.nr99.ens64.matched.bed_all_sp.txt\n",
      "cuff_ens_jnct = set([j.split()[0] for j in cuff_ens_jnct])  # ignore strand\n",
      "gimme_ens_jnct = set([j.split()[0] for j in gimme_ens_jnct])  # ignore strand"
     ],
     "language": "python",
     "metadata": {},
     "outputs": [
      {
       "output_type": "stream",
       "stream": "stdout",
       "text": [
        "Parsing alignment from cufflinks.ens64.matched.bed ...\r\n"
       ]
      },
      {
       "output_type": "stream",
       "stream": "stdout",
       "text": [
        "... 1000\r\n"
       ]
      },
      {
       "output_type": "stream",
       "stream": "stdout",
       "text": [
        "... 2000\r\n"
       ]
      },
      {
       "output_type": "stream",
       "stream": "stdout",
       "text": [
        "... 3000\r\n"
       ]
      },
      {
       "output_type": "stream",
       "stream": "stdout",
       "text": [
        "... 4000\r\n"
       ]
      },
      {
       "output_type": "stream",
       "stream": "stdout",
       "text": [
        "... 5000\r\n"
       ]
      },
      {
       "output_type": "stream",
       "stream": "stdout",
       "text": [
        "... 6000\r\n"
       ]
      },
      {
       "output_type": "stream",
       "stream": "stdout",
       "text": [
        "... 7000\r\n"
       ]
      },
      {
       "output_type": "stream",
       "stream": "stdout",
       "text": [
        "... 8000\r\n"
       ]
      },
      {
       "output_type": "stream",
       "stream": "stdout",
       "text": [
        "... 9000\r\n"
       ]
      },
      {
       "output_type": "stream",
       "stream": "stdout",
       "text": [
        "... 10000\r\n"
       ]
      },
      {
       "output_type": "stream",
       "stream": "stdout",
       "text": [
        "... 11000\r\n"
       ]
      },
      {
       "output_type": "stream",
       "stream": "stdout",
       "text": [
        "... 12000\r\n"
       ]
      },
      {
       "output_type": "stream",
       "stream": "stdout",
       "text": [
        "... 13000\r\n"
       ]
      },
      {
       "output_type": "stream",
       "stream": "stdout",
       "text": [
        "... 14000\r\n"
       ]
      },
      {
       "output_type": "stream",
       "stream": "stdout",
       "text": [
        "... 15000\r\n"
       ]
      },
      {
       "output_type": "stream",
       "stream": "stdout",
       "text": [
        "... 16000\r\n"
       ]
      },
      {
       "output_type": "stream",
       "stream": "stdout",
       "text": [
        "Total introns in cufflinks.ens64.matched.bed = 73419\r\n",
        "\r\n"
       ]
      },
      {
       "output_type": "stream",
       "stream": "stdout",
       "text": [
        "Parsing alignment from line67.gal3.models.nr99.ens64.matched.bed ...\r\n"
       ]
      },
      {
       "output_type": "stream",
       "stream": "stdout",
       "text": [
        "... 1000\r\n"
       ]
      },
      {
       "output_type": "stream",
       "stream": "stdout",
       "text": [
        "... 2000\r\n"
       ]
      },
      {
       "output_type": "stream",
       "stream": "stdout",
       "text": [
        "... 3000\r\n"
       ]
      },
      {
       "output_type": "stream",
       "stream": "stdout",
       "text": [
        "... 4000\r\n"
       ]
      },
      {
       "output_type": "stream",
       "stream": "stdout",
       "text": [
        "... 5000\r\n"
       ]
      },
      {
       "output_type": "stream",
       "stream": "stdout",
       "text": [
        "... 6000\r\n"
       ]
      },
      {
       "output_type": "stream",
       "stream": "stdout",
       "text": [
        "... 7000\r\n"
       ]
      },
      {
       "output_type": "stream",
       "stream": "stdout",
       "text": [
        "... 8000\r\n"
       ]
      },
      {
       "output_type": "stream",
       "stream": "stdout",
       "text": [
        "... 9000\r\n"
       ]
      },
      {
       "output_type": "stream",
       "stream": "stdout",
       "text": [
        "... 10000\r\n"
       ]
      },
      {
       "output_type": "stream",
       "stream": "stdout",
       "text": [
        "... 11000\r\n"
       ]
      },
      {
       "output_type": "stream",
       "stream": "stdout",
       "text": [
        "... 12000\r\n"
       ]
      },
      {
       "output_type": "stream",
       "stream": "stdout",
       "text": [
        "... 13000\r\n"
       ]
      },
      {
       "output_type": "stream",
       "stream": "stdout",
       "text": [
        "... 14000\r\n",
        "Total introns in line67.gal3.models.nr99.ens64.matched.bed = 67519\r\n",
        "\r\n"
       ]
      }
     ],
     "prompt_number": 80
    },
    {
     "cell_type": "code",
     "collapsed": false,
     "input": [
      "print \"Cufflinks found %d splice junctions in matched genes\" % len(cuff_ens_jnct.intersection(ensbljnc))\n",
      "print \"Gimme found %d splice junctions in matched genes\" % len(gimme_ens_jnct.intersection(ensbljnc))"
     ],
     "language": "python",
     "metadata": {},
     "outputs": [
      {
       "output_type": "stream",
       "stream": "stdout",
       "text": [
        "Cufflinks found 62150 splice junctions in matched genes"
       ]
      },
      {
       "output_type": "stream",
       "stream": "stdout",
       "text": [
        "\n",
        "Gimme found 56232 splice junctions in matched genes"
       ]
      },
      {
       "output_type": "stream",
       "stream": "stdout",
       "text": [
        "\n"
       ]
      }
     ],
     "prompt_number": 81
    },
    {
     "cell_type": "code",
     "collapsed": false,
     "input": [
      "gimme_ens_jnct_diff = gimme_ens_jnct.difference(ensbljnc)\n",
      "cuff_ens_jnct_diff = cuff_ens_jnct.difference(ensbljnc)\n",
      "print \"Cufflinks found %d junctions not in Ensembl models but supported by ESTs\" % len(cuff_ens_jnct_diff.intersection(estjnc))\n",
      "print \"Gimme found %d junctions not in Ensembl models but supported by ESTs\" % len(gimme_ens_jnct_diff.intersection(estjnc))"
     ],
     "language": "python",
     "metadata": {},
     "outputs": [
      {
       "output_type": "stream",
       "stream": "stdout",
       "text": [
        "Cufflinks found 5023 junctions not in Ensembl models but supported by ESTs\n",
        "Gimme found 5160 junctions not in Ensembl models but supported by ESTs\n"
       ]
      }
     ],
     "prompt_number": 82
    },
    {
     "cell_type": "code",
     "collapsed": false,
     "input": [
      "cuff_gimme_ens_diff = cuff_ens_jnct_diff.difference(gimme_ens_jnct_diff)\n",
      "gimme_cuff_ens_diff = gimme_ens_jnct_diff.difference(cuff_ens_jnct_diff)\n",
      "print \"Cufflinks found %d junctions not in Gimme and Ensembl but in ESTs\" % len(cuff_gimme_ens_diff.intersection(estjnc))\n",
      "print \"Gimme found %d junctions not in Cufflinks and Ensembl but in ESTs\" % len(gimme_cuff_ens_diff.intersection(estjnc))"
     ],
     "language": "python",
     "metadata": {},
     "outputs": [
      {
       "output_type": "stream",
       "stream": "stdout",
       "text": [
        "Cufflinks found 1860 junctions not in Gimme and Ensembl but in ESTs\n",
        "Gimme found 1997 junctions not in Cufflinks and Ensembl but in ESTs\n"
       ]
      }
     ],
     "prompt_number": 83
    },
    {
     "cell_type": "code",
     "collapsed": false,
     "input": [],
     "language": "python",
     "metadata": {},
     "outputs": []
    },
    {
     "cell_type": "markdown",
     "metadata": {},
     "source": [
      "Gene models built from Assembly, Cufflinks and mRNA sequences\n",
      "-------------------------------------------------------------"
     ]
    },
    {
     "cell_type": "markdown",
     "metadata": {},
     "source": [
      "__$ python gimme/src/gimme.py line67.gal3.models.nr99.bed cufflinks.models.bed mrna.gal3.clean.best.psl > line67.gimme.cuff.mrna.models.bed__\n",
      "\n",
      "Redundant transcripts are removed using cd-hit-est."
     ]
    },
    {
     "cell_type": "code",
     "collapsed": false,
     "input": [
      "!python /Users/Likit/gimme/src/utils/countGenes.py line67.gimme.cuff.mrna.models.nr99.bed"
     ],
     "language": "python",
     "metadata": {},
     "outputs": [
      {
       "output_type": "stream",
       "stream": "stdout",
       "text": [
        "Total genes = 26726\r\n",
        "Total isoforms = 43074\r\n"
       ]
      }
     ],
     "prompt_number": 84
    },
    {
     "cell_type": "markdown",
     "metadata": {},
     "source": [
      "##Oases-M vs Global Assembly"
     ]
    },
    {
     "cell_type": "markdown",
     "metadata": {},
     "source": [
      "Total splice junctions found in Oases-M assembly k=27."
     ]
    },
    {
     "cell_type": "markdown",
     "metadata": {},
     "source": [
      "__$ python /Users/Likit/gimme/src/utils/compare_junction.py --all -p line67_merged_global_k27.best.psl__\n",
      "\n",
      "__$ python /Users/Likit/gimme/src/utils/compare_junction.py --all -p line67_unmerged_global_k21-31.best.psl__"
     ]
    },
    {
     "cell_type": "code",
     "collapsed": false,
     "input": [
      "oasesM = !cat line67_merged_global_k27.best.psl_all_sp.txt\n",
      "oasesM = set([j.split()[0] for j in oasesM])  # ignore strand"
     ],
     "language": "python",
     "metadata": {},
     "outputs": [],
     "prompt_number": 89
    },
    {
     "cell_type": "code",
     "collapsed": false,
     "input": [
      "global_asm = !cat line67_unmerged_global_k21-31.best.psl_all_sp.txt\n",
      "global_asm = set([j.split()[0] for j in global_asm])  # ignore strand"
     ],
     "language": "python",
     "metadata": {},
     "outputs": [],
     "prompt_number": 90
    },
    {
     "cell_type": "code",
     "collapsed": false,
     "input": [
      "print \"Total splice junctions from Oases-M = %d\" % len(oasesM)"
     ],
     "language": "python",
     "metadata": {},
     "outputs": [
      {
       "output_type": "stream",
       "stream": "stdout",
       "text": [
        "Total splice junctions from Oases-M = 111273"
       ]
      },
      {
       "output_type": "stream",
       "stream": "stdout",
       "text": [
        "\n"
       ]
      }
     ],
     "prompt_number": 91
    },
    {
     "cell_type": "code",
     "collapsed": false,
     "input": [
      "print \"Total splice junctions from unmerged global assembly = %d\" % len(global_asm)"
     ],
     "language": "python",
     "metadata": {},
     "outputs": [
      {
       "output_type": "stream",
       "stream": "stdout",
       "text": [
        "Total splice junctions from unmerged global assembly = 112708\n"
       ]
      }
     ],
     "prompt_number": 92
    },
    {
     "cell_type": "code",
     "collapsed": false,
     "input": [
      "print \"Unique splice junctions from unmerged assembly = %d\" % len(global_asm.difference(oasesM))"
     ],
     "language": "python",
     "metadata": {},
     "outputs": [
      {
       "output_type": "stream",
       "stream": "stdout",
       "text": [
        "Unique splice junctions from unmerged assembly = 8295\n"
       ]
      }
     ],
     "prompt_number": 93
    },
    {
     "cell_type": "code",
     "collapsed": false,
     "input": [
      "print \"Unique splice junctions from Oases-M = %d\" % len(oasesM.difference(global_asm))"
     ],
     "language": "python",
     "metadata": {},
     "outputs": [
      {
       "output_type": "stream",
       "stream": "stdout",
       "text": [
        "Unique splice junctions from Oases-M = 6860\n"
       ]
      }
     ],
     "prompt_number": 94
    },
    {
     "cell_type": "code",
     "collapsed": false,
     "input": [
      "print \"Unique splice junctions supported by ESTs from unmerged assembly = %d\" % len(global_asm.difference(oasesM).intersection(estjnc))"
     ],
     "language": "python",
     "metadata": {},
     "outputs": [
      {
       "output_type": "stream",
       "stream": "stdout",
       "text": [
        "Unique splice junctions supported by ESTs from unmerged assembly = 1607\n"
       ]
      }
     ],
     "prompt_number": 95
    },
    {
     "cell_type": "code",
     "collapsed": false,
     "input": [
      "print \"Unique splice junctions supported by ESTs from Oases-M = %d\" % len(oasesM.difference(global_asm).intersection(estjnc))"
     ],
     "language": "python",
     "metadata": {},
     "outputs": [
      {
       "output_type": "stream",
       "stream": "stdout",
       "text": [
        "Unique splice junctions supported by ESTs from Oases-M = 421\n"
       ]
      }
     ],
     "prompt_number": 96
    },
    {
     "cell_type": "markdown",
     "metadata": {},
     "source": [
      "##Location of transcripts on UCSC genome browser\n",
      "\n",
      "####Track line67.gal3.models.nr99.cds.bed\n",
      "\n",
      "+ Figure 4 ???\n",
      "+ Figure 7 chr1:37,720,191-37,760,516\n",
      "+ Figure 8 chr27:2,678,757-2,708,067\n",
      "+ Figure 9 chr1:48,554,679-48,566,012\n",
      "+ Figure 12 chr1:23,979,999-24,040,000\n",
      "+ Figure 13 \n",
      "+ Figure mrna+cufflinks+gimme chr1:33,237,830-33,245,333 \n",
      "\n",
      "####Track all_single_gl_gal3.clean.nr.best.psl, all_single_global_trimmed.clean.nr.chick3.best.psl\n",
      "\n",
      "+ Figure 5 chr1:52,019,950-52,038,052"
     ]
    },
    {
     "cell_type": "markdown",
     "metadata": {},
     "source": [
      "##The pipeline on mouse datasets\n",
      "\n",
      "Mouse datasets (experiment SRX062280, RNA sequencing of mouse DCs) were downloaded from Short reads archive."
     ]
    },
    {
     "cell_type": "markdown",
     "metadata": {},
     "source": [
      "###Global Assembly"
     ]
    },
    {
     "cell_type": "markdown",
     "metadata": {},
     "source": [
      "###Quality filtering and trimming\n",
      "\n",
      "__$ condetri_v2.1.pl -fastq1=SRR203276_1.fastq -fastq2=SRR203276_2.fastq -sc=33 -prefix=SRR203276 -minlen=50 -cutfirst 10__"
     ]
    },
    {
     "cell_type": "markdown",
     "metadata": {},
     "source": [
      "###Velvet assembly\n",
      "\n",
      "__$ velveth global_assembly 21,33,2 -fastq -shortPaired SRR203276_trim_paired.fastq -short SRR203276_trim_unpaired.fastq -strand_specific -create_binary__"
     ]
    },
    {
     "cell_type": "markdown",
     "metadata": {},
     "source": [
      "###Local Assembly"
     ]
    },
    {
     "cell_type": "markdown",
     "metadata": {},
     "source": [
      "###Tophat\n",
      "\n",
      "__$ tophat2 -p 4 -o tophat_unpaired ~/mus_genome/genome SRR203276_trim_unpaired.fastq__ # single-end\n",
      "\n",
      "__$ tophat2 -p 4 -r 300 -o tophat_unpaired ~/mus_genome/genome SRR203276_trim_1 SRR203276_trim_2__ # paired-end"
     ]
    },
    {
     "cell_type": "markdown",
     "metadata": {},
     "source": [
      "Again, alignments from each chromosome are separated.\n",
      "\n",
      "__$ cat mouse.list.txt | xargs -0 -I {} -d \"\\n\" samtools view accepted_hits.bam {} -o {}.sam__"
     ]
    },
    {
     "cell_type": "markdown",
     "metadata": {},
     "source": [
      "Then, convert all BAM files to BAM files.\n",
      "\n",
      "__$ samtools view -b -o 1.bam -S -T ~/mus_genome/genome.fa 1.sam__\n",
      "\n",
      "__$ samtools index 1.bam__"
     ]
    },
    {
     "cell_type": "markdown",
     "metadata": {},
     "source": [
      "Then convert BAM file to fasta for assembly. For paired-end alignemnts, the script only selects paired-end reads with proper mate pair.\n",
      "\n",
      "__$ python ~/gimme/src/utils/plit_mixed_reads.py 1.bam__"
     ]
    },
    {
     "cell_type": "markdown",
     "metadata": {},
     "source": [
      "Reads are interleaved using this script. (This step is omitted for unpaired reads)\n",
      "\n",
      "__$ perl shuffle_sequences_fasta.pl 1.fa_1 1.fa_2 1.fa_pe__"
     ]
    },
    {
     "cell_type": "markdown",
     "metadata": {},
     "source": [
      "###Gene models construction"
     ]
    },
    {
     "cell_type": "markdown",
     "metadata": {},
     "source": [
      "###Splice Junctions Comparison"
     ]
    },
    {
     "cell_type": "markdown",
     "metadata": {},
     "source": [
      "__$ python /Users/Likit/gimme/src/utils/compare_junction.py -a -b Mus_musculus.NCBIM37.64.rename.bed__\n",
      "\n",
      "__$ python /Users/Likit/gimme/src/utils/compare_junction.py -a -b mouse_models.cufflinks.renamed.bed__\n",
      "\n",
      "__$ python /Users/Likit/gimme/src/utils/compare_junction.py -a -b mouse.gal3.models.bed__"
     ]
    },
    {
     "cell_type": "code",
     "collapsed": false,
     "input": [
      "mus_ensbl_jnc = !cut -f 1 Mus_musculus.NCBIM37.64.rename.bed_all_sp.txt\n",
      "mus_cuff_jnc = !cut -f 1 mouse_models.cufflinks.renamed.bed_all_sp.txt\n",
      "mus_gimme_jnc = !cut -f 1 mouse.gal3.models.bed_all_sp.txt"
     ],
     "language": "python",
     "metadata": {},
     "outputs": [],
     "prompt_number": 102
    },
    {
     "cell_type": "code",
     "collapsed": false,
     "input": [
      "mus_ensbl_jnc = set(mus_ensbl_jnc)\n",
      "mus_cuff_jnc = set(mus_cuff_jnc)\n",
      "mus_gimme_jnc = set(mus_gimme_jnc)"
     ],
     "language": "python",
     "metadata": {},
     "outputs": [],
     "prompt_number": 103
    },
    {
     "cell_type": "code",
     "collapsed": false,
     "input": [
      "len(mus_ensbl_jnc), len(mus_cuff_jnc), len(mus_gimme_jnc)"
     ],
     "language": "python",
     "metadata": {},
     "outputs": [
      {
       "output_type": "pyout",
       "prompt_number": 104,
       "text": [
        "(240482, 88476, 111730)"
       ]
      }
     ],
     "prompt_number": 104
    },
    {
     "cell_type": "code",
     "collapsed": false,
     "input": [
      "print 'Gimme detects %d splice junctions in Ensembl.' % len(mus_ensbl_jnc.intersection(mus_gimme_jnc))"
     ],
     "language": "python",
     "metadata": {},
     "outputs": [
      {
       "output_type": "stream",
       "stream": "stdout",
       "text": [
        "Gimme detects 83994 splice junctions in Ensembl."
       ]
      },
      {
       "output_type": "stream",
       "stream": "stdout",
       "text": [
        "\n"
       ]
      }
     ],
     "prompt_number": 108
    },
    {
     "cell_type": "code",
     "collapsed": false,
     "input": [
      "print 'Cufflinks detects %d splice junctions in Ensembl.' % len(mus_ensbl_jnc.intersection(mus_cuff_jnc))"
     ],
     "language": "python",
     "metadata": {},
     "outputs": [
      {
       "output_type": "stream",
       "stream": "stdout",
       "text": [
        "Cufflinks detects 85557 splice junctions in Ensembl.\n"
       ]
      }
     ],
     "prompt_number": 109
    },
    {
     "cell_type": "code",
     "collapsed": false,
     "input": [
      "print 'Cufflinks and Gimme detect %d common splice junctions in Ensembl' % len(mus_ensbl_jnc.intersection(mus_cuff_jnc.intersection(mus_gimme_jnc)))"
     ],
     "language": "python",
     "metadata": {},
     "outputs": [
      {
       "output_type": "stream",
       "stream": "stdout",
       "text": [
        "Cufflinks and Gimme detect 68417 common splice junctions in Ensembl\n"
       ]
      }
     ],
     "prompt_number": 110
    },
    {
     "cell_type": "code",
     "collapsed": false,
     "input": [
      "print 'Gimme misses %d splice junctions in Ensembl' % (85557 - 83994)"
     ],
     "language": "python",
     "metadata": {},
     "outputs": [
      {
       "output_type": "stream",
       "stream": "stdout",
       "text": [
        "Gimme misses 1563 splice junctions in Ensembl\n"
       ]
      }
     ],
     "prompt_number": 112
    },
    {
     "cell_type": "code",
     "collapsed": false,
     "input": [
      "len(mus_gimme_jnc.intersection(mus_cuff_jnc).intersection(mus_ensbl_jnc))"
     ],
     "language": "python",
     "metadata": {},
     "outputs": [
      {
       "output_type": "pyout",
       "prompt_number": 153,
       "text": [
        "68417"
       ]
      }
     ],
     "prompt_number": 153
    },
    {
     "cell_type": "code",
     "collapsed": false,
     "input": [
      "85557 - 68417, 83994 - 68417"
     ],
     "language": "python",
     "metadata": {},
     "outputs": [
      {
       "output_type": "pyout",
       "prompt_number": 155,
       "text": [
        "(17140, 15577)"
       ]
      }
     ],
     "prompt_number": 155
    },
    {
     "cell_type": "code",
     "collapsed": false,
     "input": [
      "len(mus_cuff_jnc.intersection(mus_gimme_jnc)) - 68417"
     ],
     "language": "python",
     "metadata": {},
     "outputs": [
      {
       "output_type": "pyout",
       "prompt_number": 186,
       "text": [
        "748"
       ]
      }
     ],
     "prompt_number": 186
    },
    {
     "cell_type": "code",
     "collapsed": false,
     "input": [
      "f = figure()\n",
      "ax = f.gca(frameon=False)\n",
      "rad3 = 1.0\n",
      "c1 = Circle((-1,0), 1.4, alpha=.5, fc='red', ec='w')\n",
      "c2 = Circle((1,0), 1.4, alpha=.5, fc='blue', ec='w')\n",
      "c3 = Circle((-0.1,1.2), 1.4, alpha=.5, fc='green', ec='w')\n",
      "ax.add_patch(c1)\n",
      "ax.add_patch(c2)\n",
      "ax.add_patch(c3)\n",
      "ax.set_xlim(-3,3)\n",
      "ax.set_ylim(-3,3)\n",
      "text(-0.3,0,'68,417')\n",
      "text(-1,0.6,'17,140')\n",
      "text(0.5,0.6,'15,577')\n",
      "text(-0.3,1.5,'139,348')\n",
      "text(-2,-0.4,'2,171')\n",
      "text(1,-0.4,'26,988')\n",
      "text(-0.2,-0.6,'748')\n",
      "text(-0.8,2.7, 'Mouse Ensembl', size=14)\n",
      "text(1.8,-1.6,'Assembly', size=14)\n",
      "text(-2,-1.8,'Cufflinks', size=14)\n",
      "ax.yaxis.set_visible(False)\n",
      "ax.xaxis.set_visible(False)\n",
      "savefig('mus_venn.pdf')\n",
      "show()"
     ],
     "language": "python",
     "metadata": {},
     "outputs": [
      {
       "output_type": "display_data",
       "png": "[encoded data removed]"
      }
     ],
     "prompt_number": 293
    },
    {
     "cell_type": "code",
     "collapsed": false,
     "input": [],
     "language": "python",
     "metadata": {},
     "outputs": []
    }
   ],
   "metadata": {}
  }
 ]
}