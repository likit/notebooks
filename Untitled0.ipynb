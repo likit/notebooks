{
 "metadata": {
  "name": ""
 },
 "nbformat": 3,
 "nbformat_minor": 0,
 "worksheets": [
  {
   "cells": [
    {
     "cell_type": "code",
     "collapsed": false,
     "input": [
      "import pybedtools"
     ],
     "language": "python",
     "metadata": {},
     "outputs": [],
     "prompt_number": 1
    },
    {
     "cell_type": "code",
     "collapsed": false,
     "input": [
      "a = pybedtools.example_bedtool('a.bed')\n",
      "b = pybedtools.example_bedtool('b.bed')"
     ],
     "language": "python",
     "metadata": {},
     "outputs": [],
     "prompt_number": 2
    },
    {
     "cell_type": "code",
     "collapsed": false,
     "input": [
      "a_and_b = a.intersect(b)"
     ],
     "language": "python",
     "metadata": {},
     "outputs": [],
     "prompt_number": 3
    },
    {
     "cell_type": "code",
     "collapsed": false,
     "input": [
      "a.head()"
     ],
     "language": "python",
     "metadata": {},
     "outputs": [
      {
       "output_type": "stream",
       "stream": "stdout",
       "text": [
        "chr1\t1\t100\tfeature1\t0\t+\n",
        " chr1\t100\t200\tfeature2\t0\t+\n",
        " chr1\t150\t500\tfeature3\t0\t-\n",
        " chr1\t900\t950\tfeature4\t0\t+\n",
        "\n"
       ]
      }
     ],
     "prompt_number": 4
    },
    {
     "cell_type": "code",
     "collapsed": false,
     "input": [
      "import pandas as pd"
     ],
     "language": "python",
     "metadata": {},
     "outputs": [],
     "prompt_number": 5
    },
    {
     "cell_type": "code",
     "collapsed": false,
     "input": [
      "a_table = pd.read_table(a_and_b.fn, header=None, names=['chrom', 'star', 'end', 'feature', 'score', 'strand'])"
     ],
     "language": "python",
     "metadata": {},
     "outputs": [],
     "prompt_number": 9
    },
    {
     "cell_type": "code",
     "collapsed": false,
     "input": [
      "a_table"
     ],
     "language": "python",
     "metadata": {},
     "outputs": [
      {
       "html": [
        "<div style=\"max-height:1000px;max-width:1500px;overflow:auto;\">\n",
        "<table border=\"1\" class=\"dataframe\">\n",
        "  <thead>\n",
        "    <tr style=\"text-align: right;\">\n",
        "      <th></th>\n",
        "      <th>chrom</th>\n",
        "      <th>star</th>\n",
        "      <th>end</th>\n",
        "      <th>feature</th>\n",
        "      <th>score</th>\n",
        "      <th>strand</th>\n",
        "    </tr>\n",
        "  </thead>\n",
        "  <tbody>\n",
        "    <tr>\n",
        "      <th>0</th>\n",
        "      <td> chr1</td>\n",
        "      <td> 155</td>\n",
        "      <td> 200</td>\n",
        "      <td> feature2</td>\n",
        "      <td> 0</td>\n",
        "      <td> +</td>\n",
        "    </tr>\n",
        "    <tr>\n",
        "      <th>1</th>\n",
        "      <td> chr1</td>\n",
        "      <td> 155</td>\n",
        "      <td> 200</td>\n",
        "      <td> feature3</td>\n",
        "      <td> 0</td>\n",
        "      <td> -</td>\n",
        "    </tr>\n",
        "    <tr>\n",
        "      <th>2</th>\n",
        "      <td> chr1</td>\n",
        "      <td> 900</td>\n",
        "      <td> 901</td>\n",
        "      <td> feature4</td>\n",
        "      <td> 0</td>\n",
        "      <td> +</td>\n",
        "    </tr>\n",
        "  </tbody>\n",
        "</table>\n",
        "</div>"
       ],
       "metadata": {},
       "output_type": "pyout",
       "prompt_number": 10,
       "text": [
        "  chrom  star  end   feature  score strand\n",
        "0  chr1   155  200  feature2      0      +\n",
        "1  chr1   155  200  feature3      0      -\n",
        "2  chr1   900  901  feature4      0      +"
       ]
      }
     ],
     "prompt_number": 10
    },
    {
     "cell_type": "code",
     "collapsed": false,
     "input": [
      "for row in a_table.iterrows():\n",
      "    print row"
     ],
     "language": "python",
     "metadata": {},
     "outputs": [
      {
       "output_type": "stream",
       "stream": "stdout",
       "text": [
        "(0, chrom          chr1\n",
        "star            155\n",
        "end             200\n",
        "feature    feature2\n",
        "score             0\n",
        "strand            +\n",
        "Name: 0, dtype: object)\n",
        "(1, chrom          chr1\n",
        "star            155\n",
        "end             200\n",
        "feature    feature3\n",
        "score             0\n",
        "strand            -\n",
        "Name: 1, dtype: object)\n",
        "(2, chrom          chr1\n",
        "star            900\n",
        "end             901\n",
        "feature    feature4\n",
        "score             0\n",
        "strand            +\n",
        "Name: 2, dtype: object)\n"
       ]
      }
     ],
     "prompt_number": 18
    },
    {
     "cell_type": "code",
     "collapsed": false,
     "input": [
      "type(row)"
     ],
     "language": "python",
     "metadata": {},
     "outputs": [
      {
       "metadata": {},
       "output_type": "pyout",
       "prompt_number": 20,
       "text": [
        "tuple"
       ]
      }
     ],
     "prompt_number": 20
    },
    {
     "cell_type": "code",
     "collapsed": false,
     "input": [
      "row"
     ],
     "language": "python",
     "metadata": {},
     "outputs": [
      {
       "metadata": {},
       "output_type": "pyout",
       "prompt_number": 21,
       "text": [
        "(2,\n",
        " chrom          chr1\n",
        "star            900\n",
        "end             901\n",
        "feature    feature4\n",
        "score             0\n",
        "strand            +\n",
        "Name: 2, dtype: object)"
       ]
      }
     ],
     "prompt_number": 21
    },
    {
     "cell_type": "code",
     "collapsed": false,
     "input": [
      "s = row[-1]"
     ],
     "language": "python",
     "metadata": {},
     "outputs": [],
     "prompt_number": 24
    },
    {
     "cell_type": "code",
     "collapsed": false,
     "input": [
      "s.to_string()"
     ],
     "language": "python",
     "metadata": {},
     "outputs": [
      {
       "metadata": {},
       "output_type": "pyout",
       "prompt_number": 30,
       "text": [
        "u'chrom          chr1\\nstar            900\\nend             901\\nfeature    feature4\\nscore             0\\nstrand            +'"
       ]
      }
     ],
     "prompt_number": 30
    },
    {
     "cell_type": "code",
     "collapsed": false,
     "input": [],
     "language": "python",
     "metadata": {},
     "outputs": []
    }
   ],
   "metadata": {}
  }
 ]
}