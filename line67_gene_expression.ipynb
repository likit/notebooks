{
 "metadata": {
  "name": "line67_gene_expression"
 },
 "nbformat": 3,
 "nbformat_minor": 0,
 "worksheets": [
  {
   "cells": [
    {
     "cell_type": "markdown",
     "metadata": {},
     "source": [
      "#Software\n",
      "\n",
      "* BEDtools 12.13.1\n",
      "* Bowtie 2.2.0\n",
      "* SAMTools 0.1.18\n",
      "* BioUtils"
     ]
    },
    {
     "cell_type": "markdown",
     "metadata": {},
     "source": [
      "## Note\n",
      "\n",
      "Code starts with $ should be run outside Ipython notebook as it takes a subtantial amount of time to finish."
     ]
    },
    {
     "cell_type": "markdown",
     "metadata": {},
     "source": [
      "## Convert SAM to BAM, then sort and index a BAM file\n",
      "\n",
      "    $ samtools view -b -S -o line6u_single_split_cuff_models.nr99.bam line6u_single_split_cuff_models.nr99.sam\n",
      "    $ samtools sort line6u_single_split_cuff_models.nr99.bam line6u_single_split_cuff_models.nr99.sorted\n",
      "    $ samtools index line6u_single_split_cuff_models.nr99.sorted.bam\n",
      "    ..."
     ]
    },
    {
     "cell_type": "markdown",
     "metadata": {},
     "source": [
      "## Convert gene models to transcript models\n",
      "    $ python BioUtils/bed2bed.py line67_split_cuff_models.nr99.bed > line67_split_cuff_transcripts_models.nr99.bed"
     ]
    },
    {
     "cell_type": "markdown",
     "metadata": {},
     "source": [
      "## Get counts from multiple BAM files\n",
      "    $ multiBamCov -D -bams \\\n",
      "        line6u_single_split_cuff_models.nr99.sorted.bam line6i_single_split_cuff_models.nr99.sorted.bam \\\n",
      "        line7u_single_split_cuff_models.nr99.sorted.bam line7i_single_split_cuff_models.nr99.sorted.bam \\\n",
      "        -bed line67_split_cuff_transcripts_models.nr99.bed > line67_single_split_cuff_transcripts_counts.txt\n",
      "\n",
      "    $ cut -f 1,13,14,15 line67_single_split_cuff_transcripts_counts.txt > line67_single_split_cuff_transcripts_counts_cut.txt"
     ]
    },
    {
     "cell_type": "markdown",
     "metadata": {},
     "source": [
      "## Analyze gene expression with DESeq R package"
     ]
    },
    {
     "cell_type": "code",
     "collapsed": false,
     "input": [
      "import rpy2\n",
      "from panda import *"
     ],
     "language": "python",
     "metadata": {},
     "outputs": [],
     "prompt_number": 19
    },
    {
     "cell_type": "code",
     "collapsed": false,
     "input": [
      "%load_ext rmagic"
     ],
     "language": "python",
     "metadata": {},
     "outputs": [],
     "prompt_number": 1
    },
    {
     "cell_type": "code",
     "collapsed": false,
     "input": [
      "%cd ~/projects/mdv/gal4models_new"
     ],
     "language": "python",
     "metadata": {},
     "outputs": [
      {
       "output_type": "stream",
       "stream": "stdout",
       "text": [
        "/Users/Likit/projects/mdv/gal4models_new\n"
       ]
      }
     ],
     "prompt_number": 11
    },
    {
     "cell_type": "code",
     "collapsed": false,
     "input": [
      "def get_gene_counts(infile):\n",
      "    expressions = {}\n",
      "    for line in open(infile):\n",
      "        cols = line.strip().split()\n",
      "        geneid = cols[0].split('.')[0]\n",
      "        e = [int(d) for d in cols[1:]]\n",
      "        try:\n",
      "            exprs = expressions[geneid]\n",
      "        except KeyError:\n",
      "            expressions[geneid] = e\n",
      "        else:\n",
      "            for i in range(len(e)):\n",
      "                exprs[i] += e[i]\n",
      "    return expressions"
     ],
     "language": "python",
     "metadata": {},
     "outputs": [],
     "prompt_number": 15
    },
    {
     "cell_type": "code",
     "collapsed": false,
     "input": [
      "single_expr = get_gene_counts('line67_single_split_cuff_transcripts_counts_cut.txt')"
     ],
     "language": "python",
     "metadata": {},
     "outputs": [],
     "prompt_number": 16
    },
    {
     "cell_type": "code",
     "collapsed": false,
     "input": [
      "single_expr['chr17:2'] # the columns are line6u, line6i, line7u, line7i respectively"
     ],
     "language": "python",
     "metadata": {},
     "outputs": [
      {
       "output_type": "pyout",
       "prompt_number": 18,
       "text": [
        "[338, 562, 515, 658]"
       ]
      }
     ],
     "prompt_number": 18
    },
    {
     "cell_type": "code",
     "collapsed": false,
     "input": [
      "d = {'a':20, 'c':30, 'b':10}"
     ],
     "language": "python",
     "metadata": {},
     "outputs": [],
     "prompt_number": 20
    },
    {
     "cell_type": "code",
     "collapsed": false,
     "input": [
      "import pandas as pd\n",
      "single_expr_df = pd.Series(single_expr, index=single_expr.keys())"
     ],
     "language": "python",
     "metadata": {},
     "outputs": [],
     "prompt_number": 25
    },
    {
     "cell_type": "code",
     "collapsed": false,
     "input": [
      "type(single_expr_df)"
     ],
     "language": "python",
     "metadata": {},
     "outputs": [
      {
       "output_type": "pyout",
       "prompt_number": 26,
       "text": [
        "pandas.core.series.Series"
       ]
      }
     ],
     "prompt_number": 26
    },
    {
     "cell_type": "code",
     "collapsed": false,
     "input": [
      "single_expr_df['chr17:2']"
     ],
     "language": "python",
     "metadata": {},
     "outputs": [
      {
       "output_type": "pyout",
       "prompt_number": 27,
       "text": [
        "[338, 562, 515, 658]"
       ]
      }
     ],
     "prompt_number": 27
    },
    {
     "cell_type": "code",
     "collapsed": false,
     "input": [],
     "language": "python",
     "metadata": {},
     "outputs": []
    }
   ],
   "metadata": {}
  }
 ]
}