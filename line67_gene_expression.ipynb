{
 "metadata": {
  "name": "line67_gene_expression"
 },
 "nbformat": 3,
 "nbformat_minor": 0,
 "worksheets": [
  {
   "cells": [
    {
     "cell_type": "markdown",
     "metadata": {},
     "source": [
      "#Software\n",
      "\n",
      "* BEDtools 12.13.1\n",
      "* Bowtie 2.2.0\n",
      "* SAMTools 0.1.18\n",
      "* BioUtils"
     ]
    },
    {
     "cell_type": "markdown",
     "metadata": {},
     "source": [
      "## Note\n",
      "\n",
      "Code starts with $ should be run outside Ipython notebook as it takes a subtantial amount of time to finish."
     ]
    },
    {
     "cell_type": "markdown",
     "metadata": {},
     "source": [
      "## Convert SAM to BAM, then sort and index a BAM file\n",
      "\n",
      "    $ samtools view -b -S -o line6u_single_split_cuff_models.nr99.bam line6u_single_split_cuff_models.nr99.sam\n",
      "    $ samtools sort line6u_single_split_cuff_models.nr99.bam line6u_single_split_cuff_models.nr99.sorted\n",
      "    $ samtools index line6u_single_split_cuff_models.nr99.sorted.bam\n",
      "    ..."
     ]
    },
    {
     "cell_type": "markdown",
     "metadata": {},
     "source": [
      "## Convert gene models to transcript models\n",
      "    $ python BioUtils/bed2bed.py line67_split_cuff_models.nr99.bed > line67_split_cuff_transcripts_models.nr99.bed"
     ]
    },
    {
     "cell_type": "markdown",
     "metadata": {},
     "source": [
      "## Get counts from multiple BAM files\n",
      "    $ multiBamCov -D -bams \\\n",
      "        line6u_single_split_cuff_models.nr99.sorted.bam line6i_single_split_cuff_models.nr99.sorted.bam \\\n",
      "        line7u_single_split_cuff_models.nr99.sorted.bam line7i_single_split_cuff_models.nr99.sorted.bam \\\n",
      "        -bed line67_split_cuff_transcripts_models.nr99.bed > line67_single_split_cuff_transcripts_counts.txt\n",
      "\n",
      "    $ cut -f 1,13,14,15 line67_single_split_cuff_transcripts_counts.txt > line67_single_split_cuff_transcripts_counts_cut.txt"
     ]
    },
    {
     "cell_type": "markdown",
     "metadata": {},
     "source": [
      "## Analyze gene expression with DESeq R package"
     ]
    },
    {
     "cell_type": "markdown",
     "metadata": {},
     "source": [
      "###DESeq workflow\n",
      "\n",
      "The workflow is saved in DESeq_workflow.txt and DESeq_workflow2.txt."
     ]
    },
    {
     "cell_type": "code",
     "collapsed": false,
     "input": [
      "from panda import *"
     ],
     "language": "python",
     "metadata": {},
     "outputs": [],
     "prompt_number": 11
    },
    {
     "cell_type": "code",
     "collapsed": false,
     "input": [
      "figsize(8,6)"
     ],
     "language": "python",
     "metadata": {},
     "outputs": [],
     "prompt_number": 12
    },
    {
     "cell_type": "code",
     "collapsed": false,
     "input": [
      "%cd ~/projects/mdv/gal4models_new"
     ],
     "language": "python",
     "metadata": {},
     "outputs": [
      {
       "output_type": "stream",
       "stream": "stdout",
       "text": [
        "/Users/Likit/projects/mdv/gal4models_new\n"
       ]
      }
     ],
     "prompt_number": 13
    },
    {
     "cell_type": "code",
     "collapsed": false,
     "input": [
      "def get_gene_counts(infile):\n",
      "    expressions = {}\n",
      "    for line in open(infile):\n",
      "        cols = line.strip().split()\n",
      "        geneid = cols[0].split('.')[0]\n",
      "        e = [int(d) for d in cols[1:]]\n",
      "        try:\n",
      "            exprs = expressions[geneid]\n",
      "        except KeyError:\n",
      "            expressions[geneid] = e\n",
      "        else:\n",
      "            for i in range(len(e)):\n",
      "                exprs[i] += e[i]\n",
      "    return expressions"
     ],
     "language": "python",
     "metadata": {},
     "outputs": [],
     "prompt_number": 14
    },
    {
     "cell_type": "code",
     "collapsed": false,
     "input": [
      "single_expr = get_gene_counts('line67_single_split_cuff_transcripts_counts_cut.txt')"
     ],
     "language": "python",
     "metadata": {},
     "outputs": [],
     "prompt_number": 17
    },
    {
     "cell_type": "markdown",
     "metadata": {},
     "source": [
      "##Build Ensembl, accession ID and gene length database\n",
      "\n",
      "The databases contain gene names from gene models as a key. Each row contains gene IDs, chromosome, start, end, Ensembl or Refseq IDs, and functional annotations (pathways, etc)."
     ]
    },
    {
     "cell_type": "code",
     "collapsed": false,
     "input": [
      "def build_database(input_file):\n",
      "    db = {}\n",
      "    for line in open(input_file):\n",
      "        cols = line.strip().split()\n",
      "        geneid = cols[0].split('.')[0]\n",
      "        score = float(cols[-1])\n",
      "        match = cols[1]\n",
      "        if geneid not in db:\n",
      "            db[geneid] = [match, score]\n",
      "        else:\n",
      "            if (match == db[geneid][0] and\n",
      "                score > db[geneid][1]):\n",
      "                db[geneid] = [match, score]\n",
      "    return db"
     ],
     "language": "python",
     "metadata": {},
     "outputs": [],
     "prompt_number": 31
    },
    {
     "cell_type": "code",
     "collapsed": false,
     "input": [
      "vertdb = build_database('line67_split_cuff_models.nr99.vertebrate_rna.blast8')\n",
      "for gi in vertdb:\n",
      "    vertdb[gi][0] = vertdb[gi][0].split('|')[1]"
     ],
     "language": "python",
     "metadata": {},
     "outputs": [],
     "prompt_number": 32
    },
    {
     "cell_type": "code",
     "collapsed": false,
     "input": [
      "ensdb = build_database('line67_split_cuff_models.nr99.Gallus69_all.blast8')"
     ],
     "language": "python",
     "metadata": {},
     "outputs": [],
     "prompt_number": 33
    },
    {
     "cell_type": "code",
     "collapsed": false,
     "input": [
      "ensncdb = build_database('line67_split_cuff_models.nr99.Gallus69_ncrna.blast8')"
     ],
     "language": "python",
     "metadata": {},
     "outputs": [],
     "prompt_number": 34
    },
    {
     "cell_type": "code",
     "collapsed": false,
     "input": [
      "len(ensdb), len(vertdb)"
     ],
     "language": "python",
     "metadata": {},
     "outputs": [
      {
       "output_type": "pyout",
       "prompt_number": 35,
       "text": [
        "(18014, 19365)"
       ]
      }
     ],
     "prompt_number": 35
    },
    {
     "cell_type": "code",
     "collapsed": false,
     "input": [
      "#len(ensbl_entrezid), len(vert_entrezdb), len(vertdb)"
     ],
     "language": "python",
     "metadata": {},
     "outputs": [],
     "prompt_number": 36
    },
    {
     "cell_type": "code",
     "collapsed": false,
     "input": [
      "in_ensbl = set(ensdb.keys())\n",
      "in_vert = set(vertdb.keys())"
     ],
     "language": "python",
     "metadata": {},
     "outputs": [],
     "prompt_number": 37
    },
    {
     "cell_type": "code",
     "collapsed": false,
     "input": [
      "len(in_ensbl.difference(in_vert)), len(in_vert.difference(in_ensbl))"
     ],
     "language": "python",
     "metadata": {},
     "outputs": [
      {
       "output_type": "pyout",
       "prompt_number": 38,
       "text": [
        "(502, 1853)"
       ]
      }
     ],
     "prompt_number": 38
    },
    {
     "cell_type": "code",
     "collapsed": false,
     "input": [
      "lengthdb = {}\n",
      "for line in open('line67_split_cuff_models.nr99.length.bed'):\n",
      "    geneid, length = line.strip().split()\n",
      "    lengthdb[geneid] = int(length)"
     ],
     "language": "python",
     "metadata": {},
     "outputs": [],
     "prompt_number": 26
    },
    {
     "cell_type": "markdown",
     "metadata": {},
     "source": [
      "##Analyse data from DESeq"
     ]
    },
    {
     "cell_type": "code",
     "collapsed": false,
     "input": [
      "class DGEResults(object):\n",
      "    def __init__(self):\n",
      "        self.padj_high = []\n",
      "        self.FC_padj_high = []\n",
      "        self.padj_low = []\n",
      "        self.FC_padj_low = []\n",
      "        self.DGE = {}\n",
      "        self.noDGE = {}"
     ],
     "language": "python",
     "metadata": {},
     "outputs": [],
     "prompt_number": 15
    },
    {
     "cell_type": "code",
     "collapsed": false,
     "input": [
      "def get_DGE_data(input_file, cutoff=0.05):\n",
      "    result = DGEResults()\n",
      "    for line in open(input_file):\n",
      "        if line.startswith('(Intercept)'):\n",
      "            continue\n",
      "        cols = line.strip().split()\n",
      "        if cols[3] == 'NA':\n",
      "            continue\n",
      "        gene = cols[0]\n",
      "        FC = float(cols[3]) # fold change\n",
      "        padj = float(cols[6])\n",
      "        log10padj = log10(padj)\n",
      "        if padj < cutoff:\n",
      "            result.padj_high.append(-1 * log10padj)\n",
      "            result.FC_padj_high.append(FC)\n",
      "            result.DGE[gene] = FC\n",
      "        else:\n",
      "            result.padj_low.append(-1 * log10padj)\n",
      "            result.FC_padj_low.append(FC)\n",
      "            result.noDGE[gene] = FC\n",
      "    return result"
     ],
     "language": "python",
     "metadata": {},
     "outputs": [],
     "prompt_number": 72
    },
    {
     "cell_type": "code",
     "collapsed": false,
     "input": [
      "line7_DGE = get_DGE_data('line7_pre_post_libtype_full.txt', 0.05)\n",
      "line7_DGE.FC_padj_low = [-1 * fc for fc in line7_DGE.FC_padj_low] # inverse fold change value\n",
      "line7_DGE.FC_padj_high = [-1 * fc for fc in line7_DGE.FC_padj_high]\n",
      "for gene, fc in line7_DGE.DGE.iteritems():\n",
      "    line7_DGE.DGE[gene] = -1 * fc\n",
      "\n",
      "plot(line7_DGE.FC_padj_low, line7_DGE.padj_low, '.', color='red')\n",
      "plot(line7_DGE.FC_padj_high, line7_DGE.padj_high, '.', color='orange')\n",
      "xlim(-10, 10)\n",
      "ylabel('-Log10(corrected p-value)')\n",
      "xlabel('Log2 Fold Change')\n",
      "savefig('line7_pre_post_DGE_volcano.png')\n",
      "show()"
     ],
     "language": "python",
     "metadata": {},
     "outputs": [
      {
       "output_type": "display_data",
       "png": "[encoded data removed]"
      }
     ],
     "prompt_number": 73
    },
    {
     "cell_type": "code",
     "collapsed": false,
     "input": [
      "len(line7_DGE.DGE), len([fc for fc in line7_DGE.FC_padj_high if fc > 0])"
     ],
     "language": "python",
     "metadata": {},
     "outputs": [
      {
       "output_type": "pyout",
       "prompt_number": 76,
       "text": [
        "(2415, 1655)"
       ]
      }
     ],
     "prompt_number": 76
    },
    {
     "cell_type": "code",
     "collapsed": false,
     "input": [
      "line6_DGE = get_DGE_data('line6_pre_post_libtype_full.txt', 0.05)\n",
      "line6_DGE.FC_padj_low = [-1 * fc for fc in line6_DGE.FC_padj_low] # inverse fold change value\n",
      "line6_DGE.FC_padj_high = [-1 * fc for fc in line6_DGE.FC_padj_high]\n",
      "for gene, fc in line6_DGE.DGE.iteritems():\n",
      "    line6_DGE.DGE[gene] = -1 * fc\n",
      "\n",
      "plot(line6_DGE.FC_padj_low, line6_DGE.padj_low, '.', color='blue')\n",
      "plot(line6_DGE.FC_padj_high, line6_DGE.padj_high, '.', color='green')\n",
      "xlim(-10, 10)\n",
      "ylabel('-Log10(corrected p-value)')\n",
      "xlabel('Log2 Fold Change')\n",
      "savefig('line6_pre_post_DGE_volcano.png')\n",
      "show()"
     ],
     "language": "python",
     "metadata": {},
     "outputs": [
      {
       "output_type": "display_data",
       "png": "[encoded data removed]"
      }
     ],
     "prompt_number": 19
    },
    {
     "cell_type": "code",
     "collapsed": false,
     "input": [
      "len(line6_DGE.DGE), len([fc for fc in line6_DGE.FC_padj_high if fc > 0])"
     ],
     "language": "python",
     "metadata": {},
     "outputs": [
      {
       "output_type": "pyout",
       "prompt_number": 20,
       "text": [
        "(1188, 811)"
       ]
      }
     ],
     "prompt_number": 20
    },
    {
     "cell_type": "code",
     "collapsed": false,
     "input": [
      "line67_DGE = set(line6_DGE.DGE.keys()).intersection(set(line7_DGE.DGE.keys()))"
     ],
     "language": "python",
     "metadata": {},
     "outputs": [],
     "prompt_number": 21
    },
    {
     "cell_type": "code",
     "collapsed": false,
     "input": [
      "len(line67_DGE)"
     ],
     "language": "python",
     "metadata": {},
     "outputs": [
      {
       "output_type": "pyout",
       "prompt_number": 22,
       "text": [
        "734"
       ]
      }
     ],
     "prompt_number": 22
    },
    {
     "cell_type": "code",
     "collapsed": false,
     "input": [
      "line7_up = set([gene for gene, fc in line7_DGE.DGE.iteritems() if fc > 0])\n",
      "line7_down = set([gene for gene, fc in line7_DGE.DGE.iteritems() if fc < 0])"
     ],
     "language": "python",
     "metadata": {},
     "outputs": [],
     "prompt_number": 23
    },
    {
     "cell_type": "code",
     "collapsed": false,
     "input": [
      "line6_up = set([gene for gene, fc in line6_DGE.DGE.iteritems() if fc > 0])\n",
      "line6_down = set([gene for gene, fc in line6_DGE.DGE.iteritems() if fc < 0])"
     ],
     "language": "python",
     "metadata": {},
     "outputs": [],
     "prompt_number": 24
    },
    {
     "cell_type": "code",
     "collapsed": false,
     "input": [
      "line67_up = line6_up.intersection(line7_up); line67_down = line6_down.intersection(line7_down)"
     ],
     "language": "python",
     "metadata": {},
     "outputs": [],
     "prompt_number": 25
    },
    {
     "cell_type": "code",
     "collapsed": false,
     "input": [
      "len(line67_up)"
     ],
     "language": "python",
     "metadata": {},
     "outputs": [
      {
       "output_type": "pyout",
       "prompt_number": 26,
       "text": [
        "588"
       ]
      }
     ],
     "prompt_number": 26
    },
    {
     "cell_type": "code",
     "collapsed": false,
     "input": [
      "for gene in line67_DGE.difference(line67_up.union(line67_down)): # gene differentially expressed in a reverse direction\n",
      "    if gene in vert_entrezdb:\n",
      "        symbol = get_gene_symbol(vert_entrezdb[gene])\n",
      "        entrezid = vert_entrezdb[gene]\n",
      "    else:\n",
      "        symbol = 'unknown'\n",
      "        entrezid = 'NA'\n",
      "    print '%s\\t%.2f\\t%.2f\\t%s\\t%s' % (gene, line6_DGE.DGE[gene], line7_DGE.DGE[gene], symbol, entrezid)"
     ],
     "language": "python",
     "metadata": {},
     "outputs": [
      {
       "output_type": "stream",
       "stream": "stdout",
       "text": [
        "chr1:12379\t1.08\t-1.13\tTAF1D\t419002\n",
        "chr1:2953\t-1.70\t2.57\tLYG2\t395708"
       ]
      },
      {
       "output_type": "stream",
       "stream": "stdout",
       "text": [
        "\n",
        "chr6:25206\t-5.12\t3.51\tSFTPA1\t395308"
       ]
      },
      {
       "output_type": "stream",
       "stream": "stdout",
       "text": [
        "\n",
        "chr7:30309\t1.57\t-1.68\tLOC424145\t424145"
       ]
      },
      {
       "output_type": "stream",
       "stream": "stdout",
       "text": [
        "\n",
        "chr1:35936\t1.20\t-1.04\tunknown\tNA\n",
        "chr6:3025\t-3.30\t8.31\tLL\t423630"
       ]
      },
      {
       "output_type": "stream",
       "stream": "stdout",
       "text": [
        "\n",
        "chr2:17498\t-1.12\t0.87\tSERPINB10\t395715"
       ]
      },
      {
       "output_type": "stream",
       "stream": "stdout",
       "text": [
        "\n"
       ]
      }
     ],
     "prompt_number": 51
    },
    {
     "cell_type": "code",
     "collapsed": false,
     "input": [
      "len([g for g in line7_up if g in vert_entrezdb]), len([g for g in line7_down if g in vert_entrezdb]), len(line7_up), len(line7_down)"
     ],
     "language": "python",
     "metadata": {},
     "outputs": [
      {
       "output_type": "pyout",
       "prompt_number": 53,
       "text": [
        "(1487, 688, 1655, 760)"
       ]
      }
     ],
     "prompt_number": 53
    },
    {
     "cell_type": "code",
     "collapsed": false,
     "input": [
      "len([g for g in line6_up if g in vert_entrezdb]), len([g for g in line6_down if g in vert_entrezdb])"
     ],
     "language": "python",
     "metadata": {},
     "outputs": [
      {
       "output_type": "pyout",
       "prompt_number": 54,
       "text": [
        "(669, 342)"
       ]
      }
     ],
     "prompt_number": 54
    },
    {
     "cell_type": "code",
     "collapsed": false,
     "input": [
      "len([g for g in line67_up if g in vert_entrezdb]), len([g for g in line67_down if g in vert_entrezdb])"
     ],
     "language": "python",
     "metadata": {},
     "outputs": [
      {
       "output_type": "pyout",
       "prompt_number": 55,
       "text": [
        "(539, 133)"
       ]
      }
     ],
     "prompt_number": 55
    },
    {
     "cell_type": "code",
     "collapsed": false,
     "input": [
      "line7_all = line7_up.union(line7_down)"
     ],
     "language": "python",
     "metadata": {},
     "outputs": [],
     "prompt_number": 56
    },
    {
     "cell_type": "code",
     "collapsed": false,
     "input": [
      "line6_all = line6_up.union(line6_down)"
     ],
     "language": "python",
     "metadata": {},
     "outputs": [],
     "prompt_number": 57
    },
    {
     "cell_type": "code",
     "collapsed": false,
     "input": [
      "line6_change_only = set([gene for gene in line6_all.difference(line7_all) if gene in vert_entrezdb and abs(line6_DGE.DGE[gene]) > 1.0])"
     ],
     "language": "python",
     "metadata": {},
     "outputs": [],
     "prompt_number": 58
    },
    {
     "cell_type": "code",
     "collapsed": false,
     "input": [
      "line6_change_top = []\n",
      "for gene in line6_change_only:\n",
      "    id = vert_entrezdb[gene]\n",
      "    fc = line6_DGE.DGE[gene]\n",
      "    line6_change_top.append((id, fc))"
     ],
     "language": "python",
     "metadata": {},
     "outputs": [],
     "prompt_number": 59
    },
    {
     "cell_type": "code",
     "collapsed": false,
     "input": [
      "for geneid, fc in sorted(line6_change_top, key=lambda x: x[-1])[:20]:\n",
      "    print geneid, get_gene_symbol(geneid), fc"
     ],
     "language": "python",
     "metadata": {},
     "outputs": [
      {
       "output_type": "stream",
       "stream": "stdout",
       "text": [
        "100549050 "
       ]
      },
      {
       "output_type": "stream",
       "stream": "stdout",
       "text": [
        "LOC100549050 -2.85361007025\n",
        "414337 "
       ]
      },
      {
       "output_type": "stream",
       "stream": "stdout",
       "text": [
        "CATHL3 -2.80054489475\n",
        "427816 "
       ]
      },
      {
       "output_type": "stream",
       "stream": "stdout",
       "text": [
        "LOC427816 -2.78315055793\n",
        "407776 "
       ]
      },
      {
       "output_type": "stream",
       "stream": "stdout",
       "text": [
        "GAL6 -2.77015786967\n",
        "373964 "
       ]
      },
      {
       "output_type": "stream",
       "stream": "stdout",
       "text": [
        "MSTN -2.72611869871\n",
        "395840 "
       ]
      },
      {
       "output_type": "stream",
       "stream": "stdout",
       "text": [
        "GAL2 -2.60094287498\n",
        "418981 "
       ]
      },
      {
       "output_type": "stream",
       "stream": "stdout",
       "text": [
        "MMP10 -2.56380091552\n",
        "420407 "
       ]
      },
      {
       "output_type": "stream",
       "stream": "stdout",
       "text": [
        "CAMP -2.54644941965\n",
        "417020 "
       ]
      },
      {
       "output_type": "stream",
       "stream": "stdout",
       "text": [
        "NEFH -2.52967775773\n",
        "406419 "
       ]
      },
      {
       "output_type": "stream",
       "stream": "stdout",
       "text": [
        "ywhabb -2.52266009063\n",
        "396471 "
       ]
      },
      {
       "output_type": "stream",
       "stream": "stdout",
       "text": [
        "LECT2 -2.51175677231\n",
        "395130 "
       ]
      },
      {
       "output_type": "stream",
       "stream": "stdout",
       "text": [
        "OPTC -2.50790553315\n",
        "395841 "
       ]
      },
      {
       "output_type": "stream",
       "stream": "stdout",
       "text": [
        "GAL1 -2.43873170708\n",
        "395453 "
       ]
      },
      {
       "output_type": "stream",
       "stream": "stdout",
       "text": [
        "FGF18 -2.42527059809\n",
        "417020 "
       ]
      },
      {
       "output_type": "stream",
       "stream": "stdout",
       "text": [
        "NEFH -2.30762784947\n",
        "422748 "
       ]
      },
      {
       "output_type": "stream",
       "stream": "stdout",
       "text": [
        "NMU -2.27349827538\n",
        "423563 "
       ]
      },
      {
       "output_type": "stream",
       "stream": "stdout",
       "text": [
        "MDGA2 -2.27121548898\n",
        "396161 "
       ]
      },
      {
       "output_type": "stream",
       "stream": "stdout",
       "text": [
        "HPCAL1 -2.22773633066\n",
        "768904 "
       ]
      },
      {
       "output_type": "stream",
       "stream": "stdout",
       "text": [
        "DPT -2.22049299844\n",
        "418839 "
       ]
      },
      {
       "output_type": "stream",
       "stream": "stdout",
       "text": [
        "ENOX1 -2.17595969317\n"
       ]
      }
     ],
     "prompt_number": 62
    },
    {
     "cell_type": "code",
     "collapsed": false,
     "input": [
      "line7_change_only = set([gene for gene in line7_all.difference(line6_all) if gene in vert_entrezdb and abs(line7_DGE.DGE[gene]) > 1.0])"
     ],
     "language": "python",
     "metadata": {},
     "outputs": [],
     "prompt_number": 63
    },
    {
     "cell_type": "code",
     "collapsed": false,
     "input": [
      "line7_change_top = []\n",
      "for gene in line7_change_only:\n",
      "    id = vert_entrezdb[gene]\n",
      "    fc = line7_DGE.DGE[gene]\n",
      "    line7_change_top.append((id, fc))"
     ],
     "language": "python",
     "metadata": {},
     "outputs": [],
     "prompt_number": 64
    },
    {
     "cell_type": "code",
     "collapsed": false,
     "input": [
      "for geneid, fc in sorted(line7_change_top, key=lambda x: x[-1])[:20]:\n",
      "    print get_gene_symbol(geneid), geneid, fc"
     ],
     "language": "python",
     "metadata": {},
     "outputs": [
      {
       "output_type": "stream",
       "stream": "stdout",
       "text": [
        "RDH5 424169 -38.5965867114\n",
        "NPHP4"
       ]
      },
      {
       "output_type": "stream",
       "stream": "stdout",
       "text": [
        " 419377 -37.1306281137\n",
        "KIAA0825"
       ]
      },
      {
       "output_type": "stream",
       "stream": "stdout",
       "text": [
        " 427110 -36.9942626812\n",
        "LOC100857236"
       ]
      },
      {
       "output_type": "stream",
       "stream": "stdout",
       "text": [
        " 100857236 -36.8581858857\n",
        "LOC100550854"
       ]
      },
      {
       "output_type": "stream",
       "stream": "stdout",
       "text": [
        " 100550854 -5.00664836378\n",
        "AMY2A"
       ]
      },
      {
       "output_type": "stream",
       "stream": "stdout",
       "text": [
        " 414140 -4.96084111983\n",
        "cxxc4"
       ]
      },
      {
       "output_type": "stream",
       "stream": "stdout",
       "text": [
        " 779646 -4.76314849301\n",
        "C14H7ORF62"
       ]
      },
      {
       "output_type": "stream",
       "stream": "stdout",
       "text": [
        " 771073 -4.20260604415\n",
        "LOC100858025"
       ]
      },
      {
       "output_type": "stream",
       "stream": "stdout",
       "text": [
        " 100858025 -4.08449089085\n",
        "LOC100859213"
       ]
      },
      {
       "output_type": "stream",
       "stream": "stdout",
       "text": [
        " 100859213 -4.03107986818\n",
        "OSR1"
       ]
      },
      {
       "output_type": "stream",
       "stream": "stdout",
       "text": [
        " 100316920 -3.97552886391\n",
        "SYNPR"
       ]
      },
      {
       "output_type": "stream",
       "stream": "stdout",
       "text": [
        " 396359 -3.78070175451\n",
        "LOC770295"
       ]
      },
      {
       "output_type": "stream",
       "stream": "stdout",
       "text": [
        " 770295 -3.72964130169\n",
        "SH2D5"
       ]
      },
      {
       "output_type": "stream",
       "stream": "stdout",
       "text": [
        " 769539 -3.68832770058\n",
        "MEX3A"
       ]
      },
      {
       "output_type": "stream",
       "stream": "stdout",
       "text": [
        " 426350 -3.53634020871\n",
        "LOC768462"
       ]
      },
      {
       "output_type": "stream",
       "stream": "stdout",
       "text": [
        " 768462 -3.28814083155\n",
        "ADAMTS8"
       ]
      },
      {
       "output_type": "stream",
       "stream": "stdout",
       "text": [
        " 769222 -3.26905510414\n",
        "RDH5"
       ]
      },
      {
       "output_type": "stream",
       "stream": "stdout",
       "text": [
        " 424169 -3.24635712179\n",
        "MR1"
       ]
      },
      {
       "output_type": "stream",
       "stream": "stdout",
       "text": [
        " 427746 -3.09700704848\n",
        "NTRK3"
       ]
      },
      {
       "output_type": "stream",
       "stream": "stdout",
       "text": [
        " 396081 -3.01155315526\n"
       ]
      }
     ],
     "prompt_number": 66
    },
    {
     "cell_type": "code",
     "collapsed": false,
     "input": [
      "len(line7_change_only)"
     ],
     "language": "python",
     "metadata": {},
     "outputs": [
      {
       "output_type": "pyout",
       "prompt_number": 67,
       "text": [
        "1033"
       ]
      }
     ],
     "prompt_number": 67
    },
    {
     "cell_type": "code",
     "collapsed": false,
     "input": [
      "line67_pre_DGE = get_DGE_data('line67_pre_libtype_full.txt', 0.05)\n",
      "line67_pre_DGE.FC_padj_low = [-1 * fc for fc in line67_pre_DGE.FC_padj_low] # inverse fold change value\n",
      "line67_pre_DGE.FC_padj_high = [-1 * fc for fc in line67_pre_DGE.FC_padj_high]\n",
      "for gene, fc in line67_pre_DGE.DGE.iteritems():\n",
      "    line67_pre_DGE.DGE[gene] = -1 * fc\n",
      "\n",
      "plot(line67_pre_DGE.FC_padj_low, line67_pre_DGE.padj_low, '.', color='blue')\n",
      "plot(line67_pre_DGE.FC_padj_high, line67_pre_DGE.padj_high, '.', color='green')\n",
      "xlim(-10, 10)\n",
      "ylabel('-Log10(corrected p-value)')\n",
      "xlabel('Log2 Fold Change')\n",
      "savefig('line67_pre_DGE_volcano.png')\n",
      "show()"
     ],
     "language": "python",
     "metadata": {},
     "outputs": [
      {
       "output_type": "display_data",
       "png": "[encoded data removed]"
      }
     ],
     "prompt_number": 68
    },
    {
     "cell_type": "code",
     "collapsed": false,
     "input": [
      "len(line67_pre_DGE.DGE)"
     ],
     "language": "python",
     "metadata": {},
     "outputs": [
      {
       "output_type": "pyout",
       "prompt_number": 69,
       "text": [
        "2359"
       ]
      }
     ],
     "prompt_number": 69
    },
    {
     "cell_type": "code",
     "collapsed": false,
     "input": [
      "line67_post_DGE = get_DGE_data('line67_post_libtype_full2.txt', 0.05)\n",
      "line67_post_DGE.FC_padj_low = [-1 * fc for fc in line67_post_DGE.FC_padj_low] # inverse fold change value\n",
      "line67_post_DGE.FC_padj_high = [-1 * fc for fc in line67_post_DGE.FC_padj_high]\n",
      "for gene, fc in line67_post_DGE.DGE.iteritems():\n",
      "    line67_post_DGE.DGE[gene] = -1 * fc\n",
      "\n",
      "plot(line67_post_DGE.FC_padj_low, line67_post_DGE.padj_low, '.', color='red')\n",
      "plot(line67_post_DGE.FC_padj_high, line67_post_DGE.padj_high, '.', color='orange')\n",
      "xlim(-10, 10)\n",
      "ylabel('-Log10(corrected p-value)')\n",
      "xlabel('Log2 Fold Change')\n",
      "savefig('line67_post_DGE_volcano.png')"
     ],
     "language": "python",
     "metadata": {},
     "outputs": [
      {
       "output_type": "display_data",
       "png": "[encoded data removed]"
      }
     ],
     "prompt_number": 70
    },
    {
     "cell_type": "code",
     "collapsed": false,
     "input": [
      "line67_post_up = set([gene for gene, fc in line67_post_DGE.DGE.iteritems() if fc > 0])\n",
      "print len(line67_post_up), len(line67_post_DGE.DGE)"
     ],
     "language": "python",
     "metadata": {},
     "outputs": [
      {
       "output_type": "stream",
       "stream": "stdout",
       "text": [
        "973 1715\n"
       ]
      }
     ],
     "prompt_number": 71
    },
    {
     "cell_type": "markdown",
     "metadata": {},
     "source": [
      "##KEGG Pathway analysis"
     ]
    },
    {
     "cell_type": "markdown",
     "metadata": {},
     "source": [
      "###Obtain Entrez IDs from GIs."
     ]
    },
    {
     "cell_type": "code",
     "collapsed": false,
     "input": [
      "op = open('vertebrate_rna_GI.txt', 'w')\n",
      "for gi in vertdb.itervalues():\n",
      "    print >> op, gi[0]\n",
      "op.close()"
     ],
     "language": "python",
     "metadata": {},
     "outputs": [],
     "prompt_number": 41
    },
    {
     "cell_type": "markdown",
     "metadata": {},
     "source": [
      "    $ python BioUtils/gi2entrez.py vertebrate_rna_GI.txt > vertebrate_rna_Entrez.txt"
     ]
    },
    {
     "cell_type": "code",
     "collapsed": false,
     "input": [
      "vert_gi_db = {} # stores Entrez IDs for vertebrate nucleotide sequences, key=GI, value=Entrez\n",
      "for line in open('vertebrate_rna_Entrez.txt'):\n",
      "    geneid, entrezid = line.strip().split()\n",
      "    if geneid not in vert_gi_db:\n",
      "        vert_gi_db[geneid] = entrezid"
     ],
     "language": "python",
     "metadata": {},
     "outputs": [],
     "prompt_number": 42
    },
    {
     "cell_type": "code",
     "collapsed": false,
     "input": [
      "vert_entrezdb = {} # key=geneID, value=Entrez\n",
      "for id in vertdb:\n",
      "    vert_entrezdb[id] = vert_gi_db[vertdb[id][0]]"
     ],
     "language": "python",
     "metadata": {},
     "outputs": [],
     "prompt_number": 43
    },
    {
     "cell_type": "code",
     "collapsed": false,
     "input": [
      "vert_entrezdb['chr4:31455']"
     ],
     "language": "python",
     "metadata": {},
     "outputs": [
      {
       "output_type": "pyout",
       "prompt_number": 47,
       "text": [
        "'422170'"
       ]
      }
     ],
     "prompt_number": 47
    },
    {
     "cell_type": "markdown",
     "metadata": {},
     "source": [
      "###Obtain gene symbol"
     ]
    },
    {
     "cell_type": "code",
     "collapsed": false,
     "input": [
      "def get_gene_symbol(entrezid):\n",
      "    from Bio import Entrez\n",
      "    request = Entrez.epost(\"gene\",id=entrezid)\n",
      "    try:\n",
      "        result = Entrez.read(request)\n",
      "    except RuntimeError as e:\n",
      "        return 'NA'\n",
      "    webEnv = result[\"WebEnv\"]\n",
      "    queryKey = result[\"QueryKey\"]\n",
      "    data = Entrez.esummary(db=\"gene\", webenv=webEnv, query_key=queryKey)\n",
      "    annotations = Entrez.read(data)\n",
      "    return annotations[0]['Name']"
     ],
     "language": "python",
     "metadata": {},
     "outputs": [],
     "prompt_number": 9
    },
    {
     "cell_type": "markdown",
     "metadata": {},
     "source": [
      "###Exporting data to GOSeq"
     ]
    },
    {
     "cell_type": "code",
     "collapsed": false,
     "input": [
      "def export_goseq(data, outfile, vert_entrezdb):\n",
      "    unique_ids = set()\n",
      "    unknown_entrez = set()\n",
      "    for gene in data.DGE:\n",
      "        try:\n",
      "            id = vert_entrezdb[gene]\n",
      "        except KeyError:\n",
      "            unknown_entrez.add(gene)\n",
      "            continue\n",
      "        if id not in unique_ids:\n",
      "            print >> op, '%s\\t%d\\t%s\\t%d\\t%e' % (gene, 1, id, lengthdb[gene], data.DGE[gene])\n",
      "            unique_ids.add(id)\n",
      "    for gene in data.noDGE:\n",
      "        try:\n",
      "            id = vert_entrezdb[gene]\n",
      "        except KeyError:\n",
      "            unknown_entrez.add(gene)\n",
      "            continue\n",
      "        if id not in unique_ids:\n",
      "            print >> op, '%s\\t%d\\t%s\\t%d\\t%e' % (gene, 0, id, lengthdb[gene], data.noDGE[gene])\n",
      "            unique_ids.add(id)\n",
      "    return unknown_entrez"
     ],
     "language": "python",
     "metadata": {},
     "outputs": []
    },
    {
     "cell_type": "code",
     "collapsed": false,
     "input": [
      "op = open('line7_pre_post_DGE_GoSeq_refseq.txt', 'w')\n",
      "line7_unk_ent = export_goseq(line7_DGE, op, vert_entrezdb)\n",
      "op.close()"
     ],
     "language": "python",
     "metadata": {},
     "outputs": []
    },
    {
     "cell_type": "code",
     "collapsed": false,
     "input": [
      "op = open('line6_pre_post_DGE_GoSeq_refseq.txt', 'w')\n",
      "line6_unk_ent = export_goseq(line6_DGE, op, vert_entrezdb)\n",
      "op.close()"
     ],
     "language": "python",
     "metadata": {},
     "outputs": []
    },
    {
     "cell_type": "code",
     "collapsed": false,
     "input": [
      "len(line6_unk_ent), len(line7_unk_ent)"
     ],
     "language": "python",
     "metadata": {},
     "outputs": []
    },
    {
     "cell_type": "code",
     "collapsed": false,
     "input": [
      "op = open('line67_pre_DGE_GoSeq_refseq.txt', 'w')\n",
      "line67_pre_unk_ent = export_goseq(line67_pre_DGE, op, vert_entrezdb)\n",
      "op.close()"
     ],
     "language": "python",
     "metadata": {},
     "outputs": []
    },
    {
     "cell_type": "code",
     "collapsed": false,
     "input": [
      "len(line67_pre_unk_ent)"
     ],
     "language": "python",
     "metadata": {},
     "outputs": []
    },
    {
     "cell_type": "code",
     "collapsed": false,
     "input": [
      "op = open('line67_post_DGE_GoSeq_refseq2.txt', 'w')\n",
      "line67_post_unk_ent = export_goseq(line67_post_DGE, op, vert_entrezdb)\n",
      "op.close()"
     ],
     "language": "python",
     "metadata": {},
     "outputs": []
    },
    {
     "cell_type": "code",
     "collapsed": false,
     "input": [
      "for line in open('line7_pre_post_DGE_GOSeq_KEGG_genes_04145'): # Phagosome\n",
      "    _, entrezid, geneid, fc = line.strip().split()\n",
      "    symbol = get_gene_symbol(entrezid)\n",
      "    print '\\t'.join([symbol, entrezid, fc, geneid])"
     ],
     "language": "python",
     "metadata": {},
     "outputs": [
      {
       "output_type": "stream",
       "stream": "stdout",
       "text": [
        "TLR2-1\t374141\t0.84158\tchr4:31660\n",
        "MBL2\t374267\t6.522837\tchr6:2647"
       ]
      },
      {
       "output_type": "stream",
       "stream": "stdout",
       "text": [
        "\n",
        "SFTPA1\t395308\t3.505894\tchr6:25206"
       ]
      },
      {
       "output_type": "stream",
       "stream": "stdout",
       "text": [
        "\n",
        "TCIRG1\t395472\t1.513113\tchr5:21509"
       ]
      },
      {
       "output_type": "stream",
       "stream": "stdout",
       "text": [
        "\n",
        "ATP6V1B2\t395497\t1.308911\tchr22:9993"
       ]
      },
      {
       "output_type": "stream",
       "stream": "stdout",
       "text": [
        "\n",
        "LAMP1\t396220\t1.660781\tchr1:20811"
       ]
      },
      {
       "output_type": "stream",
       "stream": "stdout",
       "text": [
        "\n",
        "PLA2R1\t404304\t2.076549\tchr7:11683"
       ]
      },
      {
       "output_type": "stream",
       "stream": "stdout",
       "text": [
        "\n",
        "SEC61A1\t416023\t0.9763505\tchr12:7772"
       ]
      },
      {
       "output_type": "stream",
       "stream": "stdout",
       "text": [
        "\n",
        "TLR4\t417241\t1.383701\tchr17:1167"
       ]
      },
      {
       "output_type": "stream",
       "stream": "stdout",
       "text": [
        "\n",
        "CD36\t417730\t-0.8033411\tchr1:21563"
       ]
      },
      {
       "output_type": "stream",
       "stream": "stdout",
       "text": [
        "\n",
        "ATP6V1E1\t418162\t1.31151\tchr1:25964"
       ]
      },
      {
       "output_type": "stream",
       "stream": "stdout",
       "text": [
        "\n",
        "TUBA4A\t418166\t4.549561\tchr1:3312"
       ]
      },
      {
       "output_type": "stream",
       "stream": "stdout",
       "text": [
        "\n",
        "C1R\t418295\t3.357135\tchr1:2635"
       ]
      },
      {
       "output_type": "stream",
       "stream": "stdout",
       "text": [
        "\n",
        "MRC2\t419950\t-1.168255\tchr27:6705"
       ]
      },
      {
       "output_type": "stream",
       "stream": "stdout",
       "text": [
        "\n",
        "ATP6V0D2\t420210\t4.451236\tchr2:34112"
       ]
      },
      {
       "output_type": "stream",
       "stream": "stdout",
       "text": [
        "\n",
        "DYNC1LI1\t420668\t0.7924706\tchr2:10924"
       ]
      },
      {
       "output_type": "stream",
       "stream": "stdout",
       "text": [
        "\n",
        "TUBB6\t421037\t0.8767976\tchr2:13851"
       ]
      },
      {
       "output_type": "stream",
       "stream": "stdout",
       "text": [
        "\n",
        "COLEC12\t421061\t-0.8500367\tchr2:16428"
       ]
      },
      {
       "output_type": "stream",
       "stream": "stdout",
       "text": [
        "\n",
        "ATP6V1C2\t421939\t2.976052\tchr3:20406"
       ]
      },
      {
       "output_type": "stream",
       "stream": "stdout",
       "text": [
        "\n",
        "ATP6V1G3\t424349\t4.701129\tchr8:24626"
       ]
      },
      {
       "output_type": "stream",
       "stream": "stdout",
       "text": [
        "\n",
        "NCF2\t424445\t1.464113\tchr8:5462"
       ]
      },
      {
       "output_type": "stream",
       "stream": "stdout",
       "text": [
        "\n",
        "ATP6V1H\t426199\t0.8482121\tchr2:24246"
       ]
      },
      {
       "output_type": "stream",
       "stream": "stdout",
       "text": [
        "\n",
        "SEC61A2\t426369\t1.022794\tchr1:10894"
       ]
      },
      {
       "output_type": "stream",
       "stream": "stdout",
       "text": [
        "\n",
        "CTSL2\t427466\t0.8609252\tchrZ:21571"
       ]
      },
      {
       "output_type": "stream",
       "stream": "stdout",
       "text": [
        "\n",
        "TAP1\t427727\t1.425301\tchr16:18109"
       ]
      },
      {
       "output_type": "stream",
       "stream": "stdout",
       "text": [
        "\n",
        "TAP2\t427728\t1.460801\tchr16:17619"
       ]
      },
      {
       "output_type": "stream",
       "stream": "stdout",
       "text": [
        "\n",
        "MR1\t427746\t1.108021\tchr16:10897"
       ]
      },
      {
       "output_type": "stream",
       "stream": "stdout",
       "text": [
        "\n",
        "COLEC11\t428649\t-1.437397\tchr3:8269"
       ]
      },
      {
       "output_type": "stream",
       "stream": "stdout",
       "text": [
        "\n",
        "BLB2\t693256\t0.916103\tchr16:18451"
       ]
      },
      {
       "output_type": "stream",
       "stream": "stdout",
       "text": [
        "\n",
        "STX12\t769300\t1.516355\tchr23:5984"
       ]
      },
      {
       "output_type": "stream",
       "stream": "stdout",
       "text": [
        "\n",
        "LOC771782\t771782\t2.28099\tchr26:9498"
       ]
      },
      {
       "output_type": "stream",
       "stream": "stdout",
       "text": [
        "\n",
        "LOC771888\t771888\t0.9299674\tchr2:19676"
       ]
      },
      {
       "output_type": "stream",
       "stream": "stdout",
       "text": [
        "\n"
       ]
      }
     ],
     "prompt_number": 79
    },
    {
     "cell_type": "code",
     "collapsed": false,
     "input": [
      "for line in open('line7_pre_post_DGE_GOSeq_KEGG_genes_04672'): # Intestinal network for IgA production\n",
      "    _, entrezid, geneid, fc = line.strip().split()\n",
      "    symbol = get_gene_symbol(entrezid)\n",
      "    print '\\t'.join([symbol, entrezid, fc, geneid])"
     ],
     "language": "python",
     "metadata": {},
     "outputs": [
      {
       "output_type": "stream",
       "stream": "stdout",
       "text": [
        "TNFSF13B\t374229\t0.9515611\tchr1:12670\n",
        "IL15\t395258\t1.093382\tchr4:19039"
       ]
      },
      {
       "output_type": "stream",
       "stream": "stdout",
       "text": [
        "\n",
        "CXCR4\t395324\t0.7623813\tchr7:17796"
       ]
      },
      {
       "output_type": "stream",
       "stream": "stdout",
       "text": [
        "\n",
        "CD40\t395385\t1.162231\tchr20:14902"
       ]
      },
      {
       "output_type": "stream",
       "stream": "stdout",
       "text": [
        "\n",
        "CD28\t396249\t0.8979005\tchr7:8714"
       ]
      },
      {
       "output_type": "stream",
       "stream": "stdout",
       "text": [
        "\n",
        "IL15RA\t416686\t0.8648959\tchr1:19658"
       ]
      },
      {
       "output_type": "stream",
       "stream": "stdout",
       "text": [
        "\n",
        "TNFRSF13C\t417983\t-1.229904\tchr1:19381"
       ]
      },
      {
       "output_type": "stream",
       "stream": "stdout",
       "text": [
        "\n",
        "AICDA\t418257\t-1.713995\tchr1:19084"
       ]
      },
      {
       "output_type": "stream",
       "stream": "stdout",
       "text": [
        "\n",
        "ICOS\t424105\t1.054164\tchr7:4241"
       ]
      },
      {
       "output_type": "stream",
       "stream": "stdout",
       "text": [
        "\n",
        "CD86\t427944\t1.890718\tchr1:13148"
       ]
      },
      {
       "output_type": "stream",
       "stream": "stdout",
       "text": [
        "\n",
        "IL10\t428264\t3.323273\tchr26:25252"
       ]
      },
      {
       "output_type": "stream",
       "stream": "stdout",
       "text": [
        "\n",
        "BLB2\t693256\t0.916103\tchr16:18451"
       ]
      },
      {
       "output_type": "stream",
       "stream": "stdout",
       "text": [
        "\n",
        "TNFRSF13B\t770275\t-1.448461\tchr14:11182"
       ]
      },
      {
       "output_type": "stream",
       "stream": "stdout",
       "text": [
        "\n"
       ]
      }
     ],
     "prompt_number": 80
    },
    {
     "cell_type": "code",
     "collapsed": false,
     "input": [
      "for line in open('line7_pre_post_DGE_GOSeq_KEGG_genes_04620'): # Intestinal network for IgA production\n",
      "    _, entrezid, geneid, fc = line.strip().split()\n",
      "    symbol = get_gene_symbol(entrezid)\n",
      "    print '\\t'.join([symbol, entrezid, fc, geneid])"
     ],
     "language": "python",
     "metadata": {},
     "outputs": [
      {
       "output_type": "stream",
       "stream": "stdout",
       "text": [
        "TLR2-1\t374141\t0.84158\tchr4:31660\n",
        "RIPK1\t378921\t1.327251\tchr2:5202"
       ]
      },
      {
       "output_type": "stream",
       "stream": "stdout",
       "text": [
        "\n",
        "CD40\t395385\t1.162231\tchr20:14902"
       ]
      },
      {
       "output_type": "stream",
       "stream": "stdout",
       "text": [
        "\n",
        "CCL4\t395551\t4.438633\tchr19:2834"
       ]
      },
      {
       "output_type": "stream",
       "stream": "stdout",
       "text": [
        "\n",
        "IFNAR1\t395665\t1.440839\tchr1:7757"
       ]
      },
      {
       "output_type": "stream",
       "stream": "stdout",
       "text": [
        "\n",
        "IL8L1\t395872\t1.208578\tchr4:6563"
       ]
      },
      {
       "output_type": "stream",
       "stream": "stdout",
       "text": [
        "\n",
        "IRF7\t396330\t1.823949\tchr5:10719"
       ]
      },
      {
       "output_type": "stream",
       "stream": "stdout",
       "text": [
        "\n",
        "FOS\t396512\t0.984979\tchr5:8008"
       ]
      },
      {
       "output_type": "stream",
       "stream": "stdout",
       "text": [
        "\n",
        "TLR4\t417241\t1.383701\tchr17:1167"
       ]
      },
      {
       "output_type": "stream",
       "stream": "stdout",
       "text": [
        "\n",
        "TBK1\t417825\t3.023339\tchr4:9251"
       ]
      },
      {
       "output_type": "stream",
       "stream": "stdout",
       "text": [
        "\n",
        "LY96\t420189\t1.849854\tchr2:5673"
       ]
      },
      {
       "output_type": "stream",
       "stream": "stdout",
       "text": [
        "\n",
        "MYD88\t420420\t1.485995\tchr2:12286"
       ]
      },
      {
       "output_type": "stream",
       "stream": "stdout",
       "text": [
        "\n",
        "TLR3\t422720\t2.740619\tchr4:6501"
       ]
      },
      {
       "output_type": "stream",
       "stream": "stdout",
       "text": [
        "\n",
        "TOLLIP\t423099\t1.116816\tchr5:20482"
       ]
      },
      {
       "output_type": "stream",
       "stream": "stdout",
       "text": [
        "\n",
        "FADD\t423146\t0.8996554\tchr5:12083"
       ]
      },
      {
       "output_type": "stream",
       "stream": "stdout",
       "text": [
        "\n",
        "STAT1\t424044\t3.907536\tchr7:17123"
       ]
      },
      {
       "output_type": "stream",
       "stream": "stdout",
       "text": [
        "\n",
        "TLR1LA\t426274\t1.261954\tchr4:20631"
       ]
      },
      {
       "output_type": "stream",
       "stream": "stdout",
       "text": [
        "\n",
        "CD86\t427944\t1.890718\tchr1:13148"
       ]
      },
      {
       "output_type": "stream",
       "stream": "stdout",
       "text": [
        "\n",
        "IFNB\t554219\t7.694786\tchrZ:26748"
       ]
      },
      {
       "output_type": "stream",
       "stream": "stdout",
       "text": [
        "\n",
        "MAPK12\t769763\t0.9333399\tchr1:6240"
       ]
      },
      {
       "output_type": "stream",
       "stream": "stdout",
       "text": [
        "\n",
        "TLR1LB\t771173\t1.096807\tchr4:20632"
       ]
      },
      {
       "output_type": "stream",
       "stream": "stdout",
       "text": [
        "\n"
       ]
      }
     ],
     "prompt_number": 81
    },
    {
     "cell_type": "markdown",
     "metadata": {},
     "source": [
      "##GOSeq Analysis"
     ]
    },
    {
     "cell_type": "markdown",
     "metadata": {},
     "source": [
      "Obtain GO terms from a file."
     ]
    },
    {
     "cell_type": "code",
     "collapsed": false,
     "input": [
      "''' Deprecated '''\n",
      "ensGO = set()\n",
      "for line in open(\"Gallus_gallus.WASHUC2.69_GO.txt\"):\n",
      "    if line.startswith('Ensembl'): continue\n",
      "    cols = line.strip().split()\n",
      "    if len(cols) < 8: continue\n",
      "    entrezid = cols[2]\n",
      "    if entrezid != '':\n",
      "        ensGO.add(entrezid)"
     ],
     "language": "python",
     "metadata": {},
     "outputs": []
    },
    {
     "cell_type": "markdown",
     "metadata": {},
     "source": [
      "##Colored Pathway"
     ]
    },
    {
     "cell_type": "code",
     "collapsed": false,
     "input": [
      "pathway_genes = !cat KEGG_04620_genes.txt # Toll-like receptor pathway\n",
      "pathway_genes = set(pathway_genes)"
     ],
     "language": "python",
     "metadata": {},
     "outputs": []
    },
    {
     "cell_type": "code",
     "collapsed": false,
     "input": [
      "len(pathway_genes) # Total number of genes"
     ],
     "language": "python",
     "metadata": {},
     "outputs": []
    },
    {
     "cell_type": "code",
     "collapsed": false,
     "input": [
      "def read_genes_path(data, pathway_genes):\n",
      "    data_in_path = set()\n",
      "    for gene in data.DGE:\n",
      "        if gene not in vert_entrezdb:\n",
      "            continue\n",
      "        entrezid = vert_entrezdb[gene]\n",
      "        if entrezid in pathway_genes:\n",
      "            data_in_path.add(entrezid)\n",
      "    return data_in_path"
     ],
     "language": "python",
     "metadata": {},
     "outputs": []
    },
    {
     "cell_type": "code",
     "collapsed": false,
     "input": [
      "def write_color(data1, data2, output):\n",
      "    for gene in data1.difference(data2):\n",
      "        print >> op, '%s\\t%s' % (gene, 'red')\n",
      "    for gene in data2.intersection(data1):\n",
      "        print >> op, '%s\\t%s' % (gene, 'orange')\n",
      "    for gene in data2.difference(data1):\n",
      "        print >> op, '%s\\t%s' % (gene, 'yellow')"
     ],
     "language": "python",
     "metadata": {},
     "outputs": []
    },
    {
     "cell_type": "code",
     "collapsed": false,
     "input": [
      "line7_in_path = read_genes_path(line7_DGE, pathway_genes)\n",
      "line6_in_path = read_genes_path(line6_DGE, pathway_genes)"
     ],
     "language": "python",
     "metadata": {},
     "outputs": []
    },
    {
     "cell_type": "code",
     "collapsed": false,
     "input": [
      "op = open('line67_KEGG_04620_colored_pathway.txt', 'w')\n",
      "write_color(line7_in_path, line6_in_path, op)\n",
      "op.close()"
     ],
     "language": "python",
     "metadata": {},
     "outputs": []
    },
    {
     "cell_type": "code",
     "collapsed": false,
     "input": [
      "pathway_genes = !cat KEGG_04060_genes.txt # Cytokines pathway\n",
      "pathway_genes = set(pathway_genes)"
     ],
     "language": "python",
     "metadata": {},
     "outputs": []
    },
    {
     "cell_type": "code",
     "collapsed": false,
     "input": [
      "len(pathway_genes)"
     ],
     "language": "python",
     "metadata": {},
     "outputs": []
    },
    {
     "cell_type": "code",
     "collapsed": false,
     "input": [
      "line7_in_path = read_genes_path(line7_DGE, pathway_genes)\n",
      "line6_in_path = read_genes_path(line6_DGE, pathway_genes)"
     ],
     "language": "python",
     "metadata": {},
     "outputs": []
    },
    {
     "cell_type": "code",
     "collapsed": false,
     "input": [
      "op = open('line67_KEGG_04060_colored_pathway.txt', 'w')\n",
      "write_color(line7_in_path, line6_in_path, op)\n",
      "op.close()"
     ],
     "language": "python",
     "metadata": {},
     "outputs": []
    },
    {
     "cell_type": "code",
     "collapsed": false,
     "input": [
      "pathway_genes = !cat KEGG_04672_genes.txt # Intestinal Immune Response pathway\n",
      "pathway_genes = set(pathway_genes)"
     ],
     "language": "python",
     "metadata": {},
     "outputs": []
    },
    {
     "cell_type": "code",
     "collapsed": false,
     "input": [
      "len(pathway_genes)"
     ],
     "language": "python",
     "metadata": {},
     "outputs": []
    },
    {
     "cell_type": "code",
     "collapsed": false,
     "input": [
      "line7_in_path = read_genes_path(line7_DGE, pathway_genes)\n",
      "line6_in_path = read_genes_path(line6_DGE, pathway_genes)"
     ],
     "language": "python",
     "metadata": {},
     "outputs": []
    },
    {
     "cell_type": "code",
     "collapsed": false,
     "input": [
      "op = open('line67_KEGG_04672_colored_pathway.txt', 'w')\n",
      "write_color(line7_in_path, line6_in_path, op)\n",
      "op.close()"
     ],
     "language": "python",
     "metadata": {},
     "outputs": []
    },
    {
     "cell_type": "code",
     "collapsed": false,
     "input": [
      "pathway_genes = !cat KEGG_04145_genes.txt # Intestinal Immune Response pathway\n",
      "pathway_genes = set(pathway_genes)"
     ],
     "language": "python",
     "metadata": {},
     "outputs": []
    },
    {
     "cell_type": "code",
     "collapsed": false,
     "input": [
      "len(pathway_genes) # Phagosome pathway"
     ],
     "language": "python",
     "metadata": {},
     "outputs": []
    },
    {
     "cell_type": "code",
     "collapsed": false,
     "input": [
      "line7_in_path = read_genes_path(line7_DGE, pathway_genes)\n",
      "line6_in_path = read_genes_path(line6_DGE, pathway_genes)"
     ],
     "language": "python",
     "metadata": {},
     "outputs": []
    },
    {
     "cell_type": "code",
     "collapsed": false,
     "input": [
      "op = open('line67_KEGG_04145_colored_pathway.txt', 'w')\n",
      "write_color(line7_in_path, line6_in_path, op)\n",
      "op.close()"
     ],
     "language": "python",
     "metadata": {},
     "outputs": []
    },
    {
     "cell_type": "code",
     "collapsed": false,
     "input": [
      "pathway_genes = !cat KEGG_04630_genes.txt\n",
      "pathway_genes = set(pathway_genes)"
     ],
     "language": "python",
     "metadata": {},
     "outputs": []
    },
    {
     "cell_type": "code",
     "collapsed": false,
     "input": [
      "len(pathway_genes)"
     ],
     "language": "python",
     "metadata": {},
     "outputs": []
    },
    {
     "cell_type": "code",
     "collapsed": false,
     "input": [
      "line7_in_path = read_genes_path(line7_DGE, pathway_genes)\n",
      "line6_in_path = read_genes_path(line6_DGE, pathway_genes)"
     ],
     "language": "python",
     "metadata": {},
     "outputs": []
    },
    {
     "cell_type": "code",
     "collapsed": false,
     "input": [
      "op = open('line67_KEGG_04630_colored_pathway.txt', 'w')\n",
      "write_color(line7_in_path, line6_in_path, op)\n",
      "op.close()"
     ],
     "language": "python",
     "metadata": {},
     "outputs": []
    },
    {
     "cell_type": "code",
     "collapsed": false,
     "input": [
      "vert_entrezdb['chr28:1432']"
     ],
     "language": "python",
     "metadata": {},
     "outputs": []
    },
    {
     "cell_type": "code",
     "collapsed": false,
     "input": [
      "line6_DGE.DGE['chr1:20600']"
     ],
     "language": "python",
     "metadata": {},
     "outputs": []
    },
    {
     "cell_type": "code",
     "collapsed": false,
     "input": [
      "line7_DGE.DGE['chr1:20600'] # B6.1 (Bu-1) B cell surface antigen"
     ],
     "language": "python",
     "metadata": {},
     "outputs": []
    },
    {
     "cell_type": "code",
     "collapsed": false,
     "input": [
      "pow(2,1.65)"
     ],
     "language": "python",
     "metadata": {},
     "outputs": []
    },
    {
     "cell_type": "code",
     "collapsed": false,
     "input": [
      "for gene, id in vert_entrezdb.iteritems():\n",
      "    if gene == '414855':\n",
      "        print gene, id"
     ],
     "language": "python",
     "metadata": {},
     "outputs": []
    },
    {
     "cell_type": "code",
     "collapsed": false,
     "input": [],
     "language": "python",
     "metadata": {},
     "outputs": []
    }
   ],
   "metadata": {}
  }
 ]
}