{
 "metadata": {
  "name": ""
 },
 "nbformat": 3,
 "nbformat_minor": 0,
 "worksheets": [
  {
   "cells": [
    {
     "cell_type": "code",
     "collapsed": false,
     "input": [
      "cd ~/projects/DGE-RSEM-vs-Raw-Counts"
     ],
     "language": "python",
     "metadata": {},
     "outputs": [
      {
       "output_type": "stream",
       "stream": "stdout",
       "text": [
        "/Users/Likit/projects/DGE-RSEM-vs-Raw-Counts\n"
       ]
      }
     ],
     "prompt_number": 1
    },
    {
     "cell_type": "code",
     "collapsed": false,
     "input": [
      "import csv"
     ],
     "language": "python",
     "metadata": {},
     "outputs": [],
     "prompt_number": 2
    },
    {
     "cell_type": "code",
     "collapsed": false,
     "input": [
      "inputfn = '4699MAP_CAGATC_L001.isoforms.results'\n",
      "with open(inputfn) as infile:\n",
      "    has_header = csv.Sniffer().has_header(infile.read(1024))\n",
      "    infile.seek(0)\n",
      "    reader = csv.reader(infile, dialect='excel-tab')\n",
      "    if has_header:\n",
      "        next(reader)  # skip header row\n",
      "    rsem_isoforms = [(row[0], float(row[4])) for row in reader]"
     ],
     "language": "python",
     "metadata": {},
     "outputs": [],
     "prompt_number": 3
    },
    {
     "cell_type": "code",
     "collapsed": false,
     "input": [
      "rsem_isoforms[:10]"
     ],
     "language": "python",
     "metadata": {},
     "outputs": [
      {
       "metadata": {},
       "output_type": "pyout",
       "prompt_number": 4,
       "text": [
        "[('taurus.id601645.tr100000', 0.0),\n",
        " ('taurus.id587918.tr1000005', 0.0),\n",
        " ('taurus.id47462.tr1000008', 0.0),\n",
        " ('taurus.id563800.tr1000017', 1.0),\n",
        " ('taurus.id553668.tr1000021', 0.0),\n",
        " ('taurus.id11819.tr1000031', 0.0),\n",
        " ('taurus.id363106.tr1000033', 0.0),\n",
        " ('taurus.id626658.tr1000035', 0.0),\n",
        " ('taurus.id294584.tr1000037', 0.0),\n",
        " ('taurus.id74589.tr100004', 0.0)]"
       ]
      }
     ],
     "prompt_number": 4
    },
    {
     "cell_type": "code",
     "collapsed": false,
     "input": [
      "inputfn = '4699MAP_CAGATC_L001.transcripts_singlehit.sorted.bam.isofoms.counts.txt'\n",
      "with open(inputfn) as infile:\n",
      "    has_header = csv.Sniffer().has_header(infile.read(1024))\n",
      "    infile.seek(0)\n",
      "    reader = csv.reader(infile, dialect='excel-tab')\n",
      "    if has_header:\n",
      "        next(reader)  # skip header row\n",
      "    raw_isoforms = [(row[0], float(row[3])) for row in reader]"
     ],
     "language": "python",
     "metadata": {},
     "outputs": [],
     "prompt_number": 5
    },
    {
     "cell_type": "code",
     "collapsed": false,
     "input": [
      "raw_isoforms[:10]"
     ],
     "language": "python",
     "metadata": {},
     "outputs": [
      {
       "metadata": {},
       "output_type": "pyout",
       "prompt_number": 6,
       "text": [
        "[('taurus.id601645.tr100000', 0.0),\n",
        " ('taurus.id587918.tr1000005', 0.0),\n",
        " ('taurus.id47462.tr1000008', 0.0),\n",
        " ('taurus.id563800.tr1000017', 2.0),\n",
        " ('taurus.id553668.tr1000021', 0.0),\n",
        " ('taurus.id11819.tr1000031', 0.0),\n",
        " ('taurus.id363106.tr1000033', 0.0),\n",
        " ('taurus.id626658.tr1000035', 0.0),\n",
        " ('taurus.id294584.tr1000037', 0.0),\n",
        " ('taurus.id74589.tr100004', 0.0)]"
       ]
      }
     ],
     "prompt_number": 6
    },
    {
     "cell_type": "code",
     "collapsed": false,
     "input": [
      "for i in range(len(rsem_isoforms)):\n",
      "    if rsem_isoforms[i][0] != raw_isoforms[i][0]:\n",
      "        raise ValueError, 'Mismatched isoform'"
     ],
     "language": "python",
     "metadata": {},
     "outputs": [],
     "prompt_number": 7
    },
    {
     "cell_type": "code",
     "collapsed": false,
     "input": [
      "plot([x[-1] for x in rsem_isoforms], [y[-1] for y in raw_isoforms], '.', alpha=0.7)\n",
      "xscale('log')\n",
      "yscale('log')\n",
      "ylabel('Raw count')\n",
      "xlabel('RSEM')"
     ],
     "language": "python",
     "metadata": {},
     "outputs": [
      {
       "metadata": {},
       "output_type": "pyout",
       "prompt_number": 8,
       "text": [
        "<matplotlib.text.Text at 0x113997fd0>"
       ]
      },
      {
       "metadata": {},
       "output_type": "display_data",
       "png": "[encoded data removed]",
       "text": [
        "<matplotlib.figure.Figure at 0x1078c1c10>"
       ]
      }
     ],
     "prompt_number": 8
    },
    {
     "cell_type": "code",
     "collapsed": false,
     "input": [
      "isoratios = []; isodiffs = []\n",
      "for i in range(len(rsem_isoforms)):\n",
      "    isoratios.append(log2((rsem_isoforms[i][1] + 1.0) / (raw_isoforms[i][1] + 1.0)))\n",
      "    isodiffs.append((log2(rsem_isoforms[i][1]) + log2(raw_isoforms[i][1]))/2.0)\n",
      "\n",
      "plot(isodiffs, isoratios, '.', alpha=0.7)"
     ],
     "language": "python",
     "metadata": {},
     "outputs": [
      {
       "metadata": {},
       "output_type": "pyout",
       "prompt_number": 30,
       "text": [
        "[<matplotlib.lines.Line2D at 0x11d0aaed0>]"
       ]
      },
      {
       "metadata": {},
       "output_type": "display_data",
       "png": "[encoded data removed]",
       "text": [
        "<matplotlib.figure.Figure at 0x11c9e1e50>"
       ]
      }
     ],
     "prompt_number": 30
    },
    {
     "cell_type": "code",
     "collapsed": false,
     "input": [
      "inputfn = '4699MAP_CAGATC_L001.genes.results'\n",
      "with open(inputfn) as infile:\n",
      "    has_header = csv.Sniffer().has_header(infile.read(1024))\n",
      "    infile.seek(0)\n",
      "    reader = csv.reader(infile, dialect='excel-tab')\n",
      "    if has_header:\n",
      "        next(reader)  # skip header row\n",
      "    rsem_genes = [(row[0], float(row[4])) for row in reader]"
     ],
     "language": "python",
     "metadata": {},
     "outputs": [],
     "prompt_number": 10
    },
    {
     "cell_type": "code",
     "collapsed": false,
     "input": [
      "rsem_genes = dict(rsem_genes)"
     ],
     "language": "python",
     "metadata": {},
     "outputs": [],
     "prompt_number": 11
    },
    {
     "cell_type": "code",
     "collapsed": false,
     "input": [
      "raw_genes = {}\n",
      "for i in range(len(raw_isoforms)):\n",
      "    isoform, count = raw_isoforms[i]\n",
      "    geneid = isoform.split('.')[-1]\n",
      "    raw_genes[geneid] = raw_genes.get(geneid, 0) + count"
     ],
     "language": "python",
     "metadata": {},
     "outputs": [],
     "prompt_number": 12
    },
    {
     "cell_type": "code",
     "collapsed": false,
     "input": [
      "genes = rsem_genes.keys()\n",
      "plot([rsem_genes[g] for g in genes], [raw_genes[g] for g in genes], '.', alpha=0.7)\n",
      "yscale('log')\n",
      "xscale('log')\n",
      "ylabel('Raw Count')\n",
      "xlabel('RSEM')"
     ],
     "language": "python",
     "metadata": {},
     "outputs": [
      {
       "metadata": {},
       "output_type": "pyout",
       "prompt_number": 13,
       "text": [
        "<matplotlib.text.Text at 0x11494a850>"
       ]
      },
      {
       "metadata": {},
       "output_type": "display_data",
       "png": "[encoded data removed]",
       "text": [
        "<matplotlib.figure.Figure at 0x11495e950>"
       ]
      }
     ],
     "prompt_number": 13
    },
    {
     "cell_type": "code",
     "collapsed": false,
     "input": [
      "genesM = []; genesA = []\n",
      "for geneid, value in rsem_genes.iteritems():\n",
      "    genesM.append(log2(value + 1.0) - log2(raw_genes[geneid] + 1.0))\n",
      "    genesA.append((log2(value) + log2(raw_genes[geneid]))/2.0)\n",
      "\n",
      "plot(genesA, genesM, '.', alpha=0.7)\n",
      "ylabel('log2(RSEM/Raw Count)')\n",
      "xlabel('0.5*(log2(RSEM) + log2(Raw Count))')\n",
      "hlines(0, -5, 20, colors='red', )"
     ],
     "language": "python",
     "metadata": {},
     "outputs": [
      {
       "metadata": {},
       "output_type": "pyout",
       "prompt_number": 38,
       "text": [
        "<matplotlib.collections.LineCollection at 0x11d288d50>"
       ]
      },
      {
       "metadata": {},
       "output_type": "display_data",
       "png": "[encoded data removed]",
       "text": [
        "<matplotlib.figure.Figure at 0x1147236d0>"
       ]
      }
     ],
     "prompt_number": 38
    },
    {
     "cell_type": "code",
     "collapsed": false,
     "input": [
      "rsem_genes['tr171889'] - raw_genes['tr171889']"
     ],
     "language": "python",
     "metadata": {},
     "outputs": [
      {
       "metadata": {},
       "output_type": "pyout",
       "prompt_number": 19,
       "text": [
        "-424322.3"
       ]
      }
     ],
     "prompt_number": 19
    },
    {
     "cell_type": "code",
     "collapsed": false,
     "input": [
      "hist(ratios)"
     ],
     "language": "python",
     "metadata": {},
     "outputs": [
      {
       "metadata": {},
       "output_type": "pyout",
       "prompt_number": 20,
       "text": [
        "(array([  2.00000000e+00,   5.00000000e+00,   1.60000000e+01,\n",
        "         1.05000000e+02,   8.26000000e+02,   5.72100000e+03,\n",
        "         6.31950000e+04,   2.00000000e+00,   2.55123000e+05,\n",
        "         2.00000000e+00]),\n",
        " array([-2.83321334, -2.48057729, -2.12794124, -1.77530519, -1.42266913,\n",
        "       -1.07003308, -0.71739703, -0.36476098, -0.01212492,  0.34051113,\n",
        "        0.69314718]),\n",
        " <a list of 10 Patch objects>)"
       ]
      },
      {
       "metadata": {},
       "output_type": "display_data",
       "png": "[encoded data removed]",
       "text": [
        "<matplotlib.figure.Figure at 0x114863fd0>"
       ]
      }
     ],
     "prompt_number": 20
    },
    {
     "cell_type": "markdown",
     "metadata": {},
     "source": [
      "##Count median vs RSEM"
     ]
    },
    {
     "cell_type": "code",
     "collapsed": false,
     "input": [
      "import pandas as pd\n",
      "from pandas import DataFrame"
     ],
     "language": "python",
     "metadata": {},
     "outputs": [],
     "prompt_number": 2
    },
    {
     "cell_type": "code",
     "collapsed": false,
     "input": [
      "raw_counts = pd.read_table('../cattle_map/paired/DGE_raw/all_reads_count.txt', index_col='geneid')"
     ],
     "language": "python",
     "metadata": {},
     "outputs": [],
     "prompt_number": 17
    },
    {
     "cell_type": "code",
     "collapsed": false,
     "input": [
      "sum_counts = raw_counts.sum(axis=1)"
     ],
     "language": "python",
     "metadata": {},
     "outputs": [],
     "prompt_number": 18
    },
    {
     "cell_type": "code",
     "collapsed": false,
     "input": [
      "sum_counts.head()"
     ],
     "language": "python",
     "metadata": {},
     "outputs": [
      {
       "metadata": {},
       "output_type": "pyout",
       "prompt_number": 19,
       "text": [
        "geneid\n",
        "tr100000      2\n",
        "tr1000005     2\n",
        "tr1000008     6\n",
        "tr1000017    12\n",
        "tr1000021     0\n",
        "dtype: int64"
       ]
      }
     ],
     "prompt_number": 19
    },
    {
     "cell_type": "code",
     "collapsed": false,
     "input": [
      "from collections import defaultdict"
     ],
     "language": "python",
     "metadata": {},
     "outputs": [],
     "prompt_number": 20
    },
    {
     "cell_type": "code",
     "collapsed": false,
     "input": [
      "median_counts = defaultdict(int)\n",
      "for line in open('Trinity_part.transcripts.count-median.txt'):\n",
      "    geneid, median, avg = line.split()[:3]\n",
      "    geneid = geneid.split('.')[-1]\n",
      "    median_counts[geneid] += float(avg)"
     ],
     "language": "python",
     "metadata": {},
     "outputs": [],
     "prompt_number": 69
    },
    {
     "cell_type": "code",
     "collapsed": false,
     "input": [
      "averages = pd.Series(median_counts)"
     ],
     "language": "python",
     "metadata": {},
     "outputs": [],
     "prompt_number": 70
    },
    {
     "cell_type": "code",
     "collapsed": false,
     "input": [
      "averages.index.name = 'geneid'"
     ],
     "language": "python",
     "metadata": {},
     "outputs": [],
     "prompt_number": 71
    },
    {
     "cell_type": "code",
     "collapsed": false,
     "input": [
      "averages.head()"
     ],
     "language": "python",
     "metadata": {},
     "outputs": [
      {
       "metadata": {},
       "output_type": "pyout",
       "prompt_number": 72,
       "text": [
        "geneid\n",
        "tr100000     0.992063\n",
        "tr1000005    1.044715\n",
        "tr1000008    4.916256\n",
        "tr1000017    1.839695\n",
        "tr1000021    4.896000\n",
        "dtype: float64"
       ]
      }
     ],
     "prompt_number": 72
    },
    {
     "cell_type": "code",
     "collapsed": false,
     "input": [
      "scatter(sum_counts.values, medians.values)\n",
      "xscale('log')"
     ],
     "language": "python",
     "metadata": {},
     "outputs": [
      {
       "metadata": {},
       "output_type": "display_data",
       "png": "[encoded data removed]",
       "text": [
        "<matplotlib.figure.Figure at 0x10e489950>"
       ]
      }
     ],
     "prompt_number": 57
    },
    {
     "cell_type": "code",
     "collapsed": false,
     "input": [
      "low_medians = medians[medians < 2]"
     ],
     "language": "python",
     "metadata": {},
     "outputs": [],
     "prompt_number": 66
    },
    {
     "cell_type": "code",
     "collapsed": false,
     "input": [
      "low_averages = averages[averages < 2]"
     ],
     "language": "python",
     "metadata": {},
     "outputs": [],
     "prompt_number": 75
    },
    {
     "cell_type": "code",
     "collapsed": false,
     "input": [
      "low_counts = sum_counts[sum_counts < 10]"
     ],
     "language": "python",
     "metadata": {},
     "outputs": [],
     "prompt_number": 58
    },
    {
     "cell_type": "code",
     "collapsed": false,
     "input": [
      "low_count_genes = set(low_counts.index.tolist())"
     ],
     "language": "python",
     "metadata": {},
     "outputs": [],
     "prompt_number": 53
    },
    {
     "cell_type": "code",
     "collapsed": false,
     "input": [
      "low_median_genes = set(low_medians.index.tolist())"
     ],
     "language": "python",
     "metadata": {},
     "outputs": [],
     "prompt_number": 54
    },
    {
     "cell_type": "code",
     "collapsed": false,
     "input": [
      "len(low_count_genes.intersection(low_median_genes))"
     ],
     "language": "python",
     "metadata": {},
     "outputs": [
      {
       "metadata": {},
       "output_type": "pyout",
       "prompt_number": 55,
       "text": [
        "56770"
       ]
      }
     ],
     "prompt_number": 55
    },
    {
     "cell_type": "code",
     "collapsed": false,
     "input": [
      "len(low_count_genes), len(low_median_genes)"
     ],
     "language": "python",
     "metadata": {},
     "outputs": [
      {
       "metadata": {},
       "output_type": "pyout",
       "prompt_number": 56,
       "text": [
        "(90997, 204953)"
       ]
      }
     ],
     "prompt_number": 56
    },
    {
     "cell_type": "code",
     "collapsed": false,
     "input": [
      "scatter(low_averages.values, sum_counts[low_averages.index].values, marker='.', alpha=0.7)"
     ],
     "language": "python",
     "metadata": {},
     "outputs": [
      {
       "metadata": {},
       "output_type": "pyout",
       "prompt_number": 79,
       "text": [
        "<matplotlib.collections.PathCollection at 0x11e6e8350>"
       ]
      },
      {
       "metadata": {},
       "output_type": "display_data",
       "png": "[encoded data removed]",
       "text": [
        "<matplotlib.figure.Figure at 0x11e00a050>"
       ]
      }
     ],
     "prompt_number": 79
    },
    {
     "cell_type": "code",
     "collapsed": false,
     "input": [
      "len(sum_counts[low_medians.index].values)"
     ],
     "language": "python",
     "metadata": {},
     "outputs": [
      {
       "metadata": {},
       "output_type": "pyout",
       "prompt_number": 64,
       "text": [
        "307877"
       ]
      }
     ],
     "prompt_number": 64
    },
    {
     "cell_type": "code",
     "collapsed": false,
     "input": [
      "max(sum_counts[low_medians.index].values)"
     ],
     "language": "python",
     "metadata": {},
     "outputs": [
      {
       "metadata": {},
       "output_type": "pyout",
       "prompt_number": 65,
       "text": [
        "7399900"
       ]
      }
     ],
     "prompt_number": 65
    },
    {
     "cell_type": "code",
     "collapsed": false,
     "input": [
      "import glob\n",
      "cntdata = DataFrame()\n",
      "for f in glob.glob('../cattle_map/paired/trinity_out_dir/*L00?.isoforms*results'):\n",
      "    newdata = pd.read_table(f, index_col='transcript_id')\n",
      "    if len(cntdata) != 0:\n",
      "        cntdata = cntdata + newdata.expected_count\n",
      "    else:\n",
      "        cntdata = newdata.expected_count"
     ],
     "language": "python",
     "metadata": {},
     "outputs": [],
     "prompt_number": 23
    },
    {
     "cell_type": "code",
     "collapsed": false,
     "input": [
      "cntdata.head(n=10000).tail(n=20)"
     ],
     "language": "python",
     "metadata": {},
     "outputs": [
      {
       "metadata": {},
       "output_type": "pyout",
       "prompt_number": 27,
       "text": [
        "transcript_id\n",
        "taurus.id6357.tr1034140        1.00\n",
        "taurus.id504415.tr1034149      1.00\n",
        "taurus.id327025.tr1034151      6.00\n",
        "taurus.id576193.tr1034162      0.00\n",
        "taurus.id534613.tr1034169     11.00\n",
        "taurus.id567919.tr1034171      2.00\n",
        "taurus.id574085.tr1034174      1.00\n",
        "taurus.id533706.tr1034197      9.00\n",
        "taurus.id74490.tr103421       12.00\n",
        "taurus.id52217.tr1034217       0.00\n",
        "taurus.id410228.tr1034226      0.00\n",
        "taurus.id586730.tr1034228      1.00\n",
        "taurus.id247164.tr103423      62.61\n",
        "taurus.id247165.tr103423     243.39\n",
        "taurus.id543900.tr1034241      8.00\n",
        "taurus.id586079.tr1034247      0.00\n",
        "taurus.id469507.tr1034248      6.00\n",
        "taurus.id565289.tr1034252      2.00\n",
        "taurus.id555895.tr1034261      0.00\n",
        "taurus.id595131.tr1034290      0.00\n",
        "Name: expected_count, dtype: float64"
       ]
      }
     ],
     "prompt_number": 27
    },
    {
     "cell_type": "code",
     "collapsed": false,
     "input": [
      "hist(cntdata[cntdata < 10].values)"
     ],
     "language": "python",
     "metadata": {},
     "outputs": [
      {
       "metadata": {},
       "output_type": "pyout",
       "prompt_number": 28,
       "text": [
        "(array([ 238491.,   77033.,   49064.,   31653.,   22934.,   17947.,\n",
        "         14676.,   11991.,   10306.,    8784.]),\n",
        " array([ 0.,  1.,  2.,  3.,  4.,  5.,  6.,  7.,  8.,  9., 10.]),\n",
        " <a list of 10 Patch objects>)"
       ]
      },
      {
       "metadata": {},
       "output_type": "display_data",
       "png": "[encoded data removed]",
       "text": [
        "<matplotlib.figure.Figure at 0x12f0ad110>"
       ]
      }
     ],
     "prompt_number": 28
    },
    {
     "cell_type": "code",
     "collapsed": false,
     "input": [
      "meddata = pd.read_table('Trinity_part.transcripts.count-median.txt', sep=' ',\n",
      "                        names=['transcript_id', 'med', 'average', 'sd', 'length'],\n",
      "                        header=None, index_col='transcript_id')"
     ],
     "language": "python",
     "metadata": {},
     "outputs": [],
     "prompt_number": 46
    },
    {
     "cell_type": "code",
     "collapsed": false,
     "input": [
      "meddata.head()"
     ],
     "language": "python",
     "metadata": {},
     "outputs": [
      {
       "html": [
        "<div style=\"max-height:1000px;max-width:1500px;overflow:auto;\">\n",
        "<table border=\"1\" class=\"dataframe\">\n",
        "  <thead>\n",
        "    <tr style=\"text-align: right;\">\n",
        "      <th></th>\n",
        "      <th>med</th>\n",
        "      <th>average</th>\n",
        "      <th>sd</th>\n",
        "      <th>length</th>\n",
        "    </tr>\n",
        "    <tr>\n",
        "      <th>transcript_id</th>\n",
        "      <th></th>\n",
        "      <th></th>\n",
        "      <th></th>\n",
        "      <th></th>\n",
        "    </tr>\n",
        "  </thead>\n",
        "  <tbody>\n",
        "    <tr>\n",
        "      <th>taurus.id601645.tr100000</th>\n",
        "      <td> 0</td>\n",
        "      <td> 0.992063</td>\n",
        "      <td> 1.263002</td>\n",
        "      <td> 271</td>\n",
        "    </tr>\n",
        "    <tr>\n",
        "      <th>taurus.id587918.tr1000005</th>\n",
        "      <td> 0</td>\n",
        "      <td> 1.044715</td>\n",
        "      <td> 1.210570</td>\n",
        "      <td> 265</td>\n",
        "    </tr>\n",
        "    <tr>\n",
        "      <th>taurus.id47462.tr1000008</th>\n",
        "      <td> 1</td>\n",
        "      <td> 4.916256</td>\n",
        "      <td> 6.592123</td>\n",
        "      <td> 222</td>\n",
        "    </tr>\n",
        "    <tr>\n",
        "      <th>taurus.id563800.tr1000017</th>\n",
        "      <td> 0</td>\n",
        "      <td> 1.839695</td>\n",
        "      <td> 2.055778</td>\n",
        "      <td> 543</td>\n",
        "    </tr>\n",
        "    <tr>\n",
        "      <th>taurus.id553668.tr1000021</th>\n",
        "      <td> 0</td>\n",
        "      <td> 4.896000</td>\n",
        "      <td> 7.731825</td>\n",
        "      <td> 269</td>\n",
        "    </tr>\n",
        "  </tbody>\n",
        "</table>\n",
        "</div>"
       ],
       "metadata": {},
       "output_type": "pyout",
       "prompt_number": 47,
       "text": [
        "                           med   average        sd  length\n",
        "transcript_id                                             \n",
        "taurus.id601645.tr100000     0  0.992063  1.263002     271\n",
        "taurus.id587918.tr1000005    0  1.044715  1.210570     265\n",
        "taurus.id47462.tr1000008     1  4.916256  6.592123     222\n",
        "taurus.id563800.tr1000017    0  1.839695  2.055778     543\n",
        "taurus.id553668.tr1000021    0  4.896000  7.731825     269"
       ]
      }
     ],
     "prompt_number": 47
    },
    {
     "cell_type": "code",
     "collapsed": false,
     "input": [
      "medians = meddata.med"
     ],
     "language": "python",
     "metadata": {},
     "outputs": [],
     "prompt_number": 48
    },
    {
     "cell_type": "code",
     "collapsed": false,
     "input": [
      "medians.head()"
     ],
     "language": "python",
     "metadata": {},
     "outputs": [
      {
       "metadata": {},
       "output_type": "pyout",
       "prompt_number": 49,
       "text": [
        "transcript_id\n",
        "taurus.id601645.tr100000     0\n",
        "taurus.id587918.tr1000005    0\n",
        "taurus.id47462.tr1000008     1\n",
        "taurus.id563800.tr1000017    0\n",
        "taurus.id553668.tr1000021    0\n",
        "Name: med, dtype: int64"
       ]
      }
     ],
     "prompt_number": 49
    },
    {
     "cell_type": "code",
     "collapsed": false,
     "input": [
      "scatter(cntdata[medians == 0], medians[medians == 0], marker='.', alpha=0.7)\n",
      "xlim(0, 500000)"
     ],
     "language": "python",
     "metadata": {},
     "outputs": [
      {
       "metadata": {},
       "output_type": "pyout",
       "prompt_number": 57,
       "text": [
        "(0, 500000)"
       ]
      },
      {
       "metadata": {},
       "output_type": "display_data",
       "png": "[encoded data removed]",
       "text": [
        "<matplotlib.figure.Figure at 0x153509490>"
       ]
      }
     ],
     "prompt_number": 57
    },
    {
     "cell_type": "code",
     "collapsed": false,
     "input": [],
     "language": "python",
     "metadata": {},
     "outputs": []
    }
   ],
   "metadata": {}
  }
 ]
}