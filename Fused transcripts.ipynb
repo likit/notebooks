{
 "metadata": {
  "name": "Fused transcripts"
 },
 "nbformat": 3,
 "nbformat_minor": 0,
 "worksheets": [
  {
   "cells": [
    {
     "cell_type": "code",
     "collapsed": false,
     "input": [
      "%cd ~/projects/mdv/gal4models_new"
     ],
     "language": "python",
     "metadata": {},
     "outputs": [
      {
       "output_type": "stream",
       "stream": "stdout",
       "text": [
        "/Users/Likit/projects/mdv/gal4models_new\n"
       ]
      }
     ],
     "prompt_number": 2
    },
    {
     "cell_type": "code",
     "collapsed": false,
     "input": [
      "ests = !cut -f 1,2 est.fa.clean.gal4sel.best.psl_all_sp.txt\n",
      "models = !cut -f 1,2 line67_gal4sel_models.cds.bed_all_sp.txt"
     ],
     "language": "python",
     "metadata": {},
     "outputs": [],
     "prompt_number": 7
    },
    {
     "cell_type": "code",
     "collapsed": false,
     "input": [
      "estjuncs = {}\n",
      "for junc in ests:\n",
      "    j, s = junc.split('\\t')\n",
      "    estjuncs[j] = s"
     ],
     "language": "python",
     "metadata": {},
     "outputs": [],
     "prompt_number": 19
    },
    {
     "cell_type": "code",
     "collapsed": false,
     "input": [
      "modeljuncs = {}\n",
      "for junc in models:\n",
      "    j, s = junc.split('\\t')\n",
      "    modeljuncs[j] = s"
     ],
     "language": "python",
     "metadata": {},
     "outputs": [],
     "prompt_number": 18
    },
    {
     "cell_type": "code",
     "collapsed": false,
     "input": [
      "len(modeljuncs), len(estjuncs)"
     ],
     "language": "python",
     "metadata": {},
     "outputs": [
      {
       "output_type": "pyout",
       "prompt_number": 12,
       "text": [
        "(142158, 216755)"
       ]
      }
     ],
     "prompt_number": 12
    },
    {
     "cell_type": "code",
     "collapsed": false,
     "input": [
      "common = 0\n",
      "correct = 0\n",
      "\n",
      "for junc in estjuncs:\n",
      "    if junc in modeljuncs:\n",
      "        common += 1\n",
      "        if modeljuncs[junc] == estjuncs[junc]:\n",
      "            correct += 1"
     ],
     "language": "python",
     "metadata": {},
     "outputs": [],
     "prompt_number": 20
    },
    {
     "cell_type": "code",
     "collapsed": false,
     "input": [
      "common, correct, float(correct)/common * 100.0"
     ],
     "language": "python",
     "metadata": {},
     "outputs": [
      {
       "output_type": "pyout",
       "prompt_number": 25,
       "text": [
        "(94836, 78868, 83.1625121261968)"
       ]
      }
     ],
     "prompt_number": 25
    },
    {
     "cell_type": "code",
     "collapsed": false,
     "input": [],
     "language": "python",
     "metadata": {},
     "outputs": []
    }
   ],
   "metadata": {}
  }
 ]
}