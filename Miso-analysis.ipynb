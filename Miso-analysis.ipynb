{
 "metadata": {
  "name": ""
 },
 "nbformat": 3,
 "nbformat_minor": 0,
 "worksheets": [
  {
   "cells": [
    {
     "cell_type": "markdown",
     "metadata": {},
     "source": [
      "##Software\n",
      "\n",
      "* Tophat/2.0.5\n",
      "* MISO/0.4.7\n",
      "* samtools/0.1.18\n",
      "* Gimme suite"
     ]
    },
    {
     "cell_type": "markdown",
     "metadata": {},
     "source": [
      "####Download Gimme"
     ]
    },
    {
     "cell_type": "code",
     "collapsed": false,
     "input": [
      "from subprocess import call\n",
      "import os"
     ],
     "language": "python",
     "metadata": {},
     "outputs": [],
     "prompt_number": 2
    },
    {
     "cell_type": "code",
     "collapsed": false,
     "input": [
      "os.chdir(os.environ['HOME'])  # the directory for gimme git repo\n",
      "if not os.path.exists('gimme'):\n",
      "    call('git clone git://github.com/likit/gimme.git')\n",
      "    \n",
      "gimme_utils = os.path.join(os.environ['HOME'], 'gimme', 'src', 'utils')\n",
      "working_dir = os.path.join(os.environ['HOME'], 'projects', 'mdv', 'gal4models_new', 'miso_analysis')"
     ],
     "language": "python",
     "metadata": {},
     "outputs": [],
     "prompt_number": 3
    },
    {
     "cell_type": "markdown",
     "metadata": {},
     "source": [
      "####Download data"
     ]
    },
    {
     "cell_type": "markdown",
     "metadata": {},
     "source": [
      "###Total no. of reads\n",
      "\n",
      "Single-end\n",
      "\n",
      "* line 6 uninfected = 30,102,212 reads\n",
      "* line 6 infected = 28,766,584 reads\n",
      "* line 7 uninfected = 27,618,789 reads\n",
      "* line 7 infected = 29,693,654 reads\n",
      "\n",
      "Paired-end\n",
      "\n",
      "* line 6 uninfected = 43,762,100 reads\n",
      "* line 6 infected = 35,983,936 reads\n",
      "* line 7 uninfected = 42,632,733 reads\n",
      "* line 7 infected = 43,709,353 reads"
     ]
    },
    {
     "cell_type": "markdown",
     "metadata": {},
     "source": [
      "##Directory structure\n",
      "\n",
      "Run cells below to create direcotories needed for the analysis."
     ]
    },
    {
     "cell_type": "code",
     "collapsed": false,
     "input": [
      "import os\n",
      "working_dir = os.path.join(os.environ['HOME'], 'projects/mdv/gal4models_new/miso_analysis')\n",
      "os.chdir(working_dir)\n",
      "\n",
      "if not os.path.exists('snps'):\n",
      "    os.makedirs('snps')\n",
      "\n",
      "if not os.path.exists('alt_events'):\n",
      "    os.makedirs('alt_events')\n",
      "\n",
      "if not os.path.exists('results'):\n",
      "    os.makedirs('results')"
     ],
     "language": "python",
     "metadata": {},
     "outputs": [],
     "prompt_number": 4
    },
    {
     "cell_type": "markdown",
     "metadata": {},
     "source": [
      "##Figure size"
     ]
    },
    {
     "cell_type": "code",
     "collapsed": false,
     "input": [
      "figsize(10, 8)"
     ],
     "language": "python",
     "metadata": {},
     "outputs": [],
     "prompt_number": 5
    },
    {
     "cell_type": "markdown",
     "metadata": {},
     "source": [
      "##Event analysis with MISO\n",
      "\n",
      "###Build GFF Index"
     ]
    },
    {
     "cell_type": "code",
     "collapsed": false,
     "input": [
      "!python {gimme_utils}/exclude_genes.py line67_split_cuff_models.nr99.bed > line67_split_cuff_models.nr99.excluded.bed\n",
      "\n",
      "!python {gimme_utils}/find_SE.py line67_split_cuff_models.nr99.excluded.bed > line67_split_cuff_models.nr99.SE.gff\n",
      "!python {gimme_utils}/find_RI.py line67_split_cuff_models.nr99.excluded.bed > line67_split_cuff_models.nr99.RI.gff\n",
      "!python {gimme_utils}/find_A5SS.py line67_split_cuff_models.nr99.excluded.bed > line67_split_cuff_models.nr99.A5SS.gff\n",
      "!python {gimme_utils}/find_A3SS.py line67_split_cuff_models.nr99.excluded.bed > line67_split_cuff_models.nr99.A3SS.gff\n",
      "!python {gimme_utils}/find_MXE.py line67_split_cuff_models.nr99.excluded.bed > line67_split_cuff_models.nr99.MXE.gff\n",
      "\n",
      "!index_gff.py --index line67_split_cuff_models.nr99.SE.gff alt_events/SE\n",
      "!index_gff.py --index line67_split_cuff_models.nr99.RI.gff alt_events/RI\n",
      "!index_gff.py --index line67_split_cuff_models.nr99.A5SS.gff alt_events/A5SS\n",
      "!index_gff.py --index line67_split_cuff_models.nr99.A3SS.gff alt_events/A3SS\n",
      "!index_gff.py --index line67_split_cuff_models.nr99.MXE.gff alt_events/MXE"
     ],
     "language": "python",
     "metadata": {},
     "outputs": []
    },
    {
     "cell_type": "markdown",
     "metadata": {},
     "source": [
      "###Analyse alternative splicing events"
     ]
    },
    {
     "cell_type": "code",
     "collapsed": false,
     "input": [
      "%%bash\n",
      "\n",
      "run_events_analysis.py --compute-genes-psi alt_events/SE bam-data/line6u.bam --output-dir results/SE/line6u --read-len 75\n",
      "run_events_analysis.py --compute-genes-psi alt_events/SE bam-data/line6i.bam --output-dir results/SE/line6i --read-len 75\n",
      "run_events_analysis.py --compute-genes-psi alt_events/SE bam-data/line7u.bam --output-dir results/SE/line7u --read-len 75\n",
      "run_events_analysis.py --compute-genes-psi alt_events/SE bam-data/line7i.bam --output-dir results/SE/line7i --read-len 75"
     ],
     "language": "python",
     "metadata": {},
     "outputs": []
    },
    {
     "cell_type": "markdown",
     "metadata": {},
     "source": [
      "##Summarize results"
     ]
    },
    {
     "cell_type": "code",
     "collapsed": false,
     "input": [
      "%%bash\n",
      "\n",
      "run_miso.py --summarize-samples results/SE/line6u results/SE/line6u\n",
      "run_miso.py --summarize-samples results/SE/line6i results/SE/line6i\n",
      "run_miso.py --summarize-samples results/SE/line7u results/SE/line7u\n",
      "run_miso.py --summarize-samples results/SE/line7i results/SE/line7i"
     ],
     "language": "python",
     "metadata": {},
     "outputs": [
      {
       "output_type": "stream",
       "stream": "stdout",
       "text": [
        "MISO (Mixture of Isoforms model)\n",
        "Probabilistic analysis of RNA-Seq data to detect differential isoforms\n",
        "Use --help argument to view options.\n",
        "\n",
        "Loading settings from: /opt/local/Library/Frameworks/Python.framework/Versions/2.7/lib/python2.7/site-packages/misopy-0.4.7-py2.7-macosx-10.7-x86_64.egg/misopy/settings/miso_settings.txt\n",
        "Loading events from: /Users/Likit/projects/mdv/gal4models_new/miso_analysis/results/SE/line6u\n",
        "Writing summary to: /Users/Likit/projects/mdv/gal4models_new/miso_analysis/results/SE/line6u/summary/line6u.miso_summary\n",
        "  - Summarized a total of 3956 events.\n",
        "MISO (Mixture of Isoforms model)\n",
        "Probabilistic analysis of RNA-Seq data to detect differential isoforms\n",
        "Use --help argument to view options.\n",
        "\n",
        "Loading settings from: /opt/local/Library/Frameworks/Python.framework/Versions/2.7/lib/python2.7/site-packages/misopy-0.4.7-py2.7-macosx-10.7-x86_64.egg/misopy/settings/miso_settings.txt\n",
        "Loading events from: /Users/Likit/projects/mdv/gal4models_new/miso_analysis/results/SE/line6i\n",
        "Writing summary to: /Users/Likit/projects/mdv/gal4models_new/miso_analysis/results/SE/line6i/summary/line6i.miso_summary\n",
        "  - Summarized a total of 3978 events.\n",
        "MISO (Mixture of Isoforms model)\n",
        "Probabilistic analysis of RNA-Seq data to detect differential isoforms\n",
        "Use --help argument to view options.\n",
        "\n",
        "Loading settings from: /opt/local/Library/Frameworks/Python.framework/Versions/2.7/lib/python2.7/site-packages/misopy-0.4.7-py2.7-macosx-10.7-x86_64.egg/misopy/settings/miso_settings.txt\n",
        "Loading events from: /Users/Likit/projects/mdv/gal4models_new/miso_analysis/results/SE/line7u\n",
        "Writing summary to: /Users/Likit/projects/mdv/gal4models_new/miso_analysis/results/SE/line7u/summary/line7u.miso_summary\n",
        "  - Summarized a total of 3912 events.\n",
        "MISO (Mixture of Isoforms model)\n",
        "Probabilistic analysis of RNA-Seq data to detect differential isoforms\n",
        "Use --help argument to view options.\n",
        "\n",
        "Loading settings from: /opt/local/Library/Frameworks/Python.framework/Versions/2.7/lib/python2.7/site-packages/misopy-0.4.7-py2.7-macosx-10.7-x86_64.egg/misopy/settings/miso_settings.txt\n",
        "Loading events from: /Users/Likit/projects/mdv/gal4models_new/miso_analysis/results/SE/line7i\n",
        "Writing summary to: /Users/Likit/projects/mdv/gal4models_new/miso_analysis/results/SE/line7i/summary/line7i.miso_summary\n",
        "  - Summarized a total of 3923 events.\n"
       ]
      }
     ],
     "prompt_number": 68
    },
    {
     "cell_type": "code",
     "collapsed": false,
     "input": [
      "%%bash\n",
      "\n",
      "run_miso.py --summarize-samples results/A5SS/line6u results/A5SS/line6u\n",
      "run_miso.py --summarize-samples results/A5SS/line6i results/A5SS/line6i\n",
      "run_miso.py --summarize-samples results/A5SS/line7u results/A5SS/line7u\n",
      "run_miso.py --summarize-samples results/A5SS/line7i results/A5SS/line7i"
     ],
     "language": "python",
     "metadata": {},
     "outputs": [
      {
       "output_type": "stream",
       "stream": "stdout",
       "text": [
        "MISO (Mixture of Isoforms model)\n",
        "Probabilistic analysis of RNA-Seq data to detect differential isoforms\n",
        "Use --help argument to view options.\n",
        "\n",
        "Loading settings from: /opt/local/Library/Frameworks/Python.framework/Versions/2.7/lib/python2.7/site-packages/misopy-0.4.7-py2.7-macosx-10.7-x86_64.egg/misopy/settings/miso_settings.txt\n",
        "Loading events from: /Users/Likit/projects/mdv/gal4models_new/miso_analysis/results/A5SS/line6u\n",
        "Writing summary to: /Users/Likit/projects/mdv/gal4models_new/miso_analysis/results/A5SS/line6u/summary/line6u.miso_summary\n",
        "  - Summarized a total of 856 events.\n",
        "MISO (Mixture of Isoforms model)\n",
        "Probabilistic analysis of RNA-Seq data to detect differential isoforms\n",
        "Use --help argument to view options.\n",
        "\n",
        "Loading settings from: /opt/local/Library/Frameworks/Python.framework/Versions/2.7/lib/python2.7/site-packages/misopy-0.4.7-py2.7-macosx-10.7-x86_64.egg/misopy/settings/miso_settings.txt\n",
        "Loading events from: /Users/Likit/projects/mdv/gal4models_new/miso_analysis/results/A5SS/line6i\n",
        "Writing summary to: /Users/Likit/projects/mdv/gal4models_new/miso_analysis/results/A5SS/line6i/summary/line6i.miso_summary\n",
        "  - Summarized a total of 861 events.\n",
        "MISO (Mixture of Isoforms model)\n",
        "Probabilistic analysis of RNA-Seq data to detect differential isoforms\n",
        "Use --help argument to view options.\n",
        "\n",
        "Loading settings from: /opt/local/Library/Frameworks/Python.framework/Versions/2.7/lib/python2.7/site-packages/misopy-0.4.7-py2.7-macosx-10.7-x86_64.egg/misopy/settings/miso_settings.txt\n",
        "Loading events from: /Users/Likit/projects/mdv/gal4models_new/miso_analysis/results/A5SS/line7u\n",
        "Writing summary to: /Users/Likit/projects/mdv/gal4models_new/miso_analysis/results/A5SS/line7u/summary/line7u.miso_summary\n",
        "  - Summarized a total of 835 events.\n",
        "MISO (Mixture of Isoforms model)\n",
        "Probabilistic analysis of RNA-Seq data to detect differential isoforms\n",
        "Use --help argument to view options.\n",
        "\n",
        "Loading settings from: /opt/local/Library/Frameworks/Python.framework/Versions/2.7/lib/python2.7/site-packages/misopy-0.4.7-py2.7-macosx-10.7-x86_64.egg/misopy/settings/miso_settings.txt\n",
        "Loading events from: /Users/Likit/projects/mdv/gal4models_new/miso_analysis/results/A5SS/line7i\n",
        "Writing summary to: /Users/Likit/projects/mdv/gal4models_new/miso_analysis/results/A5SS/line7i/summary/line7i.miso_summary\n",
        "  - Summarized a total of 840 events.\n"
       ]
      }
     ],
     "prompt_number": 67
    },
    {
     "cell_type": "markdown",
     "metadata": {},
     "source": [
      "###Compare filter results"
     ]
    },
    {
     "cell_type": "code",
     "collapsed": false,
     "input": [
      "%%bash\n",
      "cd results/\n",
      "\n",
      "# comapare sample\n",
      "python run_miso.py --compare-samples A3SS/line6u/ A3SS/line7u/ A3SS/comparisons\n",
      "\n",
      "# Filter results\n",
      "filter_events.py --filter bayes-factors/line7i_vs_line6i.miso_bf --num-inc 1 --num-exc 1 --num-sum-inc-exc 10 --delta-psi 0.20 --bayes-factor 10 --output-dir filtered/"
     ],
     "language": "python",
     "metadata": {},
     "outputs": []
    },
    {
     "cell_type": "code",
     "collapsed": false,
     "input": [
      "%cd ~/projects/mdv/gal4models_new/miso_analysis/results/SE/comparisons/line6i_vs_line7i/bayes-factors/"
     ],
     "language": "python",
     "metadata": {},
     "outputs": [
      {
       "output_type": "stream",
       "stream": "stdout",
       "text": [
        "/Users/Likit/projects/mdv/gal4models_new/miso_analysis/results/SE/comparisons/line6i_vs_line7i/bayes-factors\n"
       ]
      }
     ],
     "prompt_number": 250
    },
    {
     "cell_type": "code",
     "collapsed": false,
     "input": [
      "!filter_events.py --filter line6i_vs_line7i.miso_bf --num-inc 1 --num-exc 1 --num-sum-inc-exc 10 --delta-psi 0.20 --bayes-factor 10 --apply-both --output-dir ../../filtered2/"
     ],
     "language": "python",
     "metadata": {},
     "outputs": [
      {
       "output_type": "stream",
       "stream": "stdout",
       "text": [
        "Filtering ['/Users/Likit/projects/mdv/gal4models_new/miso_analysis/results/SE/comparisons/line6i_vs_line7i/bayes-factors/line6i_vs_line7i.miso_bf'] into /Users/Likit/projects/mdv/gal4models_new/miso_analysis/results/SE/comparisons/filtered2/line6i_vs_line7i.miso_bf.filtered\r\n",
        "dictlist2file: serializing entries to /Users/Likit/projects/mdv/gal4models_new/miso_analysis/results/SE/comparisons/filtered2/line6i_vs_line7i.miso_bf.filtered\r\n",
        "dictlist2file: took 0.01 seconds\r\n",
        "165/3914 events pass the filter (4.22 percent).\r\n"
       ]
      }
     ],
     "prompt_number": 257
    },
    {
     "cell_type": "markdown",
     "metadata": {},
     "source": [
      "###Filter results"
     ]
    },
    {
     "cell_type": "code",
     "collapsed": false,
     "input": [
      "%cd ~/projects/mdv/gal4models_new/miso_analysis/results/SE/comparisons/"
     ],
     "language": "python",
     "metadata": {},
     "outputs": [
      {
       "output_type": "stream",
       "stream": "stdout",
       "text": [
        "/Users/Likit/projects/mdv/gal4models_new/miso_analysis/results/SE/comparisons"
       ]
      },
      {
       "output_type": "stream",
       "stream": "stdout",
       "text": [
        "\n"
       ]
      }
     ],
     "prompt_number": 287
    },
    {
     "cell_type": "code",
     "collapsed": false,
     "input": [
      "if not os.path.exists('../filtered2'):\n",
      "    os.mkdir('../filtered2')"
     ],
     "language": "python",
     "metadata": {},
     "outputs": [],
     "prompt_number": 288
    },
    {
     "cell_type": "code",
     "collapsed": false,
     "input": [
      "!python {gimme_utils}/miso-filter.py line6u_vs_line7u/bayes-factors/line6u_vs_line7u.miso_bf SE 0.20 0.20 10 2 > ../filtered2/line6u_vs_line7u.miso_bf.filtered"
     ],
     "language": "python",
     "metadata": {},
     "outputs": [
      {
       "output_type": "stream",
       "stream": "stdout",
       "text": [
        "Total 3899 events, passed 67 events\r\n"
       ]
      }
     ],
     "prompt_number": 270
    },
    {
     "cell_type": "code",
     "collapsed": false,
     "input": [
      "!python {gimme_utils}/miso-filter.py line6i_vs_line7i/bayes-factors/line6i_vs_line7i.miso_bf SE 0.20 0.20 10 2 > ../filtered2/line6i_vs_line7i.miso_bf.filtered"
     ],
     "language": "python",
     "metadata": {},
     "outputs": [
      {
       "output_type": "stream",
       "stream": "stdout",
       "text": [
        "Total 3915 events, passed 64 events\r\n"
       ]
      }
     ],
     "prompt_number": 271
    },
    {
     "cell_type": "code",
     "collapsed": false,
     "input": [
      "!python {gimme_utils}/miso-filter.py line6u_vs_line6i/bayes-factors/line6u_vs_line6i.miso_bf SE 0.20 0.20 10 2 > ../filtered2/line6u_vs_line6i.miso_bf.filtered"
     ],
     "language": "python",
     "metadata": {},
     "outputs": [
      {
       "output_type": "stream",
       "stream": "stdout",
       "text": [
        "Total 3950 events, passed 21 events\r\n"
       ]
      }
     ],
     "prompt_number": 289
    },
    {
     "cell_type": "code",
     "collapsed": false,
     "input": [
      "!python {gimme_utils}/miso-filter.py line7u_vs_line7i/bayes-factors/line7u_vs_line7i.miso_bf SE 0.20 0.20 10 2 > ../filtered2/line7u_vs_line7i.miso_bf.filtered"
     ],
     "language": "python",
     "metadata": {},
     "outputs": [
      {
       "output_type": "stream",
       "stream": "stdout",
       "text": [
        "Total 3882 events, passed 14 events\r\n"
       ]
      }
     ],
     "prompt_number": 290
    },
    {
     "cell_type": "code",
     "collapsed": false,
     "input": [
      "%cd ~/projects/mdv/gal4models_new/miso_analysis/results/A5SS/comparisons/"
     ],
     "language": "python",
     "metadata": {},
     "outputs": [
      {
       "output_type": "stream",
       "stream": "stdout",
       "text": [
        "/Users/Likit/projects/mdv/gal4models_new/miso_analysis/results/A5SS/comparisons"
       ]
      },
      {
       "output_type": "stream",
       "stream": "stdout",
       "text": [
        "\n"
       ]
      }
     ],
     "prompt_number": 272
    },
    {
     "cell_type": "code",
     "collapsed": false,
     "input": [
      "if not os.path.exists('../filtered2'):\n",
      "    os.mkdir('../filtered2')"
     ],
     "language": "python",
     "metadata": {},
     "outputs": [],
     "prompt_number": 274
    },
    {
     "cell_type": "code",
     "collapsed": false,
     "input": [
      "!python {gimme_utils}/miso-filter.py line6i_vs_line7i/bayes-factors/line6i_vs_line7i.miso_bf ASS 0.20 0.20 10 > ../filtered2/line6i_vs_line7i.miso_bf.filtered"
     ],
     "language": "python",
     "metadata": {},
     "outputs": [
      {
       "output_type": "stream",
       "stream": "stdout",
       "text": [
        "Total 841 events, passed 10 events\r\n"
       ]
      }
     ],
     "prompt_number": 277
    },
    {
     "cell_type": "code",
     "collapsed": false,
     "input": [
      "!python {gimme_utils}/miso-filter.py line6u_vs_line7u/bayes-factors/line6u_vs_line7u.miso_bf ASS 0.20 0.20 10 > ../filtered2/line6u_vs_line7u.miso_bf.filtered"
     ],
     "language": "python",
     "metadata": {},
     "outputs": [
      {
       "output_type": "stream",
       "stream": "stdout",
       "text": [
        "Total 833 events, passed 7 events\r\n"
       ]
      }
     ],
     "prompt_number": 278
    },
    {
     "cell_type": "code",
     "collapsed": false,
     "input": [
      "%cd ~/projects/mdv/gal4models_new/miso_analysis/results/A3SS/comparisons/"
     ],
     "language": "python",
     "metadata": {},
     "outputs": [
      {
       "output_type": "stream",
       "stream": "stdout",
       "text": [
        "/Users/Likit/projects/mdv/gal4models_new/miso_analysis/results/A3SS/comparisons"
       ]
      },
      {
       "output_type": "stream",
       "stream": "stdout",
       "text": [
        "\n"
       ]
      }
     ],
     "prompt_number": 279
    },
    {
     "cell_type": "code",
     "collapsed": false,
     "input": [
      "if not os.path.exists('../filtered2'):\n",
      "    os.mkdir('../filtered2')"
     ],
     "language": "python",
     "metadata": {},
     "outputs": [],
     "prompt_number": 280
    },
    {
     "cell_type": "code",
     "collapsed": false,
     "input": [
      "!python {gimme_utils}/miso-filter.py line6i_vs_line7i/bayes-factors/line6i_vs_line7i.miso_bf ASS 0.20 0.20 10 > ../filtered2/line6i_vs_line7i.miso_bf.filtered"
     ],
     "language": "python",
     "metadata": {},
     "outputs": [
      {
       "output_type": "stream",
       "stream": "stdout",
       "text": [
        "Total 1447 events, passed 22 events\r\n"
       ]
      }
     ],
     "prompt_number": 281
    },
    {
     "cell_type": "code",
     "collapsed": false,
     "input": [
      "!python {gimme_utils}/miso-filter.py line6u_vs_line7u/bayes-factors/line6u_vs_line7u.miso_bf ASS 0.20 0.20 10 > ../filtered2/line6u_vs_line7u.miso_bf.filtered"
     ],
     "language": "python",
     "metadata": {},
     "outputs": [
      {
       "output_type": "stream",
       "stream": "stdout",
       "text": [
        "Total 1443 events, passed 11 events\r\n"
       ]
      }
     ],
     "prompt_number": 282
    },
    {
     "cell_type": "code",
     "collapsed": false,
     "input": [
      "%cd ~/projects/mdv/gal4models_new/miso_analysis/results/RI/comparisons/"
     ],
     "language": "python",
     "metadata": {},
     "outputs": [
      {
       "output_type": "stream",
       "stream": "stdout",
       "text": [
        "/Users/Likit/projects/mdv/gal4models_new/miso_analysis/results/RI/comparisons"
       ]
      },
      {
       "output_type": "stream",
       "stream": "stdout",
       "text": [
        "\n"
       ]
      }
     ],
     "prompt_number": 283
    },
    {
     "cell_type": "code",
     "collapsed": false,
     "input": [
      "if not os.path.exists('../filtered2'):\n",
      "    os.mkdir('../filtered2')"
     ],
     "language": "python",
     "metadata": {},
     "outputs": [],
     "prompt_number": 284
    },
    {
     "cell_type": "code",
     "collapsed": false,
     "input": [
      "!python {gimme_utils}/miso-filter.py line6i_vs_line7i/bayes-factors/line6i_vs_line7i.miso_bf ASS 0.20 0.20 10 > ../filtered2/line6i_vs_line7i.miso_bf.filtered"
     ],
     "language": "python",
     "metadata": {},
     "outputs": [
      {
       "output_type": "stream",
       "stream": "stdout",
       "text": [
        "Total 3360 events, passed 304 events\r\n"
       ]
      }
     ],
     "prompt_number": 285
    },
    {
     "cell_type": "code",
     "collapsed": false,
     "input": [
      "!python {gimme_utils}/miso-filter.py line6u_vs_line7u/bayes-factors/line6u_vs_line7u.miso_bf ASS 0.20 0.20 10 > ../filtered2/line6u_vs_line7u.miso_bf.filtered"
     ],
     "language": "python",
     "metadata": {},
     "outputs": [
      {
       "output_type": "stream",
       "stream": "stdout",
       "text": [
        "Total 3364 events, passed 155 events\r\n"
       ]
      }
     ],
     "prompt_number": 286
    },
    {
     "cell_type": "markdown",
     "metadata": {},
     "source": [
      "##Sashimi plot"
     ]
    },
    {
     "cell_type": "code",
     "collapsed": false,
     "input": [
      "%%bash\n",
      "\n",
      "plot.py --plot-event \"chr6-8249\" alt_events/ sashimi_plot_settings_paired.txt --output-dir sashimi_plot"
     ],
     "language": "python",
     "metadata": {},
     "outputs": []
    },
    {
     "cell_type": "markdown",
     "metadata": {},
     "source": [
      "#AS Summary"
     ]
    },
    {
     "cell_type": "code",
     "collapsed": false,
     "input": [
      "num_events = [3000, 1000, 1000, 128]"
     ],
     "language": "python",
     "metadata": {},
     "outputs": [],
     "prompt_number": 1
    },
    {
     "cell_type": "code",
     "collapsed": false,
     "input": [
      "figsize(6, 6)\n",
      "pie([3997, 866, 1487, 128, 3401], labels=['SE', 'A5SS', 'A3SS', 'MXE', 'RI'], autopct='%0.f%%', shadow=True, explode=[0,0,0,0,0.05])\n",
      "savefig('/Users/Likit/Desktop/altevent_pie.png')\n",
      "show()"
     ],
     "language": "python",
     "metadata": {},
     "outputs": [
      {
       "output_type": "display_data",
       "png": "[encoded data removed]"
      }
     ],
     "prompt_number": 9
    },
    {
     "cell_type": "code",
     "collapsed": false,
     "input": [
      "len(line6uvsline6i), len(line6uvsline7u), len(line7uvsline7i), len(line6ivsline7i)"
     ],
     "language": "python",
     "metadata": {},
     "outputs": [
      {
       "output_type": "pyout",
       "prompt_number": 18,
       "text": [
        "(86, 178, 71, 165)"
       ]
      }
     ],
     "prompt_number": 18
    },
    {
     "cell_type": "code",
     "collapsed": false,
     "input": [
      "len(line6uvsline6i.intersection(line7uvsline7i))"
     ],
     "language": "python",
     "metadata": {},
     "outputs": [
      {
       "output_type": "pyout",
       "prompt_number": 19,
       "text": [
        "8"
       ]
      }
     ],
     "prompt_number": 19
    },
    {
     "cell_type": "code",
     "collapsed": false,
     "input": [
      "len(line6uvsline7u.intersection(line6ivsline7i))"
     ],
     "language": "python",
     "metadata": {},
     "outputs": [
      {
       "output_type": "pyout",
       "prompt_number": 20,
       "text": [
        "69"
       ]
      }
     ],
     "prompt_number": 20
    },
    {
     "cell_type": "code",
     "collapsed": false,
     "input": [
      "line6uvsline6i.intersection(line6uvsline7u)"
     ],
     "language": "python",
     "metadata": {},
     "outputs": [
      {
       "output_type": "pyout",
       "prompt_number": 21,
       "text": [
        "set(['chr20-9536.ev1',\n",
        "     'chr1-6369.ev1',\n",
        "     'chr5-11065.ev1',\n",
        "     'chr19-10940.ev1',\n",
        "     'chr1-2544.ev1',\n",
        "     'chr14-7462.ev1',\n",
        "     'chr19-10940.ev3',\n",
        "     'chr15-19638.ev1',\n",
        "     'chr27-21226.ev1',\n",
        "     'chr28-19419.ev2',\n",
        "     'chr19-10940.ev4',\n",
        "     'chr27-21225.ev2',\n",
        "     'chr12-15971.ev2',\n",
        "     'chr6-21611.ev3',\n",
        "     'chr10-18043.ev1',\n",
        "     'chr4-18828.ev1',\n",
        "     'chr10-18043.ev3',\n",
        "     'chr10-18043.ev2',\n",
        "     'chr18-18739.ev2',\n",
        "     'chr4-20303.ev1',\n",
        "     'chr1-24998.ev1'])"
       ]
      }
     ],
     "prompt_number": 21
    },
    {
     "cell_type": "code",
     "collapsed": false,
     "input": [
      "line7uvsline7i.intersection(line6ivsline7i)"
     ],
     "language": "python",
     "metadata": {},
     "outputs": [
      {
       "output_type": "pyout",
       "prompt_number": 22,
       "text": [
        "set(['chr1-2544.ev1',\n",
        "     'chrZ-5455.ev1',\n",
        "     'chr28-21287.ev3',\n",
        "     'chr3-18773.ev4',\n",
        "     'chr4-22999.ev3',\n",
        "     'chr14-7462.ev1',\n",
        "     'chr4-21424.ev1',\n",
        "     'chr3-7598.ev1',\n",
        "     'chr4-4949.ev1',\n",
        "     'chr1-7912.ev1',\n",
        "     'chr4-18500.ev12',\n",
        "     'chr11-21749.ev2',\n",
        "     'chrLGE22C19W28_E50C23-8050.ev1',\n",
        "     'chr4-22999.ev4',\n",
        "     'chr4-18500.ev2',\n",
        "     'chr24-20185.ev1',\n",
        "     'chr9-3084.ev1',\n",
        "     'chr9-13968.ev1',\n",
        "     'chr10-24819.ev1',\n",
        "     'chr10-12298.ev2'])"
       ]
      }
     ],
     "prompt_number": 22
    },
    {
     "cell_type": "markdown",
     "metadata": {},
     "source": [
      "#SNPs Analysis"
     ]
    },
    {
     "cell_type": "code",
     "collapsed": false,
     "input": [
      "os.chdir(working_dir)"
     ],
     "language": "python",
     "metadata": {},
     "outputs": [],
     "prompt_number": 5
    },
    {
     "cell_type": "markdown",
     "metadata": {},
     "source": [
      "Convert GWAS file to BED format."
     ]
    },
    {
     "cell_type": "code",
     "collapsed": false,
     "input": [
      "!awk 'BEGIN {OFS=\"\\t\"} { start = $2 - 1; print $1,start,$2,$4,$3,\".\"}' gwas_combined2.txt > gwas_combined2.bed"
     ],
     "language": "python",
     "metadata": {},
     "outputs": [],
     "prompt_number": 47
    },
    {
     "cell_type": "markdown",
     "metadata": {},
     "source": [
      "Create a file storing a length of each chromosome."
     ]
    },
    {
     "cell_type": "code",
     "collapsed": false,
     "input": [
      "from pygr import seqdb\n",
      "genome = seqdb.SequenceFileDB('../gal4selected.fa')\n",
      "op = open('genome_len.txt', 'w')\n",
      "for chrom in genome:\n",
      "    print >> op, '%s\\t%d' % (chrom, len(genome[chrom]))\n",
      "op.close()"
     ],
     "language": "python",
     "metadata": {},
     "outputs": [],
     "prompt_number": 53
    },
    {
     "cell_type": "code",
     "collapsed": false,
     "input": [
      "def get_largest_isoforms(gene_models):\n",
      "    isoforms = {}\n",
      "    for line in open(gene_models):\n",
      "        features = line.split()\n",
      "        transcript = features[3]\n",
      "        gene_name = transcript.split('.')[0]\n",
      "        chrom = features[0]\n",
      "        start = int(features[1])\n",
      "        end = int(features[2])\n",
      "        size = end - start + 1\n",
      "        if gene_name in isoforms:\n",
      "            _, chrom, gene_start, gene_end = isoforms[gene_name]\n",
      "            gene_size = gene_end - gene_start + 1\n",
      "            if size > gene_size:\n",
      "                isoforms[gene_name] = (transcript, chrom, start, end)\n",
      "        else:\n",
      "            isoforms[gene_name] = (transcript, chrom, start, end)\n",
      "    return isoforms"
     ],
     "language": "python",
     "metadata": {},
     "outputs": [],
     "prompt_number": 237
    },
    {
     "cell_type": "code",
     "collapsed": false,
     "input": [
      "largest_isoforms = get_largest_isoforms('../line67_split_cuff_models.nr99.bed')"
     ],
     "language": "python",
     "metadata": {},
     "outputs": [],
     "prompt_number": 238
    },
    {
     "cell_type": "markdown",
     "metadata": {},
     "source": [
      "Create genes only models."
     ]
    },
    {
     "cell_type": "code",
     "collapsed": false,
     "input": [
      "output_file = open('line67_split_cuff_models_nr_genes_only.bed', 'w')\n",
      "large_isoforms = [v[0] for v in largest_isoforms.itervalues()]\n",
      "for line in open('../line67_split_cuff_models.nr99.bed'):\n",
      "    features = line.split()\n",
      "    if features[3] in large_isoforms:\n",
      "        print >> output_file, line.strip()\n",
      "output_file.close()"
     ],
     "language": "python",
     "metadata": {},
     "outputs": [],
     "prompt_number": 240
    },
    {
     "cell_type": "code",
     "collapsed": false,
     "input": [
      "def snp_to_fasta(inputfile, genome, outputfile):\n",
      "    '''Return 150 bp with SNP at the beginning.'''\n",
      "    from pygr import seqdb, sequtil\n",
      "    genome = seqdb.SequenceFileDB(genome)\n",
      "    op = open(outputfile, 'w')\n",
      "    for line in open(inputfile):\n",
      "        features = line.split()\n",
      "        chrom = features[0]\n",
      "        start = int(features[1])\n",
      "        snptype = features[3]\n",
      "        score = features[4]\n",
      "        snpid = '%s_%d_%s_%s' % (chrom, start, snptype, score)\n",
      "        try:\n",
      "            seq = genome[chrom][start:start+100]\n",
      "        except KeyError:\n",
      "            continue\n",
      "        sequtil.write_fasta(op, seq, id=snpid)\n",
      "    op.close()"
     ],
     "language": "python",
     "metadata": {},
     "outputs": [],
     "prompt_number": 87
    },
    {
     "cell_type": "code",
     "collapsed": false,
     "input": [
      "snp_to_fasta('gwas_combined2.bed', '../../chick.fa', 'gwas_combined2.fa')"
     ],
     "language": "python",
     "metadata": {},
     "outputs": [],
     "prompt_number": 89
    },
    {
     "cell_type": "code",
     "collapsed": false,
     "input": [
      "%%bash\n",
      "#Obtain exon annotation\n",
      "grep exon line67_split_cuff_models.nr99.SE.gff > line67_split_cuff_models.nr99.SE.exons.gff\n",
      "grep exon line67_split_cuff_models.nr99.MXE.gff > line67_split_cuff_models.nr99.MXE.exons.gff\n",
      "grep exon line67_split_cuff_models.nr99.RI.gff > line67_split_cuff_models.nr99.RI.exons.gff\n",
      "grep exon line67_split_cuff_models.nr99.A3SS.gff > line67_split_cuff_models.nr99.A3SS.exons.gff\n",
      "grep exon line67_split_cuff_models.nr99.A5SS.gff > line67_split_cuff_models.nr99.A5SS.exons.gff"
     ],
     "language": "python",
     "metadata": {},
     "outputs": [],
     "prompt_number": 7
    },
    {
     "cell_type": "code",
     "collapsed": false,
     "input": [
      "%%bash\n",
      "# this could take more than 12 hours; recommended using preprocessed data\n",
      "# to run this step outside the notebook, run make mpileup\n",
      "samtools mpileup -uf ~/gal4genome/gal4selected.fa bam-data/line6u.bam | bcftools view -bcvg - > snps/line6u.var.raw.bcf\n",
      "samtools mpileup -uf ~/gal4genome/gal4selected.fa bam-data/line6i.bam | bcftools view -bcvg - > snps/line6i.var.raw.bcf\n",
      "samtools mpileup -uf ~/gal4genome/gal4selected.fa bam-data/line7u.bam | bcftools view -bcvg - > snps/line7u.var.raw.bcf\n",
      "samtools mpileup -uf ~/gal4genome/gal4selected.fa bam-data/line7i.bam | bcftools view -bcvg - > snps/line7i.var.raw.bcf"
     ],
     "language": "python",
     "metadata": {},
     "outputs": [],
     "prompt_number": 1
    },
    {
     "cell_type": "code",
     "collapsed": false,
     "input": [
      "%%bash\n",
      "bcftools view snps/line6u.var.raw.bcf > snps/line6u.var.raw.vcf\n",
      "bcftools view snps/line6i.var.raw.bcf > snps/line6i.var.raw.vcf\n",
      "bcftools view snps/line7u.var.raw.bcf > snps/line7u.var.raw.vcf\n",
      "bcftools view snps/line7i.var.raw.bcf > snps/line7i.var.raw.vcf"
     ],
     "language": "python",
     "metadata": {},
     "outputs": [],
     "prompt_number": 13
    },
    {
     "cell_type": "code",
     "collapsed": false,
     "input": [
      "%%bash\n",
      "# Filter out SNPs with score < 20\n",
      "vcfutils.pl varFilter -d 4 snps/line6u.var.raw.vcf | awk -F'\\t' '$6>=20' > snps/line6u.var.flt.vcf\n",
      "vcfutils.pl varFilter -d 4 snps/line6i.var.raw.vcf | awk -F'\\t' '$6>=20' > snps/line6i.var.flt.vcf\n",
      "vcfutils.pl varFilter -d 4 snps/line7u.var.raw.vcf | awk -F'\\t' '$6>=20' > snps/line7u.var.flt.vcf\n",
      "vcfutils.pl varFilter -d 4 snps/line7i.var.raw.vcf | awk -F'\\t' '$6>=20' > snps/line7i.var.flt.vcf"
     ],
     "language": "python",
     "metadata": {},
     "outputs": [],
     "prompt_number": 6
    },
    {
     "cell_type": "code",
     "collapsed": false,
     "input": [
      "# Find different SNPs\n",
      "\n",
      "!python {gimme_utils}/find_diff_snps.py snps/line6u.var.flt.vcf snps/line7u.var.flt.vcf > snps/line6u_diff_line7u.var.flt.vcf\n",
      "!python {gimme_utils}/find_diff_snps.py snps/line6i.var.flt.vcf snps/line7i.var.flt.vcf > snps/line6i_diff_line7i.var.flt.vcf\n",
      "!python {gimme_utils}/find_diff_snps.py snps/line7u.var.flt.vcf snps/line6u.var.flt.vcf > snps/line7u_diff_line6u.var.flt.vcf\n",
      "!python {gimme_utils}/find_diff_snps.py snps/line7i.var.flt.vcf snps/line6i.var.flt.vcf > snps/line7i_diff_line6i.var.flt.vcf"
     ],
     "language": "python",
     "metadata": {},
     "outputs": [],
     "prompt_number": 7
    },
    {
     "cell_type": "code",
     "collapsed": false,
     "input": [
      "%%bash\n",
      "# Find unique SNPs located in exons\n",
      "\n",
      "intersectBed -a snps/line7u_diff_line6u.var.flt.vcf -b line67_split_cuff_models.nr99.SE.exons.gff -wb > results/SE/line7u_diff_line6u.SE.snps.txt\n",
      "intersectBed -a snps/line6u_diff_line7u.var.flt.vcf -b line67_split_cuff_models.nr99.SE.exons.gff -wb > results/SE/line6u_diff_line7u.SE.snps.txt\n",
      "intersectBed -a snps/line7i_diff_line6i.var.flt.vcf -b line67_split_cuff_models.nr99.SE.exons.gff -wb > results/SE/line7i_diff_line6i.SE.snps.txt\n",
      "intersectBed -a snps/line6i_diff_line7i.var.flt.vcf -b line67_split_cuff_models.nr99.SE.exons.gff -wb > results/SE/line6i_diff_line7i.SE.snps.txt"
     ],
     "language": "python",
     "metadata": {},
     "outputs": [],
     "prompt_number": 8
    },
    {
     "cell_type": "code",
     "collapsed": false,
     "input": [
      "os.chdir(working_dir)"
     ],
     "language": "python",
     "metadata": {},
     "outputs": [],
     "prompt_number": 309
    },
    {
     "cell_type": "code",
     "collapsed": false,
     "input": [
      "%%bash\n",
      "# Find unique SNPs located in exons\n",
      "\n",
      "intersectBed -a snps/line7u_diff_line6u.var.flt.vcf -b line67_split_cuff_models.nr99.RI.exons.gff -wb > results/RI/line7u_diff_line6u.RI.snps.txt\n",
      "intersectBed -a snps/line6u_diff_line7u.var.flt.vcf -b line67_split_cuff_models.nr99.RI.exons.gff -wb > results/RI/line6u_diff_line7u.RI.snps.txt\n",
      "intersectBed -a snps/line7i_diff_line6i.var.flt.vcf -b line67_split_cuff_models.nr99.RI.exons.gff -wb > results/RI/line7i_diff_line6i.RI.snps.txt\n",
      "intersectBed -a snps/line6i_diff_line7i.var.flt.vcf -b line67_split_cuff_models.nr99.RI.exons.gff -wb > results/RI/line6i_diff_line7i.RI.snps.txt"
     ],
     "language": "python",
     "metadata": {},
     "outputs": [],
     "prompt_number": 71
    },
    {
     "cell_type": "code",
     "collapsed": false,
     "input": [
      "%%bash\n",
      "# Find unique SNPs located in exons\n",
      "\n",
      "intersectBed -a snps/line7u_diff_line6u.var.flt.vcf -b line67_split_cuff_models.nr99.A5SS.exons.gff -wb > results/A5SS/line7u_diff_line6u.A5SS.snps.txt\n",
      "intersectBed -a snps/line6u_diff_line7u.var.flt.vcf -b line67_split_cuff_models.nr99.A5SS.exons.gff -wb > results/A5SS/line6u_diff_line7u.A5SS.snps.txt\n",
      "intersectBed -a snps/line7i_diff_line6i.var.flt.vcf -b line67_split_cuff_models.nr99.A5SS.exons.gff -wb > results/A5SS/line7i_diff_line6i.A5SS.snps.txt\n",
      "intersectBed -a snps/line6i_diff_line7i.var.flt.vcf -b line67_split_cuff_models.nr99.A5SS.exons.gff -wb > results/A5SS/line6i_diff_line7i.A5SS.snps.txt"
     ],
     "language": "python",
     "metadata": {},
     "outputs": [],
     "prompt_number": 63
    },
    {
     "cell_type": "markdown",
     "metadata": {},
     "source": [
      "# Find SNPs located in differentially expressed exons"
     ]
    },
    {
     "cell_type": "markdown",
     "metadata": {},
     "source": [
      "###Skipped Exons"
     ]
    },
    {
     "cell_type": "code",
     "collapsed": false,
     "input": [
      "os.chdir(working_dir)"
     ],
     "language": "python",
     "metadata": {},
     "outputs": [],
     "prompt_number": 8
    },
    {
     "cell_type": "code",
     "collapsed": false,
     "input": [
      "# Add SNPs information to the results\n",
      "\n",
      "!python {gimme_utils}/miso-snps.py results/SE/filtered/line6u_vs_line7u.miso_bf.filtered results/SE/line6u_diff_line7u.SE.snps.txt > results/SE/filtered/line6u_vs_line7u.line6u.miso_bf.filtered.snps.txt\n",
      "!python {gimme_utils}/miso-snps.py results/SE/filtered/line6i_vs_line7i.miso_bf.filtered results/SE/line6i_diff_line7i.SE.snps.txt > results/SE/filtered/line6i_vs_line7i.line6i.miso_bf.filtered.snps.txt\n",
      "!python {gimme_utils}/miso-snps.py results/SE/filtered/line6u_vs_line7u.miso_bf.filtered results/SE/line7u_diff_line6u.SE.snps.txt > results/SE/filtered/line7u_vs_line6u.line7u.miso_bf.filtered.snps.txt\n",
      "!python {gimme_utils}/miso-snps.py results/SE/filtered/line6i_vs_line7i.miso_bf.filtered results/SE/line7i_diff_line6i.SE.snps.txt > results/SE/filtered/line7i_vs_line6i.line7i.miso_bf.filtered.snps.txt"
     ],
     "language": "python",
     "metadata": {},
     "outputs": [],
     "prompt_number": 14
    },
    {
     "cell_type": "code",
     "collapsed": false,
     "input": [
      "# Select only skipped exons\n",
      "\n",
      "!python {gimme_utils}/select_events.py line67_split_cuff_models.nr99.SE.gff results/SE/filtered/line6u_vs_line7u.line6u.miso_bf.filtered.snps.txt SE > results/SE/filtered/line6u_vs_line7u.line6u.miso_bf.filtered.snps.selected.txt\n",
      "!python {gimme_utils}/select_events.py line67_split_cuff_models.nr99.SE.gff results/SE/filtered/line6i_vs_line7i.line6i.miso_bf.filtered.snps.txt SE > results/SE/filtered/line6i_vs_line7i.line6i.miso_bf.filtered.snps.selected.txt\n",
      "!python {gimme_utils}/select_events.py line67_split_cuff_models.nr99.SE.gff results/SE/filtered/line7u_vs_line6u.line7u.miso_bf.filtered.snps.txt SE > results/SE/filtered/line7u_vs_line6u.line7u.miso_bf.filtered.snps.selected.txt\n",
      "!python {gimme_utils}/select_events.py line67_split_cuff_models.nr99.SE.gff results/SE/filtered/line7i_vs_line6i.line7i.miso_bf.filtered.snps.txt SE > results/SE/filtered/line7i_vs_line6i.line7i.miso_bf.filtered.snps.selected.txt"
     ],
     "language": "python",
     "metadata": {},
     "outputs": [],
     "prompt_number": 15
    },
    {
     "cell_type": "code",
     "collapsed": false,
     "input": [
      "# Get a sequence of a skipped exon\n",
      "\n",
      "!python {gimme_utils}/miso-snps-to-fa.py results/SE/filtered/line6u_vs_line7u.line6u.miso_bf.filtered.snps.selected.txt {working_dir}/gal4selected.fa > results/SE/filtered/line6u_vs_line7u.line6u.miso_bf.filtered.snps.selected.fa\n",
      "!python {gimme_utils}/miso-snps-to-fa.py results/SE/filtered/line6i_vs_line7i.line6i.miso_bf.filtered.snps.selected.txt {working_dir}/gal4selected.fa > results/SE/filtered/line6i_vs_line7i.line6i.miso_bf.filtered.snps.selected.fa\n",
      "!python {gimme_utils}/miso-snps-to-fa.py results/SE/filtered/line7u_vs_line6u.line7u.miso_bf.filtered.snps.selected.txt {working_dir}/gal4selected.fa > results/SE/filtered/line7u_vs_line6u.line7u.miso_bf.filtered.snps.selected.fa\n",
      "!python {gimme_utils}/miso-snps-to-fa.py results/SE/filtered/line7i_vs_line6i.line7i.miso_bf.filtered.snps.selected.txt {working_dir}/gal4selected.fa > results/SE/filtered/line7i_vs_line6i.line7i.miso_bf.filtered.snps.selected.fa"
     ],
     "language": "python",
     "metadata": {},
     "outputs": [],
     "prompt_number": 16
    },
    {
     "cell_type": "code",
     "collapsed": false,
     "input": [
      "filtered_results = 'results/SE/filtered/line6i_vs_line7i.miso_bf.filtered'\n",
      "output_file = open('results/SE/filtered/line6ivsline7i_genes.bed', 'w')\n",
      "skipped_exons_genes = []\n",
      "for line in open(filtered_results):\n",
      "    event = line.split()[0].split('.')[0].replace('-', ':')\n",
      "    skipped_exons_genes.append(largest_isoforms[event][0])\n",
      "    \n",
      "for line in open('../line67_split_cuff_models.nr99.bed'):\n",
      "    features = line.split()\n",
      "    if features[3] in skipped_exons_genes:\n",
      "        print >> output_file, line.strip()\n",
      "        \n",
      "output_file.close()"
     ],
     "language": "python",
     "metadata": {},
     "outputs": [],
     "prompt_number": 115
    },
    {
     "cell_type": "markdown",
     "metadata": {},
     "source": [
      "Run BLAT against galGal3 genome."
     ]
    },
    {
     "cell_type": "markdown",
     "metadata": {},
     "source": [
      "Select only an alignment with the highest score for each isoforms."
     ]
    },
    {
     "cell_type": "markdown",
     "metadata": {},
     "source": [
      "Convert the file to BED format."
     ]
    },
    {
     "cell_type": "code",
     "collapsed": false,
     "input": [
      "op = open('results/SE/filtered/genes.fa.blast8.filtered.bed', 'w')\n",
      "for line in open('results/SE/filtered/genes.fa.blast8.filtered'):\n",
      "    features = line.strip().split()\n",
      "    name = features[0]\n",
      "    chrom = features[1]\n",
      "    start = int(features[8])\n",
      "    end = int(features[9])\n",
      "    if start > end:\n",
      "        start, end = end, start\n",
      "    start -= 1\n",
      "    op.write('%s\\t%d\\t%d\\t%s\\t1000\\t.\\n' %\n",
      "             (chrom, start, end, name))\n",
      "op.close()"
     ],
     "language": "python",
     "metadata": {},
     "outputs": [],
     "prompt_number": 51
    },
    {
     "cell_type": "markdown",
     "metadata": {},
     "source": [
      "####Plot all differentially expressed exon skipping events"
     ]
    },
    {
     "cell_type": "code",
     "collapsed": false,
     "input": [
      "!python {gimme_utils}/snps-to-sashimi.py results/SE/filtered/line6u_vs_line7u.line6u.miso_bf.filtered.snps.selected.txt results/SE/filtered/line6i_vs_line7i.line6i.miso_bf.filtered.snps.selected.txt results/SE/filtered/line7u_vs_line6u.line7u.miso_bf.filtered.snps.selected.txt results/SE/filtered/line7i_vs_line6i.line7i.miso_bf.filtered.snps.selected.txt > results/SE/filtered/line67_SE_snps_list.txt"
     ],
     "language": "python",
     "metadata": {},
     "outputs": [],
     "prompt_number": 9
    },
    {
     "cell_type": "code",
     "collapsed": false,
     "input": [
      "%%bash\n",
      "for g in `cat line67_SE_snps_list.txt`; do plot..."
     ],
     "language": "python",
     "metadata": {},
     "outputs": []
    },
    {
     "cell_type": "code",
     "collapsed": false,
     "input": [
      "original_gene_models = {}\n",
      "from collections import namedtuple\n",
      "GeneModel = namedtuple('GeneModel', ['chr', 'start', 'end', 'name', 'strand'])\n",
      "for line in open('results/SE/filtered/line6i_vs_line7i.genes.bed'):\n",
      "    features = line.strip().split()\n",
      "    start = int(features[1])\n",
      "    end = int(features[2])\n",
      "    name = features[3]\n",
      "    strand = features[5]\n",
      "    chrom = features[0]\n",
      "    gm = GeneModel(chrom, start, end, name, strand)\n",
      "    original_gene_models[name] = gm"
     ],
     "language": "python",
     "metadata": {},
     "outputs": [],
     "prompt_number": 139
    },
    {
     "cell_type": "code",
     "collapsed": false,
     "input": [
      "original_gene_models['chr2:3053.2']"
     ],
     "language": "python",
     "metadata": {},
     "outputs": [
      {
       "metadata": {},
       "output_type": "pyout",
       "prompt_number": 140,
       "text": [
        "GeneModel(chr='chr2', start=49527666, end=49570177, name='chr2:3053.2', strand='-')"
       ]
      }
     ],
     "prompt_number": 140
    },
    {
     "cell_type": "code",
     "collapsed": false,
     "input": [
      "def plot_gwas_snps(filename, slop, outfile, plottitle):\n",
      "    ase_snps = []\n",
      "    ase_snp_scores = []\n",
      "    random_snps = []\n",
      "    random_snp_scores = []\n",
      "    ss_snps = []\n",
      "    ss_snp_scores = []\n",
      "    for line in open(filename):\n",
      "        features = line.strip().split()\n",
      "        start = int(features[1])\n",
      "        end = int(features[2])\n",
      "        snp = int(features[4])\n",
      "        score = float(features[7])\n",
      "        snp_type = features[6]\n",
      "        block_size = float(end - start)\n",
      "        name = features[3]\n",
      "        pos = (snp - start) / block_size\n",
      "        genic_snps.append(pos)\n",
      "        genic_snp_scores.append(score)\n",
      "        if snp_type == 'ASE':\n",
      "            ase_snps.append(pos)\n",
      "            ase_snp_scores.append(score)\n",
      "        elif snp_type == 'Random':\n",
      "            random_snps.append(pos)\n",
      "            random_snp_scores.append(score)\n",
      "        else:\n",
      "            ss_snps.append(pos)\n",
      "            ss_snp_scores.append(score)\n",
      "\n",
      "    plot(ase_snps, ase_snp_scores, '.', color='blue', markersize=11, label='ASE')\n",
      "    plot(random_snps, random_snp_scores, '.', color='red', markersize=11, label='Random')\n",
      "    plot(ss_snps, ss_snp_scores, '.', color='gray', markersize=11, label='Sweep')\n",
      "    legend()\n",
      "    ylabel('Score', size=16)\n",
      "    xlabel('Relative position', size=16)\n",
      "    title(plottitle, size=20)\n",
      "    savefig(outfile)"
     ],
     "language": "python",
     "metadata": {},
     "outputs": [],
     "prompt_number": 195
    },
    {
     "cell_type": "code",
     "collapsed": false,
     "input": [
      "import random\n",
      "random.seed(133)"
     ],
     "language": "python",
     "metadata": {},
     "outputs": [],
     "prompt_number": 241
    },
    {
     "cell_type": "code",
     "collapsed": false,
     "input": [
      "samples = random.sample(xrange(25290),54)\n",
      "op = open('random_54_genes.bed', 'w')\n",
      "for n, line in enumerate(open('line67_split_cuff_models_nr_genes_only.bed')):\n",
      "    if n in samples:\n",
      "        print >> op, line,\n",
      "op.close()"
     ],
     "language": "python",
     "metadata": {},
     "outputs": [],
     "prompt_number": 242
    },
    {
     "cell_type": "code",
     "collapsed": false,
     "input": [
      "!slopBed -g genome_len.txt -i random_54_genes.bed -b 100000 > random_54_genes.slopped.100000bp.bed"
     ],
     "language": "python",
     "metadata": {},
     "outputs": [],
     "prompt_number": 243
    },
    {
     "cell_type": "code",
     "collapsed": false,
     "input": [
      "!intersectBed -a random_54_genes.slopped.100000bp.bed -b gwas_combined2_gal4.bed -wo | cut -f 1,2,3,4,14,19,20,21 > random.54.genes.gwas.snps.slopped.100000bp.bed "
     ],
     "language": "python",
     "metadata": {},
     "outputs": [],
     "prompt_number": 244
    },
    {
     "cell_type": "code",
     "collapsed": false,
     "input": [
      "#filename = 'results/SE/filtered/line6i_vs_line7i.gwas.snps.slopped.%dbp.bed' % slop\n",
      "filename = 'random.54.genes.gwas.snps.slopped.100000bp.bed'\n",
      "outfile = 'random_54_genes_slop_100000bp_seed133.png'\n",
      "plot_gwas_snps(filename, 100000, outfile, plottitle='Random 54 genes with flanking 100000bp (seed=133)')"
     ],
     "language": "python",
     "metadata": {},
     "outputs": [
      {
       "metadata": {},
       "output_type": "display_data",
       "png": "[encoded data removed]",
       "text": [
        "<matplotlib.figure.Figure at 0x111bfe890>"
       ]
      }
     ],
     "prompt_number": 245
    },
    {
     "cell_type": "code",
     "collapsed": false,
     "input": [
      "filename = 'results/SE/filtered/line6i_vs_line7i.gwas.snps.slopped.%dbp.bed' % slop\n",
      "outfile = 'results/SE/filtered/line6i_vs_line7i_slop_100000bp.png'\n",
      "plot_gwas_snps(filename, 100000, outfile, plottitle='Line6i vs 7i genes with skipped exons with flanking 100000bp')"
     ],
     "language": "python",
     "metadata": {},
     "outputs": [
      {
       "metadata": {},
       "output_type": "display_data",
       "png": "[encoded data removed]",
       "text": [
        "<matplotlib.figure.Figure at 0x111057590>"
       ]
      }
     ],
     "prompt_number": 203
    },
    {
     "cell_type": "markdown",
     "metadata": {},
     "source": [
      "##Add gene symbols"
     ]
    },
    {
     "cell_type": "code",
     "collapsed": false,
     "input": [
      "os.chdir(working_dir)"
     ],
     "language": "python",
     "metadata": {},
     "outputs": [],
     "prompt_number": 6
    },
    {
     "cell_type": "code",
     "collapsed": false,
     "input": [
      "genes_with_ASE_snps = set()\n",
      "for line in open('results/SE/filtered/line6i_vs_line7i.gwas.snps.slopped.100000bp.bed'):\n",
      "    cols = line.strip().split()\n",
      "    snp_type = cols[6]\n",
      "    if snp_type == \"ASE\":\n",
      "        genes_with_ASE_snps.add(cols[3].split('.')[0])"
     ],
     "language": "python",
     "metadata": {},
     "outputs": [],
     "prompt_number": 18
    },
    {
     "cell_type": "code",
     "collapsed": false,
     "input": [
      "import pickle\n",
      "gene_symbols = pickle.load(open('../models2symbol.pickle'))\n",
      "op = open('results/SE/filtered/line6i_vs_line7i.line6i.miso_bf.filtered.snps.selected.symbols.txt', 'w')\n",
      "for line in open('results/SE/filtered/line6i_vs_line7i.line6i.miso_bf.filtered.snps.selected.txt'):\n",
      "    cols = line.strip().split()\n",
      "    attrs = dict([(key, value) for key, value in [item.split('=') for item in cols[-1].split(';')]])\n",
      "    geneid = attrs['ID'].replace('-', ':').split('.')\n",
      "    geneid = '.'.join([geneid[0], geneid[2]])\n",
      "    if geneid.split('.')[0] not in genes_with_ASE_snps:\n",
      "            symbol = ''\n",
      "    else:\n",
      "        try:\n",
      "            symbol = gene_symbols[geneid][-1]\n",
      "        except KeyError:\n",
      "            symbol = \"NA\"\n",
      "    cols[-1] = cols[-1] + ';symbol=' + symbol\n",
      "    print >> op, '\\t'.join(cols)\n",
      "op.close()\n",
      "print geneid"
     ],
     "language": "python",
     "metadata": {},
     "outputs": [
      {
       "output_type": "stream",
       "stream": "stdout",
       "text": [
        "chr1:8524.1\n"
       ]
      }
     ],
     "prompt_number": 20
    },
    {
     "cell_type": "markdown",
     "metadata": {},
     "source": [
      "###Alternative 5' splice site"
     ]
    },
    {
     "cell_type": "code",
     "collapsed": false,
     "input": [],
     "language": "python",
     "metadata": {},
     "outputs": []
    },
    {
     "cell_type": "code",
     "collapsed": false,
     "input": [
      "# Add SNPs information to the results\n",
      "\n",
      "!python {gimme_utils}/miso-snps.py results/A5SS/filtered/line6u_vs_line7u.miso_bf.filtered results/A5SS/line6u_diff_line7u.A5SS.snps.txt > results/A5SS/filtered/line6u_vs_line7u.line6u.miso_bf.filtered.snps.txt\n",
      "!python {gimme_utils}/miso-snps.py results/A5SS/filtered/line6i_vs_line7i.miso_bf.filtered results/A5SS/line6i_diff_line7i.A5SS.snps.txt > results/A5SS/filtered/line6i_vs_line7i.line6i.miso_bf.filtered.snps.txt\n",
      "!python {gimme_utils}/miso-snps.py results/A5SS/filtered/line6u_vs_line7u.miso_bf.filtered results/A5SS/line7u_diff_line6u.A5SS.snps.txt > results/A5SS/filtered/line7u_vs_line6u.line7u.miso_bf.filtered.snps.txt\n",
      "!python {gimme_utils}/miso-snps.py results/A5SS/filtered/line6i_vs_line7i.miso_bf.filtered results/A5SS/line7i_diff_line6i.A5SS.snps.txt > results/A5SS/filtered/line7i_vs_line6i.line7i.miso_bf.filtered.snps.txt"
     ],
     "language": "python",
     "metadata": {},
     "outputs": [],
     "prompt_number": 64
    },
    {
     "cell_type": "code",
     "collapsed": false,
     "input": [
      "# Select only skipped exons\n",
      "\n",
      "!python {gimme_utils}/select_events.py line67_split_cuff_models.nr99.A5SS.gff results/A5SS/filtered/line6u_vs_line7u.line6u.miso_bf.filtered.snps.txt A5SS > results/A5SS/filtered/line6u_vs_line7u.line6u.miso_bf.filtered.snps.selected.txt 2> results/A5SS/filtered/line6u_vs_line7u.line6u.log\n",
      "!python {gimme_utils}/select_events.py line67_split_cuff_models.nr99.A5SS.gff results/A5SS/filtered/line6i_vs_line7i.line6i.miso_bf.filtered.snps.txt A5SS > results/A5SS/filtered/line6i_vs_line7i.line6i.miso_bf.filtered.snps.selected.txt 2> results/A5SS/filtered/line6i_vs_line7i.line6i.log\n",
      "!python {gimme_utils}/select_events.py line67_split_cuff_models.nr99.A5SS.gff results/A5SS/filtered/line7u_vs_line6u.line7u.miso_bf.filtered.snps.txt A5SS > results/A5SS/filtered/line7u_vs_line6u.line7u.miso_bf.filtered.snps.selected.txt 2> results/A5SS/filtered/line7u_vs_line6u.line7u.log\n",
      "!python {gimme_utils}/select_events.py line67_split_cuff_models.nr99.A5SS.gff results/A5SS/filtered/line7i_vs_line6i.line7i.miso_bf.filtered.snps.txt A5SS > results/A5SS/filtered/line7i_vs_line6i.line7i.miso_bf.filtered.snps.selected.txt 2> results/A5SS/filtered/line7i_vs_line6i.line7i.log"
     ],
     "language": "python",
     "metadata": {},
     "outputs": [],
     "prompt_number": 65
    },
    {
     "cell_type": "code",
     "collapsed": false,
     "input": [
      "# Get a sequence of a skipped exon\n",
      "\n",
      "!python {gimme_utils}/miso-snps-to-fa.py results/A5SS/filtered/line6u_vs_line7u.line6u.miso_bf.filtered.snps.selected.txt {working_dir}/gal4selected.fa > results/A5SS/filtered/line6u_vs_line7u.line6u.miso_bf.filtered.snps.selected.fa\n",
      "!python {gimme_utils}/miso-snps-to-fa.py results/A5SS/filtered/line6i_vs_line7i.line6i.miso_bf.filtered.snps.selected.txt {working_dir}/gal4selected.fa > results/A5SS/filtered/line6i_vs_line7i.line6i.miso_bf.filtered.snps.selected.fa\n",
      "!python {gimme_utils}/miso-snps-to-fa.py results/A5SS/filtered/line7u_vs_line6u.line7u.miso_bf.filtered.snps.selected.txt {working_dir}/gal4selected.fa > results/A5SS/filtered/line7u_vs_line6u.line7u.miso_bf.filtered.snps.selected.fa\n",
      "!python {gimme_utils}/miso-snps-to-fa.py results/A5SS/filtered/line7i_vs_line6i.line7i.miso_bf.filtered.snps.selected.txt {working_dir}/gal4selected.fa > results/A5SS/filtered/line7i_vs_line6i.line7i.miso_bf.filtered.snps.selected.fa"
     ],
     "language": "python",
     "metadata": {},
     "outputs": [],
     "prompt_number": 66
    },
    {
     "cell_type": "markdown",
     "metadata": {},
     "source": [
      "# Pathway analysis"
     ]
    },
    {
     "cell_type": "code",
     "collapsed": false,
     "input": [
      "def build_database(input_file):\n",
      "    db = {}\n",
      "    for line in open(input_file):\n",
      "        cols = line.strip().split()\n",
      "        geneid = cols[0].split('.')[0]\n",
      "        score = float(cols[-1])\n",
      "        match = cols[1]\n",
      "        if geneid not in db:\n",
      "            db[geneid] = [match, score]\n",
      "        else:\n",
      "            if (match == db[geneid][0] and\n",
      "                score > db[geneid][1]):\n",
      "                db[geneid] = [match, score]\n",
      "    return db"
     ],
     "language": "python",
     "metadata": {},
     "outputs": [],
     "prompt_number": 9
    },
    {
     "cell_type": "code",
     "collapsed": false,
     "input": [
      "vertdb = build_database('/Users/Likit/projects/mdv/gal4models_new/line67_split_cuff_models.nr99.vertebrate_rna.blast8')\n",
      "for gi in vertdb:\n",
      "    vertdb[gi][0] = vertdb[gi][0].split('|')[1]"
     ],
     "language": "python",
     "metadata": {},
     "outputs": [],
     "prompt_number": 10
    },
    {
     "cell_type": "code",
     "collapsed": false,
     "input": [
      "len(vertdb)"
     ],
     "language": "python",
     "metadata": {},
     "outputs": [
      {
       "output_type": "pyout",
       "prompt_number": 11,
       "text": [
        "19365"
       ]
      }
     ],
     "prompt_number": 11
    },
    {
     "cell_type": "code",
     "collapsed": false,
     "input": [
      "vert_gi_db = {}\n",
      "for line in open('/Users/Likit/projects/mdv/gal4models_new/vertebrate_rna_Entrez.txt'):\n",
      "    geneid, entrezid = line.strip().split()\n",
      "    if geneid not in vert_gi_db:\n",
      "        vert_gi_db[geneid] = entrezid"
     ],
     "language": "python",
     "metadata": {},
     "outputs": [],
     "prompt_number": 87
    },
    {
     "cell_type": "code",
     "collapsed": false,
     "input": [
      "lengthdb = {}\n",
      "for line in open('/Users/Likit/projects/mdv/gal4models_new/line67_split_cuff_models.nr99.length.bed'):\n",
      "    geneid, length = line.strip().split()\n",
      "    lengthdb[geneid] = int(length)"
     ],
     "language": "python",
     "metadata": {},
     "outputs": [],
     "prompt_number": 88
    },
    {
     "cell_type": "code",
     "collapsed": false,
     "input": [
      "vert_gi_db.keys()[:5]"
     ],
     "language": "python",
     "metadata": {},
     "outputs": [
      {
       "output_type": "pyout",
       "prompt_number": 89,
       "text": [
        "['118089462', '363743954', '363744875', '363740856', '363744873']"
       ]
      }
     ],
     "prompt_number": 89
    },
    {
     "cell_type": "code",
     "collapsed": false,
     "input": [
      "vert_gi_db['118089462']"
     ],
     "language": "python",
     "metadata": {},
     "outputs": [
      {
       "output_type": "pyout",
       "prompt_number": 90,
       "text": [
        "'771005'"
       ]
      }
     ],
     "prompt_number": 90
    },
    {
     "cell_type": "code",
     "collapsed": false,
     "input": [
      "os.chdir(working_dir)"
     ],
     "language": "python",
     "metadata": {},
     "outputs": [],
     "prompt_number": 14
    },
    {
     "cell_type": "markdown",
     "metadata": {},
     "source": [
      "###Skipped exon"
     ]
    },
    {
     "cell_type": "code",
     "collapsed": false,
     "input": [
      "line6uvsline6i = !cut -f 1 results/SE/filtered/line6u_vs_line6i.miso_bf.filtered\n",
      "line6uvsline7u = !cut -f 1 results/SE/filtered/line6u_vs_line7u.miso_bf.filtered\n",
      "line6ivsline7i = !cut -f 1 results/SE/filtered/line6i_vs_line7i.miso_bf.filtered\n",
      "line7uvsline7i = !cut -f 1 results/SE/filteredline7u_vs_line7i.miso_bf.filtered\n",
      "\n",
      "line6uvsline6i = set(line6uvsline6i[1:])\n",
      "line6uvsline7u = set(line6uvsline7u[1:])\n",
      "line6ivsline7i = set(line6ivsline7i[1:])\n",
      "line7uvsline7i = set(line7uvsline7i[1:])"
     ],
     "language": "python",
     "metadata": {},
     "outputs": [],
     "prompt_number": 109
    },
    {
     "cell_type": "code",
     "collapsed": false,
     "input": [
      "op = open('results/SE/filtered/line6uvsline6i.gi.txt', 'w')\n",
      "for rec in line6uvsline6i:\n",
      "    geneid = rec.split('.')[0].replace('-', ':')\n",
      "    if geneid in vertdb:\n",
      "        print >> op, '%s\\t%s' % (geneid, vert_gi_db[vertdb[geneid][0]])\n",
      "    else:\n",
      "        print >> op, '%s\\t%s' % (geneid, 'NA')\n",
      "op.close()"
     ],
     "language": "python",
     "metadata": {},
     "outputs": [],
     "prompt_number": 110
    },
    {
     "cell_type": "code",
     "collapsed": false,
     "input": [
      "op = open('results/SE/filtered/line6uvsline7u.gi.txt', 'w')\n",
      "for rec in line6uvsline7u:\n",
      "    geneid = rec.split('.')[0].replace('-', ':')\n",
      "    if geneid in vertdb:\n",
      "        print >> op, '%s\\t%s' % (geneid, vert_gi_db[vertdb[geneid][0]])\n",
      "    else:\n",
      "        print >> op, '%s\\t%s' % (geneid, 'NA')\n",
      "op.close()"
     ],
     "language": "python",
     "metadata": {},
     "outputs": [],
     "prompt_number": 111
    },
    {
     "cell_type": "code",
     "collapsed": false,
     "input": [
      "op = open('results/SE/filtered/line7uvsline7i.gi.txt', 'w')\n",
      "for rec in line7uvsline7i:\n",
      "    geneid = rec.split('.')[0].replace('-', ':')\n",
      "    if geneid in vertdb:\n",
      "        print >> op, '%s\\t%s' % (geneid, vert_gi_db[vertdb[geneid][0]])\n",
      "    else:\n",
      "        print >> op, '%s\\t%s' % (geneid, 'NA')\n",
      "op.close()"
     ],
     "language": "python",
     "metadata": {},
     "outputs": [],
     "prompt_number": 112
    },
    {
     "cell_type": "code",
     "collapsed": false,
     "input": [
      "op = open('results/SE/filtered/line6ivsline7i.gi.txt', 'w')\n",
      "for rec in line6ivsline7i:\n",
      "    geneid = rec.split('.')[0].replace('-', ':')\n",
      "    if geneid in vertdb:\n",
      "        print >> op, '%s\\t%s' % (geneid, vert_gi_db[vertdb[geneid][0]])\n",
      "    else:\n",
      "        print >> op, '%s\\t%s' % (geneid, 'NA')\n",
      "op.close()"
     ],
     "language": "python",
     "metadata": {},
     "outputs": [],
     "prompt_number": 113
    },
    {
     "cell_type": "markdown",
     "metadata": {},
     "source": [
      "###Retained Intron"
     ]
    },
    {
     "cell_type": "code",
     "collapsed": false,
     "input": [
      "line6uvsline6i = !cut -f 1 results/RI/filtered/line6u_vs_line6i.miso_bf.filtered\n",
      "line6uvsline7u = !cut -f 1 results/RI/filtered/line6u_vs_line7u.miso_bf.filtered\n",
      "line6ivsline7i = !cut -f 1 results/RI/filtered/line6i_vs_line7i.miso_bf.filtered\n",
      "line7uvsline7i = !cut -f 1 results/RI/filteredline7u_vs_line7i.miso_bf.filtered\n",
      "\n",
      "line6uvsline6i = set(line6uvsline6i[1:])\n",
      "line6uvsline7u = set(line6uvsline7u[1:])\n",
      "line6ivsline7i = set(line6ivsline7i[1:])\n",
      "line7uvsline7i = set(line7uvsline7i[1:])"
     ],
     "language": "python",
     "metadata": {},
     "outputs": [],
     "prompt_number": 114
    },
    {
     "cell_type": "code",
     "collapsed": false,
     "input": [
      "op = open('results/RI/filtered/line6uvsline6i.gi.txt', 'w')\n",
      "for rec in line6uvsline6i:\n",
      "    geneid = rec.split('.')[0].replace('-', ':')\n",
      "    if geneid in vertdb:\n",
      "        print >> op, '%s\\t%s' % (geneid, vert_gi_db[vertdb[geneid][0]])\n",
      "    else:\n",
      "        print >> op, '%s\\t%s' % (geneid, 'NA')\n",
      "op.close()"
     ],
     "language": "python",
     "metadata": {},
     "outputs": [],
     "prompt_number": 115
    },
    {
     "cell_type": "code",
     "collapsed": false,
     "input": [
      "op = open('results/RI/filtered/line6uvsline7u.gi.txt', 'w')\n",
      "for rec in line6uvsline7u:\n",
      "    geneid = rec.split('.')[0].replace('-', ':')\n",
      "    if geneid in vertdb:\n",
      "        print >> op, '%s\\t%s' % (geneid, vert_gi_db[vertdb[geneid][0]])\n",
      "    else:\n",
      "        print >> op, '%s\\t%s' % (geneid, 'NA')\n",
      "op.close()"
     ],
     "language": "python",
     "metadata": {},
     "outputs": [],
     "prompt_number": 116
    },
    {
     "cell_type": "code",
     "collapsed": false,
     "input": [
      "op = open('results/RI/filtered/line7uvsline7i.gi.txt', 'w')\n",
      "for rec in line7uvsline7i:\n",
      "    geneid = rec.split('.')[0].replace('-', ':')\n",
      "    if geneid in vertdb:\n",
      "        print >> op, '%s\\t%s' % (geneid, vert_gi_db[vertdb[geneid][0]])\n",
      "    else:\n",
      "        print >> op, '%s\\t%s' % (geneid, 'NA')\n",
      "op.close()"
     ],
     "language": "python",
     "metadata": {},
     "outputs": [],
     "prompt_number": 117
    },
    {
     "cell_type": "code",
     "collapsed": false,
     "input": [
      "op = open('results/RI/filtered/line6ivsline7i.gi.txt', 'w')\n",
      "for rec in line6ivsline7i:\n",
      "    geneid = rec.split('.')[0].replace('-', ':')\n",
      "    if geneid in vertdb:\n",
      "        print >> op, '%s\\t%s' % (geneid, vert_gi_db[vertdb[geneid][0]])\n",
      "    else:\n",
      "        print >> op, '%s\\t%s' % (geneid, 'NA')\n",
      "op.close()"
     ],
     "language": "python",
     "metadata": {},
     "outputs": [],
     "prompt_number": 118
    },
    {
     "cell_type": "markdown",
     "metadata": {},
     "source": [
      "###Alternative 5' splice site"
     ]
    },
    {
     "cell_type": "code",
     "collapsed": false,
     "input": [
      "line6uvsline6i = !cut -f 1 results/A5SS/filtered/line6u_vs_line6i.miso_bf.filtered\n",
      "line6uvsline7u = !cut -f 1 results/A5SS/filtered/line6u_vs_line7u.miso_bf.filtered\n",
      "line6ivsline7i = !cut -f 1 results/A5SS/filtered/line6i_vs_line7i.miso_bf.filtered\n",
      "line7uvsline7i = !cut -f 1 results/A5SS/filteredline7u_vs_line7i.miso_bf.filtered\n",
      "\n",
      "line6uvsline6i = set(line6uvsline6i[1:])\n",
      "line6uvsline7u = set(line6uvsline7u[1:])\n",
      "line6ivsline7i = set(line6ivsline7i[1:])\n",
      "line7uvsline7i = set(line7uvsline7i[1:])"
     ],
     "language": "python",
     "metadata": {},
     "outputs": [],
     "prompt_number": 119
    },
    {
     "cell_type": "code",
     "collapsed": false,
     "input": [
      "op = open('results/A5SS/filtered/line6uvsline6i.gi.txt', 'w')\n",
      "for rec in line6uvsline6i:\n",
      "    geneid = rec.split('.')[0].replace('-', ':')\n",
      "    if geneid in vertdb:\n",
      "        print >> op, '%s\\t%s' % (geneid, vert_gi_db[vertdb[geneid][0]])\n",
      "    else:\n",
      "        print >> op, '%s\\t%s' % (geneid, 'NA')\n",
      "op.close()"
     ],
     "language": "python",
     "metadata": {},
     "outputs": [],
     "prompt_number": 120
    },
    {
     "cell_type": "code",
     "collapsed": false,
     "input": [
      "op = open('results/A5SS/filtered/line6uvsline7u.gi.txt', 'w')\n",
      "for rec in line6uvsline7u:\n",
      "    geneid = rec.split('.')[0].replace('-', ':')\n",
      "    if geneid in vertdb:\n",
      "        print >> op, '%s\\t%s' % (geneid, vert_gi_db[vertdb[geneid][0]])\n",
      "    else:\n",
      "        print >> op, '%s\\t%s' % (geneid, 'NA')\n",
      "op.close()"
     ],
     "language": "python",
     "metadata": {},
     "outputs": [],
     "prompt_number": 121
    },
    {
     "cell_type": "code",
     "collapsed": false,
     "input": [
      "op = open('results/A5SS/filtered/line7uvsline7i.gi.txt', 'w')\n",
      "for rec in line7uvsline7i:\n",
      "    geneid = rec.split('.')[0].replace('-', ':')\n",
      "    if geneid in vertdb:\n",
      "        print >> op, '%s\\t%s' % (geneid, vert_gi_db[vertdb[geneid][0]])\n",
      "    else:\n",
      "        print >> op, '%s\\t%s' % (geneid, 'NA')\n",
      "op.close()"
     ],
     "language": "python",
     "metadata": {},
     "outputs": [],
     "prompt_number": 122
    },
    {
     "cell_type": "code",
     "collapsed": false,
     "input": [
      "op = open('results/A5SS/filtered/line6ivsline7i.gi.txt', 'w')\n",
      "for rec in line6ivsline7i:\n",
      "    geneid = rec.split('.')[0].replace('-', ':')\n",
      "    if geneid in vertdb:\n",
      "        print >> op, '%s\\t%s' % (geneid, vert_gi_db[vertdb[geneid][0]])\n",
      "    else:\n",
      "        print >> op, '%s\\t%s' % (geneid, 'NA')\n",
      "op.close()"
     ],
     "language": "python",
     "metadata": {},
     "outputs": [],
     "prompt_number": 123
    },
    {
     "cell_type": "markdown",
     "metadata": {},
     "source": [
      "###Alternative 3' splice site"
     ]
    },
    {
     "cell_type": "code",
     "collapsed": false,
     "input": [
      "line6uvsline6i = !cut -f 1 results/A3SS/filtered/line6u_vs_line6i.miso_bf.filtered\n",
      "line6uvsline7u = !cut -f 1 results/A3SS/filtered/line6u_vs_line7u.miso_bf.filtered\n",
      "line6ivsline7i = !cut -f 1 results/A3SS/filtered/line6i_vs_line7i.miso_bf.filtered\n",
      "line7uvsline7i = !cut -f 1 results/A3SS/filteredline7u_vs_line7i.miso_bf.filtered\n",
      "\n",
      "line6uvsline6i = set(line6uvsline6i[1:])\n",
      "line6uvsline7u = set(line6uvsline7u[1:])\n",
      "line6ivsline7i = set(line6ivsline7i[1:])\n",
      "line7uvsline7i = set(line7uvsline7i[1:])"
     ],
     "language": "python",
     "metadata": {},
     "outputs": [],
     "prompt_number": 124
    },
    {
     "cell_type": "code",
     "collapsed": false,
     "input": [
      "op = open('results/A3SS/filtered/line6uvsline6i.gi.txt', 'w')\n",
      "for rec in line6uvsline6i:\n",
      "    geneid = rec.split('.')[0].replace('-', ':')\n",
      "    if geneid in vertdb:\n",
      "        print >> op, '%s\\t%s' % (geneid, vert_gi_db[vertdb[geneid][0]])\n",
      "    else:\n",
      "        print >> op, '%s\\t%s' % (geneid, 'NA')\n",
      "op.close()"
     ],
     "language": "python",
     "metadata": {},
     "outputs": [],
     "prompt_number": 125
    },
    {
     "cell_type": "code",
     "collapsed": false,
     "input": [
      "op = open('results/A3SS/filtered/line6uvsline7u.gi.txt', 'w')\n",
      "for rec in line6uvsline7u:\n",
      "    geneid = rec.split('.')[0].replace('-', ':')\n",
      "    if geneid in vertdb:\n",
      "        print >> op, '%s\\t%s' % (geneid, vert_gi_db[vertdb[geneid][0]])\n",
      "    else:\n",
      "        print >> op, '%s\\t%s' % (geneid, 'NA')\n",
      "op.close()"
     ],
     "language": "python",
     "metadata": {},
     "outputs": [],
     "prompt_number": 126
    },
    {
     "cell_type": "code",
     "collapsed": false,
     "input": [
      "op = open('results/A3SS/filtered/line7uvsline7i.gi.txt', 'w')\n",
      "for rec in line7uvsline7i:\n",
      "    geneid = rec.split('.')[0].replace('-', ':')\n",
      "    if geneid in vertdb:\n",
      "        print >> op, '%s\\t%s' % (geneid, vert_gi_db[vertdb[geneid][0]])\n",
      "    else:\n",
      "        print >> op, '%s\\t%s' % (geneid, 'NA')\n",
      "op.close()"
     ],
     "language": "python",
     "metadata": {},
     "outputs": [],
     "prompt_number": 127
    },
    {
     "cell_type": "code",
     "collapsed": false,
     "input": [
      "op = open('results/A3SS/filtered/line6ivsline7i.gi.txt', 'w')\n",
      "for rec in line6ivsline7i:\n",
      "    geneid = rec.split('.')[0].replace('-', ':')\n",
      "    if geneid in vertdb:\n",
      "        print >> op, '%s\\t%s' % (geneid, vert_gi_db[vertdb[geneid][0]])\n",
      "    else:\n",
      "        print >> op, '%s\\t%s' % (geneid, 'NA')\n",
      "op.close()"
     ],
     "language": "python",
     "metadata": {},
     "outputs": [],
     "prompt_number": 128
    },
    {
     "cell_type": "markdown",
     "metadata": {},
     "source": [
      "###Mutually exclusive exon"
     ]
    },
    {
     "cell_type": "code",
     "collapsed": false,
     "input": [
      "line6uvsline6i = !cut -f 1 results/MXE/filtered/line6u_vs_line6i.miso_bf.filtered\n",
      "line6uvsline7u = !cut -f 1 results/MXE/filtered/line6u_vs_line7u.miso_bf.filtered\n",
      "line6ivsline7i = !cut -f 1 results/MXE/filtered/line6i_vs_line7i.miso_bf.filtered\n",
      "line7uvsline7i = !cut -f 1 results/MXE/filteredline7u_vs_line7i.miso_bf.filtered\n",
      "\n",
      "line6uvsline6i = set(line6uvsline6i[1:])\n",
      "line6uvsline7u = set(line6uvsline7u[1:])\n",
      "line6ivsline7i = set(line6ivsline7i[1:])\n",
      "line7uvsline7i = set(line7uvsline7i[1:])"
     ],
     "language": "python",
     "metadata": {},
     "outputs": [],
     "prompt_number": 129
    },
    {
     "cell_type": "code",
     "collapsed": false,
     "input": [
      "op = open('results/MXE/filtered/line6uvsline6i.gi.txt', 'w')\n",
      "for rec in line6uvsline6i:\n",
      "    geneid = rec.split('.')[0].replace('-', ':')\n",
      "    if geneid in vertdb:\n",
      "        print >> op, '%s\\t%s' % (geneid, vert_gi_db[vertdb[geneid][0]])\n",
      "    else:\n",
      "        print >> op, '%s\\t%s' % (geneid, 'NA')\n",
      "op.close()"
     ],
     "language": "python",
     "metadata": {},
     "outputs": [],
     "prompt_number": 130
    },
    {
     "cell_type": "code",
     "collapsed": false,
     "input": [
      "op = open('results/MXE/filtered/line6uvsline7u.gi.txt', 'w')\n",
      "for rec in line6uvsline7u:\n",
      "    geneid = rec.split('.')[0].replace('-', ':')\n",
      "    if geneid in vertdb:\n",
      "        print >> op, '%s\\t%s' % (geneid, vert_gi_db[vertdb[geneid][0]])\n",
      "    else:\n",
      "        print >> op, '%s\\t%s' % (geneid, 'NA')\n",
      "op.close()"
     ],
     "language": "python",
     "metadata": {},
     "outputs": [],
     "prompt_number": 131
    },
    {
     "cell_type": "code",
     "collapsed": false,
     "input": [
      "op = open('results/MXE/filtered/line7uvsline7i.gi.txt', 'w')\n",
      "for rec in line7uvsline7i:\n",
      "    geneid = rec.split('.')[0].replace('-', ':')\n",
      "    if geneid in vertdb:\n",
      "        print >> op, '%s\\t%s' % (geneid, vert_gi_db[vertdb[geneid][0]])\n",
      "    else:\n",
      "        print >> op, '%s\\t%s' % (geneid, 'NA')\n",
      "op.close()"
     ],
     "language": "python",
     "metadata": {},
     "outputs": [],
     "prompt_number": 132
    },
    {
     "cell_type": "code",
     "collapsed": false,
     "input": [
      "op = open('results/MXE/filtered/line6ivsline7i.gi.txt', 'w')\n",
      "for rec in line6ivsline7i:\n",
      "    geneid = rec.split('.')[0].replace('-', ':')\n",
      "    if geneid in vertdb:\n",
      "        print >> op, '%s\\t%s' % (geneid, vert_gi_db[vertdb[geneid][0]])\n",
      "    else:\n",
      "        print >> op, '%s\\t%s' % (geneid, 'NA')\n",
      "op.close()"
     ],
     "language": "python",
     "metadata": {},
     "outputs": [],
     "prompt_number": 133
    },
    {
     "cell_type": "markdown",
     "metadata": {},
     "source": [
      "###Export data to GOSeq"
     ]
    },
    {
     "cell_type": "code",
     "collapsed": false,
     "input": [
      "from collections import defaultdict\n",
      "def get_miso_genes(filename, eventids, *events):\n",
      "    miso_genes = {}  # genes with differential exon usage\n",
      "    altevents = {}\n",
      "    for event in events:\n",
      "        filepath = os.path.join('results', event, 'filtered', filename)\n",
      "        for line in open(filepath):\n",
      "            gene = line.split('\\t')[0]\n",
      "            if gene == 'event_name':\n",
      "                pass\n",
      "            eventids[gene].add(event)\n",
      "            gene = gene.split('.')[0]\n",
      "            miso_genes[gene] = miso_genes.get(gene, 0) + 1\n",
      "            altevents[event] = altevents.get(event, 0) + 1\n",
      "    return miso_genes, altevents"
     ],
     "language": "python",
     "metadata": {},
     "outputs": [],
     "prompt_number": 172
    },
    {
     "cell_type": "code",
     "collapsed": false,
     "input": [
      "from collections import defaultdict\n",
      "eventids = defaultdict(set)\n",
      "line6u_vs_line7u_miso_genes, line6u_vs_line7u_miso_genes_events = get_miso_genes('line6u_vs_line7u.miso_bf.filtered', eventids, 'SE', 'MXE', 'A5SS', 'A3SS')\n",
      "line6i_vs_line7i_miso_genes, line6i_vs_line7i_miso_genes_events = get_miso_genes('line6i_vs_line7i.miso_bf.filtered', eventids, 'SE', 'MXE', 'A5SS', 'A3SS')\n",
      "line6u_vs_line6i_miso_genes, line6u_vs_line6i_miso_genes_events = get_miso_genes('line6u_vs_line6i.miso_bf.filtered', eventids, 'SE', 'MXE', 'A5SS', 'A3SS')\n",
      "line7u_vs_line7i_miso_genes, line7u_vs_line7i_miso_genes_events = get_miso_genes('line7u_vs_line7i.miso_bf.filtered', eventids, 'SE', 'MXE', 'A5SS', 'A3SS')"
     ],
     "language": "python",
     "metadata": {},
     "outputs": [],
     "prompt_number": 175
    },
    {
     "cell_type": "code",
     "collapsed": false,
     "input": [
      "op = open('results/all_events.txt', 'w')\n",
      "for evnt in eventids:\n",
      "    print >> op, evnt, ','.join(eventids[evnt])\n",
      "op.close()"
     ],
     "language": "python",
     "metadata": {},
     "outputs": [],
     "prompt_number": 176
    },
    {
     "cell_type": "code",
     "collapsed": false,
     "input": [
      "subplot(211)\n",
      "title('Genes with differential exon usage\\nbetween line 6 and line 7')\n",
      "hist([v for v in line6u_vs_line7u_miso_genes.itervalues()], bins=20)\n",
      "xlim(0,11)\n",
      "xticks(range(0,11))\n",
      "ylabel('Uninfected')\n",
      "subplot(212)\n",
      "xlim(0,11)\n",
      "xticks(range(0,11))\n",
      "hist([v for v in line6i_vs_line7i_miso_genes.itervalues()], bins=20, color='r')\n",
      "ylabel('Infected')\n",
      "xlabel('Number of alternative events')"
     ],
     "language": "python",
     "metadata": {},
     "outputs": [
      {
       "output_type": "pyout",
       "prompt_number": 182,
       "text": [
        "<matplotlib.text.Text at 0x111910290>"
       ]
      },
      {
       "output_type": "display_data",
       "png": "[encoded data removed]"
      }
     ],
     "prompt_number": 182
    },
    {
     "cell_type": "code",
     "collapsed": false,
     "input": [
      "subplot(211)\n",
      "title('Genes with differential exon usage\\nbetween uninfected and infected')\n",
      "hist([v for v in line6u_vs_line6i_miso_genes.itervalues()], bins=10, color='lightskyblue')\n",
      "xlim(0,11)\n",
      "xticks(range(0,11))\n",
      "ylabel('Line 6')\n",
      "subplot(212)\n",
      "xlim(0,11)\n",
      "xticks(range(0,11))\n",
      "hist([v for v in line7u_vs_line7i_miso_genes.itervalues()], bins=10, color='yellowgreen')\n",
      "ylabel('Line 7')\n",
      "xlabel('Number of alternative events')"
     ],
     "language": "python",
     "metadata": {},
     "outputs": [
      {
       "output_type": "pyout",
       "prompt_number": 184,
       "text": [
        "<matplotlib.text.Text at 0x111d1d450>"
       ]
      },
      {
       "output_type": "display_data",
       "png": "[encoded data removed]"
      }
     ],
     "prompt_number": 184
    },
    {
     "cell_type": "code",
     "collapsed": false,
     "input": [
      "colors = ['yellowgreen', 'gold', 'lightskyblue', 'lightcoral']\n",
      "SE = line6u_vs_line7u_miso_genes_events['SE']\n",
      "A5SS = line6u_vs_line7u_miso_genes_events['A5SS']\n",
      "A3SS = line6u_vs_line7u_miso_genes_events['A3SS']\n",
      "MXE = line6u_vs_line7u_miso_genes_events['MXE']\n",
      "subplot(221)\n",
      "title('Uninfected line 6 vs line 7')\n",
      "pie([SE, A5SS, A3SS, MXE], labels=(\"SE\", \"A5SS\", \"A3SS\", \"MXE\"), autopct='%1.1f%%', colors=colors, startangle=90, shadow=True)\n",
      "\n",
      "SE = line6i_vs_line7i_miso_genes_events['SE']\n",
      "A5SS = line6i_vs_line7i_miso_genes_events['A5SS']\n",
      "A3SS = line6i_vs_line7i_miso_genes_events['A3SS']\n",
      "MXE = line6i_vs_line7i_miso_genes_events['MXE']\n",
      "subplot(2,2,2)\n",
      "title('Infected line 6 vs line 7')\n",
      "pie([SE, A5SS, A3SS, MXE], labels=(\"SE\", \"A5SS\", \"A3SS\", \"MXE\"), autopct='%1.1f%%', colors=colors, startangle=90, shadow=True)\n",
      "\n",
      "SE = line6u_vs_line6i_miso_genes_events['SE']\n",
      "A5SS = line6u_vs_line6i_miso_genes_events['A5SS']\n",
      "A3SS = line6u_vs_line6i_miso_genes_events['A3SS']\n",
      "MXE = line6u_vs_line6i_miso_genes_events['MXE']\n",
      "subplot(2,2,3)\n",
      "title('Line6 uninfected vs infected')\n",
      "pie([SE, A5SS, A3SS, MXE], labels=(\"SE\", \"A5SS\", \"A3SS\", \"MXE\"), autopct='%1.1f%%', colors=colors, startangle=90, shadow=True)\n",
      "\n",
      "SE = line7u_vs_line7i_miso_genes_events['SE']\n",
      "A5SS = line7u_vs_line7i_miso_genes_events['A5SS']\n",
      "A3SS = line7u_vs_line7i_miso_genes_events['A3SS']\n",
      "MXE = line7u_vs_line7i_miso_genes_events['MXE']\n",
      "subplot(2,2,4)\n",
      "title('Line7 uninfected vs infected')\n",
      "pie([SE, A5SS, A3SS, MXE], labels=(\"SE\", \"A5SS\", \"A3SS\", \"MXE\"), autopct='%1.1f%%', colors=colors, startangle=90, shadow=True)"
     ],
     "language": "python",
     "metadata": {},
     "outputs": [
      {
       "output_type": "pyout",
       "prompt_number": 181,
       "text": [
        "([<matplotlib.patches.Wedge at 0x1118da390>,\n",
        "  <matplotlib.patches.Wedge at 0x1118dac50>,\n",
        "  <matplotlib.patches.Wedge at 0x1118dc650>,\n",
        "  <matplotlib.patches.Wedge at 0x1118de050>],\n",
        " [<matplotlib.text.Text at 0x1118dab90>,\n",
        "  <matplotlib.text.Text at 0x1118dc590>,\n",
        "  <matplotlib.text.Text at 0x1118dcf50>,\n",
        "  <matplotlib.text.Text at 0x1118de950>],\n",
        " [<matplotlib.text.Text at 0x1118dadd0>,\n",
        "  <matplotlib.text.Text at 0x1118dc750>,\n",
        "  <matplotlib.text.Text at 0x1118de150>,\n",
        "  <matplotlib.text.Text at 0x1118deb10>])"
       ]
      },
      {
       "output_type": "display_data",
       "png": "[encoded data removed]"
      }
     ],
     "prompt_number": 181
    },
    {
     "cell_type": "code",
     "collapsed": false,
     "input": [
      "all_genes = !cut -f 4 /Users/Likit/projects/mdv/gal4models_new/line67_split_cuff_models.nr99.bed | cut -d '.' -f 1\n",
      "all_genes = set(all_genes)"
     ],
     "language": "python",
     "metadata": {},
     "outputs": [],
     "prompt_number": 83
    },
    {
     "cell_type": "code",
     "collapsed": false,
     "input": [
      "all_miso_genes = line6u_vs_line6i_miso_genes.keys() + line6i_vs_line7i_miso_genes.keys() + line7u_vs_line7i_miso_genes.keys() + line6u_vs_line7u_miso_genes.keys()\n",
      "all_miso_genes = set(all_miso_genes)"
     ],
     "language": "python",
     "metadata": {},
     "outputs": [],
     "prompt_number": 84
    },
    {
     "cell_type": "code",
     "collapsed": false,
     "input": [
      "vert_entrezdb = {} # key=geneID, value=Entrez\n",
      "for id in vertdb:\n",
      "    vert_entrezdb[id] = vert_gi_db[vertdb[id][0]]"
     ],
     "language": "python",
     "metadata": {},
     "outputs": [],
     "prompt_number": 91
    },
    {
     "cell_type": "code",
     "collapsed": false,
     "input": [
      "list(all_genes)[:5]"
     ],
     "language": "python",
     "metadata": {},
     "outputs": [
      {
       "output_type": "pyout",
       "prompt_number": 97,
       "text": [
        "['chr6:5121', 'chr2:11099', 'chr11:17464', 'chrZ:4998', 'chrZ:4994']"
       ]
      }
     ],
     "prompt_number": 97
    },
    {
     "cell_type": "code",
     "collapsed": false,
     "input": [
      "def export_goseq(DGE_genes, all_genes, miso_genes, output):\n",
      "    op = open(output, 'w')\n",
      "    redundant = set()\n",
      "    for gene in all_genes:\n",
      "        stat = 0\n",
      "        gene_ = gene.replace(':', '-')\n",
      "        if gene_ in miso_genes:\n",
      "            stat = 1\n",
      "        if gene in DGE_genes:\n",
      "            if stat > 0:\n",
      "                stat = 3\n",
      "            else:\n",
      "                stat = 2\n",
      "                \n",
      "        if stat > 0:\n",
      "            deu = 1\n",
      "        else:\n",
      "            deu = 0\n",
      "\n",
      "        if gene in vert_entrezdb:\n",
      "            length = lengthdb[gene]\n",
      "            entrezid = vert_entrezdb[gene]\n",
      "            if entrezid not in redundant:\n",
      "                print >> op, '%s\\t%d\\t%s\\t%d\\t%d' % (gene, deu, entrezid, length, stat)\n",
      "                redundant.add(entrezid)\n",
      "    op.close()"
     ],
     "language": "python",
     "metadata": {},
     "outputs": [],
     "prompt_number": 151
    },
    {
     "cell_type": "code",
     "collapsed": false,
     "input": [
      "temp = !awk '$2>0' /Users/Likit/projects/mdv/gal4models_new/line67_post_DGE_GoSeq_refseq.txt\n",
      "line67_post_DGE_genes = set([x.split()[0] for x in temp if x.split()[1] == '1'])"
     ],
     "language": "python",
     "metadata": {},
     "outputs": [],
     "prompt_number": 185
    },
    {
     "cell_type": "code",
     "collapsed": false,
     "input": [
      "len(line67_post_DGE_genes)"
     ],
     "language": "python",
     "metadata": {},
     "outputs": [
      {
       "output_type": "pyout",
       "prompt_number": 186,
       "text": [
        "1032"
       ]
      }
     ],
     "prompt_number": 186
    },
    {
     "cell_type": "code",
     "collapsed": false,
     "input": [
      "export_goseq(line67_post_DGE_genes, all_genes, line6i_vs_line7i_miso_genes, 'results/line67_post_DGE_MISO_GoSeq_refseq.txt')"
     ],
     "language": "python",
     "metadata": {},
     "outputs": [],
     "prompt_number": 187
    },
    {
     "cell_type": "code",
     "collapsed": false,
     "input": [
      "temp = !awk '$2>0' /Users/Likit/projects/mdv/gal4models_new/line6_pre_post_DGE_GoSeq_refseq.txt\n",
      "line6_pre_post_DGE_genes = set([x.split()[0] for x in temp if x.split()[1] == '1'])"
     ],
     "language": "python",
     "metadata": {},
     "outputs": [],
     "prompt_number": 188
    },
    {
     "cell_type": "code",
     "collapsed": false,
     "input": [
      "export_goseq(line6_pre_post_DGE_genes, all_genes, line6u_vs_line6i_miso_genes, 'results/line6_pre_post_DGE_MISO_GoSeq_refseq.txt')"
     ],
     "language": "python",
     "metadata": {},
     "outputs": [],
     "prompt_number": 199
    },
    {
     "cell_type": "code",
     "collapsed": false,
     "input": [
      "temp = !awk '$2>0' /Users/Likit/projects/mdv/gal4models_new/line7_pre_post_DGE_GoSeq_refseq.txt\n",
      "line7_pre_post_DGE_genes = set([x.split()[0] for x in temp if x.split()[1] == '1'])"
     ],
     "language": "python",
     "metadata": {},
     "outputs": [],
     "prompt_number": 190
    },
    {
     "cell_type": "code",
     "collapsed": false,
     "input": [
      "export_goseq(line7_pre_post_DGE_genes, all_genes, line7u_vs_line7i_miso_genes, 'results/line7_pre_post_DGE_MISO_GoSeq_refseq.txt')"
     ],
     "language": "python",
     "metadata": {},
     "outputs": [],
     "prompt_number": 191
    },
    {
     "cell_type": "code",
     "collapsed": false,
     "input": [
      "temp = !awk '$2>0' /Users/Likit/projects/mdv/gal4models_new/line67_pre_DGE_GoSeq_refseq.txt\n",
      "line67_pre_DGE_genes = set([x.split()[0] for x in temp if x.split()[1] == '1'])"
     ],
     "language": "python",
     "metadata": {},
     "outputs": [],
     "prompt_number": 192
    },
    {
     "cell_type": "code",
     "collapsed": false,
     "input": [
      "export_goseq(line67_pre_DGE_genes, all_genes, line6u_vs_line7u_miso_genes, 'results/line67_pre_DGE_MISO_GoSeq_refseq.txt')"
     ],
     "language": "python",
     "metadata": {},
     "outputs": [],
     "prompt_number": 193
    },
    {
     "cell_type": "code",
     "collapsed": false,
     "input": [
      "export_goseq({}, all_genes, line6u_vs_line6i_miso_genes, 'results/line6_pre_post_MISO_GoSeq_refseq.txt')"
     ],
     "language": "python",
     "metadata": {},
     "outputs": [],
     "prompt_number": 198
    },
    {
     "cell_type": "code",
     "collapsed": false,
     "input": [
      "op = open('line6u_vs_line6i_miso_refseq.txt', 'w')\n",
      "for _gene in line6u_vs_line6i_miso_genes:\n",
      "    gene = _gene.replace('-', ':')\n",
      "    if gene in vert_entrezdb:\n",
      "        print >> op, '%s\\t%s' % (gene, vert_entrezdb[gene])\n",
      "\n",
      "op.close()"
     ],
     "language": "python",
     "metadata": {},
     "outputs": [],
     "prompt_number": 194
    },
    {
     "cell_type": "code",
     "collapsed": false,
     "input": [
      "op = open('line7u_vs_line7i_miso_refseq.txt', 'w')\n",
      "for _gene in line7u_vs_line7i_miso_genes:\n",
      "    gene = _gene.replace('-', ':')\n",
      "    if gene in vert_entrezdb:\n",
      "        print >> op, '%s\\t%s' % (gene, vert_entrezdb[gene])\n",
      "\n",
      "op.close()"
     ],
     "language": "python",
     "metadata": {},
     "outputs": [],
     "prompt_number": 232
    },
    {
     "cell_type": "code",
     "collapsed": false,
     "input": [
      "op = open('line6u_vs_line7u_miso_refseq.txt', 'w')\n",
      "for _gene in line6u_vs_line7u_miso_genes:\n",
      "    gene = _gene.replace('-', ':')\n",
      "    if gene in vert_entrezdb:\n",
      "        print >> op, '%s\\t%s' % (gene, vert_entrezdb[gene])\n",
      "\n",
      "op.close()"
     ],
     "language": "python",
     "metadata": {},
     "outputs": [],
     "prompt_number": 234
    },
    {
     "cell_type": "code",
     "collapsed": false,
     "input": [
      "op = open('line6i_vs_line7i_miso_refseq.txt', 'w')\n",
      "for _gene in line6i_vs_line7i_miso_genes:\n",
      "    gene = _gene.replace('-', ':')\n",
      "    if gene in vert_entrezdb:\n",
      "        print >> op, '%s\\t%s' % (gene, vert_entrezdb[gene])\n",
      "\n",
      "op.close()"
     ],
     "language": "python",
     "metadata": {},
     "outputs": [],
     "prompt_number": 239
    },
    {
     "cell_type": "code",
     "collapsed": false,
     "input": [
      "def create_colored_kegg_pathway(dge_path, prefix, keggid_path, keggid_file, color1='red', color2='yellow', color3='orange'):\n",
      "    dge_genes = defaultdict(set)\n",
      "    miso_genes = defaultdict(set)\n",
      "    for line in open(os.path.join(keggid_path, keggid_file)):\n",
      "        entrezid, keggids = line.split(' ')\n",
      "        if keggids == 'NA':\n",
      "            continue\n",
      "        else:\n",
      "            for id in keggids.strip().split(','):\n",
      "                id = id.lstrip('gga')\n",
      "                if os.path.exists(os.path.join(dge_path, prefix+id)):\n",
      "                    for row in open(os.path.join(dge_path, prefix+id)):\n",
      "                        gene_id = row.split()[1]\n",
      "                        dge_genes[id].add(gene_id)\n",
      "                    miso_genes[id].add(entrezid)\n",
      "    for keggid in miso_genes:\n",
      "        print 'KEEGID = ', keggid\n",
      "        op = open(prefix+'miso_'+keggid, 'w')\n",
      "        for id in miso_genes[keggid]:\n",
      "            if id in dge_genes[keggid]:\n",
      "                color = color3\n",
      "            else:\n",
      "                color = color2\n",
      "            print >> op, '%s\\t%s' % (id, color)\n",
      "        for id in dge_genes[keggid]:\n",
      "            if id not in miso_genes[keggid]:\n",
      "                print >> op, '%s\\t%s' % (id, color1)\n",
      "        op.close()"
     ],
     "language": "python",
     "metadata": {},
     "outputs": [],
     "prompt_number": 230
    },
    {
     "cell_type": "code",
     "collapsed": false,
     "input": [
      "create_colored_kegg_pathway('../', 'line6_pre_post_DGE_GOSeq_KEGG_genes_', 'results/', 'line6u_vs_line6i_MISO_KEGGID.txt')"
     ],
     "language": "python",
     "metadata": {},
     "outputs": [
      {
       "output_type": "stream",
       "stream": "stdout",
       "text": [
        "KEEGID =  04060\n",
        "KEEGID =  04622\n",
        "KEEGID =  04630\n",
        "KEEGID =  04514\n"
       ]
      }
     ],
     "prompt_number": 231
    },
    {
     "cell_type": "code",
     "collapsed": false,
     "input": [
      "create_colored_kegg_pathway('../', 'line7_pre_post_DGE_GOSeq_KEGG_genes_', 'results/', 'line7u_vs_line7i_MISO_KEGGID.txt')"
     ],
     "language": "python",
     "metadata": {},
     "outputs": [
      {
       "output_type": "stream",
       "stream": "stdout",
       "text": [
        "KEEGID =  04620\n",
        "KEEGID =  04630\n",
        "KEEGID =  04060\n",
        "KEEGID =  00830\n",
        "KEEGID =  04514\n"
       ]
      }
     ],
     "prompt_number": 233
    },
    {
     "cell_type": "code",
     "collapsed": false,
     "input": [
      "create_colored_kegg_pathway('../', 'line67_pre_DGE_GOSeq_KEGG_genes_', 'results/', 'line6u_vs_line7u_MISO_KEGGID.txt')"
     ],
     "language": "python",
     "metadata": {},
     "outputs": [],
     "prompt_number": 238
    },
    {
     "cell_type": "code",
     "collapsed": false,
     "input": [
      "create_colored_kegg_pathway('../', 'line67_post_DGE_GOSeq_KEGG_genes_', 'results/', 'line6i_vs_line7i_MISO_KEGGID.txt')"
     ],
     "language": "python",
     "metadata": {},
     "outputs": [],
     "prompt_number": 240
    },
    {
     "cell_type": "markdown",
     "metadata": {},
     "source": [
      "##GWAS and ASE SNPs"
     ]
    },
    {
     "cell_type": "markdown",
     "metadata": {},
     "source": [
      "###Convert SNPs from Galgal3 to Galgal4\n",
      "\n",
      "Obtain a short sequence containing a SNP from Galgal3 genome"
     ]
    },
    {
     "cell_type": "code",
     "collapsed": false,
     "input": [
      "os.chdir(working_dir)"
     ],
     "language": "python",
     "metadata": {},
     "outputs": [],
     "prompt_number": 299
    },
    {
     "cell_type": "code",
     "collapsed": false,
     "input": [
      "## no longer used\n",
      "from pygr import seqdb, sequtil\n",
      "\n",
      "genome = seqdb.SequenceFileDB('../../chick.fa')\n",
      "op = open('ase_layers.fa', 'w')\n",
      "for line in open('ase_layers.txt'):\n",
      "    chrom, pos, ref, alt = line.strip().split()\n",
      "    pos_start = int(pos) - 1  # pygr is 0 based\n",
      "    chrom = 'chr' + chrom\n",
      "    id = '%s:%s' % (chrom, pos)\n",
      "    try:\n",
      "        seq = genome[chrom][pos_start:pos_start+120]\n",
      "    except KeyError:\n",
      "        pass\n",
      "    else:\n",
      "        sequtil.write_fasta(op, seq, id=id)"
     ],
     "language": "python",
     "metadata": {},
     "outputs": [],
     "prompt_number": 18
    },
    {
     "cell_type": "code",
     "collapsed": false,
     "input": [
      "# reformat coordinates for converting gal3 coordinates to gal4 with UCSC liftover tool\n",
      "\n",
      "op = open('gwas_combined2_gal3.txt', 'w')\n",
      "for line in open('gwas_combined2.txt'):\n",
      "    chrom, pos = line.split()[:2]\n",
      "    print >> op, '%s:%d-%d' % (chrom,\n",
      "                                int(pos),\n",
      "                                int(pos),\n",
      "                               )\n",
      "op.close()"
     ],
     "language": "python",
     "metadata": {},
     "outputs": [],
     "prompt_number": 6
    },
    {
     "cell_type": "code",
     "collapsed": false,
     "input": [
      "# reformat coordinates from liftover to bed\n",
      "\n",
      "op = open('line7i_vs_line6i.line7i.snps.selected_liftover_gal3.bed', 'w')\n",
      "for line in open('line7i_vs_line6i.line7i.snps.selected_liftover.txt'):\n",
      "    chrom, pos = line.split('-')[0].split(':')\n",
      "    start = int(pos) - 1\n",
      "    print >> op, '%s\\t%d\\t%s\\t%s:%s\\t1000\\t.' % \\\n",
      "                (chrom, start, pos, chrom, pos,)\n",
      "op.close()"
     ],
     "language": "python",
     "metadata": {},
     "outputs": [],
     "prompt_number": 98
    },
    {
     "cell_type": "code",
     "collapsed": false,
     "input": [
      "def filtered_miso_to_gff(gff_file, miso_filtered, output_file):\n",
      "    op = open(output_file, 'w')\n",
      "    all_events = set()\n",
      "    for line in open(miso_filtered):\n",
      "        event = line.split()[0]\n",
      "        all_events.add(event)\n",
      "        \n",
      "    for line in open(gff_file):\n",
      "        features = line.split()\n",
      "        attrs = features[-1]\n",
      "        id = '.'.join(attrs.split(';')[0].split('=')[1].split('.')[:2])\n",
      "        if id in all_events:\n",
      "            print >> op, line.strip()\n",
      "    op.close()"
     ],
     "language": "python",
     "metadata": {},
     "outputs": [],
     "prompt_number": 90
    },
    {
     "cell_type": "code",
     "collapsed": false,
     "input": [
      "filtered_miso_to_gff('line67_split_cuff_models.nr99.SE.gff', 'results/SE/filtered/line6i_vs_line7i.miso_bf.filtered',\n",
      "                     'results/SE/filtered/line6i_vs_line7i.miso_bf.filtered.gff')"
     ],
     "language": "python",
     "metadata": {},
     "outputs": [],
     "prompt_number": 91
    },
    {
     "cell_type": "code",
     "collapsed": false,
     "input": [
      "# get flanking introns for each skipped exon\n",
      "!python {gimme_utils}/get_skipped_exon_and_intron.py results/SE/filtered/line6u_vs_line7u.miso_bf.filtered.gff > results/SE/filtered/line6u_vs_line7u.miso_bf.filtered.flanking_introns.gff"
     ],
     "language": "python",
     "metadata": {},
     "outputs": [],
     "prompt_number": 69
    },
    {
     "cell_type": "code",
     "collapsed": false,
     "input": [
      "# get flanking introns for each skipped exon\n",
      "!python {gimme_utils}/get_skipped_exon_and_intron.py results/SE/filtered/line6i_vs_line7i.miso_bf.filtered.gff > results/SE/filtered/line6i_vs_line7i.miso_bf.filtered.flanking_introns.gff"
     ],
     "language": "python",
     "metadata": {},
     "outputs": [],
     "prompt_number": 92
    },
    {
     "cell_type": "code",
     "collapsed": false,
     "input": [
      "# find gwas snps located in skipped exon regions\n",
      "import pybedtools\n",
      "def get_gwas_snp_location(gff_file, snp_file, output_file):\n",
      "    op = open(output_file, 'w')\n",
      "    regions = pybedtools.BedTool(gff_file)\n",
      "    for line in open(snp_file):\n",
      "        chrom, pos = line.split('-')[0].split(':')\n",
      "        start = int(pos) - 1\n",
      "        end = int(pos)\n",
      "        for r in regions.intersect(pybedtools.BedTool('%s %d %d' %\n",
      "                            (chrom, start, end), from_string=True)):\n",
      "            exon_start = int(r.attrs['exonStart'])\n",
      "            exon_end = int(r.attrs['exonEnd'])\n",
      "            exonic = True if (end >= exon_start and end <= exon_end) else False\n",
      "            print >> op,  '\\t'.join([chrom, pos, str(end - exon_start),\n",
      "                                    str(end - exon_end), str(exon_start), \n",
      "                                    str(exon_end), r.attrs['ID'], str(exonic)])\n",
      "    op.close()"
     ],
     "language": "python",
     "metadata": {},
     "outputs": [],
     "prompt_number": 80
    },
    {
     "cell_type": "code",
     "collapsed": false,
     "input": [
      "get_gwas_snp_location('results/SE/filtered/line6u_vs_line7u.miso_bf.filtered.flanking_introns.gff',\n",
      "                      'gwas_combined2_gal4.txt',\n",
      "                      'results/SE/filtered/line6u_vs_line7u.miso_bf.filtered.gwas.txt')"
     ],
     "language": "python",
     "metadata": {},
     "outputs": [],
     "prompt_number": 81
    },
    {
     "cell_type": "code",
     "collapsed": false,
     "input": [
      "get_gwas_snp_location('results/SE/filtered/line6i_vs_line7i.miso_bf.filtered.flanking_introns.gff',\n",
      "                      'gwas_combined2_gal4.txt',\n",
      "                      'results/SE/filtered/line6i_vs_line7i.miso_bf.filtered.gwas.txt')"
     ],
     "language": "python",
     "metadata": {},
     "outputs": [],
     "prompt_number": 93
    },
    {
     "cell_type": "code",
     "collapsed": false,
     "input": [
      "line6i = pybedtools.BedTool('snps/line6i.var.raw.vcf')\n",
      "line7i = pybedtools.BedTool('snps/line7i.var.raw.vcf')\n",
      "ase_layers = pybedtools.BedTool('ase_layers_gal4_liftover.bed')\n",
      "\n",
      "common_snps = line6i.intersect(line7i, wb=True).intersect(ase_layers).saveas('common_ase_snps.vcf')"
     ],
     "language": "python",
     "metadata": {},
     "outputs": [],
     "prompt_number": 100
    },
    {
     "cell_type": "markdown",
     "metadata": {},
     "source": [
      "##Obsolete"
     ]
    },
    {
     "cell_type": "code",
     "collapsed": false,
     "input": [
      "line6uvsline6i_DGE = !cut -f 1 /Users/Likit/projects/mdv/gal4models_new/line6_pre_post_libtype_DGE.txt\n",
      "line7uvsline7i_DGE = !cut -f 1 /Users/Likit/projects/mdv/gal4models_new/line7_pre_post_libtype_DGE.txt\n",
      "line6uvsline7u_DGE = !cut -f 1 /Users/Likit/projects/mdv/gal4models_new/line67_pre_libtype_DGE_ensbl.txt\n",
      "line6ivsline7i_DGE = !cut -f 1 /Users/Likit/projects/mdv/gal4models_new/line67_post_libtype_DGE_ensbl.txt"
     ],
     "language": "python",
     "metadata": {},
     "outputs": [],
     "prompt_number": 96
    },
    {
     "cell_type": "code",
     "collapsed": false,
     "input": [
      "line6uvsline6i_DGE = set(line6uvsline6i_DGE)\n",
      "line7uvsline7i_DGE = set(line7uvsline7i_DGE)\n",
      "line6uvsline7u_DGE = set(line6uvsline7u_DGE)\n",
      "line6ivsline7i_DGE = set(line6ivsline7i_DGE)"
     ],
     "language": "python",
     "metadata": {},
     "outputs": [],
     "prompt_number": 97
    },
    {
     "cell_type": "code",
     "collapsed": false,
     "input": [
      "line6uvsline6i_SE = set([rec.split('.')[0].replace('-', ':') for rec in line6uvsline6i])\n",
      "line7uvsline7i_SE = set([rec.split('.')[0].replace('-', ':') for rec in line7uvsline7i])\n",
      "line6uvsline7u_SE = set([rec.split('.')[0].replace('-', ':') for rec in line6uvsline7u])\n",
      "line6ivsline7i_SE = set([rec.split('.')[0].replace('-', ':') for rec in line6ivsline7i])"
     ],
     "language": "python",
     "metadata": {},
     "outputs": [],
     "prompt_number": 98
    },
    {
     "cell_type": "code",
     "collapsed": false,
     "input": [
      "len(line6uvsline6i_SE.intersection(line6uvsline6i_DGE))"
     ],
     "language": "python",
     "metadata": {},
     "outputs": [
      {
       "output_type": "pyout",
       "prompt_number": 81,
       "text": [
        "6"
       ]
      }
     ],
     "prompt_number": 81
    },
    {
     "cell_type": "code",
     "collapsed": false,
     "input": [
      "len(line6uvsline6i_SE), len(line6uvsline6i_DGE)"
     ],
     "language": "python",
     "metadata": {},
     "outputs": [
      {
       "output_type": "pyout",
       "prompt_number": 82,
       "text": [
        "(75, 1135)"
       ]
      }
     ],
     "prompt_number": 82
    },
    {
     "cell_type": "code",
     "collapsed": false,
     "input": [
      "len(line7uvsline7i_SE.intersection(line7uvsline7i_DGE))"
     ],
     "language": "python",
     "metadata": {},
     "outputs": [
      {
       "output_type": "pyout",
       "prompt_number": 86,
       "text": [
        "12"
       ]
      }
     ],
     "prompt_number": 86
    },
    {
     "cell_type": "code",
     "collapsed": false,
     "input": [
      "len(line7uvsline7i_SE), len(line7uvsline7i_DGE)"
     ],
     "language": "python",
     "metadata": {},
     "outputs": [
      {
       "output_type": "pyout",
       "prompt_number": 87,
       "text": [
        "(65, 2422)"
       ]
      }
     ],
     "prompt_number": 87
    },
    {
     "cell_type": "code",
     "collapsed": false,
     "input": [
      "len(line6uvsline7u_DGE.intersection(line6uvsline7u_SE))"
     ],
     "language": "python",
     "metadata": {},
     "outputs": [
      {
       "output_type": "pyout",
       "prompt_number": 91,
       "text": [
        "27"
       ]
      }
     ],
     "prompt_number": 91
    },
    {
     "cell_type": "code",
     "collapsed": false,
     "input": [
      "len(line6uvsline7u_DGE), len(line6uvsline7u_SE)"
     ],
     "language": "python",
     "metadata": {},
     "outputs": [
      {
       "output_type": "pyout",
       "prompt_number": 94,
       "text": [
        "(2385, 149)"
       ]
      }
     ],
     "prompt_number": 94
    },
    {
     "cell_type": "code",
     "collapsed": false,
     "input": [
      "len(line6ivsline7i_DGE.intersection(line6ivsline7i_SE))"
     ],
     "language": "python",
     "metadata": {},
     "outputs": [
      {
       "output_type": "pyout",
       "prompt_number": 99,
       "text": [
        "14"
       ]
      }
     ],
     "prompt_number": 99
    },
    {
     "cell_type": "code",
     "collapsed": false,
     "input": [
      "len(line6ivsline7i_DGE), len(line6ivsline7i_SE)"
     ],
     "language": "python",
     "metadata": {},
     "outputs": [
      {
       "output_type": "pyout",
       "prompt_number": 100,
       "text": [
        "(1659, 139)"
       ]
      }
     ],
     "prompt_number": 100
    },
    {
     "cell_type": "markdown",
     "metadata": {},
     "source": [
      "##Categorizing Genes"
     ]
    },
    {
     "cell_type": "code",
     "collapsed": false,
     "input": [
      "cd ~/projects/miso_se"
     ],
     "language": "python",
     "metadata": {},
     "outputs": [
      {
       "output_type": "stream",
       "stream": "stdout",
       "text": [
        "/Users/Likit/projects/miso_se\n"
       ]
      }
     ],
     "prompt_number": 1
    },
    {
     "cell_type": "markdown",
     "metadata": {},
     "source": [
      "####Skipped exons"
     ]
    },
    {
     "cell_type": "code",
     "collapsed": false,
     "input": [
      "line67u = !cut -f 1 results/SE/comparisons/line6u_vs_line7u/bayes-factors/line6u_vs_line7u.miso_bf.filtered"
     ],
     "language": "python",
     "metadata": {},
     "outputs": [],
     "prompt_number": 2
    },
    {
     "cell_type": "code",
     "collapsed": false,
     "input": [
      "line67u = [event.split('.')[0].replace('-', ':') for event in line67u]"
     ],
     "language": "python",
     "metadata": {},
     "outputs": [],
     "prompt_number": 3
    },
    {
     "cell_type": "code",
     "collapsed": false,
     "input": [
      "line67u[:5]"
     ],
     "language": "python",
     "metadata": {},
     "outputs": [
      {
       "metadata": {},
       "output_type": "pyout",
       "prompt_number": 4,
       "text": [
        "['chr1:14477', 'chr1:18247', 'chr1:20297', 'chr1:8524', 'chr10:14368']"
       ]
      }
     ],
     "prompt_number": 4
    },
    {
     "cell_type": "code",
     "collapsed": false,
     "input": [
      "import pickle"
     ],
     "language": "python",
     "metadata": {},
     "outputs": [],
     "prompt_number": 7
    },
    {
     "cell_type": "code",
     "collapsed": false,
     "input": [],
     "language": "python",
     "metadata": {},
     "outputs": []
    }
   ],
   "metadata": {}
  }
 ]
}